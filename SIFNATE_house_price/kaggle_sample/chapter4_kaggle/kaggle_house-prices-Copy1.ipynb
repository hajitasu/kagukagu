{
 "cells": [
  {
   "cell_type": "markdown",
   "metadata": {},
   "source": [
    "#### 本Notebookは書籍『Pythonで動かして学ぶ！Kaggleデータ分析入門』(翔泳社, 2020)の内容のサンプルコードとなります。"
   ]
  },
  {
   "cell_type": "markdown",
   "metadata": {},
   "source": [
    "本書には記載していないコードですが、ここから実行してください"
   ]
  },
  {
   "cell_type": "code",
   "execution_count": 6,
   "metadata": {},
   "outputs": [],
   "source": [
    "# This Python 3 environment comes with many helpful analytics libraries installed\n",
    "# It is defined by the kaggle/python Docker image: https://github.com/kaggle/docker-python\n",
    "# For example, here's several helpful packages to load\n",
    "\n",
    "import numpy as np # linear algebra\n",
    "import pandas as pd # data processing, CSV file I/O (e.g. pd.read_csv)\n",
    "\n",
    "# Input data files are available in the read-only \"../input/\" directory\n",
    "# For example, running this (by clicking run or pressing Shift+Enter) will list all files under the input directory\n",
    "\n",
    "import os\n",
    "for dirname, _, filenames in os.walk('/kaggle/input'):\n",
    "    for filename in filenames:\n",
    "        print(os.path.join(dirname, filename))\n",
    "\n",
    "# You can write up to 5GB to the current directory (/kaggle/working/) that gets preserved as output when you create a version using \"Save & Run All\" \n",
    "# You can also write temporary files to /kaggle/temp/, but they won't be saved outside of the current session"
   ]
  },
  {
   "cell_type": "code",
   "execution_count": 7,
   "metadata": {},
   "outputs": [],
   "source": [
    "import warnings\n",
    "warnings.filterwarnings('ignore')"
   ]
  },
  {
   "cell_type": "markdown",
   "metadata": {},
   "source": [
    "## 4.3　データを取得する"
   ]
  },
  {
   "cell_type": "markdown",
   "metadata": {},
   "source": [
    "#### 必要なライブラリをインポートする"
   ]
  },
  {
   "cell_type": "markdown",
   "metadata": {},
   "source": [
    "リスト4.1 matplotlibとseabornのインポートとグラフ描画の設定"
   ]
  },
  {
   "cell_type": "code",
   "execution_count": 8,
   "metadata": {},
   "outputs": [],
   "source": [
    "%matplotlib inline\n",
    "import matplotlib.pyplot as plt\n",
    "import seaborn as sns"
   ]
  },
  {
   "cell_type": "code",
   "execution_count": 9,
   "metadata": {},
   "outputs": [],
   "source": [
    "plt.style.use(\"ggplot\")"
   ]
  },
  {
   "cell_type": "markdown",
   "metadata": {},
   "source": [
    "リスト4.2　pandas、NumPyのインポート"
   ]
  },
  {
   "cell_type": "code",
   "execution_count": 10,
   "metadata": {},
   "outputs": [],
   "source": [
    "import pandas as pd\n",
    "import numpy as np"
   ]
  },
  {
   "cell_type": "markdown",
   "metadata": {},
   "source": [
    "#### ランダムシードの設定"
   ]
  },
  {
   "cell_type": "markdown",
   "metadata": {},
   "source": [
    "リスト4.3　ランダムシードを設定"
   ]
  },
  {
   "cell_type": "code",
   "execution_count": 11,
   "metadata": {},
   "outputs": [],
   "source": [
    "import random\n",
    "np.random.seed(1234)\n",
    "random.seed(1234)"
   ]
  },
  {
   "cell_type": "code",
   "execution_count": 15,
   "metadata": {},
   "outputs": [],
   "source": [
    "train_df = pd.read_csv(\"/home/ki-mu-ra/デスクトップ/勉強/kagukagu/SIFNATE_house_price/train.csv\")"
   ]
  },
  {
   "cell_type": "markdown",
   "metadata": {},
   "source": [
    "#### CSVデータを読み込む（Kaggleの場合）"
   ]
  },
  {
   "cell_type": "markdown",
   "metadata": {},
   "source": [
    "リスト4.5　CSVデータの読み込み（Kaggleの場合）"
   ]
  },
  {
   "cell_type": "code",
   "execution_count": 16,
   "metadata": {},
   "outputs": [],
   "source": [
    "train_df = pd.read_csv(\"/home/ki-mu-ra/デスクトップ/勉強/kagukagu/SIFNATE_house_price/train.csv\")\n",
    "test_df = pd.read_csv(\"/home/ki-mu-ra/デスクトップ/勉強/kagukagu/SIFNATE_house_price/test.csv\")\n",
    "submission = pd.read_csv(\"/home/ki-mu-ra/デスクトップ/勉強/kagukagu/SIFNATE_house_price/sample_submit.csv\")"
   ]
  },
  {
   "cell_type": "code",
   "execution_count": null,
   "metadata": {},
   "outputs": [],
   "source": []
  },
  {
   "cell_type": "code",
   "execution_count": null,
   "metadata": {},
   "outputs": [],
   "source": []
  },
  {
   "cell_type": "code",
   "execution_count": 17,
   "metadata": {},
   "outputs": [
    {
     "data": {
      "text/html": [
       "<div>\n",
       "<style scoped>\n",
       "    .dataframe tbody tr th:only-of-type {\n",
       "        vertical-align: middle;\n",
       "    }\n",
       "\n",
       "    .dataframe tbody tr th {\n",
       "        vertical-align: top;\n",
       "    }\n",
       "\n",
       "    .dataframe thead th {\n",
       "        text-align: right;\n",
       "    }\n",
       "</style>\n",
       "<table border=\"1\" class=\"dataframe\">\n",
       "  <thead>\n",
       "    <tr style=\"text-align: right;\">\n",
       "      <th></th>\n",
       "      <th>index</th>\n",
       "      <th>Order</th>\n",
       "      <th>MS SubClass</th>\n",
       "      <th>MS Zoning</th>\n",
       "      <th>Lot Area</th>\n",
       "      <th>Lot Shape</th>\n",
       "      <th>Land Contour</th>\n",
       "      <th>Lot Config</th>\n",
       "      <th>Neighborhood</th>\n",
       "      <th>Bldg Type</th>\n",
       "      <th>...</th>\n",
       "      <th>Garage Cars</th>\n",
       "      <th>Garage Area</th>\n",
       "      <th>Paved Drive</th>\n",
       "      <th>Wood Deck SF</th>\n",
       "      <th>Open Porch SF</th>\n",
       "      <th>Mo Sold</th>\n",
       "      <th>Yr Sold</th>\n",
       "      <th>Sale Type</th>\n",
       "      <th>Sale Condition</th>\n",
       "      <th>SalePrice</th>\n",
       "    </tr>\n",
       "  </thead>\n",
       "  <tbody>\n",
       "    <tr>\n",
       "      <th>0</th>\n",
       "      <td>200</td>\n",
       "      <td>2163</td>\n",
       "      <td>20</td>\n",
       "      <td>RL</td>\n",
       "      <td>9000</td>\n",
       "      <td>Reg</td>\n",
       "      <td>Lvl</td>\n",
       "      <td>Inside</td>\n",
       "      <td>NAmes</td>\n",
       "      <td>1Fam</td>\n",
       "      <td>...</td>\n",
       "      <td>1.998003</td>\n",
       "      <td>381.014258</td>\n",
       "      <td>Y</td>\n",
       "      <td>0</td>\n",
       "      <td>0</td>\n",
       "      <td>7</td>\n",
       "      <td>2007</td>\n",
       "      <td>WD</td>\n",
       "      <td>Normal</td>\n",
       "      <td>158000</td>\n",
       "    </tr>\n",
       "    <tr>\n",
       "      <th>1</th>\n",
       "      <td>3832</td>\n",
       "      <td>1862</td>\n",
       "      <td>20</td>\n",
       "      <td>RL</td>\n",
       "      <td>9600</td>\n",
       "      <td>Reg</td>\n",
       "      <td>Lvl</td>\n",
       "      <td>Inside</td>\n",
       "      <td>CollgCr</td>\n",
       "      <td>1Fam</td>\n",
       "      <td>...</td>\n",
       "      <td>1.998003</td>\n",
       "      <td>384.114652</td>\n",
       "      <td>Y</td>\n",
       "      <td>0</td>\n",
       "      <td>0</td>\n",
       "      <td>11</td>\n",
       "      <td>2007</td>\n",
       "      <td>WD</td>\n",
       "      <td>Normal</td>\n",
       "      <td>145000</td>\n",
       "    </tr>\n",
       "    <tr>\n",
       "      <th>2</th>\n",
       "      <td>4927</td>\n",
       "      <td>754</td>\n",
       "      <td>20</td>\n",
       "      <td>RL</td>\n",
       "      <td>9600</td>\n",
       "      <td>Reg</td>\n",
       "      <td>Lvl</td>\n",
       "      <td>Inside</td>\n",
       "      <td>NridgHt</td>\n",
       "      <td>1Fam</td>\n",
       "      <td>...</td>\n",
       "      <td>2.998015</td>\n",
       "      <td>625.140330</td>\n",
       "      <td>Y</td>\n",
       "      <td>0</td>\n",
       "      <td>0</td>\n",
       "      <td>5</td>\n",
       "      <td>2008</td>\n",
       "      <td>WD</td>\n",
       "      <td>Normal</td>\n",
       "      <td>125000</td>\n",
       "    </tr>\n",
       "    <tr>\n",
       "      <th>3</th>\n",
       "      <td>4088</td>\n",
       "      <td>641</td>\n",
       "      <td>80</td>\n",
       "      <td>RL</td>\n",
       "      <td>9600</td>\n",
       "      <td>Reg</td>\n",
       "      <td>Lvl</td>\n",
       "      <td>Inside</td>\n",
       "      <td>OldTown</td>\n",
       "      <td>1Fam</td>\n",
       "      <td>...</td>\n",
       "      <td>0.998002</td>\n",
       "      <td>193.156275</td>\n",
       "      <td>Y</td>\n",
       "      <td>0</td>\n",
       "      <td>0</td>\n",
       "      <td>7</td>\n",
       "      <td>2006</td>\n",
       "      <td>WD</td>\n",
       "      <td>Normal</td>\n",
       "      <td>135000</td>\n",
       "    </tr>\n",
       "    <tr>\n",
       "      <th>4</th>\n",
       "      <td>3644</td>\n",
       "      <td>754</td>\n",
       "      <td>20</td>\n",
       "      <td>RL</td>\n",
       "      <td>9600</td>\n",
       "      <td>Reg</td>\n",
       "      <td>Lvl</td>\n",
       "      <td>Inside</td>\n",
       "      <td>NoRidge</td>\n",
       "      <td>1Fam</td>\n",
       "      <td>...</td>\n",
       "      <td>2.998012</td>\n",
       "      <td>617.903766</td>\n",
       "      <td>Y</td>\n",
       "      <td>0</td>\n",
       "      <td>0</td>\n",
       "      <td>7</td>\n",
       "      <td>2007</td>\n",
       "      <td>WD</td>\n",
       "      <td>Normal</td>\n",
       "      <td>175000</td>\n",
       "    </tr>\n",
       "  </tbody>\n",
       "</table>\n",
       "<p>5 rows × 49 columns</p>\n",
       "</div>"
      ],
      "text/plain": [
       "   index  Order  MS SubClass MS Zoning  Lot Area Lot Shape Land Contour  \\\n",
       "0    200   2163           20        RL      9000       Reg          Lvl   \n",
       "1   3832   1862           20        RL      9600       Reg          Lvl   \n",
       "2   4927    754           20        RL      9600       Reg          Lvl   \n",
       "3   4088    641           80        RL      9600       Reg          Lvl   \n",
       "4   3644    754           20        RL      9600       Reg          Lvl   \n",
       "\n",
       "  Lot Config Neighborhood Bldg Type  ... Garage Cars  Garage Area  \\\n",
       "0     Inside        NAmes      1Fam  ...    1.998003   381.014258   \n",
       "1     Inside      CollgCr      1Fam  ...    1.998003   384.114652   \n",
       "2     Inside      NridgHt      1Fam  ...    2.998015   625.140330   \n",
       "3     Inside      OldTown      1Fam  ...    0.998002   193.156275   \n",
       "4     Inside      NoRidge      1Fam  ...    2.998012   617.903766   \n",
       "\n",
       "   Paved Drive  Wood Deck SF  Open Porch SF Mo Sold Yr Sold Sale Type  \\\n",
       "0            Y             0              0       7    2007       WD    \n",
       "1            Y             0              0      11    2007       WD    \n",
       "2            Y             0              0       5    2008       WD    \n",
       "3            Y             0              0       7    2006       WD    \n",
       "4            Y             0              0       7    2007       WD    \n",
       "\n",
       "  Sale Condition SalePrice  \n",
       "0         Normal    158000  \n",
       "1         Normal    145000  \n",
       "2         Normal    125000  \n",
       "3         Normal    135000  \n",
       "4         Normal    175000  \n",
       "\n",
       "[5 rows x 49 columns]"
      ]
     },
     "execution_count": 17,
     "metadata": {},
     "output_type": "execute_result"
    }
   ],
   "source": [
    "train_df.head()"
   ]
  },
  {
   "cell_type": "markdown",
   "metadata": {},
   "source": [
    "## 4.4 ベースライン（ベンチマーク）を作成する"
   ]
  },
  {
   "cell_type": "markdown",
   "metadata": {},
   "source": [
    "### LightGBMで予測する"
   ]
  },
  {
   "cell_type": "markdown",
   "metadata": {},
   "source": [
    "#### 学習データの各変数の型を確認する"
   ]
  },
  {
   "cell_type": "markdown",
   "metadata": {},
   "source": [
    "リスト4.6　各変数の型の確認"
   ]
  },
  {
   "cell_type": "code",
   "execution_count": 18,
   "metadata": {},
   "outputs": [
    {
     "data": {
      "text/plain": [
       "index               int64\n",
       "Order               int64\n",
       "MS SubClass         int64\n",
       "MS Zoning          object\n",
       "Lot Area            int64\n",
       "Lot Shape          object\n",
       "Land Contour       object\n",
       "Lot Config         object\n",
       "Neighborhood       object\n",
       "Bldg Type          object\n",
       "House Style        object\n",
       "Overall Qual        int64\n",
       "Overall Cond        int64\n",
       "Year Built          int64\n",
       "Year Remod/Add      int64\n",
       "Roof Style         object\n",
       "Exterior 1st       object\n",
       "Exterior 2nd       object\n",
       "Exter Qual         object\n",
       "Foundation         object\n",
       "BsmtFin SF 1      float64\n",
       "BsmtFin SF 2      float64\n",
       "Bsmt Unf SF       float64\n",
       "Total Bsmt SF     float64\n",
       "Heating QC         object\n",
       "Central Air        object\n",
       "Electrical         object\n",
       "1st Flr SF          int64\n",
       "2nd Flr SF          int64\n",
       "Gr Liv Area         int64\n",
       "Bsmt Full Bath    float64\n",
       "Bsmt Half Bath    float64\n",
       "Full Bath           int64\n",
       "Half Bath           int64\n",
       "Bedroom AbvGr       int64\n",
       "Kitchen AbvGr       int64\n",
       "Kitchen Qual       object\n",
       "TotRms AbvGrd       int64\n",
       "Fireplaces          int64\n",
       "Garage Cars       float64\n",
       "Garage Area       float64\n",
       "Paved Drive        object\n",
       "Wood Deck SF        int64\n",
       "Open Porch SF       int64\n",
       "Mo Sold             int64\n",
       "Yr Sold             int64\n",
       "Sale Type          object\n",
       "Sale Condition     object\n",
       "SalePrice           int64\n",
       "dtype: object"
      ]
     },
     "execution_count": 18,
     "metadata": {},
     "output_type": "execute_result"
    }
   ],
   "source": [
    "train_df.dtypes"
   ]
  },
  {
   "cell_type": "markdown",
   "metadata": {},
   "source": [
    "リスト4.7　MSZoningの各分類ごとの個数を確認する"
   ]
  },
  {
   "cell_type": "code",
   "execution_count": 19,
   "metadata": {},
   "outputs": [
    {
     "data": {
      "text/plain": [
       "WD     2918\n",
       "New      82\n",
       "Name: Sale Type, dtype: int64"
      ]
     },
     "execution_count": 19,
     "metadata": {},
     "output_type": "execute_result"
    }
   ],
   "source": [
    "train_df[\"Sale Type\"].value_counts()"
   ]
  },
  {
   "cell_type": "markdown",
   "metadata": {},
   "source": [
    "### 学習データとテストデータを連結して前処理を行う"
   ]
  },
  {
   "cell_type": "markdown",
   "metadata": {},
   "source": [
    "リスト4.8　学習データとテストデータの連結"
   ]
  },
  {
   "cell_type": "code",
   "execution_count": 20,
   "metadata": {},
   "outputs": [],
   "source": [
    "all_df = pd.concat([train_df, test_df], sort=False).reset_index(drop=True)"
   ]
  },
  {
   "cell_type": "code",
   "execution_count": 21,
   "metadata": {},
   "outputs": [
    {
     "data": {
      "text/html": [
       "<div>\n",
       "<style scoped>\n",
       "    .dataframe tbody tr th:only-of-type {\n",
       "        vertical-align: middle;\n",
       "    }\n",
       "\n",
       "    .dataframe tbody tr th {\n",
       "        vertical-align: top;\n",
       "    }\n",
       "\n",
       "    .dataframe thead th {\n",
       "        text-align: right;\n",
       "    }\n",
       "</style>\n",
       "<table border=\"1\" class=\"dataframe\">\n",
       "  <thead>\n",
       "    <tr style=\"text-align: right;\">\n",
       "      <th></th>\n",
       "      <th>index</th>\n",
       "      <th>Order</th>\n",
       "      <th>MS SubClass</th>\n",
       "      <th>MS Zoning</th>\n",
       "      <th>Lot Area</th>\n",
       "      <th>Lot Shape</th>\n",
       "      <th>Land Contour</th>\n",
       "      <th>Lot Config</th>\n",
       "      <th>Neighborhood</th>\n",
       "      <th>Bldg Type</th>\n",
       "      <th>...</th>\n",
       "      <th>Garage Cars</th>\n",
       "      <th>Garage Area</th>\n",
       "      <th>Paved Drive</th>\n",
       "      <th>Wood Deck SF</th>\n",
       "      <th>Open Porch SF</th>\n",
       "      <th>Mo Sold</th>\n",
       "      <th>Yr Sold</th>\n",
       "      <th>Sale Type</th>\n",
       "      <th>Sale Condition</th>\n",
       "      <th>SalePrice</th>\n",
       "    </tr>\n",
       "  </thead>\n",
       "  <tbody>\n",
       "    <tr>\n",
       "      <th>0</th>\n",
       "      <td>200</td>\n",
       "      <td>2163</td>\n",
       "      <td>20</td>\n",
       "      <td>RL</td>\n",
       "      <td>9000</td>\n",
       "      <td>Reg</td>\n",
       "      <td>Lvl</td>\n",
       "      <td>Inside</td>\n",
       "      <td>NAmes</td>\n",
       "      <td>1Fam</td>\n",
       "      <td>...</td>\n",
       "      <td>1.998003</td>\n",
       "      <td>381.014258</td>\n",
       "      <td>Y</td>\n",
       "      <td>0</td>\n",
       "      <td>0</td>\n",
       "      <td>7</td>\n",
       "      <td>2007</td>\n",
       "      <td>WD</td>\n",
       "      <td>Normal</td>\n",
       "      <td>158000.0</td>\n",
       "    </tr>\n",
       "    <tr>\n",
       "      <th>1</th>\n",
       "      <td>3832</td>\n",
       "      <td>1862</td>\n",
       "      <td>20</td>\n",
       "      <td>RL</td>\n",
       "      <td>9600</td>\n",
       "      <td>Reg</td>\n",
       "      <td>Lvl</td>\n",
       "      <td>Inside</td>\n",
       "      <td>CollgCr</td>\n",
       "      <td>1Fam</td>\n",
       "      <td>...</td>\n",
       "      <td>1.998003</td>\n",
       "      <td>384.114652</td>\n",
       "      <td>Y</td>\n",
       "      <td>0</td>\n",
       "      <td>0</td>\n",
       "      <td>11</td>\n",
       "      <td>2007</td>\n",
       "      <td>WD</td>\n",
       "      <td>Normal</td>\n",
       "      <td>145000.0</td>\n",
       "    </tr>\n",
       "    <tr>\n",
       "      <th>2</th>\n",
       "      <td>4927</td>\n",
       "      <td>754</td>\n",
       "      <td>20</td>\n",
       "      <td>RL</td>\n",
       "      <td>9600</td>\n",
       "      <td>Reg</td>\n",
       "      <td>Lvl</td>\n",
       "      <td>Inside</td>\n",
       "      <td>NridgHt</td>\n",
       "      <td>1Fam</td>\n",
       "      <td>...</td>\n",
       "      <td>2.998015</td>\n",
       "      <td>625.140330</td>\n",
       "      <td>Y</td>\n",
       "      <td>0</td>\n",
       "      <td>0</td>\n",
       "      <td>5</td>\n",
       "      <td>2008</td>\n",
       "      <td>WD</td>\n",
       "      <td>Normal</td>\n",
       "      <td>125000.0</td>\n",
       "    </tr>\n",
       "    <tr>\n",
       "      <th>3</th>\n",
       "      <td>4088</td>\n",
       "      <td>641</td>\n",
       "      <td>80</td>\n",
       "      <td>RL</td>\n",
       "      <td>9600</td>\n",
       "      <td>Reg</td>\n",
       "      <td>Lvl</td>\n",
       "      <td>Inside</td>\n",
       "      <td>OldTown</td>\n",
       "      <td>1Fam</td>\n",
       "      <td>...</td>\n",
       "      <td>0.998002</td>\n",
       "      <td>193.156275</td>\n",
       "      <td>Y</td>\n",
       "      <td>0</td>\n",
       "      <td>0</td>\n",
       "      <td>7</td>\n",
       "      <td>2006</td>\n",
       "      <td>WD</td>\n",
       "      <td>Normal</td>\n",
       "      <td>135000.0</td>\n",
       "    </tr>\n",
       "    <tr>\n",
       "      <th>4</th>\n",
       "      <td>3644</td>\n",
       "      <td>754</td>\n",
       "      <td>20</td>\n",
       "      <td>RL</td>\n",
       "      <td>9600</td>\n",
       "      <td>Reg</td>\n",
       "      <td>Lvl</td>\n",
       "      <td>Inside</td>\n",
       "      <td>NoRidge</td>\n",
       "      <td>1Fam</td>\n",
       "      <td>...</td>\n",
       "      <td>2.998012</td>\n",
       "      <td>617.903766</td>\n",
       "      <td>Y</td>\n",
       "      <td>0</td>\n",
       "      <td>0</td>\n",
       "      <td>7</td>\n",
       "      <td>2007</td>\n",
       "      <td>WD</td>\n",
       "      <td>Normal</td>\n",
       "      <td>175000.0</td>\n",
       "    </tr>\n",
       "    <tr>\n",
       "      <th>...</th>\n",
       "      <td>...</td>\n",
       "      <td>...</td>\n",
       "      <td>...</td>\n",
       "      <td>...</td>\n",
       "      <td>...</td>\n",
       "      <td>...</td>\n",
       "      <td>...</td>\n",
       "      <td>...</td>\n",
       "      <td>...</td>\n",
       "      <td>...</td>\n",
       "      <td>...</td>\n",
       "      <td>...</td>\n",
       "      <td>...</td>\n",
       "      <td>...</td>\n",
       "      <td>...</td>\n",
       "      <td>...</td>\n",
       "      <td>...</td>\n",
       "      <td>...</td>\n",
       "      <td>...</td>\n",
       "      <td>...</td>\n",
       "      <td>...</td>\n",
       "    </tr>\n",
       "    <tr>\n",
       "      <th>4995</th>\n",
       "      <td>3138</td>\n",
       "      <td>2447</td>\n",
       "      <td>120</td>\n",
       "      <td>RL</td>\n",
       "      <td>3907</td>\n",
       "      <td>IR1</td>\n",
       "      <td>Lvl</td>\n",
       "      <td>Inside</td>\n",
       "      <td>StoneBr</td>\n",
       "      <td>1Fam</td>\n",
       "      <td>...</td>\n",
       "      <td>1.998003</td>\n",
       "      <td>641.261977</td>\n",
       "      <td>Y</td>\n",
       "      <td>0</td>\n",
       "      <td>0</td>\n",
       "      <td>6</td>\n",
       "      <td>2007</td>\n",
       "      <td>WD</td>\n",
       "      <td>Normal</td>\n",
       "      <td>NaN</td>\n",
       "    </tr>\n",
       "    <tr>\n",
       "      <th>4996</th>\n",
       "      <td>191</td>\n",
       "      <td>27</td>\n",
       "      <td>120</td>\n",
       "      <td>RL</td>\n",
       "      <td>3907</td>\n",
       "      <td>IR1</td>\n",
       "      <td>Lvl</td>\n",
       "      <td>Inside</td>\n",
       "      <td>Mitchel</td>\n",
       "      <td>1Fam</td>\n",
       "      <td>...</td>\n",
       "      <td>1.998007</td>\n",
       "      <td>387.032024</td>\n",
       "      <td>Y</td>\n",
       "      <td>0</td>\n",
       "      <td>0</td>\n",
       "      <td>7</td>\n",
       "      <td>2008</td>\n",
       "      <td>WD</td>\n",
       "      <td>Normal</td>\n",
       "      <td>NaN</td>\n",
       "    </tr>\n",
       "    <tr>\n",
       "      <th>4997</th>\n",
       "      <td>3294</td>\n",
       "      <td>208</td>\n",
       "      <td>50</td>\n",
       "      <td>RL</td>\n",
       "      <td>6000</td>\n",
       "      <td>Reg</td>\n",
       "      <td>Lvl</td>\n",
       "      <td>Inside</td>\n",
       "      <td>Crawfor</td>\n",
       "      <td>1Fam</td>\n",
       "      <td>...</td>\n",
       "      <td>1.998007</td>\n",
       "      <td>406.608942</td>\n",
       "      <td>Y</td>\n",
       "      <td>0</td>\n",
       "      <td>0</td>\n",
       "      <td>7</td>\n",
       "      <td>2009</td>\n",
       "      <td>WD</td>\n",
       "      <td>Normal</td>\n",
       "      <td>NaN</td>\n",
       "    </tr>\n",
       "    <tr>\n",
       "      <th>4998</th>\n",
       "      <td>3073</td>\n",
       "      <td>1293</td>\n",
       "      <td>120</td>\n",
       "      <td>RL</td>\n",
       "      <td>1680</td>\n",
       "      <td>Reg</td>\n",
       "      <td>Lvl</td>\n",
       "      <td>Inside</td>\n",
       "      <td>Edwards</td>\n",
       "      <td>1Fam</td>\n",
       "      <td>...</td>\n",
       "      <td>-0.001999</td>\n",
       "      <td>-0.001395</td>\n",
       "      <td>Y</td>\n",
       "      <td>0</td>\n",
       "      <td>0</td>\n",
       "      <td>6</td>\n",
       "      <td>2009</td>\n",
       "      <td>WD</td>\n",
       "      <td>Normal</td>\n",
       "      <td>NaN</td>\n",
       "    </tr>\n",
       "    <tr>\n",
       "      <th>4999</th>\n",
       "      <td>361</td>\n",
       "      <td>1027</td>\n",
       "      <td>20</td>\n",
       "      <td>RL</td>\n",
       "      <td>7200</td>\n",
       "      <td>Reg</td>\n",
       "      <td>Lvl</td>\n",
       "      <td>Inside</td>\n",
       "      <td>NAmes</td>\n",
       "      <td>1Fam</td>\n",
       "      <td>...</td>\n",
       "      <td>1.998003</td>\n",
       "      <td>379.578413</td>\n",
       "      <td>Y</td>\n",
       "      <td>0</td>\n",
       "      <td>0</td>\n",
       "      <td>7</td>\n",
       "      <td>2007</td>\n",
       "      <td>WD</td>\n",
       "      <td>Normal</td>\n",
       "      <td>NaN</td>\n",
       "    </tr>\n",
       "  </tbody>\n",
       "</table>\n",
       "<p>5000 rows × 49 columns</p>\n",
       "</div>"
      ],
      "text/plain": [
       "      index  Order  MS SubClass MS Zoning  Lot Area Lot Shape Land Contour  \\\n",
       "0       200   2163           20        RL      9000       Reg          Lvl   \n",
       "1      3832   1862           20        RL      9600       Reg          Lvl   \n",
       "2      4927    754           20        RL      9600       Reg          Lvl   \n",
       "3      4088    641           80        RL      9600       Reg          Lvl   \n",
       "4      3644    754           20        RL      9600       Reg          Lvl   \n",
       "...     ...    ...          ...       ...       ...       ...          ...   \n",
       "4995   3138   2447          120        RL      3907       IR1          Lvl   \n",
       "4996    191     27          120        RL      3907       IR1          Lvl   \n",
       "4997   3294    208           50        RL      6000       Reg          Lvl   \n",
       "4998   3073   1293          120        RL      1680       Reg          Lvl   \n",
       "4999    361   1027           20        RL      7200       Reg          Lvl   \n",
       "\n",
       "     Lot Config Neighborhood Bldg Type  ... Garage Cars  Garage Area  \\\n",
       "0        Inside        NAmes      1Fam  ...    1.998003   381.014258   \n",
       "1        Inside      CollgCr      1Fam  ...    1.998003   384.114652   \n",
       "2        Inside      NridgHt      1Fam  ...    2.998015   625.140330   \n",
       "3        Inside      OldTown      1Fam  ...    0.998002   193.156275   \n",
       "4        Inside      NoRidge      1Fam  ...    2.998012   617.903766   \n",
       "...         ...          ...       ...  ...         ...          ...   \n",
       "4995     Inside      StoneBr      1Fam  ...    1.998003   641.261977   \n",
       "4996     Inside      Mitchel      1Fam  ...    1.998007   387.032024   \n",
       "4997     Inside      Crawfor      1Fam  ...    1.998007   406.608942   \n",
       "4998     Inside      Edwards      1Fam  ...   -0.001999    -0.001395   \n",
       "4999     Inside        NAmes      1Fam  ...    1.998003   379.578413   \n",
       "\n",
       "      Paved Drive  Wood Deck SF  Open Porch SF Mo Sold Yr Sold Sale Type  \\\n",
       "0               Y             0              0       7    2007       WD    \n",
       "1               Y             0              0      11    2007       WD    \n",
       "2               Y             0              0       5    2008       WD    \n",
       "3               Y             0              0       7    2006       WD    \n",
       "4               Y             0              0       7    2007       WD    \n",
       "...           ...           ...            ...     ...     ...       ...   \n",
       "4995            Y             0              0       6    2007       WD    \n",
       "4996            Y             0              0       7    2008       WD    \n",
       "4997            Y             0              0       7    2009       WD    \n",
       "4998            Y             0              0       6    2009       WD    \n",
       "4999            Y             0              0       7    2007       WD    \n",
       "\n",
       "     Sale Condition SalePrice  \n",
       "0            Normal  158000.0  \n",
       "1            Normal  145000.0  \n",
       "2            Normal  125000.0  \n",
       "3            Normal  135000.0  \n",
       "4            Normal  175000.0  \n",
       "...             ...       ...  \n",
       "4995         Normal       NaN  \n",
       "4996         Normal       NaN  \n",
       "4997         Normal       NaN  \n",
       "4998         Normal       NaN  \n",
       "4999         Normal       NaN  \n",
       "\n",
       "[5000 rows x 49 columns]"
      ]
     },
     "execution_count": 21,
     "metadata": {},
     "output_type": "execute_result"
    }
   ],
   "source": [
    "all_df"
   ]
  },
  {
   "cell_type": "markdown",
   "metadata": {},
   "source": [
    "リスト4.9　目的変数であるSalePriceの値を確認"
   ]
  },
  {
   "cell_type": "code",
   "execution_count": 22,
   "metadata": {},
   "outputs": [
    {
     "data": {
      "text/plain": [
       "0       158000.0\n",
       "1       145000.0\n",
       "2       125000.0\n",
       "3       135000.0\n",
       "4       175000.0\n",
       "          ...   \n",
       "4995         NaN\n",
       "4996         NaN\n",
       "4997         NaN\n",
       "4998         NaN\n",
       "4999         NaN\n",
       "Name: SalePrice, Length: 5000, dtype: float64"
      ]
     },
     "execution_count": 22,
     "metadata": {},
     "output_type": "execute_result"
    }
   ],
   "source": [
    "all_df[\"SalePrice\"]"
   ]
  },
  {
   "cell_type": "markdown",
   "metadata": {},
   "source": [
    "#### カテゴリ変数を数値に変換する"
   ]
  },
  {
   "cell_type": "markdown",
   "metadata": {},
   "source": [
    "リスト4.10　LabelEncoderのライブラリをインポート"
   ]
  },
  {
   "cell_type": "code",
   "execution_count": 23,
   "metadata": {},
   "outputs": [],
   "source": [
    "from sklearn.preprocessing import LabelEncoder"
   ]
  },
  {
   "cell_type": "markdown",
   "metadata": {},
   "source": [
    "リスト4.11　object型の変数を取得"
   ]
  },
  {
   "cell_type": "code",
   "execution_count": 24,
   "metadata": {},
   "outputs": [
    {
     "name": "stdout",
     "output_type": "stream",
     "text": [
      "Index(['MS Zoning', 'Lot Shape', 'Land Contour', 'Lot Config', 'Neighborhood',\n",
      "       'Bldg Type', 'House Style', 'Roof Style', 'Exterior 1st',\n",
      "       'Exterior 2nd', 'Exter Qual', 'Foundation', 'Heating QC', 'Central Air',\n",
      "       'Electrical', 'Kitchen Qual', 'Paved Drive', 'Sale Type',\n",
      "       'Sale Condition'],\n",
      "      dtype='object')\n"
     ]
    }
   ],
   "source": [
    "categories = all_df.columns[all_df.dtypes == \"object\"]\n",
    "print(categories)"
   ]
  },
  {
   "cell_type": "markdown",
   "metadata": {},
   "source": [
    "リスト4.12　'Alley'の各分類の個数を確認"
   ]
  },
  {
   "cell_type": "code",
   "execution_count": 25,
   "metadata": {},
   "outputs": [
    {
     "data": {
      "text/plain": [
       "754     688\n",
       "2163    521\n",
       "2447    412\n",
       "1293    390\n",
       "2284    389\n",
       "       ... \n",
       "673       1\n",
       "363       1\n",
       "51        1\n",
       "1986      1\n",
       "423       1\n",
       "Name: Order, Length: 72, dtype: int64"
      ]
     },
     "execution_count": 25,
     "metadata": {},
     "output_type": "execute_result"
    }
   ],
   "source": [
    "all_df[\"Order\"].value_counts()"
   ]
  },
  {
   "cell_type": "markdown",
   "metadata": {},
   "source": [
    "#### 欠損値を数値に変換する"
   ]
  },
  {
   "cell_type": "markdown",
   "metadata": {},
   "source": [
    "リスト4.13　欠損値を数値に変換"
   ]
  },
  {
   "cell_type": "code",
   "execution_count": 26,
   "metadata": {},
   "outputs": [
    {
     "name": "stdout",
     "output_type": "stream",
     "text": [
      "MS Zoning\n",
      "Lot Shape\n",
      "Land Contour\n",
      "Lot Config\n",
      "Neighborhood\n",
      "Bldg Type\n",
      "House Style\n",
      "Roof Style\n",
      "Exterior 1st\n",
      "Exterior 2nd\n",
      "Exter Qual\n",
      "Foundation\n",
      "Heating QC\n",
      "Central Air\n",
      "Electrical\n",
      "Kitchen Qual\n",
      "Paved Drive\n",
      "Sale Type\n",
      "Sale Condition\n"
     ]
    }
   ],
   "source": [
    "for cat in categories:\n",
    "    le = LabelEncoder()\n",
    "    print(cat)\n",
    "    \n",
    "    all_df[cat].fillna(\"missing\", inplace=True)    \n",
    "    le = le.fit(all_df[cat])\n",
    "    all_df[cat] = le.transform(all_df[cat])\n",
    "    all_df[cat] = all_df[cat].astype(\"category\")"
   ]
  },
  {
   "cell_type": "code",
   "execution_count": 27,
   "metadata": {},
   "outputs": [
    {
     "data": {
      "text/html": [
       "<div>\n",
       "<style scoped>\n",
       "    .dataframe tbody tr th:only-of-type {\n",
       "        vertical-align: middle;\n",
       "    }\n",
       "\n",
       "    .dataframe tbody tr th {\n",
       "        vertical-align: top;\n",
       "    }\n",
       "\n",
       "    .dataframe thead th {\n",
       "        text-align: right;\n",
       "    }\n",
       "</style>\n",
       "<table border=\"1\" class=\"dataframe\">\n",
       "  <thead>\n",
       "    <tr style=\"text-align: right;\">\n",
       "      <th></th>\n",
       "      <th>index</th>\n",
       "      <th>Order</th>\n",
       "      <th>MS SubClass</th>\n",
       "      <th>MS Zoning</th>\n",
       "      <th>Lot Area</th>\n",
       "      <th>Lot Shape</th>\n",
       "      <th>Land Contour</th>\n",
       "      <th>Lot Config</th>\n",
       "      <th>Neighborhood</th>\n",
       "      <th>Bldg Type</th>\n",
       "      <th>...</th>\n",
       "      <th>Garage Cars</th>\n",
       "      <th>Garage Area</th>\n",
       "      <th>Paved Drive</th>\n",
       "      <th>Wood Deck SF</th>\n",
       "      <th>Open Porch SF</th>\n",
       "      <th>Mo Sold</th>\n",
       "      <th>Yr Sold</th>\n",
       "      <th>Sale Type</th>\n",
       "      <th>Sale Condition</th>\n",
       "      <th>SalePrice</th>\n",
       "    </tr>\n",
       "  </thead>\n",
       "  <tbody>\n",
       "    <tr>\n",
       "      <th>0</th>\n",
       "      <td>200</td>\n",
       "      <td>2163</td>\n",
       "      <td>20</td>\n",
       "      <td>1</td>\n",
       "      <td>9000</td>\n",
       "      <td>1</td>\n",
       "      <td>2</td>\n",
       "      <td>2</td>\n",
       "      <td>11</td>\n",
       "      <td>0</td>\n",
       "      <td>...</td>\n",
       "      <td>1.998003</td>\n",
       "      <td>381.014258</td>\n",
       "      <td>1</td>\n",
       "      <td>0</td>\n",
       "      <td>0</td>\n",
       "      <td>7</td>\n",
       "      <td>2007</td>\n",
       "      <td>1</td>\n",
       "      <td>0</td>\n",
       "      <td>158000.0</td>\n",
       "    </tr>\n",
       "    <tr>\n",
       "      <th>1</th>\n",
       "      <td>3832</td>\n",
       "      <td>1862</td>\n",
       "      <td>20</td>\n",
       "      <td>1</td>\n",
       "      <td>9600</td>\n",
       "      <td>1</td>\n",
       "      <td>2</td>\n",
       "      <td>2</td>\n",
       "      <td>4</td>\n",
       "      <td>0</td>\n",
       "      <td>...</td>\n",
       "      <td>1.998003</td>\n",
       "      <td>384.114652</td>\n",
       "      <td>1</td>\n",
       "      <td>0</td>\n",
       "      <td>0</td>\n",
       "      <td>11</td>\n",
       "      <td>2007</td>\n",
       "      <td>1</td>\n",
       "      <td>0</td>\n",
       "      <td>145000.0</td>\n",
       "    </tr>\n",
       "    <tr>\n",
       "      <th>2</th>\n",
       "      <td>4927</td>\n",
       "      <td>754</td>\n",
       "      <td>20</td>\n",
       "      <td>1</td>\n",
       "      <td>9600</td>\n",
       "      <td>1</td>\n",
       "      <td>2</td>\n",
       "      <td>2</td>\n",
       "      <td>15</td>\n",
       "      <td>0</td>\n",
       "      <td>...</td>\n",
       "      <td>2.998015</td>\n",
       "      <td>625.140330</td>\n",
       "      <td>1</td>\n",
       "      <td>0</td>\n",
       "      <td>0</td>\n",
       "      <td>5</td>\n",
       "      <td>2008</td>\n",
       "      <td>1</td>\n",
       "      <td>0</td>\n",
       "      <td>125000.0</td>\n",
       "    </tr>\n",
       "    <tr>\n",
       "      <th>3</th>\n",
       "      <td>4088</td>\n",
       "      <td>641</td>\n",
       "      <td>80</td>\n",
       "      <td>1</td>\n",
       "      <td>9600</td>\n",
       "      <td>1</td>\n",
       "      <td>2</td>\n",
       "      <td>2</td>\n",
       "      <td>16</td>\n",
       "      <td>0</td>\n",
       "      <td>...</td>\n",
       "      <td>0.998002</td>\n",
       "      <td>193.156275</td>\n",
       "      <td>1</td>\n",
       "      <td>0</td>\n",
       "      <td>0</td>\n",
       "      <td>7</td>\n",
       "      <td>2006</td>\n",
       "      <td>1</td>\n",
       "      <td>0</td>\n",
       "      <td>135000.0</td>\n",
       "    </tr>\n",
       "    <tr>\n",
       "      <th>4</th>\n",
       "      <td>3644</td>\n",
       "      <td>754</td>\n",
       "      <td>20</td>\n",
       "      <td>1</td>\n",
       "      <td>9600</td>\n",
       "      <td>1</td>\n",
       "      <td>2</td>\n",
       "      <td>2</td>\n",
       "      <td>14</td>\n",
       "      <td>0</td>\n",
       "      <td>...</td>\n",
       "      <td>2.998012</td>\n",
       "      <td>617.903766</td>\n",
       "      <td>1</td>\n",
       "      <td>0</td>\n",
       "      <td>0</td>\n",
       "      <td>7</td>\n",
       "      <td>2007</td>\n",
       "      <td>1</td>\n",
       "      <td>0</td>\n",
       "      <td>175000.0</td>\n",
       "    </tr>\n",
       "    <tr>\n",
       "      <th>...</th>\n",
       "      <td>...</td>\n",
       "      <td>...</td>\n",
       "      <td>...</td>\n",
       "      <td>...</td>\n",
       "      <td>...</td>\n",
       "      <td>...</td>\n",
       "      <td>...</td>\n",
       "      <td>...</td>\n",
       "      <td>...</td>\n",
       "      <td>...</td>\n",
       "      <td>...</td>\n",
       "      <td>...</td>\n",
       "      <td>...</td>\n",
       "      <td>...</td>\n",
       "      <td>...</td>\n",
       "      <td>...</td>\n",
       "      <td>...</td>\n",
       "      <td>...</td>\n",
       "      <td>...</td>\n",
       "      <td>...</td>\n",
       "      <td>...</td>\n",
       "    </tr>\n",
       "    <tr>\n",
       "      <th>4995</th>\n",
       "      <td>3138</td>\n",
       "      <td>2447</td>\n",
       "      <td>120</td>\n",
       "      <td>1</td>\n",
       "      <td>3907</td>\n",
       "      <td>0</td>\n",
       "      <td>2</td>\n",
       "      <td>2</td>\n",
       "      <td>20</td>\n",
       "      <td>0</td>\n",
       "      <td>...</td>\n",
       "      <td>1.998003</td>\n",
       "      <td>641.261977</td>\n",
       "      <td>1</td>\n",
       "      <td>0</td>\n",
       "      <td>0</td>\n",
       "      <td>6</td>\n",
       "      <td>2007</td>\n",
       "      <td>1</td>\n",
       "      <td>0</td>\n",
       "      <td>NaN</td>\n",
       "    </tr>\n",
       "    <tr>\n",
       "      <th>4996</th>\n",
       "      <td>191</td>\n",
       "      <td>27</td>\n",
       "      <td>120</td>\n",
       "      <td>1</td>\n",
       "      <td>3907</td>\n",
       "      <td>0</td>\n",
       "      <td>2</td>\n",
       "      <td>2</td>\n",
       "      <td>10</td>\n",
       "      <td>0</td>\n",
       "      <td>...</td>\n",
       "      <td>1.998007</td>\n",
       "      <td>387.032024</td>\n",
       "      <td>1</td>\n",
       "      <td>0</td>\n",
       "      <td>0</td>\n",
       "      <td>7</td>\n",
       "      <td>2008</td>\n",
       "      <td>1</td>\n",
       "      <td>0</td>\n",
       "      <td>NaN</td>\n",
       "    </tr>\n",
       "    <tr>\n",
       "      <th>4997</th>\n",
       "      <td>3294</td>\n",
       "      <td>208</td>\n",
       "      <td>50</td>\n",
       "      <td>1</td>\n",
       "      <td>6000</td>\n",
       "      <td>1</td>\n",
       "      <td>2</td>\n",
       "      <td>2</td>\n",
       "      <td>5</td>\n",
       "      <td>0</td>\n",
       "      <td>...</td>\n",
       "      <td>1.998007</td>\n",
       "      <td>406.608942</td>\n",
       "      <td>1</td>\n",
       "      <td>0</td>\n",
       "      <td>0</td>\n",
       "      <td>7</td>\n",
       "      <td>2009</td>\n",
       "      <td>1</td>\n",
       "      <td>0</td>\n",
       "      <td>NaN</td>\n",
       "    </tr>\n",
       "    <tr>\n",
       "      <th>4998</th>\n",
       "      <td>3073</td>\n",
       "      <td>1293</td>\n",
       "      <td>120</td>\n",
       "      <td>1</td>\n",
       "      <td>1680</td>\n",
       "      <td>1</td>\n",
       "      <td>2</td>\n",
       "      <td>2</td>\n",
       "      <td>6</td>\n",
       "      <td>0</td>\n",
       "      <td>...</td>\n",
       "      <td>-0.001999</td>\n",
       "      <td>-0.001395</td>\n",
       "      <td>1</td>\n",
       "      <td>0</td>\n",
       "      <td>0</td>\n",
       "      <td>6</td>\n",
       "      <td>2009</td>\n",
       "      <td>1</td>\n",
       "      <td>0</td>\n",
       "      <td>NaN</td>\n",
       "    </tr>\n",
       "    <tr>\n",
       "      <th>4999</th>\n",
       "      <td>361</td>\n",
       "      <td>1027</td>\n",
       "      <td>20</td>\n",
       "      <td>1</td>\n",
       "      <td>7200</td>\n",
       "      <td>1</td>\n",
       "      <td>2</td>\n",
       "      <td>2</td>\n",
       "      <td>11</td>\n",
       "      <td>0</td>\n",
       "      <td>...</td>\n",
       "      <td>1.998003</td>\n",
       "      <td>379.578413</td>\n",
       "      <td>1</td>\n",
       "      <td>0</td>\n",
       "      <td>0</td>\n",
       "      <td>7</td>\n",
       "      <td>2007</td>\n",
       "      <td>1</td>\n",
       "      <td>0</td>\n",
       "      <td>NaN</td>\n",
       "    </tr>\n",
       "  </tbody>\n",
       "</table>\n",
       "<p>5000 rows × 49 columns</p>\n",
       "</div>"
      ],
      "text/plain": [
       "      index  Order  MS SubClass MS Zoning  Lot Area Lot Shape Land Contour  \\\n",
       "0       200   2163           20         1      9000         1            2   \n",
       "1      3832   1862           20         1      9600         1            2   \n",
       "2      4927    754           20         1      9600         1            2   \n",
       "3      4088    641           80         1      9600         1            2   \n",
       "4      3644    754           20         1      9600         1            2   \n",
       "...     ...    ...          ...       ...       ...       ...          ...   \n",
       "4995   3138   2447          120         1      3907         0            2   \n",
       "4996    191     27          120         1      3907         0            2   \n",
       "4997   3294    208           50         1      6000         1            2   \n",
       "4998   3073   1293          120         1      1680         1            2   \n",
       "4999    361   1027           20         1      7200         1            2   \n",
       "\n",
       "     Lot Config Neighborhood Bldg Type  ... Garage Cars  Garage Area  \\\n",
       "0             2           11         0  ...    1.998003   381.014258   \n",
       "1             2            4         0  ...    1.998003   384.114652   \n",
       "2             2           15         0  ...    2.998015   625.140330   \n",
       "3             2           16         0  ...    0.998002   193.156275   \n",
       "4             2           14         0  ...    2.998012   617.903766   \n",
       "...         ...          ...       ...  ...         ...          ...   \n",
       "4995          2           20         0  ...    1.998003   641.261977   \n",
       "4996          2           10         0  ...    1.998007   387.032024   \n",
       "4997          2            5         0  ...    1.998007   406.608942   \n",
       "4998          2            6         0  ...   -0.001999    -0.001395   \n",
       "4999          2           11         0  ...    1.998003   379.578413   \n",
       "\n",
       "      Paved Drive  Wood Deck SF  Open Porch SF Mo Sold Yr Sold Sale Type  \\\n",
       "0               1             0              0       7    2007         1   \n",
       "1               1             0              0      11    2007         1   \n",
       "2               1             0              0       5    2008         1   \n",
       "3               1             0              0       7    2006         1   \n",
       "4               1             0              0       7    2007         1   \n",
       "...           ...           ...            ...     ...     ...       ...   \n",
       "4995            1             0              0       6    2007         1   \n",
       "4996            1             0              0       7    2008         1   \n",
       "4997            1             0              0       7    2009         1   \n",
       "4998            1             0              0       6    2009         1   \n",
       "4999            1             0              0       7    2007         1   \n",
       "\n",
       "     Sale Condition SalePrice  \n",
       "0                 0  158000.0  \n",
       "1                 0  145000.0  \n",
       "2                 0  125000.0  \n",
       "3                 0  135000.0  \n",
       "4                 0  175000.0  \n",
       "...             ...       ...  \n",
       "4995              0       NaN  \n",
       "4996              0       NaN  \n",
       "4997              0       NaN  \n",
       "4998              0       NaN  \n",
       "4999              0       NaN  \n",
       "\n",
       "[5000 rows x 49 columns]"
      ]
     },
     "execution_count": 27,
     "metadata": {},
     "output_type": "execute_result"
    }
   ],
   "source": [
    "all_df"
   ]
  },
  {
   "cell_type": "markdown",
   "metadata": {},
   "source": [
    "#### 再び学習データとテストデータに戻す"
   ]
  },
  {
   "cell_type": "markdown",
   "metadata": {},
   "source": [
    "リスト4.14　データをtrain_dfとtest_dfに戻す"
   ]
  },
  {
   "cell_type": "code",
   "execution_count": 28,
   "metadata": {},
   "outputs": [],
   "source": [
    "train_df_le = all_df[~all_df[\"SalePrice\"].isnull()]\n",
    "test_df_le = all_df[all_df[\"SalePrice\"].isnull()]"
   ]
  },
  {
   "cell_type": "code",
   "execution_count": 1,
   "metadata": {},
   "outputs": [
    {
     "name": "stdout",
     "output_type": "stream",
     "text": [
      "Requirement already satisfied: LightGBM in /home/ki-mu-ra/anaconda3/lib/python3.7/site-packages (2.3.0)\n",
      "Requirement already satisfied: scikit-learn in /home/ki-mu-ra/anaconda3/lib/python3.7/site-packages (from LightGBM) (0.22.1)\n",
      "Requirement already satisfied: numpy in /home/ki-mu-ra/anaconda3/lib/python3.7/site-packages (from LightGBM) (1.18.1)\n",
      "Requirement already satisfied: scipy in /home/ki-mu-ra/anaconda3/lib/python3.7/site-packages (from LightGBM) (1.4.1)\n",
      "Requirement already satisfied: joblib>=0.11 in /home/ki-mu-ra/anaconda3/lib/python3.7/site-packages (from scikit-learn->LightGBM) (0.14.1)\n",
      "Note: you may need to restart the kernel to use updated packages.\n"
     ]
    }
   ],
   "source": [
    "pip install LightGBM"
   ]
  },
  {
   "cell_type": "markdown",
   "metadata": {},
   "source": [
    "#### LightGBMに上記データを読み込ませる"
   ]
  },
  {
   "cell_type": "markdown",
   "metadata": {},
   "source": [
    "リスト4.15　LightGBMのライブラリをインポート"
   ]
  },
  {
   "cell_type": "code",
   "execution_count": 29,
   "metadata": {},
   "outputs": [],
   "source": [
    "import lightgbm as lgb"
   ]
  },
  {
   "cell_type": "markdown",
   "metadata": {},
   "source": [
    "### クロスバリデーションを用いてモデルの学習・予測を行う"
   ]
  },
  {
   "cell_type": "markdown",
   "metadata": {},
   "source": [
    "#### クロスバリデーション用のライブラリを読み込んで分割数を設定する"
   ]
  },
  {
   "cell_type": "markdown",
   "metadata": {},
   "source": [
    "リスト4.16　クロスバリデーション用のライブラリを読み込んで分割数を3に設定"
   ]
  },
  {
   "cell_type": "code",
   "execution_count": 30,
   "metadata": {},
   "outputs": [],
   "source": [
    "from sklearn.model_selection import KFold\n",
    "folds = 3\n",
    "kf = KFold(n_splits=folds)"
   ]
  },
  {
   "cell_type": "markdown",
   "metadata": {},
   "source": [
    "#### ハイパーパラメータを設定する"
   ]
  },
  {
   "cell_type": "markdown",
   "metadata": {},
   "source": [
    "リスト4.17　LightGBMのハイパーパラメータを設定"
   ]
  },
  {
   "cell_type": "code",
   "execution_count": 31,
   "metadata": {},
   "outputs": [],
   "source": [
    "lgbm_params = {\n",
    "    \"objective\":\"regression\",\n",
    "    \"random_seed\":1234\n",
    "}"
   ]
  },
  {
   "cell_type": "markdown",
   "metadata": {},
   "source": [
    "#### 説明変数、目的変数を指定する"
   ]
  },
  {
   "cell_type": "markdown",
   "metadata": {},
   "source": [
    "リスト4.18　説明変数、目的変数を指定"
   ]
  },
  {
   "cell_type": "code",
   "execution_count": 33,
   "metadata": {},
   "outputs": [],
   "source": [
    "train_X = train_df_le.drop([\"SalePrice\"], axis=1)\n",
    "train_Y = train_df_le[\"SalePrice\"]"
   ]
  },
  {
   "cell_type": "markdown",
   "metadata": {},
   "source": [
    "#### 平均二乗誤差を出すライブラリをインポートする"
   ]
  },
  {
   "cell_type": "markdown",
   "metadata": {},
   "source": [
    "リスト4.19　平均二乗誤差を出すライブラリをインポート"
   ]
  },
  {
   "cell_type": "code",
   "execution_count": 34,
   "metadata": {},
   "outputs": [],
   "source": [
    "from sklearn.metrics import mean_squared_error"
   ]
  },
  {
   "cell_type": "markdown",
   "metadata": {},
   "source": [
    "#### 各foldごとに作成したモデルごとの予測値を保存する"
   ]
  },
  {
   "cell_type": "markdown",
   "metadata": {},
   "source": [
    "リスト4.20　各foldごとに作成したモデルごとの予測値を保存"
   ]
  },
  {
   "cell_type": "code",
   "execution_count": 35,
   "metadata": {},
   "outputs": [
    {
     "name": "stdout",
     "output_type": "stream",
     "text": [
      "Training until validation scores don't improve for 20 rounds\n",
      "[10]\tvalid_0's l2: 8.61107e+08\n",
      "[20]\tvalid_0's l2: 8.23014e+08\n",
      "[30]\tvalid_0's l2: 8.11798e+08\n",
      "[40]\tvalid_0's l2: 8.05238e+08\n",
      "[50]\tvalid_0's l2: 8.09284e+08\n",
      "Early stopping, best iteration is:\n",
      "[37]\tvalid_0's l2: 8.04735e+08\n",
      "0.16976662652971136\n",
      "Training until validation scores don't improve for 20 rounds\n",
      "[10]\tvalid_0's l2: 6.46982e+08\n",
      "[20]\tvalid_0's l2: 6.44874e+08\n",
      "[30]\tvalid_0's l2: 6.5646e+08\n",
      "Early stopping, best iteration is:\n",
      "[15]\tvalid_0's l2: 6.38917e+08\n",
      "0.15376175736644182\n",
      "Training until validation scores don't improve for 20 rounds\n",
      "[10]\tvalid_0's l2: 9.3836e+08\n",
      "[20]\tvalid_0's l2: 9.28855e+08\n",
      "[30]\tvalid_0's l2: 9.37132e+08\n",
      "Early stopping, best iteration is:\n",
      "[14]\tvalid_0's l2: 9.24528e+08\n",
      "0.17529998460055302\n"
     ]
    }
   ],
   "source": [
    "models = []\n",
    "rmses = []\n",
    "oof = np.zeros(len(train_X))\n",
    "\n",
    "for train_index, val_index in kf.split(train_X):\n",
    "    X_train = train_X.iloc[train_index]\n",
    "    X_valid = train_X.iloc[val_index]\n",
    "    y_train = train_Y.iloc[train_index]\n",
    "    y_valid = train_Y.iloc[val_index]\n",
    "        \n",
    "    lgb_train = lgb.Dataset(X_train, y_train)\n",
    "    lgb_eval = lgb.Dataset(X_valid, y_valid, reference=lgb_train)    \n",
    "    \n",
    "    model_lgb = lgb.train(lgbm_params, \n",
    "                          lgb_train, \n",
    "                          valid_sets=lgb_eval, \n",
    "                          num_boost_round=100,\n",
    "                          early_stopping_rounds=20,\n",
    "                          verbose_eval=10,\n",
    "                         )    \n",
    "    \n",
    "    y_pred = model_lgb.predict(X_valid, num_iteration=model_lgb.best_iteration)\n",
    "    tmp_rmse = np.sqrt(mean_squared_error(np.log(y_valid), np.log(y_pred)))\n",
    "    print(tmp_rmse)    \n",
    "              \n",
    "    models.append(model_lgb)    \n",
    "    rmses.append(tmp_rmse)\n",
    "    oof[val_index] = y_pred "
   ]
  },
  {
   "cell_type": "markdown",
   "metadata": {},
   "source": [
    "#### 平均RMSEを計算する"
   ]
  },
  {
   "cell_type": "markdown",
   "metadata": {},
   "source": [
    "リスト4.21　平均RMSEを計算"
   ]
  },
  {
   "cell_type": "code",
   "execution_count": 36,
   "metadata": {},
   "outputs": [
    {
     "data": {
      "text/plain": [
       "0.1662761228322354"
      ]
     },
     "execution_count": 36,
     "metadata": {},
     "output_type": "execute_result"
    }
   ],
   "source": [
    "sum(rmses)/len(rmses)"
   ]
  },
  {
   "cell_type": "markdown",
   "metadata": {},
   "source": [
    "#### 現状の予測値と実際の値の違いを確認する"
   ]
  },
  {
   "cell_type": "markdown",
   "metadata": {},
   "source": [
    "リスト4.23　現状の予測値と実際の値の違いを可視化"
   ]
  },
  {
   "cell_type": "code",
   "execution_count": 37,
   "metadata": {},
   "outputs": [],
   "source": [
    "actual_pred_df = pd.DataFrame({\n",
    "\"actual\" : train_Y,\n",
    "\"pred\" : oof })"
   ]
  },
  {
   "cell_type": "code",
   "execution_count": 38,
   "metadata": {},
   "outputs": [
    {
     "data": {
      "text/plain": [
       "<matplotlib.axes._subplots.AxesSubplot at 0x7f3ee7250bd0>"
      ]
     },
     "execution_count": 38,
     "metadata": {},
     "output_type": "execute_result"
    },
    {
     "data": {
      "image/png": "[encoded data removed]",
      "text/plain": [
       "<Figure size 864x360 with 1 Axes>"
      ]
     },
     "metadata": {},
     "output_type": "display_data"
    }
   ],
   "source": [
    "actual_pred_df.plot(figsize=(12,5))"
   ]
  },
  {
   "cell_type": "markdown",
   "metadata": {},
   "source": [
    "### 各変数の重要度を確認する"
   ]
  },
  {
   "cell_type": "markdown",
   "metadata": {},
   "source": [
    "#### 表示する変数の数を制限する"
   ]
  },
  {
   "cell_type": "markdown",
   "metadata": {},
   "source": [
    "リスト4.24　変数の数を制限して各変数の重要度を表示"
   ]
  },
  {
   "cell_type": "code",
   "execution_count": 39,
   "metadata": {},
   "outputs": [
    {
     "data": {
      "image/png": "[encoded data removed]",
      "text/plain": [
       "<Figure size 432x288 with 1 Axes>"
      ]
     },
     "metadata": {},
     "output_type": "display_data"
    },
    {
     "data": {
      "image/png": "[encoded data removed]",
      "text/plain": [
       "<Figure size 432x288 with 1 Axes>"
      ]
     },
     "metadata": {},
     "output_type": "display_data"
    },
    {
     "data": {
      "image/png": "[encoded data removed]",
      "text/plain": [
       "<Figure size 432x288 with 1 Axes>"
      ]
     },
     "metadata": {},
     "output_type": "display_data"
    }
   ],
   "source": [
    "for model in models:\n",
    "    lgb.plot_importance(model,importance_type=\"gain\", max_num_features=15)"
   ]
  },
  {
   "cell_type": "markdown",
   "metadata": {},
   "source": [
    "## 4.5　目的変数の前処理：目的変数の分布を確認する"
   ]
  },
  {
   "cell_type": "markdown",
   "metadata": {},
   "source": [
    "### SalePriceのデータの分布を確認する"
   ]
  },
  {
   "cell_type": "markdown",
   "metadata": {},
   "source": [
    "#### SalePriceの各統計量を確認する"
   ]
  },
  {
   "cell_type": "markdown",
   "metadata": {},
   "source": [
    "リスト4.25　SalePriceの各統計量を確認"
   ]
  },
  {
   "cell_type": "code",
   "execution_count": 40,
   "metadata": {},
   "outputs": [
    {
     "data": {
      "text/plain": [
       "count      3000.000000\n",
       "mean     150288.542000\n",
       "std       31054.043412\n",
       "min       80000.000000\n",
       "25%      139000.000000\n",
       "50%      145000.000000\n",
       "75%      158000.000000\n",
       "max      418000.000000\n",
       "Name: SalePrice, dtype: float64"
      ]
     },
     "execution_count": 40,
     "metadata": {},
     "output_type": "execute_result"
    }
   ],
   "source": [
    "train_df[\"SalePrice\"].describe()"
   ]
  },
  {
   "cell_type": "markdown",
   "metadata": {},
   "source": [
    "#### ヒストグラムでSalePriceの分布を確認する"
   ]
  },
  {
   "cell_type": "markdown",
   "metadata": {},
   "source": [
    "リスト4.26　ヒストグラムで分布を確認"
   ]
  },
  {
   "cell_type": "code",
   "execution_count": 41,
   "metadata": {},
   "outputs": [
    {
     "data": {
      "text/plain": [
       "<matplotlib.axes._subplots.AxesSubplot at 0x7f3ee6eab050>"
      ]
     },
     "execution_count": 41,
     "metadata": {},
     "output_type": "execute_result"
    },
    {
     "data": {
      "image/png": "[encoded data removed]",
      "text/plain": [
       "<Figure size 432x288 with 1 Axes>"
      ]
     },
     "metadata": {},
     "output_type": "display_data"
    }
   ],
   "source": [
    "train_df[\"SalePrice\"].plot.hist(bins=20)"
   ]
  },
  {
   "cell_type": "markdown",
   "metadata": {},
   "source": [
    "#### 目的変数を対数化する"
   ]
  },
  {
   "cell_type": "markdown",
   "metadata": {},
   "source": [
    "リスト4.27　SalePriceを対数化"
   ]
  },
  {
   "cell_type": "code",
   "execution_count": 42,
   "metadata": {},
   "outputs": [
    {
     "data": {
      "text/plain": [
       "0       11.970350\n",
       "1       11.884489\n",
       "2       11.736069\n",
       "3       11.813030\n",
       "4       12.072541\n",
       "          ...    \n",
       "2995    11.775290\n",
       "2996    11.849398\n",
       "2997    11.970350\n",
       "2998    11.970350\n",
       "2999    11.938193\n",
       "Name: SalePrice, Length: 3000, dtype: float64"
      ]
     },
     "execution_count": 42,
     "metadata": {},
     "output_type": "execute_result"
    }
   ],
   "source": [
    "np.log(train_df['SalePrice'])"
   ]
  },
  {
   "cell_type": "markdown",
   "metadata": {},
   "source": [
    "リスト4.28　対数化したSalePriceの分布をヒストグラムで可視化"
   ]
  },
  {
   "cell_type": "code",
   "execution_count": 43,
   "metadata": {},
   "outputs": [
    {
     "data": {
      "text/plain": [
       "<matplotlib.axes._subplots.AxesSubplot at 0x7f3ee6e35510>"
      ]
     },
     "execution_count": 43,
     "metadata": {},
     "output_type": "execute_result"
    },
    {
     "data": {
      "image/png": "[encoded data removed]",
      "text/plain": [
       "<Figure size 432x288 with 1 Axes>"
      ]
     },
     "metadata": {},
     "output_type": "display_data"
    }
   ],
   "source": [
    "np.log(train_df['SalePrice']).plot.hist(bins=20)"
   ]
  },
  {
   "cell_type": "markdown",
   "metadata": {},
   "source": [
    "#### 目的変数の対数化による予測精度の向上を確認する"
   ]
  },
  {
   "cell_type": "markdown",
   "metadata": {},
   "source": [
    "リスト4.29　対数化による予測精度の向上を確認"
   ]
  },
  {
   "cell_type": "code",
   "execution_count": 44,
   "metadata": {},
   "outputs": [],
   "source": [
    "train_df_le[\"SalePrice_log\"] = np.log(train_df_le[\"SalePrice\"])"
   ]
  },
  {
   "cell_type": "code",
   "execution_count": 47,
   "metadata": {},
   "outputs": [],
   "source": [
    "train_X = train_df_le.drop([\"SalePrice\",\"SalePrice_log\"], axis=1)\n",
    "train_Y = train_df_le[\"SalePrice_log\"]"
   ]
  },
  {
   "cell_type": "code",
   "execution_count": 48,
   "metadata": {},
   "outputs": [
    {
     "name": "stdout",
     "output_type": "stream",
     "text": [
      "Training until validation scores don't improve for 20 rounds\n",
      "[10]\tvalid_0's l2: 0.0308017\n",
      "[20]\tvalid_0's l2: 0.0286829\n",
      "[30]\tvalid_0's l2: 0.0281803\n",
      "[40]\tvalid_0's l2: 0.0281836\n",
      "[50]\tvalid_0's l2: 0.0284083\n",
      "Early stopping, best iteration is:\n",
      "[39]\tvalid_0's l2: 0.0281594\n",
      "0.1678076319284953\n",
      "Training until validation scores don't improve for 20 rounds\n",
      "[10]\tvalid_0's l2: 0.0234249\n",
      "[20]\tvalid_0's l2: 0.0229456\n",
      "[30]\tvalid_0's l2: 0.0233896\n",
      "[40]\tvalid_0's l2: 0.0236045\n",
      "Early stopping, best iteration is:\n",
      "[20]\tvalid_0's l2: 0.0229456\n",
      "0.1514781751600406\n",
      "Training until validation scores don't improve for 20 rounds\n",
      "[10]\tvalid_0's l2: 0.0301516\n",
      "[20]\tvalid_0's l2: 0.0292234\n",
      "[30]\tvalid_0's l2: 0.0293461\n",
      "Early stopping, best iteration is:\n",
      "[19]\tvalid_0's l2: 0.0291959\n",
      "0.17086804579092152\n"
     ]
    }
   ],
   "source": [
    "models = []\n",
    "rmses = []\n",
    "oof = np.zeros(len(train_X))\n",
    "\n",
    "for train_index, val_index in kf.split(train_X):\n",
    "    X_train = train_X.iloc[train_index]\n",
    "    X_valid = train_X.iloc[val_index]\n",
    "    y_train = train_Y.iloc[train_index]\n",
    "    y_valid = train_Y.iloc[val_index]\n",
    "        \n",
    "    lgb_train = lgb.Dataset(X_train, y_train)\n",
    "    lgb_eval = lgb.Dataset(X_valid, y_valid, reference=lgb_train)    \n",
    "    \n",
    "    model_lgb = lgb.train(lgbm_params, \n",
    "                          lgb_train, \n",
    "                          valid_sets=lgb_eval, \n",
    "                          num_boost_round=100,\n",
    "                          early_stopping_rounds=20,\n",
    "                          verbose_eval=10,\n",
    "                         )    \n",
    "    \n",
    "    y_pred = model_lgb.predict(X_valid, num_iteration=model_lgb.best_iteration)\n",
    "    tmp_rmse = np.sqrt(mean_squared_error(y_valid, y_pred))\n",
    "    print(tmp_rmse)    \n",
    "              \n",
    "    models.append(model_lgb)    \n",
    "    rmses.append(tmp_rmse)\n",
    "    oof[val_index] = y_pred "
   ]
  },
  {
   "cell_type": "code",
   "execution_count": 49,
   "metadata": {},
   "outputs": [
    {
     "data": {
      "text/plain": [
       "0.16338461762648582"
      ]
     },
     "execution_count": 49,
     "metadata": {},
     "output_type": "execute_result"
    }
   ],
   "source": [
    "sum(rmses)/len(rmses)"
   ]
  },
  {
   "cell_type": "markdown",
   "metadata": {},
   "source": [
    "## 4.6　説明変数の前処理：欠損値を確認する"
   ]
  },
  {
   "cell_type": "markdown",
   "metadata": {},
   "source": [
    "### 各説明変数の欠損値を確認する"
   ]
  },
  {
   "cell_type": "markdown",
   "metadata": {},
   "source": [
    "#### all_dfを作成する"
   ]
  },
  {
   "cell_type": "markdown",
   "metadata": {},
   "source": [
    "リスト4.30　all_dfの作成"
   ]
  },
  {
   "cell_type": "code",
   "execution_count": 50,
   "metadata": {},
   "outputs": [],
   "source": [
    "all_df = pd.concat([train_df, test_df], sort=False).reset_index(drop=True)"
   ]
  },
  {
   "cell_type": "code",
   "execution_count": 51,
   "metadata": {},
   "outputs": [
    {
     "name": "stdout",
     "output_type": "stream",
     "text": [
      "Index(['MS Zoning', 'Lot Shape', 'Land Contour', 'Lot Config', 'Neighborhood',\n",
      "       'Bldg Type', 'House Style', 'Roof Style', 'Exterior 1st',\n",
      "       'Exterior 2nd', 'Exter Qual', 'Foundation', 'Heating QC', 'Central Air',\n",
      "       'Electrical', 'Kitchen Qual', 'Paved Drive', 'Sale Type',\n",
      "       'Sale Condition'],\n",
      "      dtype='object')\n"
     ]
    }
   ],
   "source": [
    "categories = all_df.columns[all_df.dtypes == \"object\"]\n",
    "print(categories)"
   ]
  },
  {
   "cell_type": "markdown",
   "metadata": {},
   "source": [
    "#### 欠損値の数が上位40の変数を確認する"
   ]
  },
  {
   "cell_type": "markdown",
   "metadata": {},
   "source": [
    "リスト4.31　欠損値の数が上位40の変数を確認"
   ]
  },
  {
   "cell_type": "code",
   "execution_count": 52,
   "metadata": {},
   "outputs": [
    {
     "data": {
      "text/plain": [
       "SalePrice         2000\n",
       "Total Bsmt SF        0\n",
       "BsmtFin SF 2         0\n",
       "BsmtFin SF 1         0\n",
       "Foundation           0\n",
       "Exter Qual           0\n",
       "Exterior 2nd         0\n",
       "Exterior 1st         0\n",
       "Roof Style           0\n",
       "Year Remod/Add       0\n",
       "Year Built           0\n",
       "Overall Cond         0\n",
       "Overall Qual         0\n",
       "House Style          0\n",
       "Bldg Type            0\n",
       "Neighborhood         0\n",
       "Lot Config           0\n",
       "Land Contour         0\n",
       "Lot Shape            0\n",
       "Lot Area             0\n",
       "MS Zoning            0\n",
       "MS SubClass          0\n",
       "Order                0\n",
       "Bsmt Unf SF          0\n",
       "Heating QC           0\n",
       "Sale Condition       0\n",
       "Central Air          0\n",
       "Sale Type            0\n",
       "Yr Sold              0\n",
       "Mo Sold              0\n",
       "Open Porch SF        0\n",
       "Wood Deck SF         0\n",
       "Paved Drive          0\n",
       "Garage Area          0\n",
       "Garage Cars          0\n",
       "Fireplaces           0\n",
       "TotRms AbvGrd        0\n",
       "Kitchen Qual         0\n",
       "Kitchen AbvGr        0\n",
       "Bedroom AbvGr        0\n",
       "dtype: int64"
      ]
     },
     "execution_count": 52,
     "metadata": {},
     "output_type": "execute_result"
    }
   ],
   "source": [
    "all_df.isnull().sum().sort_values(ascending=False).head(40)"
   ]
  },
  {
   "cell_type": "markdown",
   "metadata": {},
   "source": [
    "#### 欠損値の多い高級住宅設備に関する変数をまとめる"
   ]
  },
  {
   "cell_type": "markdown",
   "metadata": {},
   "source": [
    "リスト4.32　PoolQCの各分類ごとの個数"
   ]
  },
  {
   "cell_type": "markdown",
   "metadata": {},
   "source": [
    "リスト4.33　PoolQCの値を値があるものを1、値がないものを0に変換"
   ]
  },
  {
   "cell_type": "markdown",
   "metadata": {},
   "source": [
    "リスト4.34　0か1の値を持つ項目になったかを確認"
   ]
  },
  {
   "cell_type": "markdown",
   "metadata": {},
   "source": [
    "リスト4.35　MiscFeature、Alleyも0と1に変換する"
   ]
  },
  {
   "cell_type": "markdown",
   "metadata": {},
   "source": [
    "リスト4.36　繰り返し処理はfor文でまとめる"
   ]
  },
  {
   "cell_type": "markdown",
   "metadata": {},
   "source": [
    "リスト4.37　0か1の値に変換した各変数を足し合わせて、高級住宅設備の数という特徴量を作成"
   ]
  },
  {
   "cell_type": "markdown",
   "metadata": {},
   "source": [
    "リスト4.38　高級住宅設備の数ごとの家の数を確認"
   ]
  },
  {
   "cell_type": "markdown",
   "metadata": {},
   "source": [
    "リスト4.39　もとのデータからPoolQC、MiscFeature、Alleyを削除"
   ]
  },
  {
   "cell_type": "markdown",
   "metadata": {},
   "source": [
    "## 4.7 外れ値を除外する"
   ]
  },
  {
   "cell_type": "markdown",
   "metadata": {},
   "source": [
    "### 各説明変数のデータの分布を確認する"
   ]
  },
  {
   "cell_type": "markdown",
   "metadata": {},
   "source": [
    "#### 各変数の統計量を確認する"
   ]
  },
  {
   "cell_type": "markdown",
   "metadata": {},
   "source": [
    "リスト4.40　各変数の統計量を確認"
   ]
  },
  {
   "cell_type": "code",
   "execution_count": 60,
   "metadata": {},
   "outputs": [
    {
     "data": {
      "text/html": [
       "<div>\n",
       "<style scoped>\n",
       "    .dataframe tbody tr th:only-of-type {\n",
       "        vertical-align: middle;\n",
       "    }\n",
       "\n",
       "    .dataframe tbody tr th {\n",
       "        vertical-align: top;\n",
       "    }\n",
       "\n",
       "    .dataframe thead th {\n",
       "        text-align: right;\n",
       "    }\n",
       "</style>\n",
       "<table border=\"1\" class=\"dataframe\">\n",
       "  <thead>\n",
       "    <tr style=\"text-align: right;\">\n",
       "      <th></th>\n",
       "      <th>count</th>\n",
       "      <th>mean</th>\n",
       "      <th>std</th>\n",
       "      <th>min</th>\n",
       "      <th>25%</th>\n",
       "      <th>50%</th>\n",
       "      <th>75%</th>\n",
       "      <th>max</th>\n",
       "    </tr>\n",
       "  </thead>\n",
       "  <tbody>\n",
       "    <tr>\n",
       "      <th>index</th>\n",
       "      <td>5000.0</td>\n",
       "      <td>2499.500000</td>\n",
       "      <td>1443.520003</td>\n",
       "      <td>0.000000</td>\n",
       "      <td>1249.750000</td>\n",
       "      <td>2499.500000</td>\n",
       "      <td>3749.250000</td>\n",
       "      <td>4999.000000</td>\n",
       "    </tr>\n",
       "    <tr>\n",
       "      <th>Order</th>\n",
       "      <td>5000.0</td>\n",
       "      <td>1257.577600</td>\n",
       "      <td>841.390232</td>\n",
       "      <td>27.000000</td>\n",
       "      <td>632.000000</td>\n",
       "      <td>1097.000000</td>\n",
       "      <td>2163.000000</td>\n",
       "      <td>2902.000000</td>\n",
       "    </tr>\n",
       "    <tr>\n",
       "      <th>MS SubClass</th>\n",
       "      <td>5000.0</td>\n",
       "      <td>47.980000</td>\n",
       "      <td>39.601556</td>\n",
       "      <td>20.000000</td>\n",
       "      <td>20.000000</td>\n",
       "      <td>20.000000</td>\n",
       "      <td>60.000000</td>\n",
       "      <td>190.000000</td>\n",
       "    </tr>\n",
       "    <tr>\n",
       "      <th>Lot Area</th>\n",
       "      <td>5000.0</td>\n",
       "      <td>7590.895200</td>\n",
       "      <td>2531.943858</td>\n",
       "      <td>1680.000000</td>\n",
       "      <td>6000.000000</td>\n",
       "      <td>8400.000000</td>\n",
       "      <td>9600.000000</td>\n",
       "      <td>31250.000000</td>\n",
       "    </tr>\n",
       "    <tr>\n",
       "      <th>Overall Qual</th>\n",
       "      <td>5000.0</td>\n",
       "      <td>5.813000</td>\n",
       "      <td>1.069701</td>\n",
       "      <td>4.000000</td>\n",
       "      <td>5.000000</td>\n",
       "      <td>6.000000</td>\n",
       "      <td>6.000000</td>\n",
       "      <td>9.000000</td>\n",
       "    </tr>\n",
       "    <tr>\n",
       "      <th>Overall Cond</th>\n",
       "      <td>5000.0</td>\n",
       "      <td>5.109200</td>\n",
       "      <td>0.445550</td>\n",
       "      <td>3.000000</td>\n",
       "      <td>5.000000</td>\n",
       "      <td>5.000000</td>\n",
       "      <td>5.000000</td>\n",
       "      <td>8.000000</td>\n",
       "    </tr>\n",
       "    <tr>\n",
       "      <th>Year Built</th>\n",
       "      <td>5000.0</td>\n",
       "      <td>1979.470400</td>\n",
       "      <td>25.688665</td>\n",
       "      <td>1900.000000</td>\n",
       "      <td>1963.000000</td>\n",
       "      <td>1976.000000</td>\n",
       "      <td>2005.000000</td>\n",
       "      <td>2009.000000</td>\n",
       "    </tr>\n",
       "    <tr>\n",
       "      <th>Year Remod/Add</th>\n",
       "      <td>5000.0</td>\n",
       "      <td>1976.316200</td>\n",
       "      <td>26.966536</td>\n",
       "      <td>1950.000000</td>\n",
       "      <td>1950.000000</td>\n",
       "      <td>1967.000000</td>\n",
       "      <td>2006.000000</td>\n",
       "      <td>2009.000000</td>\n",
       "    </tr>\n",
       "    <tr>\n",
       "      <th>BsmtFin SF 1</th>\n",
       "      <td>5000.0</td>\n",
       "      <td>514.828904</td>\n",
       "      <td>436.353162</td>\n",
       "      <td>0.000298</td>\n",
       "      <td>0.001212</td>\n",
       "      <td>554.619249</td>\n",
       "      <td>591.008914</td>\n",
       "      <td>1730.948885</td>\n",
       "    </tr>\n",
       "    <tr>\n",
       "      <th>BsmtFin SF 2</th>\n",
       "      <td>5000.0</td>\n",
       "      <td>1.839340</td>\n",
       "      <td>25.795804</td>\n",
       "      <td>-0.001880</td>\n",
       "      <td>-0.001247</td>\n",
       "      <td>-0.001227</td>\n",
       "      <td>-0.001214</td>\n",
       "      <td>438.898861</td>\n",
       "    </tr>\n",
       "    <tr>\n",
       "      <th>Bsmt Unf SF</th>\n",
       "      <td>5000.0</td>\n",
       "      <td>670.073852</td>\n",
       "      <td>494.605493</td>\n",
       "      <td>31.786941</td>\n",
       "      <td>461.703465</td>\n",
       "      <td>490.020887</td>\n",
       "      <td>817.830668</td>\n",
       "      <td>1874.002549</td>\n",
       "    </tr>\n",
       "    <tr>\n",
       "      <th>Total Bsmt SF</th>\n",
       "      <td>5000.0</td>\n",
       "      <td>770.595201</td>\n",
       "      <td>323.339024</td>\n",
       "      <td>-192.151721</td>\n",
       "      <td>587.141002</td>\n",
       "      <td>621.809285</td>\n",
       "      <td>1161.975931</td>\n",
       "      <td>1586.250299</td>\n",
       "    </tr>\n",
       "    <tr>\n",
       "      <th>1st Flr SF</th>\n",
       "      <td>5000.0</td>\n",
       "      <td>959.658600</td>\n",
       "      <td>274.529731</td>\n",
       "      <td>483.000000</td>\n",
       "      <td>864.000000</td>\n",
       "      <td>864.000000</td>\n",
       "      <td>941.000000</td>\n",
       "      <td>2362.000000</td>\n",
       "    </tr>\n",
       "    <tr>\n",
       "      <th>2nd Flr SF</th>\n",
       "      <td>5000.0</td>\n",
       "      <td>1.157800</td>\n",
       "      <td>25.980622</td>\n",
       "      <td>0.000000</td>\n",
       "      <td>0.000000</td>\n",
       "      <td>0.000000</td>\n",
       "      <td>0.000000</td>\n",
       "      <td>683.000000</td>\n",
       "    </tr>\n",
       "    <tr>\n",
       "      <th>Gr Liv Area</th>\n",
       "      <td>5000.0</td>\n",
       "      <td>1306.860400</td>\n",
       "      <td>452.424804</td>\n",
       "      <td>800.000000</td>\n",
       "      <td>912.000000</td>\n",
       "      <td>1092.000000</td>\n",
       "      <td>1646.000000</td>\n",
       "      <td>2784.000000</td>\n",
       "    </tr>\n",
       "    <tr>\n",
       "      <th>Bsmt Full Bath</th>\n",
       "      <td>5000.0</td>\n",
       "      <td>0.381999</td>\n",
       "      <td>0.485435</td>\n",
       "      <td>0.001984</td>\n",
       "      <td>0.002000</td>\n",
       "      <td>0.002000</td>\n",
       "      <td>1.001999</td>\n",
       "      <td>1.002000</td>\n",
       "    </tr>\n",
       "    <tr>\n",
       "      <th>Bsmt Half Bath</th>\n",
       "      <td>5000.0</td>\n",
       "      <td>-0.000599</td>\n",
       "      <td>0.037394</td>\n",
       "      <td>-0.002000</td>\n",
       "      <td>-0.001999</td>\n",
       "      <td>-0.001999</td>\n",
       "      <td>-0.001999</td>\n",
       "      <td>0.998001</td>\n",
       "    </tr>\n",
       "    <tr>\n",
       "      <th>Full Bath</th>\n",
       "      <td>5000.0</td>\n",
       "      <td>1.696000</td>\n",
       "      <td>0.460029</td>\n",
       "      <td>1.000000</td>\n",
       "      <td>1.000000</td>\n",
       "      <td>2.000000</td>\n",
       "      <td>2.000000</td>\n",
       "      <td>2.000000</td>\n",
       "    </tr>\n",
       "    <tr>\n",
       "      <th>Half Bath</th>\n",
       "      <td>5000.0</td>\n",
       "      <td>0.181600</td>\n",
       "      <td>0.385553</td>\n",
       "      <td>0.000000</td>\n",
       "      <td>0.000000</td>\n",
       "      <td>0.000000</td>\n",
       "      <td>0.000000</td>\n",
       "      <td>1.000000</td>\n",
       "    </tr>\n",
       "    <tr>\n",
       "      <th>Bedroom AbvGr</th>\n",
       "      <td>5000.0</td>\n",
       "      <td>2.946200</td>\n",
       "      <td>0.330041</td>\n",
       "      <td>1.000000</td>\n",
       "      <td>3.000000</td>\n",
       "      <td>3.000000</td>\n",
       "      <td>3.000000</td>\n",
       "      <td>4.000000</td>\n",
       "    </tr>\n",
       "    <tr>\n",
       "      <th>Kitchen AbvGr</th>\n",
       "      <td>5000.0</td>\n",
       "      <td>1.001000</td>\n",
       "      <td>0.031610</td>\n",
       "      <td>1.000000</td>\n",
       "      <td>1.000000</td>\n",
       "      <td>1.000000</td>\n",
       "      <td>1.000000</td>\n",
       "      <td>2.000000</td>\n",
       "    </tr>\n",
       "    <tr>\n",
       "      <th>TotRms AbvGrd</th>\n",
       "      <td>5000.0</td>\n",
       "      <td>6.061600</td>\n",
       "      <td>0.977751</td>\n",
       "      <td>4.000000</td>\n",
       "      <td>5.000000</td>\n",
       "      <td>6.000000</td>\n",
       "      <td>7.000000</td>\n",
       "      <td>10.000000</td>\n",
       "    </tr>\n",
       "    <tr>\n",
       "      <th>Fireplaces</th>\n",
       "      <td>5000.0</td>\n",
       "      <td>0.413800</td>\n",
       "      <td>0.497814</td>\n",
       "      <td>0.000000</td>\n",
       "      <td>0.000000</td>\n",
       "      <td>0.000000</td>\n",
       "      <td>1.000000</td>\n",
       "      <td>2.000000</td>\n",
       "    </tr>\n",
       "    <tr>\n",
       "      <th>Garage Cars</th>\n",
       "      <td>5000.0</td>\n",
       "      <td>1.808604</td>\n",
       "      <td>0.663036</td>\n",
       "      <td>-0.001999</td>\n",
       "      <td>1.998001</td>\n",
       "      <td>1.998003</td>\n",
       "      <td>1.998004</td>\n",
       "      <td>2.998023</td>\n",
       "    </tr>\n",
       "    <tr>\n",
       "      <th>Garage Area</th>\n",
       "      <td>5000.0</td>\n",
       "      <td>355.575661</td>\n",
       "      <td>139.725770</td>\n",
       "      <td>-0.001881</td>\n",
       "      <td>367.139122</td>\n",
       "      <td>379.287006</td>\n",
       "      <td>392.896238</td>\n",
       "      <td>946.476892</td>\n",
       "    </tr>\n",
       "    <tr>\n",
       "      <th>Wood Deck SF</th>\n",
       "      <td>5000.0</td>\n",
       "      <td>0.180000</td>\n",
       "      <td>4.239245</td>\n",
       "      <td>0.000000</td>\n",
       "      <td>0.000000</td>\n",
       "      <td>0.000000</td>\n",
       "      <td>0.000000</td>\n",
       "      <td>100.000000</td>\n",
       "    </tr>\n",
       "    <tr>\n",
       "      <th>Open Porch SF</th>\n",
       "      <td>5000.0</td>\n",
       "      <td>0.148800</td>\n",
       "      <td>2.632422</td>\n",
       "      <td>0.000000</td>\n",
       "      <td>0.000000</td>\n",
       "      <td>0.000000</td>\n",
       "      <td>0.000000</td>\n",
       "      <td>48.000000</td>\n",
       "    </tr>\n",
       "    <tr>\n",
       "      <th>Mo Sold</th>\n",
       "      <td>5000.0</td>\n",
       "      <td>6.402000</td>\n",
       "      <td>1.255034</td>\n",
       "      <td>1.000000</td>\n",
       "      <td>6.000000</td>\n",
       "      <td>6.000000</td>\n",
       "      <td>7.000000</td>\n",
       "      <td>12.000000</td>\n",
       "    </tr>\n",
       "    <tr>\n",
       "      <th>Yr Sold</th>\n",
       "      <td>5000.0</td>\n",
       "      <td>2007.234600</td>\n",
       "      <td>1.056876</td>\n",
       "      <td>2006.000000</td>\n",
       "      <td>2006.000000</td>\n",
       "      <td>2007.000000</td>\n",
       "      <td>2008.000000</td>\n",
       "      <td>2010.000000</td>\n",
       "    </tr>\n",
       "    <tr>\n",
       "      <th>SalePrice</th>\n",
       "      <td>3000.0</td>\n",
       "      <td>150288.542000</td>\n",
       "      <td>31054.043412</td>\n",
       "      <td>80000.000000</td>\n",
       "      <td>139000.000000</td>\n",
       "      <td>145000.000000</td>\n",
       "      <td>158000.000000</td>\n",
       "      <td>418000.000000</td>\n",
       "    </tr>\n",
       "  </tbody>\n",
       "</table>\n",
       "</div>"
      ],
      "text/plain": [
       "                 count           mean           std           min  \\\n",
       "index           5000.0    2499.500000   1443.520003      0.000000   \n",
       "Order           5000.0    1257.577600    841.390232     27.000000   \n",
       "MS SubClass     5000.0      47.980000     39.601556     20.000000   \n",
       "Lot Area        5000.0    7590.895200   2531.943858   1680.000000   \n",
       "Overall Qual    5000.0       5.813000      1.069701      4.000000   \n",
       "Overall Cond    5000.0       5.109200      0.445550      3.000000   \n",
       "Year Built      5000.0    1979.470400     25.688665   1900.000000   \n",
       "Year Remod/Add  5000.0    1976.316200     26.966536   1950.000000   \n",
       "BsmtFin SF 1    5000.0     514.828904    436.353162      0.000298   \n",
       "BsmtFin SF 2    5000.0       1.839340     25.795804     -0.001880   \n",
       "Bsmt Unf SF     5000.0     670.073852    494.605493     31.786941   \n",
       "Total Bsmt SF   5000.0     770.595201    323.339024   -192.151721   \n",
       "1st Flr SF      5000.0     959.658600    274.529731    483.000000   \n",
       "2nd Flr SF      5000.0       1.157800     25.980622      0.000000   \n",
       "Gr Liv Area     5000.0    1306.860400    452.424804    800.000000   \n",
       "Bsmt Full Bath  5000.0       0.381999      0.485435      0.001984   \n",
       "Bsmt Half Bath  5000.0      -0.000599      0.037394     -0.002000   \n",
       "Full Bath       5000.0       1.696000      0.460029      1.000000   \n",
       "Half Bath       5000.0       0.181600      0.385553      0.000000   \n",
       "Bedroom AbvGr   5000.0       2.946200      0.330041      1.000000   \n",
       "Kitchen AbvGr   5000.0       1.001000      0.031610      1.000000   \n",
       "TotRms AbvGrd   5000.0       6.061600      0.977751      4.000000   \n",
       "Fireplaces      5000.0       0.413800      0.497814      0.000000   \n",
       "Garage Cars     5000.0       1.808604      0.663036     -0.001999   \n",
       "Garage Area     5000.0     355.575661    139.725770     -0.001881   \n",
       "Wood Deck SF    5000.0       0.180000      4.239245      0.000000   \n",
       "Open Porch SF   5000.0       0.148800      2.632422      0.000000   \n",
       "Mo Sold         5000.0       6.402000      1.255034      1.000000   \n",
       "Yr Sold         5000.0    2007.234600      1.056876   2006.000000   \n",
       "SalePrice       3000.0  150288.542000  31054.043412  80000.000000   \n",
       "\n",
       "                          25%            50%            75%            max  \n",
       "index             1249.750000    2499.500000    3749.250000    4999.000000  \n",
       "Order              632.000000    1097.000000    2163.000000    2902.000000  \n",
       "MS SubClass         20.000000      20.000000      60.000000     190.000000  \n",
       "Lot Area          6000.000000    8400.000000    9600.000000   31250.000000  \n",
       "Overall Qual         5.000000       6.000000       6.000000       9.000000  \n",
       "Overall Cond         5.000000       5.000000       5.000000       8.000000  \n",
       "Year Built        1963.000000    1976.000000    2005.000000    2009.000000  \n",
       "Year Remod/Add    1950.000000    1967.000000    2006.000000    2009.000000  \n",
       "BsmtFin SF 1         0.001212     554.619249     591.008914    1730.948885  \n",
       "BsmtFin SF 2        -0.001247      -0.001227      -0.001214     438.898861  \n",
       "Bsmt Unf SF        461.703465     490.020887     817.830668    1874.002549  \n",
       "Total Bsmt SF      587.141002     621.809285    1161.975931    1586.250299  \n",
       "1st Flr SF         864.000000     864.000000     941.000000    2362.000000  \n",
       "2nd Flr SF           0.000000       0.000000       0.000000     683.000000  \n",
       "Gr Liv Area        912.000000    1092.000000    1646.000000    2784.000000  \n",
       "Bsmt Full Bath       0.002000       0.002000       1.001999       1.002000  \n",
       "Bsmt Half Bath      -0.001999      -0.001999      -0.001999       0.998001  \n",
       "Full Bath            1.000000       2.000000       2.000000       2.000000  \n",
       "Half Bath            0.000000       0.000000       0.000000       1.000000  \n",
       "Bedroom AbvGr        3.000000       3.000000       3.000000       4.000000  \n",
       "Kitchen AbvGr        1.000000       1.000000       1.000000       2.000000  \n",
       "TotRms AbvGrd        5.000000       6.000000       7.000000      10.000000  \n",
       "Fireplaces           0.000000       0.000000       1.000000       2.000000  \n",
       "Garage Cars          1.998001       1.998003       1.998004       2.998023  \n",
       "Garage Area        367.139122     379.287006     392.896238     946.476892  \n",
       "Wood Deck SF         0.000000       0.000000       0.000000     100.000000  \n",
       "Open Porch SF        0.000000       0.000000       0.000000      48.000000  \n",
       "Mo Sold              6.000000       6.000000       7.000000      12.000000  \n",
       "Yr Sold           2006.000000    2007.000000    2008.000000    2010.000000  \n",
       "SalePrice       139000.000000  145000.000000  158000.000000  418000.000000  "
      ]
     },
     "execution_count": 60,
     "metadata": {},
     "output_type": "execute_result"
    }
   ],
   "source": [
    "all_df.describe().T"
   ]
  },
  {
   "cell_type": "markdown",
   "metadata": {},
   "source": [
    "#### 数値データのみを抜き出す"
   ]
  },
  {
   "cell_type": "markdown",
   "metadata": {},
   "source": [
    "リスト4.41　数値データのみの抜き出し"
   ]
  },
  {
   "cell_type": "code",
   "execution_count": 61,
   "metadata": {},
   "outputs": [],
   "source": [
    "train_df_num = train_df.select_dtypes(include=[np.number])"
   ]
  },
  {
   "cell_type": "markdown",
   "metadata": {},
   "source": [
    "リスト4.42　比例尺度ではない変数"
   ]
  },
  {
   "cell_type": "markdown",
   "metadata": {},
   "source": [
    "リスト4.43　数値データからリスト4.43の変数を除いた比例尺度データ"
   ]
  },
  {
   "cell_type": "markdown",
   "metadata": {},
   "source": [
    "リスト4.44　比例尺度の列のみを抜き出す"
   ]
  },
  {
   "cell_type": "markdown",
   "metadata": {},
   "source": [
    "#### 多数のデータが0（ゼロ）の値である変数を確認する"
   ]
  },
  {
   "cell_type": "markdown",
   "metadata": {},
   "source": [
    "リスト4.45　3/4分位数が0となる変数を確認"
   ]
  },
  {
   "cell_type": "markdown",
   "metadata": {},
   "source": [
    "#### ある特定の値のみを持つ変数を確認する"
   ]
  },
  {
   "cell_type": "markdown",
   "metadata": {},
   "source": [
    "リスト4.46　ある特定の値のみしかとらないものを確認"
   ]
  },
  {
   "cell_type": "markdown",
   "metadata": {},
   "source": [
    "#### 外れ値があるか確認する"
   ]
  },
  {
   "cell_type": "markdown",
   "metadata": {},
   "source": [
    "リスト4.47　外れ値があるか確認"
   ]
  },
  {
   "cell_type": "markdown",
   "metadata": {},
   "source": [
    "#### 外れ値を含む変数の分布を可視化する"
   ]
  },
  {
   "cell_type": "markdown",
   "metadata": {},
   "source": [
    "リスト4.48　BsmtFinSF1とSalePriceの分布を可視化"
   ]
  },
  {
   "cell_type": "code",
   "execution_count": 68,
   "metadata": {},
   "outputs": [
    {
     "ename": "KeyError",
     "evalue": "'BsmtFinSF1'",
     "output_type": "error",
     "traceback": [
      "\u001b[0;31m---------------------------------------------------------------------------\u001b[0m",
      "\u001b[0;31mKeyError\u001b[0m                                  Traceback (most recent call last)",
      "\u001b[0;32m~/anaconda3/lib/python3.7/site-packages/pandas/core/indexes/base.py\u001b[0m in \u001b[0;36mget_loc\u001b[0;34m(self, key, method, tolerance)\u001b[0m\n\u001b[1;32m   2890\u001b[0m             \u001b[0;32mtry\u001b[0m\u001b[0;34m:\u001b[0m\u001b[0;34m\u001b[0m\u001b[0;34m\u001b[0m\u001b[0m\n\u001b[0;32m-> 2891\u001b[0;31m                 \u001b[0;32mreturn\u001b[0m \u001b[0mself\u001b[0m\u001b[0;34m.\u001b[0m\u001b[0m_engine\u001b[0m\u001b[0;34m.\u001b[0m\u001b[0mget_loc\u001b[0m\u001b[0;34m(\u001b[0m\u001b[0mcasted_key\u001b[0m\u001b[0;34m)\u001b[0m\u001b[0;34m\u001b[0m\u001b[0;34m\u001b[0m\u001b[0m\n\u001b[0m\u001b[1;32m   2892\u001b[0m             \u001b[0;32mexcept\u001b[0m \u001b[0mKeyError\u001b[0m \u001b[0;32mas\u001b[0m \u001b[0merr\u001b[0m\u001b[0;34m:\u001b[0m\u001b[0;34m\u001b[0m\u001b[0;34m\u001b[0m\u001b[0m\n",
      "\u001b[0;32mpandas/_libs/index.pyx\u001b[0m in \u001b[0;36mpandas._libs.index.IndexEngine.get_loc\u001b[0;34m()\u001b[0m\n",
      "\u001b[0;32mpandas/_libs/index.pyx\u001b[0m in \u001b[0;36mpandas._libs.index.IndexEngine.get_loc\u001b[0;34m()\u001b[0m\n",
      "\u001b[0;32mpandas/_libs/hashtable_class_helper.pxi\u001b[0m in \u001b[0;36mpandas._libs.hashtable.PyObjectHashTable.get_item\u001b[0;34m()\u001b[0m\n",
      "\u001b[0;32mpandas/_libs/hashtable_class_helper.pxi\u001b[0m in \u001b[0;36mpandas._libs.hashtable.PyObjectHashTable.get_item\u001b[0;34m()\u001b[0m\n",
      "\u001b[0;31mKeyError\u001b[0m: 'BsmtFinSF1'",
      "\nThe above exception was the direct cause of the following exception:\n",
      "\u001b[0;31mKeyError\u001b[0m                                  Traceback (most recent call last)",
      "\u001b[0;32m<ipython-input-68-7e4da3d7c824>\u001b[0m in \u001b[0;36m<module>\u001b[0;34m\u001b[0m\n\u001b[0;32m----> 1\u001b[0;31m \u001b[0mall_df\u001b[0m\u001b[0;34m.\u001b[0m\u001b[0mplot\u001b[0m\u001b[0;34m.\u001b[0m\u001b[0mscatter\u001b[0m\u001b[0;34m(\u001b[0m\u001b[0mx\u001b[0m\u001b[0;34m=\u001b[0m\u001b[0;34m\"BsmtFinSF1\"\u001b[0m\u001b[0;34m,\u001b[0m \u001b[0my\u001b[0m\u001b[0;34m=\u001b[0m\u001b[0;34m\"SalePrice\"\u001b[0m\u001b[0;34m)\u001b[0m\u001b[0;34m\u001b[0m\u001b[0;34m\u001b[0m\u001b[0m\n\u001b[0m",
      "\u001b[0;32m~/anaconda3/lib/python3.7/site-packages/pandas/plotting/_core.py\u001b[0m in \u001b[0;36mscatter\u001b[0;34m(self, x, y, s, c, **kwargs)\u001b[0m\n\u001b[1;32m   1611\u001b[0m             ...                       colormap='viridis')\n\u001b[1;32m   1612\u001b[0m         \"\"\"\n\u001b[0;32m-> 1613\u001b[0;31m         \u001b[0;32mreturn\u001b[0m \u001b[0mself\u001b[0m\u001b[0;34m(\u001b[0m\u001b[0mkind\u001b[0m\u001b[0;34m=\u001b[0m\u001b[0;34m\"scatter\"\u001b[0m\u001b[0;34m,\u001b[0m \u001b[0mx\u001b[0m\u001b[0;34m=\u001b[0m\u001b[0mx\u001b[0m\u001b[0;34m,\u001b[0m \u001b[0my\u001b[0m\u001b[0;34m=\u001b[0m\u001b[0my\u001b[0m\u001b[0;34m,\u001b[0m \u001b[0ms\u001b[0m\u001b[0;34m=\u001b[0m\u001b[0ms\u001b[0m\u001b[0;34m,\u001b[0m \u001b[0mc\u001b[0m\u001b[0;34m=\u001b[0m\u001b[0mc\u001b[0m\u001b[0;34m,\u001b[0m \u001b[0;34m**\u001b[0m\u001b[0mkwargs\u001b[0m\u001b[0;34m)\u001b[0m\u001b[0;34m\u001b[0m\u001b[0;34m\u001b[0m\u001b[0m\n\u001b[0m\u001b[1;32m   1614\u001b[0m \u001b[0;34m\u001b[0m\u001b[0m\n\u001b[1;32m   1615\u001b[0m     \u001b[0;32mdef\u001b[0m \u001b[0mhexbin\u001b[0m\u001b[0;34m(\u001b[0m\u001b[0mself\u001b[0m\u001b[0;34m,\u001b[0m \u001b[0mx\u001b[0m\u001b[0;34m,\u001b[0m \u001b[0my\u001b[0m\u001b[0;34m,\u001b[0m \u001b[0mC\u001b[0m\u001b[0;34m=\u001b[0m\u001b[0;32mNone\u001b[0m\u001b[0;34m,\u001b[0m \u001b[0mreduce_C_function\u001b[0m\u001b[0;34m=\u001b[0m\u001b[0;32mNone\u001b[0m\u001b[0;34m,\u001b[0m \u001b[0mgridsize\u001b[0m\u001b[0;34m=\u001b[0m\u001b[0;32mNone\u001b[0m\u001b[0;34m,\u001b[0m \u001b[0;34m**\u001b[0m\u001b[0mkwargs\u001b[0m\u001b[0;34m)\u001b[0m\u001b[0;34m:\u001b[0m\u001b[0;34m\u001b[0m\u001b[0;34m\u001b[0m\u001b[0m\n",
      "\u001b[0;32m~/anaconda3/lib/python3.7/site-packages/pandas/plotting/_core.py\u001b[0m in \u001b[0;36m__call__\u001b[0;34m(self, *args, **kwargs)\u001b[0m\n\u001b[1;32m    892\u001b[0m         \u001b[0;32mif\u001b[0m \u001b[0mkind\u001b[0m \u001b[0;32min\u001b[0m \u001b[0mself\u001b[0m\u001b[0;34m.\u001b[0m\u001b[0m_dataframe_kinds\u001b[0m\u001b[0;34m:\u001b[0m\u001b[0;34m\u001b[0m\u001b[0;34m\u001b[0m\u001b[0m\n\u001b[1;32m    893\u001b[0m             \u001b[0;32mif\u001b[0m \u001b[0misinstance\u001b[0m\u001b[0;34m(\u001b[0m\u001b[0mdata\u001b[0m\u001b[0;34m,\u001b[0m \u001b[0mABCDataFrame\u001b[0m\u001b[0;34m)\u001b[0m\u001b[0;34m:\u001b[0m\u001b[0;34m\u001b[0m\u001b[0;34m\u001b[0m\u001b[0m\n\u001b[0;32m--> 894\u001b[0;31m                 \u001b[0;32mreturn\u001b[0m \u001b[0mplot_backend\u001b[0m\u001b[0;34m.\u001b[0m\u001b[0mplot\u001b[0m\u001b[0;34m(\u001b[0m\u001b[0mdata\u001b[0m\u001b[0;34m,\u001b[0m \u001b[0mx\u001b[0m\u001b[0;34m=\u001b[0m\u001b[0mx\u001b[0m\u001b[0;34m,\u001b[0m \u001b[0my\u001b[0m\u001b[0;34m=\u001b[0m\u001b[0my\u001b[0m\u001b[0;34m,\u001b[0m \u001b[0mkind\u001b[0m\u001b[0;34m=\u001b[0m\u001b[0mkind\u001b[0m\u001b[0;34m,\u001b[0m \u001b[0;34m**\u001b[0m\u001b[0mkwargs\u001b[0m\u001b[0;34m)\u001b[0m\u001b[0;34m\u001b[0m\u001b[0;34m\u001b[0m\u001b[0m\n\u001b[0m\u001b[1;32m    895\u001b[0m             \u001b[0;32melse\u001b[0m\u001b[0;34m:\u001b[0m\u001b[0;34m\u001b[0m\u001b[0;34m\u001b[0m\u001b[0m\n\u001b[1;32m    896\u001b[0m                 \u001b[0;32mraise\u001b[0m \u001b[0mValueError\u001b[0m\u001b[0;34m(\u001b[0m\u001b[0;34mf\"plot kind {kind} can only be used for data frames\"\u001b[0m\u001b[0;34m)\u001b[0m\u001b[0;34m\u001b[0m\u001b[0;34m\u001b[0m\u001b[0m\n",
      "\u001b[0;32m~/anaconda3/lib/python3.7/site-packages/pandas/plotting/_matplotlib/__init__.py\u001b[0m in \u001b[0;36mplot\u001b[0;34m(data, kind, **kwargs)\u001b[0m\n\u001b[1;32m     59\u001b[0m             \u001b[0mkwargs\u001b[0m\u001b[0;34m[\u001b[0m\u001b[0;34m\"ax\"\u001b[0m\u001b[0;34m]\u001b[0m \u001b[0;34m=\u001b[0m \u001b[0mgetattr\u001b[0m\u001b[0;34m(\u001b[0m\u001b[0max\u001b[0m\u001b[0;34m,\u001b[0m \u001b[0;34m\"left_ax\"\u001b[0m\u001b[0;34m,\u001b[0m \u001b[0max\u001b[0m\u001b[0;34m)\u001b[0m\u001b[0;34m\u001b[0m\u001b[0;34m\u001b[0m\u001b[0m\n\u001b[1;32m     60\u001b[0m     \u001b[0mplot_obj\u001b[0m \u001b[0;34m=\u001b[0m \u001b[0mPLOT_CLASSES\u001b[0m\u001b[0;34m[\u001b[0m\u001b[0mkind\u001b[0m\u001b[0;34m]\u001b[0m\u001b[0;34m(\u001b[0m\u001b[0mdata\u001b[0m\u001b[0;34m,\u001b[0m \u001b[0;34m**\u001b[0m\u001b[0mkwargs\u001b[0m\u001b[0;34m)\u001b[0m\u001b[0;34m\u001b[0m\u001b[0;34m\u001b[0m\u001b[0m\n\u001b[0;32m---> 61\u001b[0;31m     \u001b[0mplot_obj\u001b[0m\u001b[0;34m.\u001b[0m\u001b[0mgenerate\u001b[0m\u001b[0;34m(\u001b[0m\u001b[0;34m)\u001b[0m\u001b[0;34m\u001b[0m\u001b[0;34m\u001b[0m\u001b[0m\n\u001b[0m\u001b[1;32m     62\u001b[0m     \u001b[0mplot_obj\u001b[0m\u001b[0;34m.\u001b[0m\u001b[0mdraw\u001b[0m\u001b[0;34m(\u001b[0m\u001b[0;34m)\u001b[0m\u001b[0;34m\u001b[0m\u001b[0;34m\u001b[0m\u001b[0m\n\u001b[1;32m     63\u001b[0m     \u001b[0;32mreturn\u001b[0m \u001b[0mplot_obj\u001b[0m\u001b[0;34m.\u001b[0m\u001b[0mresult\u001b[0m\u001b[0;34m\u001b[0m\u001b[0;34m\u001b[0m\u001b[0m\n",
      "\u001b[0;32m~/anaconda3/lib/python3.7/site-packages/pandas/plotting/_matplotlib/core.py\u001b[0m in \u001b[0;36mgenerate\u001b[0;34m(self)\u001b[0m\n\u001b[1;32m    269\u001b[0m         \u001b[0mself\u001b[0m\u001b[0;34m.\u001b[0m\u001b[0m_compute_plot_data\u001b[0m\u001b[0;34m(\u001b[0m\u001b[0;34m)\u001b[0m\u001b[0;34m\u001b[0m\u001b[0;34m\u001b[0m\u001b[0m\n\u001b[1;32m    270\u001b[0m         \u001b[0mself\u001b[0m\u001b[0;34m.\u001b[0m\u001b[0m_setup_subplots\u001b[0m\u001b[0;34m(\u001b[0m\u001b[0;34m)\u001b[0m\u001b[0;34m\u001b[0m\u001b[0;34m\u001b[0m\u001b[0m\n\u001b[0;32m--> 271\u001b[0;31m         \u001b[0mself\u001b[0m\u001b[0;34m.\u001b[0m\u001b[0m_make_plot\u001b[0m\u001b[0;34m(\u001b[0m\u001b[0;34m)\u001b[0m\u001b[0;34m\u001b[0m\u001b[0;34m\u001b[0m\u001b[0m\n\u001b[0m\u001b[1;32m    272\u001b[0m         \u001b[0mself\u001b[0m\u001b[0;34m.\u001b[0m\u001b[0m_add_table\u001b[0m\u001b[0;34m(\u001b[0m\u001b[0;34m)\u001b[0m\u001b[0;34m\u001b[0m\u001b[0;34m\u001b[0m\u001b[0m\n\u001b[1;32m    273\u001b[0m         \u001b[0mself\u001b[0m\u001b[0;34m.\u001b[0m\u001b[0m_make_legend\u001b[0m\u001b[0;34m(\u001b[0m\u001b[0;34m)\u001b[0m\u001b[0;34m\u001b[0m\u001b[0;34m\u001b[0m\u001b[0m\n",
      "\u001b[0;32m~/anaconda3/lib/python3.7/site-packages/pandas/plotting/_matplotlib/core.py\u001b[0m in \u001b[0;36m_make_plot\u001b[0;34m(self)\u001b[0m\n\u001b[1;32m   1009\u001b[0m             \u001b[0mlabel\u001b[0m \u001b[0;34m=\u001b[0m \u001b[0;32mNone\u001b[0m\u001b[0;34m\u001b[0m\u001b[0;34m\u001b[0m\u001b[0m\n\u001b[1;32m   1010\u001b[0m         scatter = ax.scatter(\n\u001b[0;32m-> 1011\u001b[0;31m             \u001b[0mdata\u001b[0m\u001b[0;34m[\u001b[0m\u001b[0mx\u001b[0m\u001b[0;34m]\u001b[0m\u001b[0;34m.\u001b[0m\u001b[0mvalues\u001b[0m\u001b[0;34m,\u001b[0m\u001b[0;34m\u001b[0m\u001b[0;34m\u001b[0m\u001b[0m\n\u001b[0m\u001b[1;32m   1012\u001b[0m             \u001b[0mdata\u001b[0m\u001b[0;34m[\u001b[0m\u001b[0my\u001b[0m\u001b[0;34m]\u001b[0m\u001b[0;34m.\u001b[0m\u001b[0mvalues\u001b[0m\u001b[0;34m,\u001b[0m\u001b[0;34m\u001b[0m\u001b[0;34m\u001b[0m\u001b[0m\n\u001b[1;32m   1013\u001b[0m             \u001b[0mc\u001b[0m\u001b[0;34m=\u001b[0m\u001b[0mc_values\u001b[0m\u001b[0;34m,\u001b[0m\u001b[0;34m\u001b[0m\u001b[0;34m\u001b[0m\u001b[0m\n",
      "\u001b[0;32m~/anaconda3/lib/python3.7/site-packages/pandas/core/frame.py\u001b[0m in \u001b[0;36m__getitem__\u001b[0;34m(self, key)\u001b[0m\n\u001b[1;32m   2900\u001b[0m             \u001b[0;32mif\u001b[0m \u001b[0mself\u001b[0m\u001b[0;34m.\u001b[0m\u001b[0mcolumns\u001b[0m\u001b[0;34m.\u001b[0m\u001b[0mnlevels\u001b[0m \u001b[0;34m>\u001b[0m \u001b[0;36m1\u001b[0m\u001b[0;34m:\u001b[0m\u001b[0;34m\u001b[0m\u001b[0;34m\u001b[0m\u001b[0m\n\u001b[1;32m   2901\u001b[0m                 \u001b[0;32mreturn\u001b[0m \u001b[0mself\u001b[0m\u001b[0;34m.\u001b[0m\u001b[0m_getitem_multilevel\u001b[0m\u001b[0;34m(\u001b[0m\u001b[0mkey\u001b[0m\u001b[0;34m)\u001b[0m\u001b[0;34m\u001b[0m\u001b[0;34m\u001b[0m\u001b[0m\n\u001b[0;32m-> 2902\u001b[0;31m             \u001b[0mindexer\u001b[0m \u001b[0;34m=\u001b[0m \u001b[0mself\u001b[0m\u001b[0;34m.\u001b[0m\u001b[0mcolumns\u001b[0m\u001b[0;34m.\u001b[0m\u001b[0mget_loc\u001b[0m\u001b[0;34m(\u001b[0m\u001b[0mkey\u001b[0m\u001b[0;34m)\u001b[0m\u001b[0;34m\u001b[0m\u001b[0;34m\u001b[0m\u001b[0m\n\u001b[0m\u001b[1;32m   2903\u001b[0m             \u001b[0;32mif\u001b[0m \u001b[0mis_integer\u001b[0m\u001b[0;34m(\u001b[0m\u001b[0mindexer\u001b[0m\u001b[0;34m)\u001b[0m\u001b[0;34m:\u001b[0m\u001b[0;34m\u001b[0m\u001b[0;34m\u001b[0m\u001b[0m\n\u001b[1;32m   2904\u001b[0m                 \u001b[0mindexer\u001b[0m \u001b[0;34m=\u001b[0m \u001b[0;34m[\u001b[0m\u001b[0mindexer\u001b[0m\u001b[0;34m]\u001b[0m\u001b[0;34m\u001b[0m\u001b[0;34m\u001b[0m\u001b[0m\n",
      "\u001b[0;32m~/anaconda3/lib/python3.7/site-packages/pandas/core/indexes/base.py\u001b[0m in \u001b[0;36mget_loc\u001b[0;34m(self, key, method, tolerance)\u001b[0m\n\u001b[1;32m   2891\u001b[0m                 \u001b[0;32mreturn\u001b[0m \u001b[0mself\u001b[0m\u001b[0;34m.\u001b[0m\u001b[0m_engine\u001b[0m\u001b[0;34m.\u001b[0m\u001b[0mget_loc\u001b[0m\u001b[0;34m(\u001b[0m\u001b[0mcasted_key\u001b[0m\u001b[0;34m)\u001b[0m\u001b[0;34m\u001b[0m\u001b[0;34m\u001b[0m\u001b[0m\n\u001b[1;32m   2892\u001b[0m             \u001b[0;32mexcept\u001b[0m \u001b[0mKeyError\u001b[0m \u001b[0;32mas\u001b[0m \u001b[0merr\u001b[0m\u001b[0;34m:\u001b[0m\u001b[0;34m\u001b[0m\u001b[0;34m\u001b[0m\u001b[0m\n\u001b[0;32m-> 2893\u001b[0;31m                 \u001b[0;32mraise\u001b[0m \u001b[0mKeyError\u001b[0m\u001b[0;34m(\u001b[0m\u001b[0mkey\u001b[0m\u001b[0;34m)\u001b[0m \u001b[0;32mfrom\u001b[0m \u001b[0merr\u001b[0m\u001b[0;34m\u001b[0m\u001b[0;34m\u001b[0m\u001b[0m\n\u001b[0m\u001b[1;32m   2894\u001b[0m \u001b[0;34m\u001b[0m\u001b[0m\n\u001b[1;32m   2895\u001b[0m         \u001b[0;32mif\u001b[0m \u001b[0mtolerance\u001b[0m \u001b[0;32mis\u001b[0m \u001b[0;32mnot\u001b[0m \u001b[0;32mNone\u001b[0m\u001b[0;34m:\u001b[0m\u001b[0;34m\u001b[0m\u001b[0;34m\u001b[0m\u001b[0m\n",
      "\u001b[0;31mKeyError\u001b[0m: 'BsmtFinSF1'"
     ]
    },
    {
     "data": {
      "image/png": "[encoded data removed]",
      "text/plain": [
       "<Figure size 432x288 with 1 Axes>"
      ]
     },
     "metadata": {},
     "output_type": "display_data"
    }
   ],
   "source": [
    "all_df.plot.scatter(x=\"BsmtFinSF1\", y=\"SalePrice\")"
   ]
  },
  {
   "cell_type": "markdown",
   "metadata": {},
   "source": [
    "リスト4.49　BsmtFinSF1が広いもののSalePriceが高くないものを確認"
   ]
  },
  {
   "cell_type": "code",
   "execution_count": 69,
   "metadata": {},
   "outputs": [
    {
     "ename": "KeyError",
     "evalue": "'BsmtFinSF1'",
     "output_type": "error",
     "traceback": [
      "\u001b[0;31m---------------------------------------------------------------------------\u001b[0m",
      "\u001b[0;31mKeyError\u001b[0m                                  Traceback (most recent call last)",
      "\u001b[0;32m~/anaconda3/lib/python3.7/site-packages/pandas/core/indexes/base.py\u001b[0m in \u001b[0;36mget_loc\u001b[0;34m(self, key, method, tolerance)\u001b[0m\n\u001b[1;32m   2890\u001b[0m             \u001b[0;32mtry\u001b[0m\u001b[0;34m:\u001b[0m\u001b[0;34m\u001b[0m\u001b[0;34m\u001b[0m\u001b[0m\n\u001b[0;32m-> 2891\u001b[0;31m                 \u001b[0;32mreturn\u001b[0m \u001b[0mself\u001b[0m\u001b[0;34m.\u001b[0m\u001b[0m_engine\u001b[0m\u001b[0;34m.\u001b[0m\u001b[0mget_loc\u001b[0m\u001b[0;34m(\u001b[0m\u001b[0mcasted_key\u001b[0m\u001b[0;34m)\u001b[0m\u001b[0;34m\u001b[0m\u001b[0;34m\u001b[0m\u001b[0m\n\u001b[0m\u001b[1;32m   2892\u001b[0m             \u001b[0;32mexcept\u001b[0m \u001b[0mKeyError\u001b[0m \u001b[0;32mas\u001b[0m \u001b[0merr\u001b[0m\u001b[0;34m:\u001b[0m\u001b[0;34m\u001b[0m\u001b[0;34m\u001b[0m\u001b[0m\n",
      "\u001b[0;32mpandas/_libs/index.pyx\u001b[0m in \u001b[0;36mpandas._libs.index.IndexEngine.get_loc\u001b[0;34m()\u001b[0m\n",
      "\u001b[0;32mpandas/_libs/index.pyx\u001b[0m in \u001b[0;36mpandas._libs.index.IndexEngine.get_loc\u001b[0;34m()\u001b[0m\n",
      "\u001b[0;32mpandas/_libs/hashtable_class_helper.pxi\u001b[0m in \u001b[0;36mpandas._libs.hashtable.PyObjectHashTable.get_item\u001b[0;34m()\u001b[0m\n",
      "\u001b[0;32mpandas/_libs/hashtable_class_helper.pxi\u001b[0m in \u001b[0;36mpandas._libs.hashtable.PyObjectHashTable.get_item\u001b[0;34m()\u001b[0m\n",
      "\u001b[0;31mKeyError\u001b[0m: 'BsmtFinSF1'",
      "\nThe above exception was the direct cause of the following exception:\n",
      "\u001b[0;31mKeyError\u001b[0m                                  Traceback (most recent call last)",
      "\u001b[0;32m<ipython-input-69-9ba417e011fc>\u001b[0m in \u001b[0;36m<module>\u001b[0;34m\u001b[0m\n\u001b[0;32m----> 1\u001b[0;31m \u001b[0mall_df\u001b[0m\u001b[0;34m[\u001b[0m\u001b[0mall_df\u001b[0m\u001b[0;34m[\u001b[0m\u001b[0;34m\"BsmtFinSF1\"\u001b[0m\u001b[0;34m]\u001b[0m \u001b[0;34m>\u001b[0m \u001b[0;36m5000\u001b[0m\u001b[0;34m]\u001b[0m\u001b[0;34m\u001b[0m\u001b[0;34m\u001b[0m\u001b[0m\n\u001b[0m",
      "\u001b[0;32m~/anaconda3/lib/python3.7/site-packages/pandas/core/frame.py\u001b[0m in \u001b[0;36m__getitem__\u001b[0;34m(self, key)\u001b[0m\n\u001b[1;32m   2900\u001b[0m             \u001b[0;32mif\u001b[0m \u001b[0mself\u001b[0m\u001b[0;34m.\u001b[0m\u001b[0mcolumns\u001b[0m\u001b[0;34m.\u001b[0m\u001b[0mnlevels\u001b[0m \u001b[0;34m>\u001b[0m \u001b[0;36m1\u001b[0m\u001b[0;34m:\u001b[0m\u001b[0;34m\u001b[0m\u001b[0;34m\u001b[0m\u001b[0m\n\u001b[1;32m   2901\u001b[0m                 \u001b[0;32mreturn\u001b[0m \u001b[0mself\u001b[0m\u001b[0;34m.\u001b[0m\u001b[0m_getitem_multilevel\u001b[0m\u001b[0;34m(\u001b[0m\u001b[0mkey\u001b[0m\u001b[0;34m)\u001b[0m\u001b[0;34m\u001b[0m\u001b[0;34m\u001b[0m\u001b[0m\n\u001b[0;32m-> 2902\u001b[0;31m             \u001b[0mindexer\u001b[0m \u001b[0;34m=\u001b[0m \u001b[0mself\u001b[0m\u001b[0;34m.\u001b[0m\u001b[0mcolumns\u001b[0m\u001b[0;34m.\u001b[0m\u001b[0mget_loc\u001b[0m\u001b[0;34m(\u001b[0m\u001b[0mkey\u001b[0m\u001b[0;34m)\u001b[0m\u001b[0;34m\u001b[0m\u001b[0;34m\u001b[0m\u001b[0m\n\u001b[0m\u001b[1;32m   2903\u001b[0m             \u001b[0;32mif\u001b[0m \u001b[0mis_integer\u001b[0m\u001b[0;34m(\u001b[0m\u001b[0mindexer\u001b[0m\u001b[0;34m)\u001b[0m\u001b[0;34m:\u001b[0m\u001b[0;34m\u001b[0m\u001b[0;34m\u001b[0m\u001b[0m\n\u001b[1;32m   2904\u001b[0m                 \u001b[0mindexer\u001b[0m \u001b[0;34m=\u001b[0m \u001b[0;34m[\u001b[0m\u001b[0mindexer\u001b[0m\u001b[0;34m]\u001b[0m\u001b[0;34m\u001b[0m\u001b[0;34m\u001b[0m\u001b[0m\n",
      "\u001b[0;32m~/anaconda3/lib/python3.7/site-packages/pandas/core/indexes/base.py\u001b[0m in \u001b[0;36mget_loc\u001b[0;34m(self, key, method, tolerance)\u001b[0m\n\u001b[1;32m   2891\u001b[0m                 \u001b[0;32mreturn\u001b[0m \u001b[0mself\u001b[0m\u001b[0;34m.\u001b[0m\u001b[0m_engine\u001b[0m\u001b[0;34m.\u001b[0m\u001b[0mget_loc\u001b[0m\u001b[0;34m(\u001b[0m\u001b[0mcasted_key\u001b[0m\u001b[0;34m)\u001b[0m\u001b[0;34m\u001b[0m\u001b[0;34m\u001b[0m\u001b[0m\n\u001b[1;32m   2892\u001b[0m             \u001b[0;32mexcept\u001b[0m \u001b[0mKeyError\u001b[0m \u001b[0;32mas\u001b[0m \u001b[0merr\u001b[0m\u001b[0;34m:\u001b[0m\u001b[0;34m\u001b[0m\u001b[0;34m\u001b[0m\u001b[0m\n\u001b[0;32m-> 2893\u001b[0;31m                 \u001b[0;32mraise\u001b[0m \u001b[0mKeyError\u001b[0m\u001b[0;34m(\u001b[0m\u001b[0mkey\u001b[0m\u001b[0;34m)\u001b[0m \u001b[0;32mfrom\u001b[0m \u001b[0merr\u001b[0m\u001b[0;34m\u001b[0m\u001b[0;34m\u001b[0m\u001b[0m\n\u001b[0m\u001b[1;32m   2894\u001b[0m \u001b[0;34m\u001b[0m\u001b[0m\n\u001b[1;32m   2895\u001b[0m         \u001b[0;32mif\u001b[0m \u001b[0mtolerance\u001b[0m \u001b[0;32mis\u001b[0m \u001b[0;32mnot\u001b[0m \u001b[0;32mNone\u001b[0m\u001b[0;34m:\u001b[0m\u001b[0;34m\u001b[0m\u001b[0;34m\u001b[0m\u001b[0m\n",
      "\u001b[0;31mKeyError\u001b[0m: 'BsmtFinSF1'"
     ]
    }
   ],
   "source": [
    "all_df[all_df[\"BsmtFinSF1\"] > 5000]"
   ]
  },
  {
   "cell_type": "markdown",
   "metadata": {},
   "source": [
    "リスト4.50　TotalBsmtSFとSalePriceの分布を可視化"
   ]
  },
  {
   "cell_type": "code",
   "execution_count": 60,
   "metadata": {},
   "outputs": [
    {
     "data": {
      "text/plain": [
       "<matplotlib.axes._subplots.AxesSubplot at 0x118eb4190>"
      ]
     },
     "execution_count": 60,
     "metadata": {},
     "output_type": "execute_result"
    },
    {
     "data": {
      "image/png": "[encoded data removed]",
      "text/plain": [
       "<Figure size 432x288 with 1 Axes>"
      ]
     },
     "metadata": {},
     "output_type": "display_data"
    }
   ],
   "source": [
    "all_df.plot.scatter(x=\"TotalBsmtSF\", y=\"SalePrice\")"
   ]
  },
  {
   "cell_type": "code",
   "execution_count": 61,
   "metadata": {},
   "outputs": [
    {
     "data": {
      "text/html": [
       "<div>\n",
       "<style scoped>\n",
       "    .dataframe tbody tr th:only-of-type {\n",
       "        vertical-align: middle;\n",
       "    }\n",
       "\n",
       "    .dataframe tbody tr th {\n",
       "        vertical-align: top;\n",
       "    }\n",
       "\n",
       "    .dataframe thead th {\n",
       "        text-align: right;\n",
       "    }\n",
       "</style>\n",
       "<table border=\"1\" class=\"dataframe\">\n",
       "  <thead>\n",
       "    <tr style=\"text-align: right;\">\n",
       "      <th></th>\n",
       "      <th>Id</th>\n",
       "      <th>MSSubClass</th>\n",
       "      <th>MSZoning</th>\n",
       "      <th>LotFrontage</th>\n",
       "      <th>LotArea</th>\n",
       "      <th>Street</th>\n",
       "      <th>LotShape</th>\n",
       "      <th>LandContour</th>\n",
       "      <th>Utilities</th>\n",
       "      <th>LotConfig</th>\n",
       "      <th>...</th>\n",
       "      <th>ScreenPorch</th>\n",
       "      <th>PoolArea</th>\n",
       "      <th>Fence</th>\n",
       "      <th>MiscVal</th>\n",
       "      <th>MoSold</th>\n",
       "      <th>YrSold</th>\n",
       "      <th>SaleType</th>\n",
       "      <th>SaleCondition</th>\n",
       "      <th>SalePrice</th>\n",
       "      <th>hasHighFacility</th>\n",
       "    </tr>\n",
       "  </thead>\n",
       "  <tbody>\n",
       "    <tr>\n",
       "      <th>1298</th>\n",
       "      <td>1299</td>\n",
       "      <td>60</td>\n",
       "      <td>RL</td>\n",
       "      <td>313.0</td>\n",
       "      <td>63887</td>\n",
       "      <td>Pave</td>\n",
       "      <td>IR3</td>\n",
       "      <td>Bnk</td>\n",
       "      <td>AllPub</td>\n",
       "      <td>Corner</td>\n",
       "      <td>...</td>\n",
       "      <td>0</td>\n",
       "      <td>480</td>\n",
       "      <td>NaN</td>\n",
       "      <td>0</td>\n",
       "      <td>1</td>\n",
       "      <td>2008</td>\n",
       "      <td>New</td>\n",
       "      <td>Partial</td>\n",
       "      <td>160000.0</td>\n",
       "      <td>1</td>\n",
       "    </tr>\n",
       "  </tbody>\n",
       "</table>\n",
       "<p>1 rows × 79 columns</p>\n",
       "</div>"
      ],
      "text/plain": [
       "        Id  MSSubClass MSZoning  LotFrontage  LotArea Street LotShape  \\\n",
       "1298  1299          60       RL        313.0    63887   Pave      IR3   \n",
       "\n",
       "     LandContour Utilities LotConfig  ... ScreenPorch PoolArea Fence MiscVal  \\\n",
       "1298         Bnk    AllPub    Corner  ...           0      480   NaN       0   \n",
       "\n",
       "     MoSold YrSold  SaleType  SaleCondition  SalePrice  hasHighFacility  \n",
       "1298      1   2008       New        Partial   160000.0                1  \n",
       "\n",
       "[1 rows x 79 columns]"
      ]
     },
     "execution_count": 61,
     "metadata": {},
     "output_type": "execute_result"
    }
   ],
   "source": [
    "all_df[all_df[\"TotalBsmtSF\"] > 6000]"
   ]
  },
  {
   "cell_type": "markdown",
   "metadata": {},
   "source": [
    "リスト4.51　GrLivAreaとSalePriceの分布を可視化"
   ]
  },
  {
   "cell_type": "code",
   "execution_count": 62,
   "metadata": {},
   "outputs": [
    {
     "data": {
      "text/plain": [
       "<matplotlib.axes._subplots.AxesSubplot at 0x11a2e1e10>"
      ]
     },
     "execution_count": 62,
     "metadata": {},
     "output_type": "execute_result"
    },
    {
     "data": {
      "image/png": "[encoded data removed]",
      "text/plain": [
       "<Figure size 432x288 with 1 Axes>"
      ]
     },
     "metadata": {},
     "output_type": "display_data"
    }
   ],
   "source": [
    "all_df.plot.scatter(x=\"GrLivArea\", y=\"SalePrice\")"
   ]
  },
  {
   "cell_type": "code",
   "execution_count": 63,
   "metadata": {},
   "outputs": [
    {
     "data": {
      "text/html": [
       "<div>\n",
       "<style scoped>\n",
       "    .dataframe tbody tr th:only-of-type {\n",
       "        vertical-align: middle;\n",
       "    }\n",
       "\n",
       "    .dataframe tbody tr th {\n",
       "        vertical-align: top;\n",
       "    }\n",
       "\n",
       "    .dataframe thead th {\n",
       "        text-align: right;\n",
       "    }\n",
       "</style>\n",
       "<table border=\"1\" class=\"dataframe\">\n",
       "  <thead>\n",
       "    <tr style=\"text-align: right;\">\n",
       "      <th></th>\n",
       "      <th>Id</th>\n",
       "      <th>MSSubClass</th>\n",
       "      <th>MSZoning</th>\n",
       "      <th>LotFrontage</th>\n",
       "      <th>LotArea</th>\n",
       "      <th>Street</th>\n",
       "      <th>LotShape</th>\n",
       "      <th>LandContour</th>\n",
       "      <th>Utilities</th>\n",
       "      <th>LotConfig</th>\n",
       "      <th>...</th>\n",
       "      <th>ScreenPorch</th>\n",
       "      <th>PoolArea</th>\n",
       "      <th>Fence</th>\n",
       "      <th>MiscVal</th>\n",
       "      <th>MoSold</th>\n",
       "      <th>YrSold</th>\n",
       "      <th>SaleType</th>\n",
       "      <th>SaleCondition</th>\n",
       "      <th>SalePrice</th>\n",
       "      <th>hasHighFacility</th>\n",
       "    </tr>\n",
       "  </thead>\n",
       "  <tbody>\n",
       "    <tr>\n",
       "      <th>1298</th>\n",
       "      <td>1299</td>\n",
       "      <td>60</td>\n",
       "      <td>RL</td>\n",
       "      <td>313.0</td>\n",
       "      <td>63887</td>\n",
       "      <td>Pave</td>\n",
       "      <td>IR3</td>\n",
       "      <td>Bnk</td>\n",
       "      <td>AllPub</td>\n",
       "      <td>Corner</td>\n",
       "      <td>...</td>\n",
       "      <td>0</td>\n",
       "      <td>480</td>\n",
       "      <td>NaN</td>\n",
       "      <td>0</td>\n",
       "      <td>1</td>\n",
       "      <td>2008</td>\n",
       "      <td>New</td>\n",
       "      <td>Partial</td>\n",
       "      <td>160000.0</td>\n",
       "      <td>1</td>\n",
       "    </tr>\n",
       "    <tr>\n",
       "      <th>2549</th>\n",
       "      <td>2550</td>\n",
       "      <td>20</td>\n",
       "      <td>RL</td>\n",
       "      <td>128.0</td>\n",
       "      <td>39290</td>\n",
       "      <td>Pave</td>\n",
       "      <td>IR1</td>\n",
       "      <td>Bnk</td>\n",
       "      <td>AllPub</td>\n",
       "      <td>Inside</td>\n",
       "      <td>...</td>\n",
       "      <td>0</td>\n",
       "      <td>0</td>\n",
       "      <td>NaN</td>\n",
       "      <td>17000</td>\n",
       "      <td>10</td>\n",
       "      <td>2007</td>\n",
       "      <td>New</td>\n",
       "      <td>Partial</td>\n",
       "      <td>NaN</td>\n",
       "      <td>0</td>\n",
       "    </tr>\n",
       "  </tbody>\n",
       "</table>\n",
       "<p>2 rows × 79 columns</p>\n",
       "</div>"
      ],
      "text/plain": [
       "        Id  MSSubClass MSZoning  LotFrontage  LotArea Street LotShape  \\\n",
       "1298  1299          60       RL        313.0    63887   Pave      IR3   \n",
       "2549  2550          20       RL        128.0    39290   Pave      IR1   \n",
       "\n",
       "     LandContour Utilities LotConfig  ... ScreenPorch PoolArea Fence MiscVal  \\\n",
       "1298         Bnk    AllPub    Corner  ...           0      480   NaN       0   \n",
       "2549         Bnk    AllPub    Inside  ...           0        0   NaN   17000   \n",
       "\n",
       "     MoSold YrSold  SaleType  SaleCondition  SalePrice  hasHighFacility  \n",
       "1298      1   2008       New        Partial   160000.0                1  \n",
       "2549     10   2007       New        Partial        NaN                0  \n",
       "\n",
       "[2 rows x 79 columns]"
      ]
     },
     "execution_count": 63,
     "metadata": {},
     "output_type": "execute_result"
    }
   ],
   "source": [
    "all_df[all_df[\"GrLivArea\"] > 5000]"
   ]
  },
  {
   "cell_type": "markdown",
   "metadata": {},
   "source": [
    "リスト4.52　1stFlrSFとSalePriceの分布を可視化"
   ]
  },
  {
   "cell_type": "code",
   "execution_count": 64,
   "metadata": {},
   "outputs": [
    {
     "data": {
      "text/plain": [
       "<matplotlib.axes._subplots.AxesSubplot at 0x11cccefd0>"
      ]
     },
     "execution_count": 64,
     "metadata": {},
     "output_type": "execute_result"
    },
    {
     "data": {
      "image/png": "[encoded data removed]",
      "text/plain": [
       "<Figure size 432x288 with 1 Axes>"
      ]
     },
     "metadata": {},
     "output_type": "display_data"
    }
   ],
   "source": [
    "all_df.plot.scatter(x=\"1stFlrSF\", y=\"SalePrice\")"
   ]
  },
  {
   "cell_type": "code",
   "execution_count": 65,
   "metadata": {},
   "outputs": [
    {
     "data": {
      "text/html": [
       "<div>\n",
       "<style scoped>\n",
       "    .dataframe tbody tr th:only-of-type {\n",
       "        vertical-align: middle;\n",
       "    }\n",
       "\n",
       "    .dataframe tbody tr th {\n",
       "        vertical-align: top;\n",
       "    }\n",
       "\n",
       "    .dataframe thead th {\n",
       "        text-align: right;\n",
       "    }\n",
       "</style>\n",
       "<table border=\"1\" class=\"dataframe\">\n",
       "  <thead>\n",
       "    <tr style=\"text-align: right;\">\n",
       "      <th></th>\n",
       "      <th>Id</th>\n",
       "      <th>MSSubClass</th>\n",
       "      <th>MSZoning</th>\n",
       "      <th>LotFrontage</th>\n",
       "      <th>LotArea</th>\n",
       "      <th>Street</th>\n",
       "      <th>LotShape</th>\n",
       "      <th>LandContour</th>\n",
       "      <th>Utilities</th>\n",
       "      <th>LotConfig</th>\n",
       "      <th>...</th>\n",
       "      <th>ScreenPorch</th>\n",
       "      <th>PoolArea</th>\n",
       "      <th>Fence</th>\n",
       "      <th>MiscVal</th>\n",
       "      <th>MoSold</th>\n",
       "      <th>YrSold</th>\n",
       "      <th>SaleType</th>\n",
       "      <th>SaleCondition</th>\n",
       "      <th>SalePrice</th>\n",
       "      <th>hasHighFacility</th>\n",
       "    </tr>\n",
       "  </thead>\n",
       "  <tbody>\n",
       "    <tr>\n",
       "      <th>1298</th>\n",
       "      <td>1299</td>\n",
       "      <td>60</td>\n",
       "      <td>RL</td>\n",
       "      <td>313.0</td>\n",
       "      <td>63887</td>\n",
       "      <td>Pave</td>\n",
       "      <td>IR3</td>\n",
       "      <td>Bnk</td>\n",
       "      <td>AllPub</td>\n",
       "      <td>Corner</td>\n",
       "      <td>...</td>\n",
       "      <td>0</td>\n",
       "      <td>480</td>\n",
       "      <td>NaN</td>\n",
       "      <td>0</td>\n",
       "      <td>1</td>\n",
       "      <td>2008</td>\n",
       "      <td>New</td>\n",
       "      <td>Partial</td>\n",
       "      <td>160000.0</td>\n",
       "      <td>1</td>\n",
       "    </tr>\n",
       "    <tr>\n",
       "      <th>2549</th>\n",
       "      <td>2550</td>\n",
       "      <td>20</td>\n",
       "      <td>RL</td>\n",
       "      <td>128.0</td>\n",
       "      <td>39290</td>\n",
       "      <td>Pave</td>\n",
       "      <td>IR1</td>\n",
       "      <td>Bnk</td>\n",
       "      <td>AllPub</td>\n",
       "      <td>Inside</td>\n",
       "      <td>...</td>\n",
       "      <td>0</td>\n",
       "      <td>0</td>\n",
       "      <td>NaN</td>\n",
       "      <td>17000</td>\n",
       "      <td>10</td>\n",
       "      <td>2007</td>\n",
       "      <td>New</td>\n",
       "      <td>Partial</td>\n",
       "      <td>NaN</td>\n",
       "      <td>0</td>\n",
       "    </tr>\n",
       "  </tbody>\n",
       "</table>\n",
       "<p>2 rows × 79 columns</p>\n",
       "</div>"
      ],
      "text/plain": [
       "        Id  MSSubClass MSZoning  LotFrontage  LotArea Street LotShape  \\\n",
       "1298  1299          60       RL        313.0    63887   Pave      IR3   \n",
       "2549  2550          20       RL        128.0    39290   Pave      IR1   \n",
       "\n",
       "     LandContour Utilities LotConfig  ... ScreenPorch PoolArea Fence MiscVal  \\\n",
       "1298         Bnk    AllPub    Corner  ...           0      480   NaN       0   \n",
       "2549         Bnk    AllPub    Inside  ...           0        0   NaN   17000   \n",
       "\n",
       "     MoSold YrSold  SaleType  SaleCondition  SalePrice  hasHighFacility  \n",
       "1298      1   2008       New        Partial   160000.0                1  \n",
       "2549     10   2007       New        Partial        NaN                0  \n",
       "\n",
       "[2 rows x 79 columns]"
      ]
     },
     "execution_count": 65,
     "metadata": {},
     "output_type": "execute_result"
    }
   ],
   "source": [
    "all_df[all_df[\"1stFlrSF\"] > 4000]"
   ]
  },
  {
   "cell_type": "markdown",
   "metadata": {},
   "source": [
    "リスト4.53　外れ値以外を抽出（テストデータはすべて抽出）"
   ]
  },
  {
   "cell_type": "code",
   "execution_count": 70,
   "metadata": {},
   "outputs": [
    {
     "ename": "KeyError",
     "evalue": "'BsmtFinSF1'",
     "output_type": "error",
     "traceback": [
      "\u001b[0;31m---------------------------------------------------------------------------\u001b[0m",
      "\u001b[0;31mKeyError\u001b[0m                                  Traceback (most recent call last)",
      "\u001b[0;32m~/anaconda3/lib/python3.7/site-packages/pandas/core/indexes/base.py\u001b[0m in \u001b[0;36mget_loc\u001b[0;34m(self, key, method, tolerance)\u001b[0m\n\u001b[1;32m   2890\u001b[0m             \u001b[0;32mtry\u001b[0m\u001b[0;34m:\u001b[0m\u001b[0;34m\u001b[0m\u001b[0;34m\u001b[0m\u001b[0m\n\u001b[0;32m-> 2891\u001b[0;31m                 \u001b[0;32mreturn\u001b[0m \u001b[0mself\u001b[0m\u001b[0;34m.\u001b[0m\u001b[0m_engine\u001b[0m\u001b[0;34m.\u001b[0m\u001b[0mget_loc\u001b[0m\u001b[0;34m(\u001b[0m\u001b[0mcasted_key\u001b[0m\u001b[0;34m)\u001b[0m\u001b[0;34m\u001b[0m\u001b[0;34m\u001b[0m\u001b[0m\n\u001b[0m\u001b[1;32m   2892\u001b[0m             \u001b[0;32mexcept\u001b[0m \u001b[0mKeyError\u001b[0m \u001b[0;32mas\u001b[0m \u001b[0merr\u001b[0m\u001b[0;34m:\u001b[0m\u001b[0;34m\u001b[0m\u001b[0;34m\u001b[0m\u001b[0m\n",
      "\u001b[0;32mpandas/_libs/index.pyx\u001b[0m in \u001b[0;36mpandas._libs.index.IndexEngine.get_loc\u001b[0;34m()\u001b[0m\n",
      "\u001b[0;32mpandas/_libs/index.pyx\u001b[0m in \u001b[0;36mpandas._libs.index.IndexEngine.get_loc\u001b[0;34m()\u001b[0m\n",
      "\u001b[0;32mpandas/_libs/hashtable_class_helper.pxi\u001b[0m in \u001b[0;36mpandas._libs.hashtable.PyObjectHashTable.get_item\u001b[0;34m()\u001b[0m\n",
      "\u001b[0;32mpandas/_libs/hashtable_class_helper.pxi\u001b[0m in \u001b[0;36mpandas._libs.hashtable.PyObjectHashTable.get_item\u001b[0;34m()\u001b[0m\n",
      "\u001b[0;31mKeyError\u001b[0m: 'BsmtFinSF1'",
      "\nThe above exception was the direct cause of the following exception:\n",
      "\u001b[0;31mKeyError\u001b[0m                                  Traceback (most recent call last)",
      "\u001b[0;32m<ipython-input-70-46411dd51683>\u001b[0m in \u001b[0;36m<module>\u001b[0;34m\u001b[0m\n\u001b[0;32m----> 1\u001b[0;31m \u001b[0mall_df\u001b[0m \u001b[0;34m=\u001b[0m \u001b[0mall_df\u001b[0m\u001b[0;34m[\u001b[0m\u001b[0;34m(\u001b[0m\u001b[0mall_df\u001b[0m\u001b[0;34m[\u001b[0m\u001b[0;34m'BsmtFinSF1'\u001b[0m\u001b[0;34m]\u001b[0m \u001b[0;34m<\u001b[0m \u001b[0;36m2000\u001b[0m\u001b[0;34m)\u001b[0m \u001b[0;34m|\u001b[0m \u001b[0;34m(\u001b[0m\u001b[0mall_df\u001b[0m\u001b[0;34m[\u001b[0m\u001b[0;34m'SalePrice'\u001b[0m\u001b[0;34m]\u001b[0m\u001b[0;34m.\u001b[0m\u001b[0misnull\u001b[0m\u001b[0;34m(\u001b[0m\u001b[0;34m)\u001b[0m\u001b[0;34m)\u001b[0m\u001b[0;34m]\u001b[0m\u001b[0;34m\u001b[0m\u001b[0;34m\u001b[0m\u001b[0m\n\u001b[0m\u001b[1;32m      2\u001b[0m \u001b[0mall_df\u001b[0m \u001b[0;34m=\u001b[0m \u001b[0mall_df\u001b[0m\u001b[0;34m[\u001b[0m\u001b[0;34m(\u001b[0m\u001b[0mall_df\u001b[0m\u001b[0;34m[\u001b[0m\u001b[0;34m'TotalBsmtSF'\u001b[0m\u001b[0;34m]\u001b[0m \u001b[0;34m<\u001b[0m \u001b[0;36m3000\u001b[0m\u001b[0;34m)\u001b[0m \u001b[0;34m|\u001b[0m \u001b[0;34m(\u001b[0m\u001b[0mall_df\u001b[0m\u001b[0;34m[\u001b[0m\u001b[0;34m'SalePrice'\u001b[0m\u001b[0;34m]\u001b[0m\u001b[0;34m.\u001b[0m\u001b[0misnull\u001b[0m\u001b[0;34m(\u001b[0m\u001b[0;34m)\u001b[0m\u001b[0;34m)\u001b[0m\u001b[0;34m]\u001b[0m\u001b[0;34m\u001b[0m\u001b[0;34m\u001b[0m\u001b[0m\n\u001b[1;32m      3\u001b[0m \u001b[0mall_df\u001b[0m \u001b[0;34m=\u001b[0m \u001b[0mall_df\u001b[0m\u001b[0;34m[\u001b[0m\u001b[0;34m(\u001b[0m\u001b[0mall_df\u001b[0m\u001b[0;34m[\u001b[0m\u001b[0;34m'GrLivArea'\u001b[0m\u001b[0;34m]\u001b[0m \u001b[0;34m<\u001b[0m \u001b[0;36m4500\u001b[0m\u001b[0;34m)\u001b[0m \u001b[0;34m|\u001b[0m \u001b[0;34m(\u001b[0m\u001b[0mall_df\u001b[0m\u001b[0;34m[\u001b[0m\u001b[0;34m'SalePrice'\u001b[0m\u001b[0;34m]\u001b[0m\u001b[0;34m.\u001b[0m\u001b[0misnull\u001b[0m\u001b[0;34m(\u001b[0m\u001b[0;34m)\u001b[0m\u001b[0;34m)\u001b[0m\u001b[0;34m]\u001b[0m\u001b[0;34m\u001b[0m\u001b[0;34m\u001b[0m\u001b[0m\n\u001b[1;32m      4\u001b[0m \u001b[0mall_df\u001b[0m \u001b[0;34m=\u001b[0m \u001b[0mall_df\u001b[0m\u001b[0;34m[\u001b[0m\u001b[0;34m(\u001b[0m\u001b[0mall_df\u001b[0m\u001b[0;34m[\u001b[0m\u001b[0;34m'1stFlrSF'\u001b[0m\u001b[0;34m]\u001b[0m \u001b[0;34m<\u001b[0m \u001b[0;36m2500\u001b[0m\u001b[0;34m)\u001b[0m \u001b[0;34m|\u001b[0m \u001b[0;34m(\u001b[0m\u001b[0mall_df\u001b[0m\u001b[0;34m[\u001b[0m\u001b[0;34m'SalePrice'\u001b[0m\u001b[0;34m]\u001b[0m\u001b[0;34m.\u001b[0m\u001b[0misnull\u001b[0m\u001b[0;34m(\u001b[0m\u001b[0;34m)\u001b[0m\u001b[0;34m)\u001b[0m\u001b[0;34m]\u001b[0m\u001b[0;34m\u001b[0m\u001b[0;34m\u001b[0m\u001b[0m\n\u001b[1;32m      5\u001b[0m \u001b[0mall_df\u001b[0m \u001b[0;34m=\u001b[0m \u001b[0mall_df\u001b[0m\u001b[0;34m[\u001b[0m\u001b[0;34m(\u001b[0m\u001b[0mall_df\u001b[0m\u001b[0;34m[\u001b[0m\u001b[0;34m'LotArea'\u001b[0m\u001b[0;34m]\u001b[0m \u001b[0;34m<\u001b[0m \u001b[0;36m100000\u001b[0m\u001b[0;34m)\u001b[0m \u001b[0;34m|\u001b[0m \u001b[0;34m(\u001b[0m\u001b[0mall_df\u001b[0m\u001b[0;34m[\u001b[0m\u001b[0;34m'SalePrice'\u001b[0m\u001b[0;34m]\u001b[0m\u001b[0;34m.\u001b[0m\u001b[0misnull\u001b[0m\u001b[0;34m(\u001b[0m\u001b[0;34m)\u001b[0m\u001b[0;34m)\u001b[0m\u001b[0;34m]\u001b[0m\u001b[0;34m\u001b[0m\u001b[0;34m\u001b[0m\u001b[0m\n",
      "\u001b[0;32m~/anaconda3/lib/python3.7/site-packages/pandas/core/frame.py\u001b[0m in \u001b[0;36m__getitem__\u001b[0;34m(self, key)\u001b[0m\n\u001b[1;32m   2900\u001b[0m             \u001b[0;32mif\u001b[0m \u001b[0mself\u001b[0m\u001b[0;34m.\u001b[0m\u001b[0mcolumns\u001b[0m\u001b[0;34m.\u001b[0m\u001b[0mnlevels\u001b[0m \u001b[0;34m>\u001b[0m \u001b[0;36m1\u001b[0m\u001b[0;34m:\u001b[0m\u001b[0;34m\u001b[0m\u001b[0;34m\u001b[0m\u001b[0m\n\u001b[1;32m   2901\u001b[0m                 \u001b[0;32mreturn\u001b[0m \u001b[0mself\u001b[0m\u001b[0;34m.\u001b[0m\u001b[0m_getitem_multilevel\u001b[0m\u001b[0;34m(\u001b[0m\u001b[0mkey\u001b[0m\u001b[0;34m)\u001b[0m\u001b[0;34m\u001b[0m\u001b[0;34m\u001b[0m\u001b[0m\n\u001b[0;32m-> 2902\u001b[0;31m             \u001b[0mindexer\u001b[0m \u001b[0;34m=\u001b[0m \u001b[0mself\u001b[0m\u001b[0;34m.\u001b[0m\u001b[0mcolumns\u001b[0m\u001b[0;34m.\u001b[0m\u001b[0mget_loc\u001b[0m\u001b[0;34m(\u001b[0m\u001b[0mkey\u001b[0m\u001b[0;34m)\u001b[0m\u001b[0;34m\u001b[0m\u001b[0;34m\u001b[0m\u001b[0m\n\u001b[0m\u001b[1;32m   2903\u001b[0m             \u001b[0;32mif\u001b[0m \u001b[0mis_integer\u001b[0m\u001b[0;34m(\u001b[0m\u001b[0mindexer\u001b[0m\u001b[0;34m)\u001b[0m\u001b[0;34m:\u001b[0m\u001b[0;34m\u001b[0m\u001b[0;34m\u001b[0m\u001b[0m\n\u001b[1;32m   2904\u001b[0m                 \u001b[0mindexer\u001b[0m \u001b[0;34m=\u001b[0m \u001b[0;34m[\u001b[0m\u001b[0mindexer\u001b[0m\u001b[0;34m]\u001b[0m\u001b[0;34m\u001b[0m\u001b[0;34m\u001b[0m\u001b[0m\n",
      "\u001b[0;32m~/anaconda3/lib/python3.7/site-packages/pandas/core/indexes/base.py\u001b[0m in \u001b[0;36mget_loc\u001b[0;34m(self, key, method, tolerance)\u001b[0m\n\u001b[1;32m   2891\u001b[0m                 \u001b[0;32mreturn\u001b[0m \u001b[0mself\u001b[0m\u001b[0;34m.\u001b[0m\u001b[0m_engine\u001b[0m\u001b[0;34m.\u001b[0m\u001b[0mget_loc\u001b[0m\u001b[0;34m(\u001b[0m\u001b[0mcasted_key\u001b[0m\u001b[0;34m)\u001b[0m\u001b[0;34m\u001b[0m\u001b[0;34m\u001b[0m\u001b[0m\n\u001b[1;32m   2892\u001b[0m             \u001b[0;32mexcept\u001b[0m \u001b[0mKeyError\u001b[0m \u001b[0;32mas\u001b[0m \u001b[0merr\u001b[0m\u001b[0;34m:\u001b[0m\u001b[0;34m\u001b[0m\u001b[0;34m\u001b[0m\u001b[0m\n\u001b[0;32m-> 2893\u001b[0;31m                 \u001b[0;32mraise\u001b[0m \u001b[0mKeyError\u001b[0m\u001b[0;34m(\u001b[0m\u001b[0mkey\u001b[0m\u001b[0;34m)\u001b[0m \u001b[0;32mfrom\u001b[0m \u001b[0merr\u001b[0m\u001b[0;34m\u001b[0m\u001b[0;34m\u001b[0m\u001b[0m\n\u001b[0m\u001b[1;32m   2894\u001b[0m \u001b[0;34m\u001b[0m\u001b[0m\n\u001b[1;32m   2895\u001b[0m         \u001b[0;32mif\u001b[0m \u001b[0mtolerance\u001b[0m \u001b[0;32mis\u001b[0m \u001b[0;32mnot\u001b[0m \u001b[0;32mNone\u001b[0m\u001b[0;34m:\u001b[0m\u001b[0;34m\u001b[0m\u001b[0;34m\u001b[0m\u001b[0m\n",
      "\u001b[0;31mKeyError\u001b[0m: 'BsmtFinSF1'"
     ]
    }
   ],
   "source": [
    "all_df = all_df[(all_df['BsmtFinSF1'] < 2000) | (all_df['SalePrice'].isnull())]\n",
    "all_df = all_df[(all_df['TotalBsmtSF'] < 3000) | (all_df['SalePrice'].isnull())]\n",
    "all_df = all_df[(all_df['GrLivArea'] < 4500) | (all_df['SalePrice'].isnull())]\n",
    "all_df = all_df[(all_df['1stFlrSF'] < 2500) | (all_df['SalePrice'].isnull())]\n",
    "all_df = all_df[(all_df['LotArea'] < 100000) | (all_df['SalePrice'].isnull())]"
   ]
  },
  {
   "cell_type": "markdown",
   "metadata": {},
   "source": [
    "#### 前処理した学習データでRMSEを計算する"
   ]
  },
  {
   "cell_type": "markdown",
   "metadata": {},
   "source": [
    "リスト4.54　categoriesの中から除外した3つの変数を削除"
   ]
  },
  {
   "cell_type": "code",
   "execution_count": 67,
   "metadata": {},
   "outputs": [],
   "source": [
    "categories = categories.drop([\"PoolQC\",\"MiscFeature\",\"Alley\"])"
   ]
  },
  {
   "cell_type": "markdown",
   "metadata": {},
   "source": [
    "リスト4.55　欠損値をmissingに置き換えてall_dfのカテゴリ変数をcategoryに指定"
   ]
  },
  {
   "cell_type": "code",
   "execution_count": 71,
   "metadata": {},
   "outputs": [
    {
     "name": "stdout",
     "output_type": "stream",
     "text": [
      "MS Zoning\n",
      "Lot Shape\n",
      "Land Contour\n",
      "Lot Config\n",
      "Neighborhood\n",
      "Bldg Type\n",
      "House Style\n",
      "Roof Style\n",
      "Exterior 1st\n",
      "Exterior 2nd\n",
      "Exter Qual\n",
      "Foundation\n",
      "Heating QC\n",
      "Central Air\n",
      "Electrical\n",
      "Kitchen Qual\n",
      "Paved Drive\n",
      "Sale Type\n",
      "Sale Condition\n"
     ]
    }
   ],
   "source": [
    "for cat in categories:\n",
    "    le = LabelEncoder()\n",
    "    print(cat)\n",
    "    \n",
    "    all_df[cat].fillna(\"missing\", inplace=True)    \n",
    "    le = le.fit(all_df[cat])\n",
    "    all_df[cat] = le.transform(all_df[cat])\n",
    "    all_df[cat] = all_df[cat].astype(\"category\")"
   ]
  },
  {
   "cell_type": "markdown",
   "metadata": {},
   "source": [
    "リスト4.56　train_df_leとtest_df_leに分割"
   ]
  },
  {
   "cell_type": "code",
   "execution_count": 73,
   "metadata": {},
   "outputs": [
    {
     "name": "stdout",
     "output_type": "stream",
     "text": [
      "Training until validation scores don't improve for 20 rounds\n",
      "[10]\tvalid_0's l2: 0.0308017\n",
      "[20]\tvalid_0's l2: 0.0286829\n",
      "[30]\tvalid_0's l2: 0.0281803\n",
      "[40]\tvalid_0's l2: 0.0281836\n",
      "[50]\tvalid_0's l2: 0.0284083\n",
      "Early stopping, best iteration is:\n",
      "[39]\tvalid_0's l2: 0.0281594\n",
      "0.1678076319284953\n",
      "Training until validation scores don't improve for 20 rounds\n",
      "[10]\tvalid_0's l2: 0.0234249\n",
      "[20]\tvalid_0's l2: 0.0229456\n",
      "[30]\tvalid_0's l2: 0.0233896\n",
      "[40]\tvalid_0's l2: 0.0236045\n",
      "Early stopping, best iteration is:\n",
      "[20]\tvalid_0's l2: 0.0229456\n",
      "0.1514781751600406\n",
      "Training until validation scores don't improve for 20 rounds\n",
      "[10]\tvalid_0's l2: 0.0301516\n",
      "[20]\tvalid_0's l2: 0.0292234\n",
      "[30]\tvalid_0's l2: 0.0293461\n",
      "Early stopping, best iteration is:\n",
      "[19]\tvalid_0's l2: 0.0291959\n",
      "0.17086804579092152\n"
     ]
    }
   ],
   "source": [
    "models = []\n",
    "rmses = []\n",
    "oof = np.zeros(len(train_X))\n",
    "\n",
    "for train_index, val_index in kf.split(train_X):\n",
    "    X_train = train_X.iloc[train_index]\n",
    "    X_valid = train_X.iloc[val_index]\n",
    "    y_train = train_Y.iloc[train_index]\n",
    "    y_valid = train_Y.iloc[val_index]\n",
    "        \n",
    "    lgb_train = lgb.Dataset(X_train, y_train)\n",
    "    lgb_eval = lgb.Dataset(X_valid, y_valid, reference=lgb_train)    \n",
    "    \n",
    "    model_lgb = lgb.train(lgbm_params, \n",
    "                          lgb_train, \n",
    "                          valid_sets=lgb_eval, \n",
    "                          num_boost_round=100,\n",
    "                          early_stopping_rounds=20,\n",
    "                          verbose_eval=10,\n",
    "                         )    \n",
    "    \n",
    "    y_pred = model_lgb.predict(X_valid, num_iteration=model_lgb.best_iteration)\n",
    "    tmp_rmse = np.sqrt(mean_squared_error(y_valid, y_pred))\n",
    "    print(tmp_rmse)    \n",
    "              \n",
    "    models.append(model_lgb)    \n",
    "    rmses.append(tmp_rmse)\n",
    "    oof[val_index] = y_pred "
   ]
  },
  {
   "cell_type": "code",
   "execution_count": 74,
   "metadata": {},
   "outputs": [
    {
     "data": {
      "text/plain": [
       "0.16338461762648582"
      ]
     },
     "execution_count": 74,
     "metadata": {},
     "output_type": "execute_result"
    }
   ],
   "source": [
    "sum(rmses)/len(rmses)"
   ]
  },
  {
   "cell_type": "markdown",
   "metadata": {},
   "source": [
    "## 4.8 　説明変数の確認：特徴量を生成する"
   ]
  },
  {
   "cell_type": "markdown",
   "metadata": {},
   "source": [
    "#### 時間に関する変数の統計量を確認する"
   ]
  },
  {
   "cell_type": "markdown",
   "metadata": {},
   "source": [
    "リスト4.57　時間に関する変数の統計量を確認"
   ]
  },
  {
   "cell_type": "markdown",
   "metadata": {},
   "source": [
    "#### 時間に関する変数を組み合わせて新たな特徴量を作成する"
   ]
  },
  {
   "cell_type": "markdown",
   "metadata": {},
   "source": [
    "リスト4.58　特徴量を追加"
   ]
  },
  {
   "cell_type": "code",
   "execution_count": 77,
   "metadata": {},
   "outputs": [
    {
     "name": "stdout",
     "output_type": "stream",
     "text": [
      "Training until validation scores don't improve for 20 rounds\n",
      "[10]\tvalid_0's l2: 0.0308017\n",
      "[20]\tvalid_0's l2: 0.0286829\n",
      "[30]\tvalid_0's l2: 0.0281803\n",
      "[40]\tvalid_0's l2: 0.0281836\n",
      "[50]\tvalid_0's l2: 0.0284083\n",
      "Early stopping, best iteration is:\n",
      "[39]\tvalid_0's l2: 0.0281594\n",
      "0.1678076319284953\n",
      "Training until validation scores don't improve for 20 rounds\n",
      "[10]\tvalid_0's l2: 0.0234249\n",
      "[20]\tvalid_0's l2: 0.0229456\n",
      "[30]\tvalid_0's l2: 0.0233896\n",
      "[40]\tvalid_0's l2: 0.0236045\n",
      "Early stopping, best iteration is:\n",
      "[20]\tvalid_0's l2: 0.0229456\n",
      "0.1514781751600406\n",
      "Training until validation scores don't improve for 20 rounds\n",
      "[10]\tvalid_0's l2: 0.0301516\n",
      "[20]\tvalid_0's l2: 0.0292234\n",
      "[30]\tvalid_0's l2: 0.0293461\n",
      "Early stopping, best iteration is:\n",
      "[19]\tvalid_0's l2: 0.0291959\n",
      "0.17086804579092152\n"
     ]
    }
   ],
   "source": [
    "models = []\n",
    "rmses = []\n",
    "oof = np.zeros(len(train_X))\n",
    "\n",
    "for train_index, val_index in kf.split(train_X):\n",
    "    X_train = train_X.iloc[train_index]\n",
    "    X_valid = train_X.iloc[val_index]\n",
    "    y_train = train_Y.iloc[train_index]\n",
    "    y_valid = train_Y.iloc[val_index]\n",
    "        \n",
    "    lgb_train = lgb.Dataset(X_train, y_train)\n",
    "    lgb_eval = lgb.Dataset(X_valid, y_valid, reference=lgb_train)    \n",
    "    \n",
    "    model_lgb = lgb.train(lgbm_params, \n",
    "                          lgb_train, \n",
    "                          valid_sets=lgb_eval, \n",
    "                          num_boost_round=100,\n",
    "                          early_stopping_rounds=20,\n",
    "                          verbose_eval=10,\n",
    "                         )    \n",
    "    \n",
    "    y_pred = model_lgb.predict(X_valid, num_iteration=model_lgb.best_iteration)\n",
    "    tmp_rmse = np.sqrt(mean_squared_error(y_valid, y_pred))\n",
    "    print(tmp_rmse)    \n",
    "              \n",
    "    models.append(model_lgb)    \n",
    "    rmses.append(tmp_rmse)\n",
    "    oof[val_index] = y_pred "
   ]
  },
  {
   "cell_type": "code",
   "execution_count": 78,
   "metadata": {},
   "outputs": [
    {
     "data": {
      "text/plain": [
       "0.16338461762648582"
      ]
     },
     "execution_count": 78,
     "metadata": {},
     "output_type": "execute_result"
    }
   ],
   "source": [
    "sum(rmses)/len(rmses)"
   ]
  },
  {
   "cell_type": "markdown",
   "metadata": {},
   "source": [
    "リスト4.59　他の変数を追加"
   ]
  },
  {
   "cell_type": "code",
   "execution_count": 77,
   "metadata": {},
   "outputs": [],
   "source": [
    "# 販売した年はリノベーションしてから何年経過していたか（リノベーションしていない場合、Age（築年数）と同じ）\n",
    "#all_df[\"RmdAge\"] = all_df[\"YrSold\"] - all_df[\"YearRemodAdd\"]\n",
    "# 販売した年はガレージ建築から何年経過していたか\n",
    "#all_df[\"GarageAge\"] = all_df[\"YrSold\"] - all_df[\"GarageYrBlt\"]\n",
    "# 築何年たってから、リノベーションしたか\n",
    "#all_df[\"RmdTiming\"] = all_df[\"YearRemodAdd\"] - all_df[\"YearBuilt\"]"
   ]
  },
  {
   "cell_type": "markdown",
   "metadata": {},
   "source": [
    "#### 広さ関連の変数から新たな特徴量を作成する"
   ]
  },
  {
   "cell_type": "markdown",
   "metadata": {},
   "source": [
    "リスト4.60　広さに関する変数の統計量を確認"
   ]
  },
  {
   "cell_type": "code",
   "execution_count": 78,
   "metadata": {},
   "outputs": [
    {
     "data": {
      "text/html": [
       "<div>\n",
       "<style scoped>\n",
       "    .dataframe tbody tr th:only-of-type {\n",
       "        vertical-align: middle;\n",
       "    }\n",
       "\n",
       "    .dataframe tbody tr th {\n",
       "        vertical-align: top;\n",
       "    }\n",
       "\n",
       "    .dataframe thead th {\n",
       "        text-align: right;\n",
       "    }\n",
       "</style>\n",
       "<table border=\"1\" class=\"dataframe\">\n",
       "  <thead>\n",
       "    <tr style=\"text-align: right;\">\n",
       "      <th></th>\n",
       "      <th>LotArea</th>\n",
       "      <th>MasVnrArea</th>\n",
       "      <th>BsmtUnfSF</th>\n",
       "      <th>TotalBsmtSF</th>\n",
       "      <th>1stFlrSF</th>\n",
       "      <th>2ndFlrSF</th>\n",
       "      <th>LowQualFinSF</th>\n",
       "      <th>GrLivArea</th>\n",
       "      <th>GarageArea</th>\n",
       "      <th>WoodDeckSF</th>\n",
       "      <th>OpenPorchSF</th>\n",
       "      <th>EnclosedPorch</th>\n",
       "      <th>3SsnPorch</th>\n",
       "      <th>ScreenPorch</th>\n",
       "      <th>PoolArea</th>\n",
       "      <th>LotFrontage</th>\n",
       "    </tr>\n",
       "  </thead>\n",
       "  <tbody>\n",
       "    <tr>\n",
       "      <th>count</th>\n",
       "      <td>2904.000000</td>\n",
       "      <td>2882.000000</td>\n",
       "      <td>2903.000000</td>\n",
       "      <td>2903.000000</td>\n",
       "      <td>2904.000000</td>\n",
       "      <td>2904.000000</td>\n",
       "      <td>2904.000000</td>\n",
       "      <td>2904.000000</td>\n",
       "      <td>2903.000000</td>\n",
       "      <td>2904.000000</td>\n",
       "      <td>2904.000000</td>\n",
       "      <td>2904.000000</td>\n",
       "      <td>2904.000000</td>\n",
       "      <td>2904.000000</td>\n",
       "      <td>2904.000000</td>\n",
       "      <td>2425.000000</td>\n",
       "    </tr>\n",
       "    <tr>\n",
       "      <th>mean</th>\n",
       "      <td>9912.604683</td>\n",
       "      <td>101.191187</td>\n",
       "      <td>559.850499</td>\n",
       "      <td>1043.794006</td>\n",
       "      <td>1152.707300</td>\n",
       "      <td>336.355372</td>\n",
       "      <td>4.718664</td>\n",
       "      <td>1493.781336</td>\n",
       "      <td>471.632794</td>\n",
       "      <td>93.265840</td>\n",
       "      <td>47.226584</td>\n",
       "      <td>22.988636</td>\n",
       "      <td>2.615702</td>\n",
       "      <td>16.086777</td>\n",
       "      <td>1.907025</td>\n",
       "      <td>69.071340</td>\n",
       "    </tr>\n",
       "    <tr>\n",
       "      <th>std</th>\n",
       "      <td>5178.128224</td>\n",
       "      <td>177.804595</td>\n",
       "      <td>438.438879</td>\n",
       "      <td>420.008348</td>\n",
       "      <td>377.291394</td>\n",
       "      <td>427.355787</td>\n",
       "      <td>46.515308</td>\n",
       "      <td>491.149725</td>\n",
       "      <td>214.551791</td>\n",
       "      <td>125.855568</td>\n",
       "      <td>67.195477</td>\n",
       "      <td>64.055325</td>\n",
       "      <td>25.252464</td>\n",
       "      <td>56.245764</td>\n",
       "      <td>33.082892</td>\n",
       "      <td>22.662001</td>\n",
       "    </tr>\n",
       "    <tr>\n",
       "      <th>min</th>\n",
       "      <td>1300.000000</td>\n",
       "      <td>0.000000</td>\n",
       "      <td>0.000000</td>\n",
       "      <td>0.000000</td>\n",
       "      <td>334.000000</td>\n",
       "      <td>0.000000</td>\n",
       "      <td>0.000000</td>\n",
       "      <td>334.000000</td>\n",
       "      <td>0.000000</td>\n",
       "      <td>0.000000</td>\n",
       "      <td>0.000000</td>\n",
       "      <td>0.000000</td>\n",
       "      <td>0.000000</td>\n",
       "      <td>0.000000</td>\n",
       "      <td>0.000000</td>\n",
       "      <td>21.000000</td>\n",
       "    </tr>\n",
       "    <tr>\n",
       "      <th>25%</th>\n",
       "      <td>7448.250000</td>\n",
       "      <td>0.000000</td>\n",
       "      <td>220.000000</td>\n",
       "      <td>791.500000</td>\n",
       "      <td>875.750000</td>\n",
       "      <td>0.000000</td>\n",
       "      <td>0.000000</td>\n",
       "      <td>1124.000000</td>\n",
       "      <td>319.500000</td>\n",
       "      <td>0.000000</td>\n",
       "      <td>0.000000</td>\n",
       "      <td>0.000000</td>\n",
       "      <td>0.000000</td>\n",
       "      <td>0.000000</td>\n",
       "      <td>0.000000</td>\n",
       "      <td>59.000000</td>\n",
       "    </tr>\n",
       "    <tr>\n",
       "      <th>50%</th>\n",
       "      <td>9422.000000</td>\n",
       "      <td>0.000000</td>\n",
       "      <td>467.000000</td>\n",
       "      <td>988.000000</td>\n",
       "      <td>1080.000000</td>\n",
       "      <td>0.000000</td>\n",
       "      <td>0.000000</td>\n",
       "      <td>1441.000000</td>\n",
       "      <td>478.000000</td>\n",
       "      <td>0.000000</td>\n",
       "      <td>26.000000</td>\n",
       "      <td>0.000000</td>\n",
       "      <td>0.000000</td>\n",
       "      <td>0.000000</td>\n",
       "      <td>0.000000</td>\n",
       "      <td>68.000000</td>\n",
       "    </tr>\n",
       "    <tr>\n",
       "      <th>75%</th>\n",
       "      <td>11503.000000</td>\n",
       "      <td>164.000000</td>\n",
       "      <td>802.500000</td>\n",
       "      <td>1296.000000</td>\n",
       "      <td>1381.250000</td>\n",
       "      <td>704.000000</td>\n",
       "      <td>0.000000</td>\n",
       "      <td>1739.250000</td>\n",
       "      <td>576.000000</td>\n",
       "      <td>168.000000</td>\n",
       "      <td>69.250000</td>\n",
       "      <td>0.000000</td>\n",
       "      <td>0.000000</td>\n",
       "      <td>0.000000</td>\n",
       "      <td>0.000000</td>\n",
       "      <td>80.000000</td>\n",
       "    </tr>\n",
       "    <tr>\n",
       "      <th>max</th>\n",
       "      <td>70761.000000</td>\n",
       "      <td>1600.000000</td>\n",
       "      <td>2336.000000</td>\n",
       "      <td>5095.000000</td>\n",
       "      <td>5095.000000</td>\n",
       "      <td>1872.000000</td>\n",
       "      <td>1064.000000</td>\n",
       "      <td>5095.000000</td>\n",
       "      <td>1488.000000</td>\n",
       "      <td>1424.000000</td>\n",
       "      <td>742.000000</td>\n",
       "      <td>1012.000000</td>\n",
       "      <td>508.000000</td>\n",
       "      <td>576.000000</td>\n",
       "      <td>800.000000</td>\n",
       "      <td>313.000000</td>\n",
       "    </tr>\n",
       "  </tbody>\n",
       "</table>\n",
       "</div>"
      ],
      "text/plain": [
       "            LotArea   MasVnrArea    BsmtUnfSF  TotalBsmtSF     1stFlrSF  \\\n",
       "count   2904.000000  2882.000000  2903.000000  2903.000000  2904.000000   \n",
       "mean    9912.604683   101.191187   559.850499  1043.794006  1152.707300   \n",
       "std     5178.128224   177.804595   438.438879   420.008348   377.291394   \n",
       "min     1300.000000     0.000000     0.000000     0.000000   334.000000   \n",
       "25%     7448.250000     0.000000   220.000000   791.500000   875.750000   \n",
       "50%     9422.000000     0.000000   467.000000   988.000000  1080.000000   \n",
       "75%    11503.000000   164.000000   802.500000  1296.000000  1381.250000   \n",
       "max    70761.000000  1600.000000  2336.000000  5095.000000  5095.000000   \n",
       "\n",
       "          2ndFlrSF  LowQualFinSF    GrLivArea   GarageArea   WoodDeckSF  \\\n",
       "count  2904.000000   2904.000000  2904.000000  2903.000000  2904.000000   \n",
       "mean    336.355372      4.718664  1493.781336   471.632794    93.265840   \n",
       "std     427.355787     46.515308   491.149725   214.551791   125.855568   \n",
       "min       0.000000      0.000000   334.000000     0.000000     0.000000   \n",
       "25%       0.000000      0.000000  1124.000000   319.500000     0.000000   \n",
       "50%       0.000000      0.000000  1441.000000   478.000000     0.000000   \n",
       "75%     704.000000      0.000000  1739.250000   576.000000   168.000000   \n",
       "max    1872.000000   1064.000000  5095.000000  1488.000000  1424.000000   \n",
       "\n",
       "       OpenPorchSF  EnclosedPorch    3SsnPorch  ScreenPorch     PoolArea  \\\n",
       "count  2904.000000    2904.000000  2904.000000  2904.000000  2904.000000   \n",
       "mean     47.226584      22.988636     2.615702    16.086777     1.907025   \n",
       "std      67.195477      64.055325    25.252464    56.245764    33.082892   \n",
       "min       0.000000       0.000000     0.000000     0.000000     0.000000   \n",
       "25%       0.000000       0.000000     0.000000     0.000000     0.000000   \n",
       "50%      26.000000       0.000000     0.000000     0.000000     0.000000   \n",
       "75%      69.250000       0.000000     0.000000     0.000000     0.000000   \n",
       "max     742.000000    1012.000000   508.000000   576.000000   800.000000   \n",
       "\n",
       "       LotFrontage  \n",
       "count  2425.000000  \n",
       "mean     69.071340  \n",
       "std      22.662001  \n",
       "min      21.000000  \n",
       "25%      59.000000  \n",
       "50%      68.000000  \n",
       "75%      80.000000  \n",
       "max     313.000000  "
      ]
     },
     "execution_count": 78,
     "metadata": {},
     "output_type": "execute_result"
    }
   ],
   "source": [
    "all_df[[\"LotArea\",\"MasVnrArea\",\"BsmtUnfSF\",\"TotalBsmtSF\", \"1stFlrSF\", \"2ndFlrSF\", \"LowQualFinSF\", \"GrLivArea\", \"GarageArea\",\"WoodDeckSF\", \"OpenPorchSF\", \"EnclosedPorch\", \"3SsnPorch\", \"ScreenPorch\", \"PoolArea\", \"LotFrontage\"]].describe()"
   ]
  },
  {
   "cell_type": "markdown",
   "metadata": {},
   "source": [
    "リスト4.61　広さの変数から追加するもの"
   ]
  },
  {
   "cell_type": "code",
   "execution_count": 79,
   "metadata": {},
   "outputs": [],
   "source": [
    "all_df[\"TotalSF\"] = all_df[\"TotalBsmtSF\"] + all_df[\"1stFlrSF\"] + all_df[\"2ndFlrSF\"]\n",
    "all_df[\"Total_Bathrooms\"] = all_df[\"FullBath\"] + all_df[\"HalfBath\"] + all_df[\"BsmtFullBath\"] + all_df[\"BsmtHalfBath\"]"
   ]
  },
  {
   "cell_type": "markdown",
   "metadata": {},
   "source": [
    "リスト4.62　Porchの広さの合計も特徴量として追加"
   ]
  },
  {
   "cell_type": "code",
   "execution_count": 80,
   "metadata": {},
   "outputs": [],
   "source": [
    "all_df[\"Total_PorchSF\"] = all_df[\"WoodDeckSF\"] + all_df[\"OpenPorchSF\"] + all_df[\"EnclosedPorch\"] + all_df[\"3SsnPorch\"] + all_df[\"ScreenPorch\"]"
   ]
  },
  {
   "cell_type": "markdown",
   "metadata": {},
   "source": [
    "リスト4.63　Porchの広さの合計をPorchがあるかないかの0、1の値に変換"
   ]
  },
  {
   "cell_type": "code",
   "execution_count": 81,
   "metadata": {},
   "outputs": [],
   "source": [
    "all_df[\"hasPorch\"] = all_df[\"Total_PorchSF\"].apply(lambda x: 1 if x > 0 else 0)\n",
    "all_df = all_df.drop(\"Total_PorchSF\",axis=1)"
   ]
  },
  {
   "cell_type": "markdown",
   "metadata": {},
   "source": [
    "リスト4.64　精度を確認"
   ]
  },
  {
   "cell_type": "code",
   "execution_count": 80,
   "metadata": {},
   "outputs": [
    {
     "name": "stdout",
     "output_type": "stream",
     "text": [
      "Training until validation scores don't improve for 20 rounds\n",
      "[10]\tvalid_0's l2: 0.0308017\n",
      "[20]\tvalid_0's l2: 0.0286829\n",
      "[30]\tvalid_0's l2: 0.0281803\n",
      "[40]\tvalid_0's l2: 0.0281836\n",
      "[50]\tvalid_0's l2: 0.0284083\n",
      "Early stopping, best iteration is:\n",
      "[39]\tvalid_0's l2: 0.0281594\n",
      "0.1678076319284953\n",
      "Training until validation scores don't improve for 20 rounds\n",
      "[10]\tvalid_0's l2: 0.0234249\n",
      "[20]\tvalid_0's l2: 0.0229456\n",
      "[30]\tvalid_0's l2: 0.0233896\n",
      "[40]\tvalid_0's l2: 0.0236045\n",
      "Early stopping, best iteration is:\n",
      "[20]\tvalid_0's l2: 0.0229456\n",
      "0.1514781751600406\n",
      "Training until validation scores don't improve for 20 rounds\n",
      "[10]\tvalid_0's l2: 0.0301516\n",
      "[20]\tvalid_0's l2: 0.0292234\n",
      "[30]\tvalid_0's l2: 0.0293461\n",
      "Early stopping, best iteration is:\n",
      "[19]\tvalid_0's l2: 0.0291959\n",
      "0.17086804579092152\n"
     ]
    }
   ],
   "source": [
    "models = []\n",
    "rmses = []\n",
    "oof = np.zeros(len(train_X))\n",
    "\n",
    "for train_index, val_index in kf.split(train_X):\n",
    "    X_train = train_X.iloc[train_index]\n",
    "    X_valid = train_X.iloc[val_index]\n",
    "    y_train = train_Y.iloc[train_index]\n",
    "    y_valid = train_Y.iloc[val_index]\n",
    "        \n",
    "    lgb_train = lgb.Dataset(X_train, y_train)\n",
    "    lgb_eval = lgb.Dataset(X_valid, y_valid, reference=lgb_train)    \n",
    "    \n",
    "    model_lgb = lgb.train(lgbm_params, \n",
    "                          lgb_train, \n",
    "                          valid_sets=lgb_eval, \n",
    "                          num_boost_round=100,\n",
    "                          early_stopping_rounds=20,\n",
    "                          verbose_eval=10,\n",
    "                         )    \n",
    "    \n",
    "    y_pred = model_lgb.predict(X_valid, num_iteration=model_lgb.best_iteration)\n",
    "    tmp_rmse = np.sqrt(mean_squared_error(y_valid, y_pred))\n",
    "    print(tmp_rmse)    \n",
    "              \n",
    "    models.append(model_lgb)    \n",
    "    rmses.append(tmp_rmse)\n",
    "    oof[val_index] = y_pred "
   ]
  },
  {
   "cell_type": "code",
   "execution_count": 84,
   "metadata": {},
   "outputs": [
    {
     "data": {
      "text/plain": [
       "0.128396868966143"
      ]
     },
     "execution_count": 84,
     "metadata": {},
     "output_type": "execute_result"
    }
   ],
   "source": [
    "sum(rmses)/len(rmses)"
   ]
  },
  {
   "cell_type": "code",
   "execution_count": 82,
   "metadata": {},
   "outputs": [
    {
     "name": "stdout",
     "output_type": "stream",
     "text": [
      "Collecting optuna\n",
      "  Downloading optuna-2.3.0.tar.gz (258 kB)\n",
      "\u001b[K     |████████████████████████████████| 258 kB 3.1 MB/s eta 0:00:01\n",
      "\u001b[?25h  Installing build dependencies ... \u001b[?25ldone\n",
      "\u001b[?25h  Getting requirements to build wheel ... \u001b[?25ldone\n",
      "\u001b[?25h    Preparing wheel metadata ... \u001b[?25ldone\n",
      "\u001b[?25hRequirement already satisfied: scipy!=1.4.0 in /home/ki-mu-ra/anaconda3/lib/python3.7/site-packages (from optuna) (1.4.1)\n",
      "Requirement already satisfied: tqdm in /home/ki-mu-ra/anaconda3/lib/python3.7/site-packages (from optuna) (4.42.1)\n",
      "Collecting colorlog\n",
      "  Downloading colorlog-4.6.2-py2.py3-none-any.whl (10.0 kB)\n",
      "Requirement already satisfied: packaging>=20.0 in /home/ki-mu-ra/anaconda3/lib/python3.7/site-packages (from optuna) (20.1)\n",
      "Collecting alembic\n",
      "  Downloading alembic-1.4.3-py2.py3-none-any.whl (159 kB)\n",
      "\u001b[K     |████████████████████████████████| 159 kB 4.3 MB/s eta 0:00:01\n",
      "\u001b[?25hRequirement already satisfied: numpy in /home/ki-mu-ra/anaconda3/lib/python3.7/site-packages (from optuna) (1.18.1)\n",
      "Requirement already satisfied: sqlalchemy>=1.1.0 in /home/ki-mu-ra/anaconda3/lib/python3.7/site-packages (from optuna) (1.3.13)\n",
      "Collecting cmaes>=0.6.0\n",
      "  Downloading cmaes-0.7.0-py3-none-any.whl (13 kB)\n",
      "Requirement already satisfied: joblib in /home/ki-mu-ra/anaconda3/lib/python3.7/site-packages (from optuna) (0.14.1)\n",
      "Collecting cliff\n",
      "  Downloading cliff-3.5.0-py3-none-any.whl (81 kB)\n",
      "\u001b[K     |████████████████████████████████| 81 kB 775 kB/s eta 0:00:01\n",
      "\u001b[?25hRequirement already satisfied: pyparsing>=2.0.2 in /home/ki-mu-ra/anaconda3/lib/python3.7/site-packages (from packaging>=20.0->optuna) (2.4.6)\n",
      "Requirement already satisfied: six in /home/ki-mu-ra/anaconda3/lib/python3.7/site-packages (from packaging>=20.0->optuna) (1.14.0)\n",
      "Collecting Mako\n",
      "  Downloading Mako-1.1.3-py2.py3-none-any.whl (75 kB)\n",
      "\u001b[K     |████████████████████████████████| 75 kB 470 kB/s eta 0:00:01\n",
      "\u001b[?25hCollecting python-editor>=0.3\n",
      "  Downloading python_editor-1.0.4-py3-none-any.whl (4.9 kB)\n",
      "Requirement already satisfied: python-dateutil in /home/ki-mu-ra/anaconda3/lib/python3.7/site-packages (from alembic->optuna) (2.8.1)\n",
      "Collecting cmd2!=0.8.3,>=0.8.0\n",
      "  Downloading cmd2-1.4.0-py3-none-any.whl (133 kB)\n",
      "\u001b[K     |████████████████████████████████| 133 kB 1.3 MB/s eta 0:00:01\n",
      "\u001b[?25hRequirement already satisfied: PyYAML>=3.12 in /home/ki-mu-ra/anaconda3/lib/python3.7/site-packages (from cliff->optuna) (5.3)\n",
      "Collecting PrettyTable<0.8,>=0.7.2\n",
      "  Downloading prettytable-0.7.2.tar.bz2 (21 kB)\n",
      "Collecting stevedore>=2.0.1\n",
      "  Downloading stevedore-3.3.0-py3-none-any.whl (49 kB)\n",
      "\u001b[K     |████████████████████████████████| 49 kB 746 kB/s eta 0:00:01\n",
      "\u001b[?25hCollecting pbr!=2.1.0,>=2.0.0\n",
      "  Downloading pbr-5.5.1-py2.py3-none-any.whl (106 kB)\n",
      "\u001b[K     |████████████████████████████████| 106 kB 3.2 MB/s eta 0:00:01\n",
      "\u001b[?25hRequirement already satisfied: MarkupSafe>=0.9.2 in /home/ki-mu-ra/anaconda3/lib/python3.7/site-packages (from Mako->alembic->optuna) (1.1.1)\n",
      "Requirement already satisfied: attrs>=16.3.0 in /home/ki-mu-ra/anaconda3/lib/python3.7/site-packages (from cmd2!=0.8.3,>=0.8.0->cliff->optuna) (19.3.0)\n",
      "Requirement already satisfied: colorama>=0.3.7 in /home/ki-mu-ra/anaconda3/lib/python3.7/site-packages (from cmd2!=0.8.3,>=0.8.0->cliff->optuna) (0.4.3)\n",
      "Collecting importlib-metadata>=1.6.0; python_version < \"3.8\"\n",
      "  Downloading importlib_metadata-3.1.1-py3-none-any.whl (9.6 kB)\n",
      "Requirement already satisfied: wcwidth>=0.1.7 in /home/ki-mu-ra/anaconda3/lib/python3.7/site-packages (from cmd2!=0.8.3,>=0.8.0->cliff->optuna) (0.1.8)\n",
      "Collecting pyperclip>=1.6\n",
      "  Downloading pyperclip-1.8.1.tar.gz (20 kB)\n",
      "Requirement already satisfied: zipp>=0.5 in /home/ki-mu-ra/anaconda3/lib/python3.7/site-packages (from importlib-metadata>=1.6.0; python_version < \"3.8\"->cmd2!=0.8.3,>=0.8.0->cliff->optuna) (2.2.0)\n",
      "Building wheels for collected packages: optuna, PrettyTable, pyperclip\n",
      "  Building wheel for optuna (PEP 517) ... \u001b[?25ldone\n",
      "\u001b[?25h  Created wheel for optuna: filename=optuna-2.3.0-py3-none-any.whl size=359761 sha256=e14500ade6a7fd3837689f75a7e8284227a0037fa538b11c91f5a7e0e9191f2f\n",
      "  Stored in directory: /home/ki-mu-ra/.cache/pip/wheels/38/61/9e/955ab1890f6cab231b1d756db63f36c711968a324296e0b649\n",
      "  Building wheel for PrettyTable (setup.py) ... \u001b[?25ldone\n",
      "\u001b[?25h  Created wheel for PrettyTable: filename=prettytable-0.7.2-py3-none-any.whl size=13698 sha256=95fe170694acdd80ad79cd747f10fd8a629cd2dfe74120fdeed8338c904ed207\n",
      "  Stored in directory: /home/ki-mu-ra/.cache/pip/wheels/8c/76/0b/eb9eb3da7e2335e3577e3f96a0ae9f74f206e26457bd1a2bc8\n",
      "  Building wheel for pyperclip (setup.py) ... \u001b[?25ldone\n",
      "\u001b[?25h  Created wheel for pyperclip: filename=pyperclip-1.8.1-py3-none-any.whl size=11118 sha256=c04406f5487b74844975b4787353db644714040e45bbccc5e98459cc98f2eb90\n",
      "  Stored in directory: /home/ki-mu-ra/.cache/pip/wheels/67/3f/92/2fae5a6ebb97a26aea363c444dcfa7c7b479feff12fcac6d0c\n",
      "Successfully built optuna PrettyTable pyperclip\n",
      "\u001b[31mERROR: pytest-astropy 0.8.0 requires pytest-cov>=2.0, which is not installed.\u001b[0m\n",
      "\u001b[31mERROR: pytest-astropy 0.8.0 requires pytest-filter-subpackage>=0.1, which is not installed.\u001b[0m\n",
      "Installing collected packages: colorlog, Mako, python-editor, alembic, cmaes, importlib-metadata, pyperclip, cmd2, PrettyTable, pbr, stevedore, cliff, optuna\n",
      "  Attempting uninstall: importlib-metadata\n",
      "    Found existing installation: importlib-metadata 1.5.0\n",
      "    Uninstalling importlib-metadata-1.5.0:\n",
      "      Successfully uninstalled importlib-metadata-1.5.0\n",
      "Successfully installed Mako-1.1.3 PrettyTable-0.7.2 alembic-1.4.3 cliff-3.5.0 cmaes-0.7.0 cmd2-1.4.0 colorlog-4.6.2 importlib-metadata-3.1.1 optuna-2.3.0 pbr-5.5.1 pyperclip-1.8.1 python-editor-1.0.4 stevedore-3.3.0\n",
      "Note: you may need to restart the kernel to use updated packages.\n"
     ]
    }
   ],
   "source": [
    "pip install optuna\n"
   ]
  },
  {
   "cell_type": "markdown",
   "metadata": {},
   "source": [
    "## 4.9　ハイパーパラメータを最適化する"
   ]
  },
  {
   "cell_type": "markdown",
   "metadata": {},
   "source": [
    "#### Optunaのライブラリをインストール・インポートする"
   ]
  },
  {
   "cell_type": "markdown",
   "metadata": {},
   "source": [
    "リスト4.65　Optunaのライブラリのインポート"
   ]
  },
  {
   "cell_type": "code",
   "execution_count": 83,
   "metadata": {},
   "outputs": [],
   "source": [
    "import optuna"
   ]
  },
  {
   "cell_type": "markdown",
   "metadata": {},
   "source": [
    "### Optunaを実装する"
   ]
  },
  {
   "cell_type": "markdown",
   "metadata": {},
   "source": [
    "#### 学習データ、検証データを作成する"
   ]
  },
  {
   "cell_type": "markdown",
   "metadata": {},
   "source": [
    "リスト4.66　学習データと検証データを作成"
   ]
  },
  {
   "cell_type": "code",
   "execution_count": 84,
   "metadata": {},
   "outputs": [],
   "source": [
    "from sklearn.model_selection import train_test_split"
   ]
  },
  {
   "cell_type": "code",
   "execution_count": 85,
   "metadata": {},
   "outputs": [],
   "source": [
    "X_train, X_valid, y_train, y_valid = train_test_split(train_X, train_Y, test_size=0.2, random_state=1234, shuffle=False,  stratify=None)"
   ]
  },
  {
   "cell_type": "markdown",
   "metadata": {},
   "source": [
    "#### ハイパーパラメータを最適化する"
   ]
  },
  {
   "cell_type": "markdown",
   "metadata": {},
   "source": [
    "リスト4.67　Optunaでハイパーパラメータを最適化する"
   ]
  },
  {
   "cell_type": "code",
   "execution_count": 86,
   "metadata": {},
   "outputs": [],
   "source": [
    "def objective(trial):\n",
    "    params = {\n",
    "        \"objective\":\"regression\",\n",
    "        \"random_seed\":1234,\n",
    "        \"learning_rate\":0.05,        \n",
    "        \"n_estimators\":1000,        \n",
    "        \n",
    "        \"num_leaves\":trial.suggest_int(\"num_leaves\",4,64),\n",
    "        \"max_bin\":trial.suggest_int(\"max_bin\",50,200),        \n",
    "        \"bagging_fraction\":trial.suggest_uniform(\"bagging_fraction\",0.4,0.9),\n",
    "        \"bagging_freq\":trial.suggest_int(\"bagging_freq\",1,10),\n",
    "        \"feature_fraction\":trial.suggest_uniform(\"feature_fraction\",0.4,0.9),\n",
    "        \"min_data_in_leaf\":trial.suggest_int(\"min_data_in_leaf\",2,16),                \n",
    "        \"min_sum_hessian_in_leaf\":trial.suggest_int(\"min_sum_hessian_in_leaf\",1,10),\n",
    "    }\n",
    "    \n",
    "    lgb_train = lgb.Dataset(X_train, y_train)\n",
    "    lgb_eval = lgb.Dataset(X_valid, y_valid, reference=lgb_train)    \n",
    "    \n",
    "    model_lgb = lgb.train(params, lgb_train, \n",
    "                          valid_sets=lgb_eval, \n",
    "                          num_boost_round=100,\n",
    "                          early_stopping_rounds=20,\n",
    "                          verbose_eval=10,)    \n",
    "    \n",
    "    y_pred = model_lgb.predict(X_valid, num_iteration=model_lgb.best_iteration)\n",
    "    score =  np.sqrt(mean_squared_error(y_valid, y_pred))\n",
    "    \n",
    "    return score"
   ]
  },
  {
   "cell_type": "code",
   "execution_count": 87,
   "metadata": {},
   "outputs": [
    {
     "name": "stderr",
     "output_type": "stream",
     "text": [
      "\u001b[32m[I 2020-12-11 20:23:57,246]\u001b[0m A new study created in memory with name: no-name-6de9bc3a-251b-43dd-8b3a-77244b4aec9c\u001b[0m\n"
     ]
    },
    {
     "name": "stdout",
     "output_type": "stream",
     "text": [
      "Training until validation scores don't improve for 20 rounds\n",
      "[10]\tvalid_0's l2: 0.0281449\n",
      "[20]\tvalid_0's l2: 0.0260767\n",
      "[30]\tvalid_0's l2: 0.025388\n",
      "[40]\tvalid_0's l2: 0.0253155\n",
      "[50]\tvalid_0's l2: 0.0253969\n"
     ]
    },
    {
     "name": "stderr",
     "output_type": "stream",
     "text": [
      "\u001b[32m[I 2020-12-11 20:23:58,367]\u001b[0m Trial 0 finished with value: 0.15884159922972615 and parameters: {'num_leaves': 48, 'max_bin': 97, 'bagging_fraction': 0.7575946831862097, 'bagging_freq': 4, 'feature_fraction': 0.8289728088113784, 'min_data_in_leaf': 9, 'min_sum_hessian_in_leaf': 10}. Best is trial 0 with value: 0.15884159922972615.\u001b[0m\n"
     ]
    },
    {
     "name": "stdout",
     "output_type": "stream",
     "text": [
      "[60]\tvalid_0's l2: 0.0255381\n",
      "Early stopping, best iteration is:\n",
      "[43]\tvalid_0's l2: 0.0252307\n",
      "Training until validation scores don't improve for 20 rounds\n",
      "[10]\tvalid_0's l2: 0.0283391\n",
      "[20]\tvalid_0's l2: 0.0263783\n",
      "[30]\tvalid_0's l2: 0.0257898\n",
      "[40]\tvalid_0's l2: 0.0256146\n",
      "[50]\tvalid_0's l2: 0.02541\n"
     ]
    },
    {
     "name": "stderr",
     "output_type": "stream",
     "text": [
      "\u001b[32m[I 2020-12-11 20:23:59,052]\u001b[0m Trial 1 finished with value: 0.15940516723679354 and parameters: {'num_leaves': 23, 'max_bin': 71, 'bagging_fraction': 0.5921908536463499, 'bagging_freq': 8, 'feature_fraction': 0.8458865003910399, 'min_data_in_leaf': 10, 'min_sum_hessian_in_leaf': 2}. Best is trial 0 with value: 0.15884159922972615.\u001b[0m\n"
     ]
    },
    {
     "name": "stdout",
     "output_type": "stream",
     "text": [
      "[60]\tvalid_0's l2: 0.0254654\n",
      "[70]\tvalid_0's l2: 0.025501\n",
      "Early stopping, best iteration is:\n",
      "[50]\tvalid_0's l2: 0.02541\n",
      "Training until validation scores don't improve for 20 rounds\n",
      "[10]\tvalid_0's l2: 0.0278765\n",
      "[20]\tvalid_0's l2: 0.0261464\n",
      "[30]\tvalid_0's l2: 0.0252278\n",
      "[40]\tvalid_0's l2: 0.0247386\n",
      "[50]\tvalid_0's l2: 0.0245491\n",
      "[60]\tvalid_0's l2: 0.0246044\n"
     ]
    },
    {
     "name": "stderr",
     "output_type": "stream",
     "text": [
      "\u001b[32m[I 2020-12-11 20:23:59,901]\u001b[0m Trial 2 finished with value: 0.1561422626698646 and parameters: {'num_leaves': 42, 'max_bin': 89, 'bagging_fraction': 0.6644474598764523, 'bagging_freq': 9, 'feature_fraction': 0.5963923980504149, 'min_data_in_leaf': 11, 'min_sum_hessian_in_leaf': 9}. Best is trial 2 with value: 0.1561422626698646.\u001b[0m\n"
     ]
    },
    {
     "name": "stdout",
     "output_type": "stream",
     "text": [
      "[70]\tvalid_0's l2: 0.0244944\n",
      "[80]\tvalid_0's l2: 0.0244013\n",
      "[90]\tvalid_0's l2: 0.0244792\n",
      "Early stopping, best iteration is:\n",
      "[79]\tvalid_0's l2: 0.0243804\n",
      "Training until validation scores don't improve for 20 rounds\n",
      "[10]\tvalid_0's l2: 0.0292679\n",
      "[20]\tvalid_0's l2: 0.0279297\n",
      "[30]\tvalid_0's l2: 0.0273104\n",
      "[40]\tvalid_0's l2: 0.0271902\n",
      "[50]\tvalid_0's l2: 0.0269304\n",
      "[60]\tvalid_0's l2: 0.0265492\n",
      "[70]\tvalid_0's l2: 0.0267071\n"
     ]
    },
    {
     "name": "stderr",
     "output_type": "stream",
     "text": [
      "\u001b[32m[I 2020-12-11 20:24:00,531]\u001b[0m Trial 3 finished with value: 0.16293934182477626 and parameters: {'num_leaves': 13, 'max_bin': 198, 'bagging_fraction': 0.4101091987201629, 'bagging_freq': 4, 'feature_fraction': 0.8785775794765232, 'min_data_in_leaf': 2, 'min_sum_hessian_in_leaf': 3}. Best is trial 2 with value: 0.1561422626698646.\u001b[0m\n"
     ]
    },
    {
     "name": "stdout",
     "output_type": "stream",
     "text": [
      "[80]\tvalid_0's l2: 0.0268553\n",
      "Early stopping, best iteration is:\n",
      "[60]\tvalid_0's l2: 0.0265492\n",
      "Training until validation scores don't improve for 20 rounds\n",
      "[10]\tvalid_0's l2: 0.0280289\n",
      "[20]\tvalid_0's l2: 0.0258991\n",
      "[30]\tvalid_0's l2: 0.0251092\n",
      "[40]\tvalid_0's l2: 0.0248987\n",
      "[50]\tvalid_0's l2: 0.0246768\n"
     ]
    },
    {
     "name": "stderr",
     "output_type": "stream",
     "text": [
      "\u001b[32m[I 2020-12-11 20:24:01,551]\u001b[0m Trial 4 finished with value: 0.1569284767325555 and parameters: {'num_leaves': 39, 'max_bin': 79, 'bagging_fraction': 0.7902645881432278, 'bagging_freq': 8, 'feature_fraction': 0.7199605106637619, 'min_data_in_leaf': 11, 'min_sum_hessian_in_leaf': 10}. Best is trial 2 with value: 0.1561422626698646.\u001b[0m\n"
     ]
    },
    {
     "name": "stdout",
     "output_type": "stream",
     "text": [
      "[60]\tvalid_0's l2: 0.02466\n",
      "[70]\tvalid_0's l2: 0.0246935\n",
      "Early stopping, best iteration is:\n",
      "[51]\tvalid_0's l2: 0.0246266\n",
      "Training until validation scores don't improve for 20 rounds\n",
      "[10]\tvalid_0's l2: 0.028001\n",
      "[20]\tvalid_0's l2: 0.0262586\n",
      "[30]\tvalid_0's l2: 0.025399\n",
      "[40]\tvalid_0's l2: 0.0249841\n",
      "[50]\tvalid_0's l2: 0.024965\n",
      "[60]\tvalid_0's l2: 0.0252253\n",
      "[70]\tvalid_0's l2: 0.0254332\n"
     ]
    },
    {
     "name": "stderr",
     "output_type": "stream",
     "text": [
      "\u001b[32m[I 2020-12-11 20:24:02,663]\u001b[0m Trial 5 finished with value: 0.15780798410994165 and parameters: {'num_leaves': 36, 'max_bin': 81, 'bagging_fraction': 0.4529538035938961, 'bagging_freq': 8, 'feature_fraction': 0.5322778060523135, 'min_data_in_leaf': 13, 'min_sum_hessian_in_leaf': 3}. Best is trial 2 with value: 0.1561422626698646.\u001b[0m\n"
     ]
    },
    {
     "name": "stdout",
     "output_type": "stream",
     "text": [
      "Early stopping, best iteration is:\n",
      "[56]\tvalid_0's l2: 0.0249034\n",
      "Training until validation scores don't improve for 20 rounds\n",
      "[10]\tvalid_0's l2: 0.027914\n",
      "[20]\tvalid_0's l2: 0.0258193\n",
      "[30]\tvalid_0's l2: 0.0251356\n",
      "[40]\tvalid_0's l2: 0.0248757\n",
      "[50]\tvalid_0's l2: 0.025093\n",
      "Early stopping, best iteration is:\n",
      "[38]\tvalid_0's l2: 0.0248556\n"
     ]
    },
    {
     "name": "stderr",
     "output_type": "stream",
     "text": [
      "\u001b[32m[I 2020-12-11 20:24:03,721]\u001b[0m Trial 6 finished with value: 0.1576564406988792 and parameters: {'num_leaves': 59, 'max_bin': 78, 'bagging_fraction': 0.6842169744343243, 'bagging_freq': 1, 'feature_fraction': 0.5620705038966071, 'min_data_in_leaf': 7, 'min_sum_hessian_in_leaf': 7}. Best is trial 2 with value: 0.1561422626698646.\u001b[0m\n"
     ]
    },
    {
     "name": "stdout",
     "output_type": "stream",
     "text": [
      "Training until validation scores don't improve for 20 rounds\n",
      "[10]\tvalid_0's l2: 0.028122\n",
      "[20]\tvalid_0's l2: 0.0260967\n",
      "[30]\tvalid_0's l2: 0.0251743\n",
      "[40]\tvalid_0's l2: 0.0246974\n",
      "[50]\tvalid_0's l2: 0.0246975\n",
      "[60]\tvalid_0's l2: 0.0246411\n",
      "[70]\tvalid_0's l2: 0.024671\n",
      "[80]\tvalid_0's l2: 0.0248264\n",
      "Early stopping, best iteration is:\n",
      "[68]\tvalid_0's l2: 0.0245925\n"
     ]
    },
    {
     "name": "stderr",
     "output_type": "stream",
     "text": [
      "\u001b[32m[I 2020-12-11 20:24:04,620]\u001b[0m Trial 7 finished with value: 0.15681992456373234 and parameters: {'num_leaves': 44, 'max_bin': 67, 'bagging_fraction': 0.8718740392573121, 'bagging_freq': 10, 'feature_fraction': 0.6249749949556138, 'min_data_in_leaf': 10, 'min_sum_hessian_in_leaf': 2}. Best is trial 2 with value: 0.1561422626698646.\u001b[0m\n"
     ]
    },
    {
     "name": "stdout",
     "output_type": "stream",
     "text": [
      "Training until validation scores don't improve for 20 rounds\n",
      "[10]\tvalid_0's l2: 0.0293711\n",
      "[20]\tvalid_0's l2: 0.0276346\n",
      "[30]\tvalid_0's l2: 0.026775\n",
      "[40]\tvalid_0's l2: 0.0263959\n",
      "[50]\tvalid_0's l2: 0.0261758\n",
      "[60]\tvalid_0's l2: 0.0259455\n",
      "[70]\tvalid_0's l2: 0.0258853\n",
      "[80]\tvalid_0's l2: 0.0258734\n",
      "Early stopping, best iteration is:\n",
      "[65]\tvalid_0's l2: 0.0258458\n"
     ]
    },
    {
     "name": "stderr",
     "output_type": "stream",
     "text": [
      "\u001b[32m[I 2020-12-11 20:24:04,993]\u001b[0m Trial 8 finished with value: 0.16076616419812853 and parameters: {'num_leaves': 5, 'max_bin': 107, 'bagging_fraction': 0.7333833577228339, 'bagging_freq': 8, 'feature_fraction': 0.4854547925680226, 'min_data_in_leaf': 4, 'min_sum_hessian_in_leaf': 1}. Best is trial 2 with value: 0.1561422626698646.\u001b[0m\n"
     ]
    },
    {
     "name": "stdout",
     "output_type": "stream",
     "text": [
      "Training until validation scores don't improve for 20 rounds\n",
      "[10]\tvalid_0's l2: 0.0284921\n",
      "[20]\tvalid_0's l2: 0.0268125\n",
      "[30]\tvalid_0's l2: 0.0257892\n",
      "[40]\tvalid_0's l2: 0.0253178\n",
      "[50]\tvalid_0's l2: 0.0251792\n",
      "[60]\tvalid_0's l2: 0.0251831\n",
      "[70]\tvalid_0's l2: 0.0253085\n",
      "Early stopping, best iteration is:\n",
      "[54]\tvalid_0's l2: 0.0251622\n"
     ]
    },
    {
     "name": "stderr",
     "output_type": "stream",
     "text": [
      "\u001b[32m[I 2020-12-11 20:24:05,377]\u001b[0m Trial 9 finished with value: 0.15862584317078054 and parameters: {'num_leaves': 18, 'max_bin': 149, 'bagging_fraction': 0.5818553854713113, 'bagging_freq': 10, 'feature_fraction': 0.4192127132363674, 'min_data_in_leaf': 13, 'min_sum_hessian_in_leaf': 5}. Best is trial 2 with value: 0.1561422626698646.\u001b[0m\n"
     ]
    },
    {
     "name": "stdout",
     "output_type": "stream",
     "text": [
      "Training until validation scores don't improve for 20 rounds\n",
      "[10]\tvalid_0's l2: 0.0290312\n",
      "[20]\tvalid_0's l2: 0.027311\n",
      "[30]\tvalid_0's l2: 0.0265631\n",
      "[40]\tvalid_0's l2: 0.0262263\n"
     ]
    },
    {
     "name": "stderr",
     "output_type": "stream",
     "text": [
      "\u001b[32m[I 2020-12-11 20:24:05,863]\u001b[0m Trial 10 finished with value: 0.16010243684558603 and parameters: {'num_leaves': 10, 'max_bin': 97, 'bagging_fraction': 0.5044383780474173, 'bagging_freq': 4, 'feature_fraction': 0.8976497838389439, 'min_data_in_leaf': 6, 'min_sum_hessian_in_leaf': 9}. Best is trial 2 with value: 0.1561422626698646.\u001b[0m\n"
     ]
    },
    {
     "name": "stdout",
     "output_type": "stream",
     "text": [
      "[50]\tvalid_0's l2: 0.0259277\n",
      "[60]\tvalid_0's l2: 0.0257558\n",
      "[70]\tvalid_0's l2: 0.025769\n",
      "Early stopping, best iteration is:\n",
      "[56]\tvalid_0's l2: 0.0256328\n",
      "Training until validation scores don't improve for 20 rounds\n",
      "[10]\tvalid_0's l2: 0.0284785\n",
      "[20]\tvalid_0's l2: 0.0264393\n",
      "[30]\tvalid_0's l2: 0.0257342\n",
      "[40]\tvalid_0's l2: 0.0253647\n",
      "[50]\tvalid_0's l2: 0.025155\n",
      "[60]\tvalid_0's l2: 0.02509\n",
      "[70]\tvalid_0's l2: 0.0250717\n",
      "[80]\tvalid_0's l2: 0.0252581\n",
      "Early stopping, best iteration is:\n",
      "[69]\tvalid_0's l2: 0.0250167\n"
     ]
    },
    {
     "name": "stderr",
     "output_type": "stream",
     "text": [
      "\u001b[32m[I 2020-12-11 20:24:06,499]\u001b[0m Trial 11 finished with value: 0.15816666434220356 and parameters: {'num_leaves': 18, 'max_bin': 193, 'bagging_fraction': 0.6373487511442064, 'bagging_freq': 8, 'feature_fraction': 0.5690038074194459, 'min_data_in_leaf': 7, 'min_sum_hessian_in_leaf': 6}. Best is trial 2 with value: 0.1561422626698646.\u001b[0m\n"
     ]
    },
    {
     "name": "stdout",
     "output_type": "stream",
     "text": [
      "Training until validation scores don't improve for 20 rounds\n",
      "[10]\tvalid_0's l2: 0.0280265\n",
      "[20]\tvalid_0's l2: 0.0259919\n",
      "[30]\tvalid_0's l2: 0.0252942\n",
      "[40]\tvalid_0's l2: 0.0250083\n",
      "[50]\tvalid_0's l2: 0.0248233\n",
      "[60]\tvalid_0's l2: 0.0250295\n",
      "Early stopping, best iteration is:\n",
      "[49]\tvalid_0's l2: 0.0248128\n"
     ]
    },
    {
     "name": "stderr",
     "output_type": "stream",
     "text": [
      "\u001b[32m[I 2020-12-11 20:24:07,800]\u001b[0m Trial 12 finished with value: 0.1575209244071195 and parameters: {'num_leaves': 52, 'max_bin': 99, 'bagging_fraction': 0.7891727410129545, 'bagging_freq': 4, 'feature_fraction': 0.5843625853304821, 'min_data_in_leaf': 7, 'min_sum_hessian_in_leaf': 1}. Best is trial 2 with value: 0.1561422626698646.\u001b[0m\n"
     ]
    },
    {
     "name": "stdout",
     "output_type": "stream",
     "text": [
      "Training until validation scores don't improve for 20 rounds\n",
      "[10]\tvalid_0's l2: 0.027972\n",
      "[20]\tvalid_0's l2: 0.0262139\n",
      "[30]\tvalid_0's l2: 0.0252113\n",
      "[40]\tvalid_0's l2: 0.0246326\n",
      "[50]\tvalid_0's l2: 0.0245305\n",
      "[60]\tvalid_0's l2: 0.0243026\n",
      "[70]\tvalid_0's l2: 0.0245069\n"
     ]
    },
    {
     "name": "stderr",
     "output_type": "stream",
     "text": [
      "\u001b[32m[I 2020-12-11 20:24:08,969]\u001b[0m Trial 13 finished with value: 0.15564978135408586 and parameters: {'num_leaves': 53, 'max_bin': 86, 'bagging_fraction': 0.44804920394698156, 'bagging_freq': 4, 'feature_fraction': 0.6343256008238508, 'min_data_in_leaf': 15, 'min_sum_hessian_in_leaf': 1}. Best is trial 13 with value: 0.15564978135408586.\u001b[0m\n"
     ]
    },
    {
     "name": "stdout",
     "output_type": "stream",
     "text": [
      "Early stopping, best iteration is:\n",
      "[57]\tvalid_0's l2: 0.0242269\n",
      "Training until validation scores don't improve for 20 rounds\n",
      "[10]\tvalid_0's l2: 0.0277517\n",
      "[20]\tvalid_0's l2: 0.025607\n",
      "[30]\tvalid_0's l2: 0.0246647\n",
      "[40]\tvalid_0's l2: 0.0244522\n",
      "[50]\tvalid_0's l2: 0.0244167\n",
      "[60]\tvalid_0's l2: 0.0242648\n",
      "[70]\tvalid_0's l2: 0.0243348\n"
     ]
    },
    {
     "name": "stderr",
     "output_type": "stream",
     "text": [
      "\u001b[32m[I 2020-12-11 20:24:10,427]\u001b[0m Trial 14 finished with value: 0.15562305686802497 and parameters: {'num_leaves': 43, 'max_bin': 199, 'bagging_fraction': 0.7696317896991509, 'bagging_freq': 1, 'feature_fraction': 0.6208554606244228, 'min_data_in_leaf': 13, 'min_sum_hessian_in_leaf': 8}. Best is trial 14 with value: 0.15562305686802497.\u001b[0m\n"
     ]
    },
    {
     "name": "stdout",
     "output_type": "stream",
     "text": [
      "[80]\tvalid_0's l2: 0.024546\n",
      "Early stopping, best iteration is:\n",
      "[63]\tvalid_0's l2: 0.0242185\n",
      "Training until validation scores don't improve for 20 rounds\n",
      "[10]\tvalid_0's l2: 0.0278964\n",
      "[20]\tvalid_0's l2: 0.0260227\n",
      "[30]\tvalid_0's l2: 0.0259315\n",
      "[40]\tvalid_0's l2: 0.025751\n"
     ]
    },
    {
     "name": "stderr",
     "output_type": "stream",
     "text": [
      "\u001b[32m[I 2020-12-11 20:24:11,773]\u001b[0m Trial 15 finished with value: 0.16003896090954392 and parameters: {'num_leaves': 63, 'max_bin': 180, 'bagging_fraction': 0.7443305914028853, 'bagging_freq': 4, 'feature_fraction': 0.8591177331810724, 'min_data_in_leaf': 5, 'min_sum_hessian_in_leaf': 3}. Best is trial 14 with value: 0.15562305686802497.\u001b[0m\n"
     ]
    },
    {
     "name": "stdout",
     "output_type": "stream",
     "text": [
      "[50]\tvalid_0's l2: 0.0259524\n",
      "[60]\tvalid_0's l2: 0.0259593\n",
      "Early stopping, best iteration is:\n",
      "[44]\tvalid_0's l2: 0.0256125\n",
      "Training until validation scores don't improve for 20 rounds\n",
      "[10]\tvalid_0's l2: 0.028128\n",
      "[20]\tvalid_0's l2: 0.026742\n",
      "[30]\tvalid_0's l2: 0.0258205\n",
      "[40]\tvalid_0's l2: 0.0259921\n"
     ]
    },
    {
     "name": "stderr",
     "output_type": "stream",
     "text": [
      "\u001b[32m[I 2020-12-11 20:24:12,553]\u001b[0m Trial 16 finished with value: 0.16059394567564184 and parameters: {'num_leaves': 50, 'max_bin': 198, 'bagging_fraction': 0.5326947454697227, 'bagging_freq': 10, 'feature_fraction': 0.8605788051185999, 'min_data_in_leaf': 6, 'min_sum_hessian_in_leaf': 7}. Best is trial 14 with value: 0.15562305686802497.\u001b[0m\n"
     ]
    },
    {
     "name": "stdout",
     "output_type": "stream",
     "text": [
      "Early stopping, best iteration is:\n",
      "[29]\tvalid_0's l2: 0.0257904\n",
      "Training until validation scores don't improve for 20 rounds\n",
      "[10]\tvalid_0's l2: 0.0278963\n",
      "[20]\tvalid_0's l2: 0.0258258\n",
      "[30]\tvalid_0's l2: 0.0251822\n",
      "[40]\tvalid_0's l2: 0.0250026\n",
      "[50]\tvalid_0's l2: 0.025007\n",
      "[60]\tvalid_0's l2: 0.0249\n",
      "Early stopping, best iteration is:\n",
      "[44]\tvalid_0's l2: 0.024849\n"
     ]
    },
    {
     "name": "stderr",
     "output_type": "stream",
     "text": [
      "\u001b[32m[I 2020-12-11 20:24:13,570]\u001b[0m Trial 17 finished with value: 0.15763570060693952 and parameters: {'num_leaves': 47, 'max_bin': 154, 'bagging_fraction': 0.7337051899818409, 'bagging_freq': 4, 'feature_fraction': 0.7235870700937778, 'min_data_in_leaf': 8, 'min_sum_hessian_in_leaf': 1}. Best is trial 14 with value: 0.15562305686802497.\u001b[0m\n"
     ]
    },
    {
     "name": "stdout",
     "output_type": "stream",
     "text": [
      "Training until validation scores don't improve for 20 rounds\n",
      "[10]\tvalid_0's l2: 0.0281202\n",
      "[20]\tvalid_0's l2: 0.0261441\n",
      "[30]\tvalid_0's l2: 0.0252866\n",
      "[40]\tvalid_0's l2: 0.0248004\n",
      "[50]\tvalid_0's l2: 0.0246474\n",
      "[60]\tvalid_0's l2: 0.024631\n"
     ]
    },
    {
     "name": "stderr",
     "output_type": "stream",
     "text": [
      "\u001b[32m[I 2020-12-11 20:24:14,582]\u001b[0m Trial 18 finished with value: 0.1568387084167915 and parameters: {'num_leaves': 42, 'max_bin': 69, 'bagging_fraction': 0.5989103763793145, 'bagging_freq': 4, 'feature_fraction': 0.4100537730937468, 'min_data_in_leaf': 10, 'min_sum_hessian_in_leaf': 9}. Best is trial 14 with value: 0.15562305686802497.\u001b[0m\n"
     ]
    },
    {
     "name": "stdout",
     "output_type": "stream",
     "text": [
      "[70]\tvalid_0's l2: 0.0248978\n",
      "Early stopping, best iteration is:\n",
      "[57]\tvalid_0's l2: 0.0245984\n",
      "Training until validation scores don't improve for 20 rounds\n",
      "[10]\tvalid_0's l2: 0.0291629\n",
      "[20]\tvalid_0's l2: 0.0274691\n",
      "[30]\tvalid_0's l2: 0.0266309\n",
      "[40]\tvalid_0's l2: 0.026293\n",
      "[50]\tvalid_0's l2: 0.026073\n",
      "[60]\tvalid_0's l2: 0.0259129\n",
      "[70]\tvalid_0's l2: 0.0256993\n",
      "[80]\tvalid_0's l2: 0.025608\n",
      "[90]\tvalid_0's l2: 0.0255358\n",
      "[100]\tvalid_0's l2: 0.0255299\n",
      "[110]\tvalid_0's l2: 0.0254364\n",
      "[120]\tvalid_0's l2: 0.0254669\n",
      "[130]\tvalid_0's l2: 0.0254154\n",
      "[140]\tvalid_0's l2: 0.0254837\n"
     ]
    },
    {
     "name": "stderr",
     "output_type": "stream",
     "text": [
      "\u001b[32m[I 2020-12-11 20:24:15,214]\u001b[0m Trial 19 finished with value: 0.15935659844502956 and parameters: {'num_leaves': 6, 'max_bin': 53, 'bagging_fraction': 0.7518686396449581, 'bagging_freq': 1, 'feature_fraction': 0.5243765717599791, 'min_data_in_leaf': 5, 'min_sum_hessian_in_leaf': 9}. Best is trial 14 with value: 0.15562305686802497.\u001b[0m\n"
     ]
    },
    {
     "name": "stdout",
     "output_type": "stream",
     "text": [
      "Early stopping, best iteration is:\n",
      "[126]\tvalid_0's l2: 0.0253945\n",
      "Training until validation scores don't improve for 20 rounds\n",
      "[10]\tvalid_0's l2: 0.0279982\n",
      "[20]\tvalid_0's l2: 0.025834\n",
      "[30]\tvalid_0's l2: 0.0254164\n",
      "[40]\tvalid_0's l2: 0.0250921\n",
      "[50]\tvalid_0's l2: 0.0249594\n",
      "[60]\tvalid_0's l2: 0.0248045\n",
      "[70]\tvalid_0's l2: 0.0246969\n"
     ]
    },
    {
     "name": "stderr",
     "output_type": "stream",
     "text": [
      "\u001b[32m[I 2020-12-11 20:24:16,275]\u001b[0m Trial 20 finished with value: 0.15711344156306686 and parameters: {'num_leaves': 30, 'max_bin': 117, 'bagging_fraction': 0.8763745057584925, 'bagging_freq': 1, 'feature_fraction': 0.8232043362355639, 'min_data_in_leaf': 15, 'min_sum_hessian_in_leaf': 7}. Best is trial 14 with value: 0.15562305686802497.\u001b[0m\n"
     ]
    },
    {
     "name": "stdout",
     "output_type": "stream",
     "text": [
      "[80]\tvalid_0's l2: 0.0248716\n",
      "[90]\tvalid_0's l2: 0.0249013\n",
      "Early stopping, best iteration is:\n",
      "[71]\tvalid_0's l2: 0.0246846\n",
      "Training until validation scores don't improve for 20 rounds\n",
      "[10]\tvalid_0's l2: 0.0284767\n",
      "[20]\tvalid_0's l2: 0.026276\n",
      "[30]\tvalid_0's l2: 0.0255506\n",
      "[40]\tvalid_0's l2: 0.025122\n",
      "[50]\tvalid_0's l2: 0.0250448\n",
      "[60]\tvalid_0's l2: 0.0250633\n",
      "[70]\tvalid_0's l2: 0.0251214\n"
     ]
    },
    {
     "name": "stderr",
     "output_type": "stream",
     "text": [
      "\u001b[32m[I 2020-12-11 20:24:16,946]\u001b[0m Trial 21 finished with value: 0.15809257644383112 and parameters: {'num_leaves': 17, 'max_bin': 171, 'bagging_fraction': 0.5982528704234924, 'bagging_freq': 9, 'feature_fraction': 0.5248981378274891, 'min_data_in_leaf': 15, 'min_sum_hessian_in_leaf': 6}. Best is trial 14 with value: 0.15562305686802497.\u001b[0m\n"
     ]
    },
    {
     "name": "stdout",
     "output_type": "stream",
     "text": [
      "Early stopping, best iteration is:\n",
      "[58]\tvalid_0's l2: 0.0249933\n",
      "Training until validation scores don't improve for 20 rounds\n",
      "[10]\tvalid_0's l2: 0.0281301\n",
      "[20]\tvalid_0's l2: 0.0267415\n",
      "[30]\tvalid_0's l2: 0.0259344\n",
      "[40]\tvalid_0's l2: 0.0257768\n",
      "[50]\tvalid_0's l2: 0.0257039\n",
      "[60]\tvalid_0's l2: 0.02584\n",
      "[70]\tvalid_0's l2: 0.0258581\n",
      "Early stopping, best iteration is:\n",
      "[56]\tvalid_0's l2: 0.0256225\n"
     ]
    },
    {
     "name": "stderr",
     "output_type": "stream",
     "text": [
      "\u001b[32m[I 2020-12-11 20:24:17,854]\u001b[0m Trial 22 finished with value: 0.16007031405402675 and parameters: {'num_leaves': 50, 'max_bin': 75, 'bagging_fraction': 0.6942325425343747, 'bagging_freq': 10, 'feature_fraction': 0.6506621909633512, 'min_data_in_leaf': 15, 'min_sum_hessian_in_leaf': 4}. Best is trial 14 with value: 0.15562305686802497.\u001b[0m\n"
     ]
    },
    {
     "name": "stdout",
     "output_type": "stream",
     "text": [
      "Training until validation scores don't improve for 20 rounds\n",
      "[10]\tvalid_0's l2: 0.028323\n",
      "[20]\tvalid_0's l2: 0.0265648\n",
      "[30]\tvalid_0's l2: 0.0258531\n",
      "[40]\tvalid_0's l2: 0.0256239\n",
      "[50]\tvalid_0's l2: 0.0252521\n",
      "[60]\tvalid_0's l2: 0.0251979\n",
      "[70]\tvalid_0's l2: 0.0253133\n"
     ]
    },
    {
     "name": "stderr",
     "output_type": "stream",
     "text": [
      "\u001b[32m[I 2020-12-11 20:24:18,819]\u001b[0m Trial 23 finished with value: 0.1583584641761559 and parameters: {'num_leaves': 37, 'max_bin': 154, 'bagging_fraction': 0.6119275242790898, 'bagging_freq': 10, 'feature_fraction': 0.6350660946278825, 'min_data_in_leaf': 15, 'min_sum_hessian_in_leaf': 8}. Best is trial 14 with value: 0.15562305686802497.\u001b[0m\n"
     ]
    },
    {
     "name": "stdout",
     "output_type": "stream",
     "text": [
      "[80]\tvalid_0's l2: 0.0254024\n",
      "Early stopping, best iteration is:\n",
      "[63]\tvalid_0's l2: 0.0250774\n",
      "Training until validation scores don't improve for 20 rounds\n",
      "[10]\tvalid_0's l2: 0.0279722\n",
      "[20]\tvalid_0's l2: 0.0258605\n",
      "[30]\tvalid_0's l2: 0.0253041\n",
      "[40]\tvalid_0's l2: 0.0250612\n",
      "[50]\tvalid_0's l2: 0.024921\n",
      "[60]\tvalid_0's l2: 0.0249854\n"
     ]
    },
    {
     "name": "stderr",
     "output_type": "stream",
     "text": [
      "\u001b[32m[I 2020-12-11 20:24:19,723]\u001b[0m Trial 24 finished with value: 0.15756137158733674 and parameters: {'num_leaves': 60, 'max_bin': 129, 'bagging_fraction': 0.7745849185763624, 'bagging_freq': 9, 'feature_fraction': 0.46773703211122514, 'min_data_in_leaf': 13, 'min_sum_hessian_in_leaf': 7}. Best is trial 14 with value: 0.15562305686802497.\u001b[0m\n"
     ]
    },
    {
     "name": "stdout",
     "output_type": "stream",
     "text": [
      "[70]\tvalid_0's l2: 0.0249992\n",
      "Early stopping, best iteration is:\n",
      "[52]\tvalid_0's l2: 0.0248256\n",
      "Training until validation scores don't improve for 20 rounds\n",
      "[10]\tvalid_0's l2: 0.0279941\n",
      "[20]\tvalid_0's l2: 0.0257383\n",
      "[30]\tvalid_0's l2: 0.0250378\n",
      "[40]\tvalid_0's l2: 0.0251035\n",
      "[50]\tvalid_0's l2: 0.0250592\n",
      "[60]\tvalid_0's l2: 0.0248355\n",
      "[70]\tvalid_0's l2: 0.0250155\n",
      "Early stopping, best iteration is:\n",
      "[59]\tvalid_0's l2: 0.0248244\n"
     ]
    },
    {
     "name": "stderr",
     "output_type": "stream",
     "text": [
      "\u001b[32m[I 2020-12-11 20:24:20,636]\u001b[0m Trial 25 finished with value: 0.15755764560596025 and parameters: {'num_leaves': 51, 'max_bin': 143, 'bagging_fraction': 0.6954363806240866, 'bagging_freq': 7, 'feature_fraction': 0.7266004099285668, 'min_data_in_leaf': 15, 'min_sum_hessian_in_leaf': 9}. Best is trial 14 with value: 0.15562305686802497.\u001b[0m\n"
     ]
    },
    {
     "name": "stdout",
     "output_type": "stream",
     "text": [
      "Training until validation scores don't improve for 20 rounds\n",
      "[10]\tvalid_0's l2: 0.028954\n",
      "[20]\tvalid_0's l2: 0.027307\n",
      "[30]\tvalid_0's l2: 0.0269218\n",
      "[40]\tvalid_0's l2: 0.0263842\n",
      "[50]\tvalid_0's l2: 0.0261702\n",
      "[60]\tvalid_0's l2: 0.0260364\n",
      "[70]\tvalid_0's l2: 0.0258183\n"
     ]
    },
    {
     "name": "stderr",
     "output_type": "stream",
     "text": [
      "\u001b[32m[I 2020-12-11 20:24:21,131]\u001b[0m Trial 26 finished with value: 0.16035998465343212 and parameters: {'num_leaves': 7, 'max_bin': 53, 'bagging_fraction': 0.5837809350239482, 'bagging_freq': 7, 'feature_fraction': 0.8920211206820732, 'min_data_in_leaf': 16, 'min_sum_hessian_in_leaf': 6}. Best is trial 14 with value: 0.15562305686802497.\u001b[0m\n"
     ]
    },
    {
     "name": "stdout",
     "output_type": "stream",
     "text": [
      "[80]\tvalid_0's l2: 0.0257531\n",
      "[90]\tvalid_0's l2: 0.0257153\n",
      "[100]\tvalid_0's l2: 0.0258486\n",
      "[110]\tvalid_0's l2: 0.0260572\n",
      "Early stopping, best iteration is:\n",
      "[90]\tvalid_0's l2: 0.0257153\n",
      "Training until validation scores don't improve for 20 rounds\n",
      "[10]\tvalid_0's l2: 0.0281743\n",
      "[20]\tvalid_0's l2: 0.0262365\n",
      "[30]\tvalid_0's l2: 0.0257961\n",
      "[40]\tvalid_0's l2: 0.0253537\n",
      "[50]\tvalid_0's l2: 0.025351\n"
     ]
    },
    {
     "name": "stderr",
     "output_type": "stream",
     "text": [
      "\u001b[32m[I 2020-12-11 20:24:21,805]\u001b[0m Trial 27 finished with value: 0.15890662282467594 and parameters: {'num_leaves': 27, 'max_bin': 93, 'bagging_fraction': 0.4501134436561506, 'bagging_freq': 9, 'feature_fraction': 0.5761558306002665, 'min_data_in_leaf': 8, 'min_sum_hessian_in_leaf': 6}. Best is trial 14 with value: 0.15562305686802497.\u001b[0m\n"
     ]
    },
    {
     "name": "stdout",
     "output_type": "stream",
     "text": [
      "[60]\tvalid_0's l2: 0.025331\n",
      "Early stopping, best iteration is:\n",
      "[44]\tvalid_0's l2: 0.0252513\n",
      "Training until validation scores don't improve for 20 rounds\n",
      "[10]\tvalid_0's l2: 0.0285268\n",
      "[20]\tvalid_0's l2: 0.0268652\n",
      "[30]\tvalid_0's l2: 0.0259713\n",
      "[40]\tvalid_0's l2: 0.0252453\n",
      "[50]\tvalid_0's l2: 0.0249714\n",
      "[60]\tvalid_0's l2: 0.02482\n",
      "[70]\tvalid_0's l2: 0.024647\n",
      "[80]\tvalid_0's l2: 0.0248118\n"
     ]
    },
    {
     "name": "stderr",
     "output_type": "stream",
     "text": [
      "\u001b[32m[I 2020-12-11 20:24:22,789]\u001b[0m Trial 28 finished with value: 0.15696038084588185 and parameters: {'num_leaves': 32, 'max_bin': 161, 'bagging_fraction': 0.41877969191407016, 'bagging_freq': 4, 'feature_fraction': 0.48342375652424985, 'min_data_in_leaf': 7, 'min_sum_hessian_in_leaf': 4}. Best is trial 14 with value: 0.15562305686802497.\u001b[0m\n"
     ]
    },
    {
     "name": "stdout",
     "output_type": "stream",
     "text": [
      "Early stopping, best iteration is:\n",
      "[69]\tvalid_0's l2: 0.0246366\n",
      "Training until validation scores don't improve for 20 rounds\n",
      "[10]\tvalid_0's l2: 0.0282215\n",
      "[20]\tvalid_0's l2: 0.0260834\n",
      "[30]\tvalid_0's l2: 0.0253076\n",
      "[40]\tvalid_0's l2: 0.0249307\n",
      "[50]\tvalid_0's l2: 0.0248576\n"
     ]
    },
    {
     "name": "stderr",
     "output_type": "stream",
     "text": [
      "\u001b[32m[I 2020-12-11 20:24:23,647]\u001b[0m Trial 29 finished with value: 0.1575977894181155 and parameters: {'num_leaves': 50, 'max_bin': 198, 'bagging_fraction': 0.6056983618777273, 'bagging_freq': 4, 'feature_fraction': 0.6035916486129999, 'min_data_in_leaf': 11, 'min_sum_hessian_in_leaf': 10}. Best is trial 14 with value: 0.15562305686802497.\u001b[0m\n"
     ]
    },
    {
     "name": "stdout",
     "output_type": "stream",
     "text": [
      "[60]\tvalid_0's l2: 0.0248755\n",
      "[70]\tvalid_0's l2: 0.0251183\n",
      "Early stopping, best iteration is:\n",
      "[51]\tvalid_0's l2: 0.0248371\n",
      "Training until validation scores don't improve for 20 rounds\n",
      "[10]\tvalid_0's l2: 0.0281476\n",
      "[20]\tvalid_0's l2: 0.0264615\n",
      "[30]\tvalid_0's l2: 0.0253837\n",
      "[40]\tvalid_0's l2: 0.0251641\n",
      "[50]\tvalid_0's l2: 0.0250057\n",
      "[60]\tvalid_0's l2: 0.0251556\n",
      "Early stopping, best iteration is:\n",
      "[45]\tvalid_0's l2: 0.0248355\n"
     ]
    },
    {
     "name": "stderr",
     "output_type": "stream",
     "text": [
      "\u001b[32m[I 2020-12-11 20:24:24,558]\u001b[0m Trial 30 finished with value: 0.1575927304873709 and parameters: {'num_leaves': 45, 'max_bin': 181, 'bagging_fraction': 0.6100376848953053, 'bagging_freq': 3, 'feature_fraction': 0.8331911629643146, 'min_data_in_leaf': 11, 'min_sum_hessian_in_leaf': 8}. Best is trial 14 with value: 0.15562305686802497.\u001b[0m\n"
     ]
    },
    {
     "name": "stdout",
     "output_type": "stream",
     "text": [
      "Training until validation scores don't improve for 20 rounds\n",
      "[10]\tvalid_0's l2: 0.0282243\n",
      "[20]\tvalid_0's l2: 0.0263808\n",
      "[30]\tvalid_0's l2: 0.0257219\n",
      "[40]\tvalid_0's l2: 0.0254313\n",
      "[50]\tvalid_0's l2: 0.0251583\n",
      "[60]\tvalid_0's l2: 0.0250029\n",
      "[70]\tvalid_0's l2: 0.0249222\n",
      "[80]\tvalid_0's l2: 0.0249923\n",
      "Early stopping, best iteration is:\n",
      "[63]\tvalid_0's l2: 0.0248359\n"
     ]
    },
    {
     "name": "stderr",
     "output_type": "stream",
     "text": [
      "\u001b[32m[I 2020-12-11 20:24:25,464]\u001b[0m Trial 31 finished with value: 0.15759420263555515 and parameters: {'num_leaves': 43, 'max_bin': 111, 'bagging_fraction': 0.7649952812120291, 'bagging_freq': 3, 'feature_fraction': 0.6605183031020647, 'min_data_in_leaf': 3, 'min_sum_hessian_in_leaf': 6}. Best is trial 14 with value: 0.15562305686802497.\u001b[0m\n"
     ]
    },
    {
     "name": "stdout",
     "output_type": "stream",
     "text": [
      "Training until validation scores don't improve for 20 rounds\n",
      "[10]\tvalid_0's l2: 0.0282851\n",
      "[20]\tvalid_0's l2: 0.0266341\n",
      "[30]\tvalid_0's l2: 0.0260013\n",
      "[40]\tvalid_0's l2: 0.026086\n",
      "[50]\tvalid_0's l2: 0.0258228\n",
      "[60]\tvalid_0's l2: 0.025771\n",
      "[70]\tvalid_0's l2: 0.0256195\n",
      "[80]\tvalid_0's l2: 0.0258259\n"
     ]
    },
    {
     "name": "stderr",
     "output_type": "stream",
     "text": [
      "\u001b[32m[I 2020-12-11 20:24:26,800]\u001b[0m Trial 32 finished with value: 0.16005869837514888 and parameters: {'num_leaves': 44, 'max_bin': 86, 'bagging_fraction': 0.48549329934156576, 'bagging_freq': 3, 'feature_fraction': 0.5119623440301901, 'min_data_in_leaf': 7, 'min_sum_hessian_in_leaf': 1}. Best is trial 14 with value: 0.15562305686802497.\u001b[0m\n"
     ]
    },
    {
     "name": "stdout",
     "output_type": "stream",
     "text": [
      "[90]\tvalid_0's l2: 0.0256814\n",
      "Early stopping, best iteration is:\n",
      "[71]\tvalid_0's l2: 0.0256188\n",
      "Training until validation scores don't improve for 20 rounds\n",
      "[10]\tvalid_0's l2: 0.0285686\n",
      "[20]\tvalid_0's l2: 0.0267014\n",
      "[30]\tvalid_0's l2: 0.0259017\n",
      "[40]\tvalid_0's l2: 0.0255432\n",
      "[50]\tvalid_0's l2: 0.0251914\n",
      "[60]\tvalid_0's l2: 0.0250916\n",
      "[70]\tvalid_0's l2: 0.0250939\n",
      "[80]\tvalid_0's l2: 0.0252003\n"
     ]
    },
    {
     "name": "stderr",
     "output_type": "stream",
     "text": [
      "\u001b[32m[I 2020-12-11 20:24:27,464]\u001b[0m Trial 33 finished with value: 0.15817812223162347 and parameters: {'num_leaves': 12, 'max_bin': 179, 'bagging_fraction': 0.7918221226509443, 'bagging_freq': 4, 'feature_fraction': 0.7107392007498818, 'min_data_in_leaf': 10, 'min_sum_hessian_in_leaf': 5}. Best is trial 14 with value: 0.15562305686802497.\u001b[0m\n"
     ]
    },
    {
     "name": "stdout",
     "output_type": "stream",
     "text": [
      "Early stopping, best iteration is:\n",
      "[61]\tvalid_0's l2: 0.0250203\n",
      "Training until validation scores don't improve for 20 rounds\n",
      "[10]\tvalid_0's l2: 0.0281184\n",
      "[20]\tvalid_0's l2: 0.0262387\n",
      "[30]\tvalid_0's l2: 0.0253131\n",
      "[40]\tvalid_0's l2: 0.0248881\n",
      "[50]\tvalid_0's l2: 0.0249204\n",
      "[60]\tvalid_0's l2: 0.0246228\n",
      "[70]\tvalid_0's l2: 0.0245523\n",
      "[80]\tvalid_0's l2: 0.0245137\n",
      "[90]\tvalid_0's l2: 0.0247533\n",
      "Early stopping, best iteration is:\n",
      "[76]\tvalid_0's l2: 0.0244704\n"
     ]
    },
    {
     "name": "stderr",
     "output_type": "stream",
     "text": [
      "\u001b[32m[I 2020-12-11 20:24:28,827]\u001b[0m Trial 34 finished with value: 0.15643017638460743 and parameters: {'num_leaves': 40, 'max_bin': 75, 'bagging_fraction': 0.5336312689407392, 'bagging_freq': 4, 'feature_fraction': 0.8321407213431223, 'min_data_in_leaf': 15, 'min_sum_hessian_in_leaf': 2}. Best is trial 14 with value: 0.15562305686802497.\u001b[0m\n"
     ]
    },
    {
     "name": "stdout",
     "output_type": "stream",
     "text": [
      "Training until validation scores don't improve for 20 rounds\n",
      "[10]\tvalid_0's l2: 0.0283285\n",
      "[20]\tvalid_0's l2: 0.0264398\n",
      "[30]\tvalid_0's l2: 0.0258971\n",
      "[40]\tvalid_0's l2: 0.0256056\n",
      "[50]\tvalid_0's l2: 0.0255336\n",
      "[60]\tvalid_0's l2: 0.0255032\n",
      "[70]\tvalid_0's l2: 0.0254935\n",
      "[80]\tvalid_0's l2: 0.0253993\n",
      "[90]\tvalid_0's l2: 0.0255996\n",
      "Early stopping, best iteration is:\n",
      "[76]\tvalid_0's l2: 0.0252888\n"
     ]
    },
    {
     "name": "stderr",
     "output_type": "stream",
     "text": [
      "\u001b[32m[I 2020-12-11 20:24:30,187]\u001b[0m Trial 35 finished with value: 0.15902463311147969 and parameters: {'num_leaves': 37, 'max_bin': 196, 'bagging_fraction': 0.6771212175422201, 'bagging_freq': 5, 'feature_fraction': 0.5049218744875611, 'min_data_in_leaf': 7, 'min_sum_hessian_in_leaf': 6}. Best is trial 14 with value: 0.15562305686802497.\u001b[0m\n"
     ]
    },
    {
     "name": "stdout",
     "output_type": "stream",
     "text": [
      "Training until validation scores don't improve for 20 rounds\n",
      "[10]\tvalid_0's l2: 0.028806\n",
      "[20]\tvalid_0's l2: 0.026923\n",
      "[30]\tvalid_0's l2: 0.0263529\n",
      "[40]\tvalid_0's l2: 0.0259925\n",
      "[50]\tvalid_0's l2: 0.0256081\n",
      "[60]\tvalid_0's l2: 0.0255286\n"
     ]
    },
    {
     "name": "stderr",
     "output_type": "stream",
     "text": [
      "\u001b[32m[I 2020-12-11 20:24:30,908]\u001b[0m Trial 36 finished with value: 0.15934181204039716 and parameters: {'num_leaves': 16, 'max_bin': 94, 'bagging_fraction': 0.7697753975246437, 'bagging_freq': 3, 'feature_fraction': 0.8851183415480504, 'min_data_in_leaf': 7, 'min_sum_hessian_in_leaf': 8}. Best is trial 14 with value: 0.15562305686802497.\u001b[0m\n"
     ]
    },
    {
     "name": "stdout",
     "output_type": "stream",
     "text": [
      "[70]\tvalid_0's l2: 0.0255017\n",
      "Early stopping, best iteration is:\n",
      "[54]\tvalid_0's l2: 0.0253898\n",
      "Training until validation scores don't improve for 20 rounds\n",
      "[10]\tvalid_0's l2: 0.0276193\n",
      "[20]\tvalid_0's l2: 0.0255909\n",
      "[30]\tvalid_0's l2: 0.0251022\n",
      "[40]\tvalid_0's l2: 0.0251615\n",
      "[50]\tvalid_0's l2: 0.0249615\n",
      "[60]\tvalid_0's l2: 0.0250613\n",
      "Early stopping, best iteration is:\n",
      "[46]\tvalid_0's l2: 0.0248897\n"
     ]
    },
    {
     "name": "stderr",
     "output_type": "stream",
     "text": [
      "\u001b[32m[I 2020-12-11 20:24:31,842]\u001b[0m Trial 37 finished with value: 0.15776469533208368 and parameters: {'num_leaves': 43, 'max_bin': 200, 'bagging_fraction': 0.6172083127790604, 'bagging_freq': 7, 'feature_fraction': 0.8405022811008375, 'min_data_in_leaf': 14, 'min_sum_hessian_in_leaf': 4}. Best is trial 14 with value: 0.15562305686802497.\u001b[0m\n"
     ]
    },
    {
     "name": "stdout",
     "output_type": "stream",
     "text": [
      "Training until validation scores don't improve for 20 rounds\n",
      "[10]\tvalid_0's l2: 0.0281944\n",
      "[20]\tvalid_0's l2: 0.0266134\n",
      "[30]\tvalid_0's l2: 0.0258688\n"
     ]
    },
    {
     "name": "stderr",
     "output_type": "stream",
     "text": [
      "\u001b[32m[I 2020-12-11 20:24:32,649]\u001b[0m Trial 38 finished with value: 0.16082848707673156 and parameters: {'num_leaves': 53, 'max_bin': 91, 'bagging_fraction': 0.41233936419566564, 'bagging_freq': 6, 'feature_fraction': 0.771917272654894, 'min_data_in_leaf': 4, 'min_sum_hessian_in_leaf': 1}. Best is trial 14 with value: 0.15562305686802497.\u001b[0m\n"
     ]
    },
    {
     "name": "stdout",
     "output_type": "stream",
     "text": [
      "[40]\tvalid_0's l2: 0.0259295\n",
      "Early stopping, best iteration is:\n",
      "[25]\tvalid_0's l2: 0.0258658\n",
      "Training until validation scores don't improve for 20 rounds\n",
      "[10]\tvalid_0's l2: 0.0282103\n",
      "[20]\tvalid_0's l2: 0.0264658\n",
      "[30]\tvalid_0's l2: 0.0257958\n",
      "[40]\tvalid_0's l2: 0.025536\n",
      "[50]\tvalid_0's l2: 0.0256857\n"
     ]
    },
    {
     "name": "stderr",
     "output_type": "stream",
     "text": [
      "\u001b[32m[I 2020-12-11 20:24:33,529]\u001b[0m Trial 39 finished with value: 0.15966764341354764 and parameters: {'num_leaves': 31, 'max_bin': 123, 'bagging_fraction': 0.7035225305582258, 'bagging_freq': 2, 'feature_fraction': 0.8951694736983522, 'min_data_in_leaf': 2, 'min_sum_hessian_in_leaf': 7}. Best is trial 14 with value: 0.15562305686802497.\u001b[0m\n"
     ]
    },
    {
     "name": "stdout",
     "output_type": "stream",
     "text": [
      "[60]\tvalid_0's l2: 0.0256158\n",
      "Early stopping, best iteration is:\n",
      "[42]\tvalid_0's l2: 0.0254938\n",
      "Training until validation scores don't improve for 20 rounds\n",
      "[10]\tvalid_0's l2: 0.0287685\n",
      "[20]\tvalid_0's l2: 0.0269447\n",
      "[30]\tvalid_0's l2: 0.0263819\n",
      "[40]\tvalid_0's l2: 0.0259862\n",
      "[50]\tvalid_0's l2: 0.0258337\n"
     ]
    },
    {
     "name": "stderr",
     "output_type": "stream",
     "text": [
      "\u001b[32m[I 2020-12-11 20:24:34,177]\u001b[0m Trial 40 finished with value: 0.1603775928566583 and parameters: {'num_leaves': 20, 'max_bin': 156, 'bagging_fraction': 0.4686102100485973, 'bagging_freq': 9, 'feature_fraction': 0.7791893269180707, 'min_data_in_leaf': 5, 'min_sum_hessian_in_leaf': 4}. Best is trial 14 with value: 0.15562305686802497.\u001b[0m\n"
     ]
    },
    {
     "name": "stdout",
     "output_type": "stream",
     "text": [
      "[60]\tvalid_0's l2: 0.0258923\n",
      "Early stopping, best iteration is:\n",
      "[45]\tvalid_0's l2: 0.025721\n",
      "Training until validation scores don't improve for 20 rounds\n",
      "[10]\tvalid_0's l2: 0.0285783\n",
      "[20]\tvalid_0's l2: 0.0269376\n",
      "[30]\tvalid_0's l2: 0.0261008\n",
      "[40]\tvalid_0's l2: 0.0256265\n"
     ]
    },
    {
     "name": "stderr",
     "output_type": "stream",
     "text": [
      "\u001b[32m[I 2020-12-11 20:24:34,741]\u001b[0m Trial 41 finished with value: 0.15835460470889726 and parameters: {'num_leaves': 12, 'max_bin': 141, 'bagging_fraction': 0.5623414860332328, 'bagging_freq': 8, 'feature_fraction': 0.4000276784325043, 'min_data_in_leaf': 10, 'min_sum_hessian_in_leaf': 8}. Best is trial 14 with value: 0.15562305686802497.\u001b[0m\n"
     ]
    },
    {
     "name": "stdout",
     "output_type": "stream",
     "text": [
      "[50]\tvalid_0's l2: 0.0252527\n",
      "[60]\tvalid_0's l2: 0.0250888\n",
      "[70]\tvalid_0's l2: 0.025136\n",
      "[80]\tvalid_0's l2: 0.0253472\n",
      "Early stopping, best iteration is:\n",
      "[61]\tvalid_0's l2: 0.0250762\n",
      "Training until validation scores don't improve for 20 rounds\n",
      "[10]\tvalid_0's l2: 0.0286362\n",
      "[20]\tvalid_0's l2: 0.0268676\n",
      "[30]\tvalid_0's l2: 0.0264873\n",
      "[40]\tvalid_0's l2: 0.0264218\n",
      "[50]\tvalid_0's l2: 0.02613\n"
     ]
    },
    {
     "name": "stderr",
     "output_type": "stream",
     "text": [
      "\u001b[32m[I 2020-12-11 20:24:35,602]\u001b[0m Trial 42 finished with value: 0.16095253813169327 and parameters: {'num_leaves': 27, 'max_bin': 63, 'bagging_fraction': 0.8426688298047929, 'bagging_freq': 9, 'feature_fraction': 0.8763958284859723, 'min_data_in_leaf': 2, 'min_sum_hessian_in_leaf': 5}. Best is trial 14 with value: 0.15562305686802497.\u001b[0m\n"
     ]
    },
    {
     "name": "stdout",
     "output_type": "stream",
     "text": [
      "[60]\tvalid_0's l2: 0.0259957\n",
      "[70]\tvalid_0's l2: 0.0261723\n",
      "Early stopping, best iteration is:\n",
      "[54]\tvalid_0's l2: 0.0259057\n",
      "Training until validation scores don't improve for 20 rounds\n",
      "[10]\tvalid_0's l2: 0.0281138\n",
      "[20]\tvalid_0's l2: 0.0261378\n",
      "[30]\tvalid_0's l2: 0.0256064\n",
      "[40]\tvalid_0's l2: 0.0252737\n",
      "[50]\tvalid_0's l2: 0.0252089\n",
      "[60]\tvalid_0's l2: 0.0251586\n"
     ]
    },
    {
     "name": "stderr",
     "output_type": "stream",
     "text": [
      "\u001b[32m[I 2020-12-11 20:24:36,729]\u001b[0m Trial 43 finished with value: 0.158533566571941 and parameters: {'num_leaves': 29, 'max_bin': 82, 'bagging_fraction': 0.7654279033850789, 'bagging_freq': 7, 'feature_fraction': 0.5568461962540149, 'min_data_in_leaf': 4, 'min_sum_hessian_in_leaf': 5}. Best is trial 14 with value: 0.15562305686802497.\u001b[0m\n"
     ]
    },
    {
     "name": "stdout",
     "output_type": "stream",
     "text": [
      "[70]\tvalid_0's l2: 0.0252953\n",
      "Early stopping, best iteration is:\n",
      "[58]\tvalid_0's l2: 0.0251329\n",
      "Training until validation scores don't improve for 20 rounds\n",
      "[10]\tvalid_0's l2: 0.0285867\n",
      "[20]\tvalid_0's l2: 0.0268522\n",
      "[30]\tvalid_0's l2: 0.0261261\n",
      "[40]\tvalid_0's l2: 0.0258508\n",
      "[50]\tvalid_0's l2: 0.0257538\n"
     ]
    },
    {
     "name": "stderr",
     "output_type": "stream",
     "text": [
      "\u001b[32m[I 2020-12-11 20:24:37,514]\u001b[0m Trial 44 finished with value: 0.16030123156665652 and parameters: {'num_leaves': 26, 'max_bin': 172, 'bagging_fraction': 0.5037350377205547, 'bagging_freq': 9, 'feature_fraction': 0.7652210882833972, 'min_data_in_leaf': 7, 'min_sum_hessian_in_leaf': 1}. Best is trial 14 with value: 0.15562305686802497.\u001b[0m\n"
     ]
    },
    {
     "name": "stdout",
     "output_type": "stream",
     "text": [
      "[60]\tvalid_0's l2: 0.0260392\n",
      "Early stopping, best iteration is:\n",
      "[44]\tvalid_0's l2: 0.0256965\n",
      "Training until validation scores don't improve for 20 rounds\n",
      "[10]\tvalid_0's l2: 0.0286079\n",
      "[20]\tvalid_0's l2: 0.0267747\n",
      "[30]\tvalid_0's l2: 0.0259447\n",
      "[40]\tvalid_0's l2: 0.0255746\n",
      "[50]\tvalid_0's l2: 0.0254224\n",
      "[60]\tvalid_0's l2: 0.0252793\n",
      "[70]\tvalid_0's l2: 0.0253015\n",
      "[80]\tvalid_0's l2: 0.0252024\n",
      "[90]\tvalid_0's l2: 0.0251657\n",
      "[100]\tvalid_0's l2: 0.0250048\n",
      "[110]\tvalid_0's l2: 0.0249346\n",
      "[120]\tvalid_0's l2: 0.0248245\n",
      "[130]\tvalid_0's l2: 0.0249709\n",
      "[140]\tvalid_0's l2: 0.0249157\n",
      "Early stopping, best iteration is:\n",
      "[120]\tvalid_0's l2: 0.0248245\n"
     ]
    },
    {
     "name": "stderr",
     "output_type": "stream",
     "text": [
      "\u001b[32m[I 2020-12-11 20:24:38,363]\u001b[0m Trial 45 finished with value: 0.15755780189929014 and parameters: {'num_leaves': 12, 'max_bin': 189, 'bagging_fraction': 0.8319278029616157, 'bagging_freq': 5, 'feature_fraction': 0.4874544371547538, 'min_data_in_leaf': 13, 'min_sum_hessian_in_leaf': 4}. Best is trial 14 with value: 0.15562305686802497.\u001b[0m\n"
     ]
    },
    {
     "name": "stdout",
     "output_type": "stream",
     "text": [
      "Training until validation scores don't improve for 20 rounds\n",
      "[10]\tvalid_0's l2: 0.0281155\n",
      "[20]\tvalid_0's l2: 0.0264781\n",
      "[30]\tvalid_0's l2: 0.0258115\n",
      "[40]\tvalid_0's l2: 0.0252989\n",
      "[50]\tvalid_0's l2: 0.0252811\n"
     ]
    },
    {
     "name": "stderr",
     "output_type": "stream",
     "text": [
      "\u001b[32m[I 2020-12-11 20:24:39,394]\u001b[0m Trial 46 finished with value: 0.15884620393002846 and parameters: {'num_leaves': 39, 'max_bin': 155, 'bagging_fraction': 0.8202142662677163, 'bagging_freq': 3, 'feature_fraction': 0.47242387967168864, 'min_data_in_leaf': 7, 'min_sum_hessian_in_leaf': 8}. Best is trial 14 with value: 0.15562305686802497.\u001b[0m\n"
     ]
    },
    {
     "name": "stdout",
     "output_type": "stream",
     "text": [
      "[60]\tvalid_0's l2: 0.0253093\n",
      "Early stopping, best iteration is:\n",
      "[48]\tvalid_0's l2: 0.0252321\n",
      "Training until validation scores don't improve for 20 rounds\n",
      "[10]\tvalid_0's l2: 0.0279971\n",
      "[20]\tvalid_0's l2: 0.0259575\n",
      "[30]\tvalid_0's l2: 0.0251655\n",
      "[40]\tvalid_0's l2: 0.0251163\n"
     ]
    },
    {
     "name": "stderr",
     "output_type": "stream",
     "text": [
      "\u001b[32m[I 2020-12-11 20:24:40,717]\u001b[0m Trial 47 finished with value: 0.15818857077294085 and parameters: {'num_leaves': 64, 'max_bin': 68, 'bagging_fraction': 0.7734971200997518, 'bagging_freq': 2, 'feature_fraction': 0.8518598698729667, 'min_data_in_leaf': 7, 'min_sum_hessian_in_leaf': 1}. Best is trial 14 with value: 0.15562305686802497.\u001b[0m\n"
     ]
    },
    {
     "name": "stdout",
     "output_type": "stream",
     "text": [
      "[50]\tvalid_0's l2: 0.0252089\n",
      "Early stopping, best iteration is:\n",
      "[33]\tvalid_0's l2: 0.0250236\n",
      "Training until validation scores don't improve for 20 rounds\n",
      "[10]\tvalid_0's l2: 0.0282192\n",
      "[20]\tvalid_0's l2: 0.0263514\n",
      "[30]\tvalid_0's l2: 0.0256153\n",
      "[40]\tvalid_0's l2: 0.025392\n",
      "[50]\tvalid_0's l2: 0.0252339\n",
      "[60]\tvalid_0's l2: 0.0252297\n",
      "[70]\tvalid_0's l2: 0.0253978\n"
     ]
    },
    {
     "name": "stderr",
     "output_type": "stream",
     "text": [
      "\u001b[32m[I 2020-12-11 20:24:41,768]\u001b[0m Trial 48 finished with value: 0.1587980485578396 and parameters: {'num_leaves': 34, 'max_bin': 109, 'bagging_fraction': 0.6922380344778845, 'bagging_freq': 4, 'feature_fraction': 0.5460737633962744, 'min_data_in_leaf': 12, 'min_sum_hessian_in_leaf': 10}. Best is trial 14 with value: 0.15562305686802497.\u001b[0m\n"
     ]
    },
    {
     "name": "stdout",
     "output_type": "stream",
     "text": [
      "[80]\tvalid_0's l2: 0.0256613\n",
      "Early stopping, best iteration is:\n",
      "[61]\tvalid_0's l2: 0.0252168\n",
      "Training until validation scores don't improve for 20 rounds\n",
      "[10]\tvalid_0's l2: 0.0284086\n",
      "[20]\tvalid_0's l2: 0.026182\n",
      "[30]\tvalid_0's l2: 0.0255072\n",
      "[40]\tvalid_0's l2: 0.0252425\n",
      "[50]\tvalid_0's l2: 0.0251492\n",
      "[60]\tvalid_0's l2: 0.0251696\n"
     ]
    },
    {
     "name": "stderr",
     "output_type": "stream",
     "text": [
      "\u001b[32m[I 2020-12-11 20:24:42,693]\u001b[0m Trial 49 finished with value: 0.1582715058098116 and parameters: {'num_leaves': 48, 'max_bin': 63, 'bagging_fraction': 0.4082148147957371, 'bagging_freq': 7, 'feature_fraction': 0.4046200367432704, 'min_data_in_leaf': 15, 'min_sum_hessian_in_leaf': 9}. Best is trial 14 with value: 0.15562305686802497.\u001b[0m\n"
     ]
    },
    {
     "name": "stdout",
     "output_type": "stream",
     "text": [
      "Early stopping, best iteration is:\n",
      "[46]\tvalid_0's l2: 0.0250499\n"
     ]
    },
    {
     "data": {
      "text/plain": [
       "{'num_leaves': 43,\n",
       " 'max_bin': 199,\n",
       " 'bagging_fraction': 0.7696317896991509,\n",
       " 'bagging_freq': 1,\n",
       " 'feature_fraction': 0.6208554606244228,\n",
       " 'min_data_in_leaf': 13,\n",
       " 'min_sum_hessian_in_leaf': 8}"
      ]
     },
     "execution_count": 87,
     "metadata": {},
     "output_type": "execute_result"
    }
   ],
   "source": [
    "study = optuna.create_study(sampler=optuna.samplers.RandomSampler(seed=0))\n",
    "study.optimize(objective, n_trials=50)\n",
    "study.best_params"
   ]
  },
  {
   "cell_type": "markdown",
   "metadata": {},
   "source": [
    "リスト4.68　得られたハイパーパラメータを設定してクロスバリデーション"
   ]
  },
  {
   "cell_type": "code",
   "execution_count": 90,
   "metadata": {},
   "outputs": [],
   "source": [
    "lgbm_params = {\n",
    "    \"objective\":\"regression\",\n",
    "    \"random_seed\":1234,\n",
    "    \"learning_rate\":0.05, \n",
    "    \"n_estimators\":1000,\n",
    "    \"num_leaves\":12,\n",
    "    \"bagging_fraction\": 0.8319278029616157,\n",
    "    \"bagging_freq\": 5,\n",
    "    \"feature_fraction\": 0.4874544371547538,    \n",
    "    \"max_bin\":189, \n",
    "    \"min_data_in_leaf\":13, \n",
    "    \"min_sum_hessian_in_leaf\":4\n",
    "}"
   ]
  },
  {
   "cell_type": "code",
   "execution_count": 91,
   "metadata": {},
   "outputs": [
    {
     "name": "stdout",
     "output_type": "stream",
     "text": [
      "Training until validation scores don't improve for 20 rounds\n",
      "[10]\tvalid_0's l2: 0.0779167\n",
      "[20]\tvalid_0's l2: 0.04385\n",
      "[30]\tvalid_0's l2: 0.0290763\n",
      "[40]\tvalid_0's l2: 0.0218783\n",
      "[50]\tvalid_0's l2: 0.0180768\n",
      "[60]\tvalid_0's l2: 0.0162982\n",
      "[70]\tvalid_0's l2: 0.015008\n",
      "[80]\tvalid_0's l2: 0.0144293\n",
      "[90]\tvalid_0's l2: 0.0139318\n",
      "[100]\tvalid_0's l2: 0.0136112\n",
      "[110]\tvalid_0's l2: 0.0135108\n",
      "[120]\tvalid_0's l2: 0.0133217\n",
      "[130]\tvalid_0's l2: 0.0132203\n",
      "[140]\tvalid_0's l2: 0.0132562\n",
      "Early stopping, best iteration is:\n",
      "[127]\tvalid_0's l2: 0.0132149\n",
      "0.11495850207924808\n",
      "Training until validation scores don't improve for 20 rounds\n",
      "[10]\tvalid_0's l2: 0.0844094\n",
      "[20]\tvalid_0's l2: 0.0513132\n",
      "[30]\tvalid_0's l2: 0.0358129\n",
      "[40]\tvalid_0's l2: 0.0280904\n",
      "[50]\tvalid_0's l2: 0.0241928\n",
      "[60]\tvalid_0's l2: 0.0221798\n",
      "[70]\tvalid_0's l2: 0.0208035\n",
      "[80]\tvalid_0's l2: 0.0198264\n",
      "[90]\tvalid_0's l2: 0.0191489\n",
      "[100]\tvalid_0's l2: 0.0187409\n",
      "[110]\tvalid_0's l2: 0.0185593\n",
      "[120]\tvalid_0's l2: 0.0183374\n",
      "[130]\tvalid_0's l2: 0.0183472\n",
      "[140]\tvalid_0's l2: 0.0182685\n",
      "[150]\tvalid_0's l2: 0.0182165\n",
      "[160]\tvalid_0's l2: 0.0181708\n",
      "[170]\tvalid_0's l2: 0.0181183\n",
      "[180]\tvalid_0's l2: 0.0180725\n",
      "[190]\tvalid_0's l2: 0.0179725\n",
      "[200]\tvalid_0's l2: 0.0179592\n",
      "[210]\tvalid_0's l2: 0.0178813\n",
      "[220]\tvalid_0's l2: 0.0178346\n",
      "[230]\tvalid_0's l2: 0.0178947\n",
      "[240]\tvalid_0's l2: 0.0178758\n",
      "Early stopping, best iteration is:\n",
      "[220]\tvalid_0's l2: 0.0178346\n",
      "0.13354608904209375\n",
      "Training until validation scores don't improve for 20 rounds\n",
      "[10]\tvalid_0's l2: 0.068115\n",
      "[20]\tvalid_0's l2: 0.0388905\n",
      "[30]\tvalid_0's l2: 0.0258797\n",
      "[40]\tvalid_0's l2: 0.0198979\n",
      "[50]\tvalid_0's l2: 0.0170852\n",
      "[60]\tvalid_0's l2: 0.0157192\n",
      "[70]\tvalid_0's l2: 0.0149827\n",
      "[80]\tvalid_0's l2: 0.014483\n",
      "[90]\tvalid_0's l2: 0.0139921\n",
      "[100]\tvalid_0's l2: 0.0138117\n",
      "[110]\tvalid_0's l2: 0.0136653\n",
      "[120]\tvalid_0's l2: 0.0136954\n",
      "Early stopping, best iteration is:\n",
      "[109]\tvalid_0's l2: 0.0136456\n",
      "0.1168145035478684\n"
     ]
    }
   ],
   "source": [
    "models = []\n",
    "rmses = []\n",
    "oof = np.zeros(len(train_X))\n",
    "\n",
    "for train_index, val_index in kf.split(train_X):\n",
    "    X_train = train_X.iloc[train_index]\n",
    "    X_valid = train_X.iloc[val_index]\n",
    "    y_train = train_Y.iloc[train_index]\n",
    "    y_valid = train_Y.iloc[val_index]\n",
    "        \n",
    "    lgb_train = lgb.Dataset(X_train, y_train)\n",
    "    lgb_eval = lgb.Dataset(X_valid, y_valid, reference=lgb_train)    \n",
    "    \n",
    "    model_lgb = lgb.train(lgbm_params, \n",
    "                          lgb_train, \n",
    "                          valid_sets=lgb_eval, \n",
    "                          num_boost_round=100,\n",
    "                          early_stopping_rounds=20,\n",
    "                          verbose_eval=10,\n",
    "                         )    \n",
    "    \n",
    "    y_pred = model_lgb.predict(X_valid, num_iteration=model_lgb.best_iteration)\n",
    "    tmp_rmse = np.sqrt(mean_squared_error(y_valid, y_pred))\n",
    "    print(tmp_rmse)    \n",
    "              \n",
    "    models.append(model_lgb)    \n",
    "    rmses.append(tmp_rmse)\n",
    "    oof[val_index] = y_pred "
   ]
  },
  {
   "cell_type": "code",
   "execution_count": 92,
   "metadata": {},
   "outputs": [
    {
     "data": {
      "text/plain": [
       "0.1217730315564034"
      ]
     },
     "execution_count": 92,
     "metadata": {},
     "output_type": "execute_result"
    }
   ],
   "source": [
    "sum(rmses)/len(rmses)"
   ]
  },
  {
   "cell_type": "markdown",
   "metadata": {},
   "source": [
    "### Kaggleに結果をsubmitする"
   ]
  },
  {
   "cell_type": "markdown",
   "metadata": {},
   "source": [
    "#### テストデータを用意する"
   ]
  },
  {
   "cell_type": "markdown",
   "metadata": {},
   "source": [
    "リスト4.69　テストデータを用意"
   ]
  },
  {
   "cell_type": "code",
   "execution_count": 93,
   "metadata": {},
   "outputs": [],
   "source": [
    "test_X = test_df_le.drop([\"SalePrice\", \"Id\"], axis=1)"
   ]
  },
  {
   "cell_type": "markdown",
   "metadata": {},
   "source": [
    "#### 学習したモデルでテストデータの目的変数を予測する"
   ]
  },
  {
   "cell_type": "markdown",
   "metadata": {},
   "source": [
    "リスト4.70　クロスバリデーションごとの各モデルで予測値を算出"
   ]
  },
  {
   "cell_type": "code",
   "execution_count": 94,
   "metadata": {},
   "outputs": [],
   "source": [
    "preds = []\n",
    "\n",
    "for model in models:\n",
    "    pred = model.predict(test_X)\n",
    "    preds.append(pred)"
   ]
  },
  {
   "cell_type": "markdown",
   "metadata": {},
   "source": [
    "リスト4.71　predsの平均を計算してpreds_meanとして取得"
   ]
  },
  {
   "cell_type": "code",
   "execution_count": 95,
   "metadata": {},
   "outputs": [],
   "source": [
    "preds_array = np.array(preds)\n",
    "preds_mean = np.mean(preds_array, axis=0)"
   ]
  },
  {
   "cell_type": "markdown",
   "metadata": {},
   "source": [
    "#### 予測値をもとのスケールに戻す"
   ]
  },
  {
   "cell_type": "markdown",
   "metadata": {},
   "source": [
    "リスト4.72　もとのスケールに戻す"
   ]
  },
  {
   "cell_type": "code",
   "execution_count": 96,
   "metadata": {},
   "outputs": [],
   "source": [
    "preds_exp = np.exp(preds_mean)"
   ]
  },
  {
   "cell_type": "code",
   "execution_count": 97,
   "metadata": {},
   "outputs": [
    {
     "data": {
      "text/plain": [
       "1459"
      ]
     },
     "execution_count": 97,
     "metadata": {},
     "output_type": "execute_result"
    }
   ],
   "source": [
    "len(preds_exp)"
   ]
  },
  {
   "cell_type": "markdown",
   "metadata": {},
   "source": [
    "#### 予測値からsubmissionファイルを作成する"
   ]
  },
  {
   "cell_type": "markdown",
   "metadata": {},
   "source": [
    "リスト4.73　予測値をSalePriceの値として置き換え"
   ]
  },
  {
   "cell_type": "code",
   "execution_count": 98,
   "metadata": {},
   "outputs": [],
   "source": [
    "submission[\"SalePrice\"] = preds_exp"
   ]
  },
  {
   "cell_type": "markdown",
   "metadata": {},
   "source": [
    "#### CSVファイルとして書き出す"
   ]
  },
  {
   "cell_type": "markdown",
   "metadata": {},
   "source": [
    "リスト4.75　CSVファイルとして書き出す（Kaggleの場合）"
   ]
  },
  {
   "cell_type": "code",
   "execution_count": 99,
   "metadata": {},
   "outputs": [],
   "source": [
    "submission.to_csv(\"houseprices_submit01.csv\",index=False)"
   ]
  },
  {
   "cell_type": "markdown",
   "metadata": {},
   "source": [
    "## 4.10 様々な機械学習手法によるアンサンブル"
   ]
  },
  {
   "cell_type": "markdown",
   "metadata": {},
   "source": [
    "### ランダムフォレストで学習する"
   ]
  },
  {
   "cell_type": "markdown",
   "metadata": {},
   "source": [
    "#### ランダムフォレストのライブラリを読み込む"
   ]
  },
  {
   "cell_type": "markdown",
   "metadata": {},
   "source": [
    "リスト4.76　ランダムフォレスト用のライブラリの読み込み"
   ]
  },
  {
   "cell_type": "code",
   "execution_count": 100,
   "metadata": {},
   "outputs": [],
   "source": [
    "from sklearn.ensemble import RandomForestRegressor as rf"
   ]
  },
  {
   "cell_type": "markdown",
   "metadata": {},
   "source": [
    "### LotFrontageの欠損値を削除する"
   ]
  },
  {
   "cell_type": "markdown",
   "metadata": {},
   "source": [
    "#### 欠損値を含む変数を確認する"
   ]
  },
  {
   "cell_type": "markdown",
   "metadata": {},
   "source": [
    "リスト4.77　欠損値を含む変数を確認"
   ]
  },
  {
   "cell_type": "code",
   "execution_count": 101,
   "metadata": {},
   "outputs": [
    {
     "name": "stdout",
     "output_type": "stream",
     "text": [
      "LotFrontage 479\n",
      "MasVnrArea 22\n",
      "BsmtFinSF1 1\n",
      "BsmtFinSF2 1\n",
      "BsmtUnfSF 1\n",
      "TotalBsmtSF 1\n",
      "BsmtFullBath 2\n",
      "BsmtHalfBath 2\n",
      "GarageYrBlt 159\n",
      "GarageCars 1\n",
      "GarageArea 1\n",
      "TotalSF 1\n",
      "Total_Bathrooms 2\n"
     ]
    }
   ],
   "source": [
    "hasnan_cat = []\n",
    "for col in all_df.columns:\n",
    "    tmp_null_count = all_df[col].isnull().sum()\n",
    "    if (tmp_null_count > 0) & (col != \"SalePrice\"):\n",
    "        print(col, tmp_null_count)\n",
    "        hasnan_cat.append(col)"
   ]
  },
  {
   "cell_type": "markdown",
   "metadata": {},
   "source": [
    "#### 欠損値を含む変数の統計量を確認する"
   ]
  },
  {
   "cell_type": "markdown",
   "metadata": {},
   "source": [
    "リスト4.78　hasnan_catに含まれる変数を確認"
   ]
  },
  {
   "cell_type": "code",
   "execution_count": 102,
   "metadata": {},
   "outputs": [
    {
     "data": {
      "text/html": [
       "<div>\n",
       "<style scoped>\n",
       "    .dataframe tbody tr th:only-of-type {\n",
       "        vertical-align: middle;\n",
       "    }\n",
       "\n",
       "    .dataframe tbody tr th {\n",
       "        vertical-align: top;\n",
       "    }\n",
       "\n",
       "    .dataframe thead th {\n",
       "        text-align: right;\n",
       "    }\n",
       "</style>\n",
       "<table border=\"1\" class=\"dataframe\">\n",
       "  <thead>\n",
       "    <tr style=\"text-align: right;\">\n",
       "      <th></th>\n",
       "      <th>LotFrontage</th>\n",
       "      <th>MasVnrArea</th>\n",
       "      <th>BsmtFinSF1</th>\n",
       "      <th>BsmtFinSF2</th>\n",
       "      <th>BsmtUnfSF</th>\n",
       "      <th>TotalBsmtSF</th>\n",
       "      <th>BsmtFullBath</th>\n",
       "      <th>BsmtHalfBath</th>\n",
       "      <th>GarageYrBlt</th>\n",
       "      <th>GarageCars</th>\n",
       "      <th>GarageArea</th>\n",
       "      <th>TotalSF</th>\n",
       "      <th>Total_Bathrooms</th>\n",
       "    </tr>\n",
       "  </thead>\n",
       "  <tbody>\n",
       "    <tr>\n",
       "      <th>count</th>\n",
       "      <td>2425.000000</td>\n",
       "      <td>2882.000000</td>\n",
       "      <td>2903.000000</td>\n",
       "      <td>2903.000000</td>\n",
       "      <td>2903.000000</td>\n",
       "      <td>2903.000000</td>\n",
       "      <td>2902.000000</td>\n",
       "      <td>2902.000000</td>\n",
       "      <td>2745.000000</td>\n",
       "      <td>2903.000000</td>\n",
       "      <td>2903.000000</td>\n",
       "      <td>2903.000000</td>\n",
       "      <td>2902.000000</td>\n",
       "    </tr>\n",
       "    <tr>\n",
       "      <th>mean</th>\n",
       "      <td>69.071340</td>\n",
       "      <td>101.191187</td>\n",
       "      <td>434.926628</td>\n",
       "      <td>49.016879</td>\n",
       "      <td>559.850499</td>\n",
       "      <td>1043.794006</td>\n",
       "      <td>0.426258</td>\n",
       "      <td>0.061337</td>\n",
       "      <td>1978.061202</td>\n",
       "      <td>1.763348</td>\n",
       "      <td>471.632794</td>\n",
       "      <td>2533.060971</td>\n",
       "      <td>2.431771</td>\n",
       "    </tr>\n",
       "    <tr>\n",
       "      <th>std</th>\n",
       "      <td>22.662001</td>\n",
       "      <td>177.804595</td>\n",
       "      <td>440.128728</td>\n",
       "      <td>168.444473</td>\n",
       "      <td>438.438879</td>\n",
       "      <td>420.008348</td>\n",
       "      <td>0.522410</td>\n",
       "      <td>0.245667</td>\n",
       "      <td>25.600996</td>\n",
       "      <td>0.761410</td>\n",
       "      <td>214.551791</td>\n",
       "      <td>764.699033</td>\n",
       "      <td>0.937184</td>\n",
       "    </tr>\n",
       "    <tr>\n",
       "      <th>min</th>\n",
       "      <td>21.000000</td>\n",
       "      <td>0.000000</td>\n",
       "      <td>0.000000</td>\n",
       "      <td>0.000000</td>\n",
       "      <td>0.000000</td>\n",
       "      <td>0.000000</td>\n",
       "      <td>0.000000</td>\n",
       "      <td>0.000000</td>\n",
       "      <td>1895.000000</td>\n",
       "      <td>0.000000</td>\n",
       "      <td>0.000000</td>\n",
       "      <td>334.000000</td>\n",
       "      <td>1.000000</td>\n",
       "    </tr>\n",
       "    <tr>\n",
       "      <th>25%</th>\n",
       "      <td>59.000000</td>\n",
       "      <td>0.000000</td>\n",
       "      <td>0.000000</td>\n",
       "      <td>0.000000</td>\n",
       "      <td>220.000000</td>\n",
       "      <td>791.500000</td>\n",
       "      <td>0.000000</td>\n",
       "      <td>0.000000</td>\n",
       "      <td>1960.000000</td>\n",
       "      <td>1.000000</td>\n",
       "      <td>319.500000</td>\n",
       "      <td>1998.500000</td>\n",
       "      <td>2.000000</td>\n",
       "    </tr>\n",
       "    <tr>\n",
       "      <th>50%</th>\n",
       "      <td>68.000000</td>\n",
       "      <td>0.000000</td>\n",
       "      <td>365.000000</td>\n",
       "      <td>0.000000</td>\n",
       "      <td>467.000000</td>\n",
       "      <td>988.000000</td>\n",
       "      <td>0.000000</td>\n",
       "      <td>0.000000</td>\n",
       "      <td>1979.000000</td>\n",
       "      <td>2.000000</td>\n",
       "      <td>478.000000</td>\n",
       "      <td>2444.000000</td>\n",
       "      <td>2.000000</td>\n",
       "    </tr>\n",
       "    <tr>\n",
       "      <th>75%</th>\n",
       "      <td>80.000000</td>\n",
       "      <td>164.000000</td>\n",
       "      <td>728.500000</td>\n",
       "      <td>0.000000</td>\n",
       "      <td>802.500000</td>\n",
       "      <td>1296.000000</td>\n",
       "      <td>1.000000</td>\n",
       "      <td>0.000000</td>\n",
       "      <td>2002.000000</td>\n",
       "      <td>2.000000</td>\n",
       "      <td>576.000000</td>\n",
       "      <td>2985.000000</td>\n",
       "      <td>3.000000</td>\n",
       "    </tr>\n",
       "    <tr>\n",
       "      <th>max</th>\n",
       "      <td>313.000000</td>\n",
       "      <td>1600.000000</td>\n",
       "      <td>4010.000000</td>\n",
       "      <td>1526.000000</td>\n",
       "      <td>2336.000000</td>\n",
       "      <td>5095.000000</td>\n",
       "      <td>3.000000</td>\n",
       "      <td>2.000000</td>\n",
       "      <td>2207.000000</td>\n",
       "      <td>5.000000</td>\n",
       "      <td>1488.000000</td>\n",
       "      <td>10190.000000</td>\n",
       "      <td>8.000000</td>\n",
       "    </tr>\n",
       "  </tbody>\n",
       "</table>\n",
       "</div>"
      ],
      "text/plain": [
       "       LotFrontage   MasVnrArea   BsmtFinSF1   BsmtFinSF2    BsmtUnfSF  \\\n",
       "count  2425.000000  2882.000000  2903.000000  2903.000000  2903.000000   \n",
       "mean     69.071340   101.191187   434.926628    49.016879   559.850499   \n",
       "std      22.662001   177.804595   440.128728   168.444473   438.438879   \n",
       "min      21.000000     0.000000     0.000000     0.000000     0.000000   \n",
       "25%      59.000000     0.000000     0.000000     0.000000   220.000000   \n",
       "50%      68.000000     0.000000   365.000000     0.000000   467.000000   \n",
       "75%      80.000000   164.000000   728.500000     0.000000   802.500000   \n",
       "max     313.000000  1600.000000  4010.000000  1526.000000  2336.000000   \n",
       "\n",
       "       TotalBsmtSF  BsmtFullBath  BsmtHalfBath  GarageYrBlt   GarageCars  \\\n",
       "count  2903.000000   2902.000000   2902.000000  2745.000000  2903.000000   \n",
       "mean   1043.794006      0.426258      0.061337  1978.061202     1.763348   \n",
       "std     420.008348      0.522410      0.245667    25.600996     0.761410   \n",
       "min       0.000000      0.000000      0.000000  1895.000000     0.000000   \n",
       "25%     791.500000      0.000000      0.000000  1960.000000     1.000000   \n",
       "50%     988.000000      0.000000      0.000000  1979.000000     2.000000   \n",
       "75%    1296.000000      1.000000      0.000000  2002.000000     2.000000   \n",
       "max    5095.000000      3.000000      2.000000  2207.000000     5.000000   \n",
       "\n",
       "        GarageArea       TotalSF  Total_Bathrooms  \n",
       "count  2903.000000   2903.000000      2902.000000  \n",
       "mean    471.632794   2533.060971         2.431771  \n",
       "std     214.551791    764.699033         0.937184  \n",
       "min       0.000000    334.000000         1.000000  \n",
       "25%     319.500000   1998.500000         2.000000  \n",
       "50%     478.000000   2444.000000         2.000000  \n",
       "75%     576.000000   2985.000000         3.000000  \n",
       "max    1488.000000  10190.000000         8.000000  "
      ]
     },
     "execution_count": 102,
     "metadata": {},
     "output_type": "execute_result"
    }
   ],
   "source": [
    "all_df[hasnan_cat].describe()"
   ]
  },
  {
   "cell_type": "markdown",
   "metadata": {},
   "source": [
    "#### 欠損値を各変数の中央値で補完する"
   ]
  },
  {
   "cell_type": "markdown",
   "metadata": {},
   "source": [
    "リスト4.79　欠損値を各変数の中央値で補完"
   ]
  },
  {
   "cell_type": "code",
   "execution_count": 103,
   "metadata": {},
   "outputs": [
    {
     "name": "stdout",
     "output_type": "stream",
     "text": [
      "LotFrontage 479\n",
      "MasVnrArea 22\n",
      "BsmtFinSF1 1\n",
      "BsmtFinSF2 1\n",
      "BsmtUnfSF 1\n",
      "TotalBsmtSF 1\n",
      "BsmtFullBath 2\n",
      "BsmtHalfBath 2\n",
      "GarageYrBlt 159\n",
      "GarageCars 1\n",
      "GarageArea 1\n",
      "TotalSF 1\n",
      "Total_Bathrooms 2\n"
     ]
    }
   ],
   "source": [
    "for col in all_df.columns:\n",
    "    tmp_null_count = all_df[col].isnull().sum()\n",
    "    if (tmp_null_count > 0) & (col != \"SalePrice\"):\n",
    "        print(col, tmp_null_count)\n",
    "        all_df[col] = all_df[col].fillna(all_df[col].median())"
   ]
  },
  {
   "cell_type": "markdown",
   "metadata": {},
   "source": [
    "#### ランダムフォレストを用いて学習・予測する"
   ]
  },
  {
   "cell_type": "markdown",
   "metadata": {},
   "source": [
    "リスト4.80　SalePriceの対数をとって学習"
   ]
  },
  {
   "cell_type": "code",
   "execution_count": 104,
   "metadata": {},
   "outputs": [],
   "source": [
    "train_df_le = all_df[~all_df[\"SalePrice\"].isnull()]\n",
    "test_df_le = all_df[all_df[\"SalePrice\"].isnull()]\n",
    "train_df_le[\"SalePrice_log\"] = np.log(train_df_le[\"SalePrice\"])"
   ]
  },
  {
   "cell_type": "code",
   "execution_count": 105,
   "metadata": {},
   "outputs": [],
   "source": [
    "train_X = train_df_le.drop([\"SalePrice\",\"SalePrice_log\",\"Id\"], axis=1)\n",
    "train_Y = train_df_le[\"SalePrice_log\"]"
   ]
  },
  {
   "cell_type": "code",
   "execution_count": 106,
   "metadata": {},
   "outputs": [],
   "source": [
    "folds = 3\n",
    "kf = KFold(n_splits=folds)"
   ]
  },
  {
   "cell_type": "code",
   "execution_count": 107,
   "metadata": {},
   "outputs": [
    {
     "name": "stdout",
     "output_type": "stream",
     "text": [
      "0.1378839701821788\n",
      "0.14123101445826738\n",
      "0.12916852104906001\n"
     ]
    }
   ],
   "source": [
    "models_rf = []\n",
    "rmses_rf = []\n",
    "oof_rf = np.zeros(len(train_X))\n",
    "for train_index, val_index in kf.split(train_X):\n",
    "    X_train = train_X.iloc[train_index]\n",
    "    X_valid = train_X.iloc[val_index]\n",
    "    y_train = train_Y.iloc[train_index]\n",
    "    y_valid = train_Y.iloc[val_index]\n",
    "    model_rf = rf(\n",
    "        n_estimators=50,\n",
    "        random_state=1234\n",
    "    )\n",
    "    model_rf.fit(X_train, y_train)\n",
    "    y_pred = model_rf.predict(X_valid)\n",
    "    tmp_rmse = np.sqrt(mean_squared_error(y_valid, y_pred))\n",
    "    print(tmp_rmse)\n",
    "    models_rf.append(model_rf)\n",
    "    rmses_rf.append(tmp_rmse)\n",
    "    oof_rf[val_index] = y_pred"
   ]
  },
  {
   "cell_type": "code",
   "execution_count": 108,
   "metadata": {},
   "outputs": [
    {
     "data": {
      "text/plain": [
       "0.13609450189650205"
      ]
     },
     "execution_count": 108,
     "metadata": {},
     "output_type": "execute_result"
    }
   ],
   "source": [
    "sum(rmses_rf)/len(rmses_rf)"
   ]
  },
  {
   "cell_type": "markdown",
   "metadata": {},
   "source": [
    "#### 結果をCSVファイルとして書き出す"
   ]
  },
  {
   "cell_type": "markdown",
   "metadata": {},
   "source": [
    "リスト4.81　テストデータで各クロスバリデーションのモデルで予測値を算出"
   ]
  },
  {
   "cell_type": "code",
   "execution_count": 109,
   "metadata": {},
   "outputs": [],
   "source": [
    "test_X = test_df_le.drop([\"SalePrice\",\"Id\"], axis=1)"
   ]
  },
  {
   "cell_type": "code",
   "execution_count": 110,
   "metadata": {},
   "outputs": [],
   "source": [
    "preds_rf = []\n",
    "for model in models_rf:\n",
    "    pred = model.predict(test_X)\n",
    "    preds_rf.append(pred)"
   ]
  },
  {
   "cell_type": "code",
   "execution_count": 111,
   "metadata": {},
   "outputs": [],
   "source": [
    "preds_array_rf = np.array(preds_rf)\n",
    "preds_mean_rf = np.mean(preds_array_rf, axis=0)\n",
    "preds_exp_rf = np.exp(preds_mean_rf)\n",
    "submission[\"SalePrice\"] = preds_exp_rf"
   ]
  },
  {
   "cell_type": "markdown",
   "metadata": {},
   "source": [
    "リスト4.83　CSVファイルの書き出し（Kaggleの場合）"
   ]
  },
  {
   "cell_type": "code",
   "execution_count": 112,
   "metadata": {},
   "outputs": [],
   "source": [
    "submission.to_csv(\"houseprices_submit02.csv\",index=False)"
   ]
  },
  {
   "cell_type": "markdown",
   "metadata": {},
   "source": [
    "### XGBoostで学習する"
   ]
  },
  {
   "cell_type": "markdown",
   "metadata": {},
   "source": [
    "#### XGBoostのライブラリをインストール・インポートする"
   ]
  },
  {
   "cell_type": "markdown",
   "metadata": {},
   "source": [
    "リスト4.84　XGBoostのライブラリのインポート"
   ]
  },
  {
   "cell_type": "code",
   "execution_count": 113,
   "metadata": {},
   "outputs": [],
   "source": [
    "import xgboost as xgb"
   ]
  },
  {
   "cell_type": "markdown",
   "metadata": {},
   "source": [
    "#### XGBoostを実装する"
   ]
  },
  {
   "cell_type": "markdown",
   "metadata": {},
   "source": [
    "リスト4.85　category変数をint型に変換する"
   ]
  },
  {
   "cell_type": "code",
   "execution_count": 114,
   "metadata": {},
   "outputs": [],
   "source": [
    "categories = train_X.columns[train_X.dtypes == \"category\"]"
   ]
  },
  {
   "cell_type": "code",
   "execution_count": 115,
   "metadata": {},
   "outputs": [],
   "source": [
    "for col in categories:\n",
    "    train_X[col] = train_X[col].astype(\"int8\")\n",
    "    test_X[col] = test_X[col].astype(\"int8\")"
   ]
  },
  {
   "cell_type": "markdown",
   "metadata": {},
   "source": [
    "#### Optunaでハイパーパラメータを調整する"
   ]
  },
  {
   "cell_type": "markdown",
   "metadata": {},
   "source": [
    "リスト4.86　Optunaでハイパーパラメータを調整"
   ]
  },
  {
   "cell_type": "code",
   "execution_count": 116,
   "metadata": {},
   "outputs": [],
   "source": [
    "X_train, X_valid, y_train, y_valid = train_test_split(train_X, train_Y, test_size=0.2, random_state=1234, shuffle=False,  stratify=None)"
   ]
  },
  {
   "cell_type": "code",
   "execution_count": 117,
   "metadata": {},
   "outputs": [],
   "source": [
    "def objective(trial):\n",
    "    xgb_params = {\n",
    "    \"learning_rate\":0.05,\n",
    "    \"seed\":1234,        \n",
    "    \"max_depth\":trial.suggest_int(\"max_depth\",3,16),\n",
    "    \"colsample_bytree\":trial.suggest_uniform(\"colsample_bytree\",0.2,0.9),\n",
    "    \"sublsample\":trial.suggest_uniform(\"sublsample\",0.2,0.9),\n",
    "    }\n",
    "    xgb_train = xgb.DMatrix(X_train, label=y_train)\n",
    "    xgb_eval = xgb.DMatrix(X_valid, label=y_valid)\n",
    "    evals = [(xgb_train, \"train\"), (xgb_eval, \"eval\")]\n",
    "    model_xgb = xgb.train(xgb_params, xgb_train,\n",
    "    evals=evals,\n",
    "    num_boost_round=1000,\n",
    "    early_stopping_rounds=20,\n",
    "    verbose_eval=10,)\n",
    "    y_pred = model_xgb.predict(xgb_eval)\n",
    "    score = np.sqrt(mean_squared_error(y_valid, y_pred))\n",
    "    return score"
   ]
  },
  {
   "cell_type": "code",
   "execution_count": 118,
   "metadata": {},
   "outputs": [
    {
     "name": "stdout",
     "output_type": "stream",
     "text": [
      "[0]\ttrain-rmse:10.9472\teval-rmse:10.9555\n",
      "Multiple eval metrics have been passed: 'eval-rmse' will be used for early stopping.\n",
      "\n",
      "Will train until eval-rmse hasn't improved in 20 rounds.\n",
      "[10]\ttrain-rmse:6.56444\teval-rmse:6.57256\n",
      "[20]\ttrain-rmse:3.93974\teval-rmse:3.94495\n",
      "[30]\ttrain-rmse:2.36834\teval-rmse:2.37053\n",
      "[40]\ttrain-rmse:1.42737\teval-rmse:1.42781\n",
      "[50]\ttrain-rmse:0.864408\teval-rmse:0.866398\n",
      "[60]\ttrain-rmse:0.52833\teval-rmse:0.533332\n",
      "[70]\ttrain-rmse:0.327605\teval-rmse:0.341099\n",
      "[80]\ttrain-rmse:0.207217\teval-rmse:0.23314\n",
      "[90]\ttrain-rmse:0.13378\teval-rmse:0.175343\n",
      "[100]\ttrain-rmse:0.088193\teval-rmse:0.147395\n",
      "[110]\ttrain-rmse:0.059074\teval-rmse:0.134982\n",
      "[120]\ttrain-rmse:0.040406\teval-rmse:0.128441\n",
      "[130]\ttrain-rmse:0.028271\teval-rmse:0.125979\n",
      "[140]\ttrain-rmse:0.020099\teval-rmse:0.124567\n",
      "[150]\ttrain-rmse:0.014589\teval-rmse:0.12396\n",
      "[160]\ttrain-rmse:0.010834\teval-rmse:0.12376\n",
      "[170]\ttrain-rmse:0.008136\teval-rmse:0.123497\n",
      "[180]\ttrain-rmse:0.00622\teval-rmse:0.123423\n",
      "[190]\ttrain-rmse:0.00485\teval-rmse:0.123354\n",
      "[200]\ttrain-rmse:0.003749\teval-rmse:0.1233\n",
      "[210]\ttrain-rmse:0.00291\teval-rmse:0.123256\n",
      "[220]\ttrain-rmse:0.002301\teval-rmse:0.123219\n",
      "[230]\ttrain-rmse:0.001843\teval-rmse:0.123189\n",
      "[240]\ttrain-rmse:0.00153\teval-rmse:0.123177\n",
      "[250]\ttrain-rmse:0.00124\teval-rmse:0.123151\n",
      "[260]\ttrain-rmse:0.000981\teval-rmse:0.123133\n",
      "[270]\ttrain-rmse:0.000803\teval-rmse:0.123134\n",
      "[280]\ttrain-rmse:0.00074\teval-rmse:0.123131\n",
      "Stopping. Best iteration:\n",
      "[263]\ttrain-rmse:0.000922\teval-rmse:0.123129\n",
      "\n"
     ]
    },
    {
     "name": "stderr",
     "output_type": "stream",
     "text": [
      "\u001b[32m[I 2020-09-23 13:00:18,718]\u001b[0m Finished trial#0 resulted in value: 0.12313086535639264. Current best value is 0.12313086535639264 with parameters: {'max_depth': 15, 'colsample_bytree': 0.6149912327575129, 'sublsample': 0.7909860240067121}.\u001b[0m\n"
     ]
    },
    {
     "name": "stdout",
     "output_type": "stream",
     "text": [
      "[0]\ttrain-rmse:10.9472\teval-rmse:10.9555\n",
      "Multiple eval metrics have been passed: 'eval-rmse' will be used for early stopping.\n",
      "\n",
      "Will train until eval-rmse hasn't improved in 20 rounds.\n",
      "[10]\ttrain-rmse:6.56446\teval-rmse:6.57153\n",
      "[20]\ttrain-rmse:3.93974\teval-rmse:3.94463\n",
      "[30]\ttrain-rmse:2.36824\teval-rmse:2.36952\n",
      "[40]\ttrain-rmse:1.42725\teval-rmse:1.42742\n",
      "[50]\ttrain-rmse:0.864346\teval-rmse:0.865328\n",
      "[60]\ttrain-rmse:0.528189\teval-rmse:0.532635\n",
      "[70]\ttrain-rmse:0.327594\teval-rmse:0.34002\n",
      "[80]\ttrain-rmse:0.207376\teval-rmse:0.232558\n",
      "[90]\ttrain-rmse:0.134064\teval-rmse:0.174943\n",
      "[100]\ttrain-rmse:0.088855\teval-rmse:0.146234\n",
      "[110]\ttrain-rmse:0.059879\teval-rmse:0.133478\n",
      "[120]\ttrain-rmse:0.041324\teval-rmse:0.126979\n",
      "[130]\ttrain-rmse:0.029291\teval-rmse:0.124194\n",
      "[140]\ttrain-rmse:0.021316\teval-rmse:0.122909\n",
      "[150]\ttrain-rmse:0.015845\teval-rmse:0.12233\n",
      "[160]\ttrain-rmse:0.012033\teval-rmse:0.121889\n",
      "[170]\ttrain-rmse:0.009256\teval-rmse:0.12169\n",
      "[180]\ttrain-rmse:0.007275\teval-rmse:0.121584\n",
      "[190]\ttrain-rmse:0.005768\teval-rmse:0.121472\n",
      "[200]\ttrain-rmse:0.004583\teval-rmse:0.121391\n",
      "[210]\ttrain-rmse:0.00365\teval-rmse:0.121329\n",
      "[220]\ttrain-rmse:0.002985\teval-rmse:0.121302\n",
      "[230]\ttrain-rmse:0.002446\teval-rmse:0.121263\n",
      "[240]\ttrain-rmse:0.002085\teval-rmse:0.121229\n",
      "[250]\ttrain-rmse:0.001707\teval-rmse:0.121195\n",
      "[260]\ttrain-rmse:0.001408\teval-rmse:0.121175\n",
      "[270]\ttrain-rmse:0.001157\teval-rmse:0.121167\n",
      "[280]\ttrain-rmse:0.00097\teval-rmse:0.121172\n",
      "[290]\ttrain-rmse:0.00086\teval-rmse:0.121172\n",
      "Stopping. Best iteration:\n",
      "[270]\ttrain-rmse:0.001157\teval-rmse:0.121167\n",
      "\n"
     ]
    },
    {
     "name": "stderr",
     "output_type": "stream",
     "text": [
      "\u001b[32m[I 2020-09-23 13:00:25,380]\u001b[0m Finished trial#1 resulted in value: 0.12117182868877327. Current best value is 0.12117182868877327 with parameters: {'max_depth': 14, 'colsample_bytree': 0.5814182280978277, 'sublsample': 0.49655835953723326}.\u001b[0m\n"
     ]
    },
    {
     "name": "stdout",
     "output_type": "stream",
     "text": [
      "[0]\ttrain-rmse:10.9472\teval-rmse:10.9555\n",
      "Multiple eval metrics have been passed: 'eval-rmse' will be used for early stopping.\n",
      "\n",
      "Will train until eval-rmse hasn't improved in 20 rounds.\n",
      "[10]\ttrain-rmse:6.56466\teval-rmse:6.57119\n",
      "[20]\ttrain-rmse:3.94021\teval-rmse:3.94476\n",
      "[30]\ttrain-rmse:2.36886\teval-rmse:2.37087\n",
      "[40]\ttrain-rmse:1.42778\teval-rmse:1.42698\n",
      "[50]\ttrain-rmse:0.864757\teval-rmse:0.86528\n",
      "[60]\ttrain-rmse:0.528641\teval-rmse:0.532368\n",
      "[70]\ttrain-rmse:0.328227\teval-rmse:0.338437\n",
      "[80]\ttrain-rmse:0.208762\teval-rmse:0.230339\n",
      "[90]\ttrain-rmse:0.137862\teval-rmse:0.172608\n",
      "[100]\ttrain-rmse:0.095902\teval-rmse:0.145236\n",
      "[110]\ttrain-rmse:0.070989\teval-rmse:0.132834\n",
      "[120]\ttrain-rmse:0.056621\teval-rmse:0.127595\n",
      "[130]\ttrain-rmse:0.047104\teval-rmse:0.124601\n",
      "[140]\ttrain-rmse:0.040737\teval-rmse:0.123327\n",
      "[150]\ttrain-rmse:0.036356\teval-rmse:0.122635\n",
      "[160]\ttrain-rmse:0.032595\teval-rmse:0.121985\n",
      "[170]\ttrain-rmse:0.029589\teval-rmse:0.121661\n",
      "[180]\ttrain-rmse:0.027035\teval-rmse:0.121508\n",
      "[190]\ttrain-rmse:0.024523\teval-rmse:0.121311\n",
      "[200]\ttrain-rmse:0.022054\teval-rmse:0.120942\n",
      "[210]\ttrain-rmse:0.020218\teval-rmse:0.1208\n",
      "[220]\ttrain-rmse:0.01878\teval-rmse:0.120706\n",
      "[230]\ttrain-rmse:0.017512\teval-rmse:0.120624\n",
      "[240]\ttrain-rmse:0.016181\teval-rmse:0.120536\n",
      "[250]\ttrain-rmse:0.014877\teval-rmse:0.120615\n",
      "[260]\ttrain-rmse:0.013845\teval-rmse:0.120591\n",
      "Stopping. Best iteration:\n",
      "[241]\ttrain-rmse:0.016036\teval-rmse:0.120509\n",
      "\n"
     ]
    },
    {
     "name": "stderr",
     "output_type": "stream",
     "text": [
      "\u001b[32m[I 2020-09-23 13:00:29,528]\u001b[0m Finished trial#2 resulted in value: 0.1205881229228335. Current best value is 0.1205881229228335 with parameters: {'max_depth': 8, 'colsample_bytree': 0.46906719510488987, 'sublsample': 0.4082742245811306}.\u001b[0m\n"
     ]
    },
    {
     "name": "stdout",
     "output_type": "stream",
     "text": [
      "[0]\ttrain-rmse:10.9472\teval-rmse:10.9555\n",
      "Multiple eval metrics have been passed: 'eval-rmse' will be used for early stopping.\n",
      "\n",
      "Will train until eval-rmse hasn't improved in 20 rounds.\n",
      "[10]\ttrain-rmse:6.56431\teval-rmse:6.57087\n",
      "[20]\ttrain-rmse:3.93946\teval-rmse:3.94325\n",
      "[30]\ttrain-rmse:2.36782\teval-rmse:2.36962\n",
      "[40]\ttrain-rmse:1.42675\teval-rmse:1.42911\n",
      "[50]\ttrain-rmse:0.863847\teval-rmse:0.867601\n",
      "[60]\ttrain-rmse:0.527563\teval-rmse:0.535827\n",
      "[70]\ttrain-rmse:0.326487\teval-rmse:0.344265\n",
      "[80]\ttrain-rmse:0.205909\teval-rmse:0.235932\n",
      "[90]\ttrain-rmse:0.132817\teval-rmse:0.179423\n",
      "[100]\ttrain-rmse:0.087908\teval-rmse:0.151575\n",
      "[110]\ttrain-rmse:0.06016\teval-rmse:0.13846\n",
      "[120]\ttrain-rmse:0.043125\teval-rmse:0.133389\n",
      "[130]\ttrain-rmse:0.031704\teval-rmse:0.130693\n",
      "[140]\ttrain-rmse:0.02444\teval-rmse:0.129623\n",
      "[150]\ttrain-rmse:0.019539\teval-rmse:0.12881\n",
      "[160]\ttrain-rmse:0.016104\teval-rmse:0.128512\n",
      "[170]\ttrain-rmse:0.013679\teval-rmse:0.128176\n",
      "[180]\ttrain-rmse:0.011749\teval-rmse:0.127905\n",
      "[190]\ttrain-rmse:0.010351\teval-rmse:0.12774\n",
      "[200]\ttrain-rmse:0.009265\teval-rmse:0.127613\n",
      "[210]\ttrain-rmse:0.008454\teval-rmse:0.12753\n",
      "[220]\ttrain-rmse:0.007621\teval-rmse:0.127554\n",
      "[230]\ttrain-rmse:0.006557\teval-rmse:0.127483\n",
      "[240]\ttrain-rmse:0.005738\teval-rmse:0.127471\n",
      "[250]\ttrain-rmse:0.004886\teval-rmse:0.127505\n",
      "Stopping. Best iteration:\n",
      "[239]\ttrain-rmse:0.005846\teval-rmse:0.12747\n",
      "\n"
     ]
    },
    {
     "name": "stderr",
     "output_type": "stream",
     "text": [
      "\u001b[32m[I 2020-09-23 13:00:35,035]\u001b[0m Finished trial#3 resulted in value: 0.1275021987105858. Current best value is 0.1205881229228335 with parameters: {'max_depth': 8, 'colsample_bytree': 0.46906719510488987, 'sublsample': 0.4082742245811306}.\u001b[0m\n"
     ]
    },
    {
     "name": "stdout",
     "output_type": "stream",
     "text": [
      "[0]\ttrain-rmse:10.9472\teval-rmse:10.9555\n",
      "Multiple eval metrics have been passed: 'eval-rmse' will be used for early stopping.\n",
      "\n",
      "Will train until eval-rmse hasn't improved in 20 rounds.\n",
      "[10]\ttrain-rmse:6.56438\teval-rmse:6.57157\n",
      "[20]\ttrain-rmse:3.93965\teval-rmse:3.94439\n",
      "[30]\ttrain-rmse:2.36809\teval-rmse:2.36987\n",
      "[40]\ttrain-rmse:1.42704\teval-rmse:1.42844\n",
      "[50]\ttrain-rmse:0.864153\teval-rmse:0.86737\n",
      "[60]\ttrain-rmse:0.527943\teval-rmse:0.536006\n",
      "[70]\ttrain-rmse:0.327128\teval-rmse:0.343036\n",
      "[80]\ttrain-rmse:0.206941\teval-rmse:0.234708\n",
      "[90]\ttrain-rmse:0.134835\teval-rmse:0.177438\n",
      "[100]\ttrain-rmse:0.091556\teval-rmse:0.149597\n",
      "[110]\ttrain-rmse:0.065422\teval-rmse:0.136928\n",
      "[120]\ttrain-rmse:0.049095\teval-rmse:0.131168\n",
      "[130]\ttrain-rmse:0.039357\teval-rmse:0.129063\n",
      "[140]\ttrain-rmse:0.032635\teval-rmse:0.127765\n",
      "[150]\ttrain-rmse:0.027602\teval-rmse:0.126974\n",
      "[160]\ttrain-rmse:0.024062\teval-rmse:0.126437\n",
      "[170]\ttrain-rmse:0.021568\teval-rmse:0.126242\n",
      "[180]\ttrain-rmse:0.019945\teval-rmse:0.126064\n",
      "[190]\ttrain-rmse:0.0182\teval-rmse:0.125948\n",
      "[200]\ttrain-rmse:0.016549\teval-rmse:0.125798\n",
      "[210]\ttrain-rmse:0.015199\teval-rmse:0.125754\n",
      "[220]\ttrain-rmse:0.014114\teval-rmse:0.125665\n",
      "[230]\ttrain-rmse:0.013199\teval-rmse:0.125541\n",
      "[240]\ttrain-rmse:0.012096\teval-rmse:0.125497\n",
      "[250]\ttrain-rmse:0.010991\teval-rmse:0.12545\n",
      "[260]\ttrain-rmse:0.009751\teval-rmse:0.125403\n",
      "[270]\ttrain-rmse:0.008833\teval-rmse:0.125362\n",
      "[280]\ttrain-rmse:0.007944\teval-rmse:0.125323\n",
      "[290]\ttrain-rmse:0.007114\teval-rmse:0.125368\n",
      "[300]\ttrain-rmse:0.006553\teval-rmse:0.125342\n",
      "Stopping. Best iteration:\n",
      "[281]\ttrain-rmse:0.007845\teval-rmse:0.125314\n",
      "\n"
     ]
    },
    {
     "name": "stderr",
     "output_type": "stream",
     "text": [
      "\u001b[32m[I 2020-09-23 13:00:43,895]\u001b[0m Finished trial#4 resulted in value: 0.1253365466786708. Current best value is 0.1205881229228335 with parameters: {'max_depth': 8, 'colsample_bytree': 0.46906719510488987, 'sublsample': 0.4082742245811306}.\u001b[0m\n"
     ]
    },
    {
     "name": "stdout",
     "output_type": "stream",
     "text": [
      "[0]\ttrain-rmse:10.9472\teval-rmse:10.9555\n",
      "Multiple eval metrics have been passed: 'eval-rmse' will be used for early stopping.\n",
      "\n",
      "Will train until eval-rmse hasn't improved in 20 rounds.\n",
      "[10]\ttrain-rmse:6.56431\teval-rmse:6.57075\n",
      "[20]\ttrain-rmse:3.93948\teval-rmse:3.94299\n",
      "[30]\ttrain-rmse:2.3679\teval-rmse:2.36973\n",
      "[40]\ttrain-rmse:1.42691\teval-rmse:1.4285\n",
      "[50]\ttrain-rmse:0.863958\teval-rmse:0.869233\n",
      "[60]\ttrain-rmse:0.527972\teval-rmse:0.536763\n",
      "[70]\ttrain-rmse:0.32898\teval-rmse:0.343779\n",
      "[80]\ttrain-rmse:0.213091\teval-rmse:0.235217\n",
      "[90]\ttrain-rmse:0.147649\teval-rmse:0.179043\n",
      "[100]\ttrain-rmse:0.112719\teval-rmse:0.151449\n",
      "[110]\ttrain-rmse:0.094755\teval-rmse:0.138618\n",
      "[120]\ttrain-rmse:0.084858\teval-rmse:0.132584\n",
      "[130]\ttrain-rmse:0.079288\teval-rmse:0.129528\n",
      "[140]\ttrain-rmse:0.075237\teval-rmse:0.128148\n",
      "[150]\ttrain-rmse:0.072411\teval-rmse:0.127319\n",
      "[160]\ttrain-rmse:0.070401\teval-rmse:0.126638\n",
      "[170]\ttrain-rmse:0.068478\teval-rmse:0.126301\n",
      "[180]\ttrain-rmse:0.066883\teval-rmse:0.126105\n",
      "[190]\ttrain-rmse:0.0653\teval-rmse:0.125862\n",
      "[200]\ttrain-rmse:0.063669\teval-rmse:0.125495\n",
      "[210]\ttrain-rmse:0.062262\teval-rmse:0.125151\n",
      "[220]\ttrain-rmse:0.060943\teval-rmse:0.124919\n",
      "[230]\ttrain-rmse:0.059731\teval-rmse:0.124869\n",
      "[240]\ttrain-rmse:0.058411\teval-rmse:0.124816\n",
      "[250]\ttrain-rmse:0.057347\teval-rmse:0.124776\n",
      "[260]\ttrain-rmse:0.056202\teval-rmse:0.124482\n",
      "[270]\ttrain-rmse:0.054966\teval-rmse:0.12456\n",
      "Stopping. Best iteration:\n",
      "[259]\ttrain-rmse:0.056333\teval-rmse:0.124442\n",
      "\n"
     ]
    },
    {
     "name": "stderr",
     "output_type": "stream",
     "text": [
      "\u001b[32m[I 2020-09-23 13:00:50,014]\u001b[0m Finished trial#5 resulted in value: 0.12448570073849935. Current best value is 0.1205881229228335 with parameters: {'max_depth': 8, 'colsample_bytree': 0.46906719510488987, 'sublsample': 0.4082742245811306}.\u001b[0m\n"
     ]
    },
    {
     "name": "stdout",
     "output_type": "stream",
     "text": [
      "[0]\ttrain-rmse:10.9472\teval-rmse:10.9555\n",
      "Multiple eval metrics have been passed: 'eval-rmse' will be used for early stopping.\n",
      "\n",
      "Will train until eval-rmse hasn't improved in 20 rounds.\n",
      "[10]\ttrain-rmse:6.56441\teval-rmse:6.57155\n",
      "[20]\ttrain-rmse:3.93968\teval-rmse:3.9448\n",
      "[30]\ttrain-rmse:2.36816\teval-rmse:2.37018\n",
      "[40]\ttrain-rmse:1.42711\teval-rmse:1.42729\n",
      "[50]\ttrain-rmse:0.864267\teval-rmse:0.867072\n",
      "[60]\ttrain-rmse:0.528007\teval-rmse:0.534892\n",
      "[70]\ttrain-rmse:0.327186\teval-rmse:0.344053\n",
      "[80]\ttrain-rmse:0.206837\teval-rmse:0.236272\n",
      "[90]\ttrain-rmse:0.133859\teval-rmse:0.179744\n",
      "[100]\ttrain-rmse:0.088838\teval-rmse:0.152084\n",
      "[110]\ttrain-rmse:0.060608\teval-rmse:0.139039\n",
      "[120]\ttrain-rmse:0.042771\teval-rmse:0.133193\n",
      "[130]\ttrain-rmse:0.031513\teval-rmse:0.130471\n",
      "[140]\ttrain-rmse:0.023764\teval-rmse:0.129341\n",
      "[150]\ttrain-rmse:0.018497\teval-rmse:0.128736\n",
      "[160]\ttrain-rmse:0.014618\teval-rmse:0.128275\n",
      "[170]\ttrain-rmse:0.011692\teval-rmse:0.128086\n",
      "[180]\ttrain-rmse:0.009484\teval-rmse:0.12795\n",
      "[190]\ttrain-rmse:0.00775\teval-rmse:0.127809\n",
      "[200]\ttrain-rmse:0.006388\teval-rmse:0.127776\n",
      "[210]\ttrain-rmse:0.005303\teval-rmse:0.127716\n",
      "[220]\ttrain-rmse:0.004417\teval-rmse:0.127678\n",
      "[230]\ttrain-rmse:0.003703\teval-rmse:0.127654\n",
      "[240]\ttrain-rmse:0.003284\teval-rmse:0.127621\n",
      "[250]\ttrain-rmse:0.002879\teval-rmse:0.127607\n",
      "[260]\ttrain-rmse:0.002472\teval-rmse:0.127582\n",
      "[270]\ttrain-rmse:0.002086\teval-rmse:0.12758\n",
      "[280]\ttrain-rmse:0.001772\teval-rmse:0.127588\n",
      "Stopping. Best iteration:\n",
      "[265]\ttrain-rmse:0.002263\teval-rmse:0.127576\n",
      "\n"
     ]
    },
    {
     "name": "stderr",
     "output_type": "stream",
     "text": [
      "\u001b[32m[I 2020-09-23 13:00:58,544]\u001b[0m Finished trial#6 resulted in value: 0.12759171987554535. Current best value is 0.1205881229228335 with parameters: {'max_depth': 8, 'colsample_bytree': 0.46906719510488987, 'sublsample': 0.4082742245811306}.\u001b[0m\n"
     ]
    },
    {
     "name": "stdout",
     "output_type": "stream",
     "text": [
      "[0]\ttrain-rmse:10.9472\teval-rmse:10.9555\n",
      "Multiple eval metrics have been passed: 'eval-rmse' will be used for early stopping.\n",
      "\n",
      "Will train until eval-rmse hasn't improved in 20 rounds.\n",
      "[10]\ttrain-rmse:6.56438\teval-rmse:6.57157\n",
      "[20]\ttrain-rmse:3.93968\teval-rmse:3.94485\n",
      "[30]\ttrain-rmse:2.36802\teval-rmse:2.37005\n",
      "[40]\ttrain-rmse:1.42706\teval-rmse:1.42752\n",
      "[50]\ttrain-rmse:0.864158\teval-rmse:0.866767\n",
      "[60]\ttrain-rmse:0.527965\teval-rmse:0.534269\n",
      "[70]\ttrain-rmse:0.327381\teval-rmse:0.341288\n",
      "[80]\ttrain-rmse:0.207613\teval-rmse:0.232835\n",
      "[90]\ttrain-rmse:0.136419\teval-rmse:0.175726\n",
      "[100]\ttrain-rmse:0.094043\teval-rmse:0.147011\n",
      "[110]\ttrain-rmse:0.06863\teval-rmse:0.13371\n",
      "[120]\ttrain-rmse:0.053874\teval-rmse:0.127739\n",
      "[130]\ttrain-rmse:0.045201\teval-rmse:0.124758\n",
      "[140]\ttrain-rmse:0.039575\teval-rmse:0.123534\n",
      "[150]\ttrain-rmse:0.035428\teval-rmse:0.122895\n",
      "[160]\ttrain-rmse:0.032252\teval-rmse:0.122626\n",
      "[170]\ttrain-rmse:0.029683\teval-rmse:0.122564\n",
      "[180]\ttrain-rmse:0.026971\teval-rmse:0.122555\n",
      "[190]\ttrain-rmse:0.024803\teval-rmse:0.122565\n",
      "[200]\ttrain-rmse:0.022864\teval-rmse:0.12253\n",
      "Stopping. Best iteration:\n",
      "[183]\ttrain-rmse:0.026439\teval-rmse:0.122475\n",
      "\n"
     ]
    },
    {
     "name": "stderr",
     "output_type": "stream",
     "text": [
      "\u001b[32m[I 2020-09-23 13:01:04,600]\u001b[0m Finished trial#7 resulted in value: 0.12257850844330834. Current best value is 0.1205881229228335 with parameters: {'max_depth': 8, 'colsample_bytree': 0.46906719510488987, 'sublsample': 0.4082742245811306}.\u001b[0m\n"
     ]
    },
    {
     "name": "stdout",
     "output_type": "stream",
     "text": [
      "[0]\ttrain-rmse:10.9472\teval-rmse:10.9555\n",
      "Multiple eval metrics have been passed: 'eval-rmse' will be used for early stopping.\n",
      "\n",
      "Will train until eval-rmse hasn't improved in 20 rounds.\n",
      "[10]\ttrain-rmse:6.56446\teval-rmse:6.57153\n",
      "[20]\ttrain-rmse:3.93978\teval-rmse:3.94394\n",
      "[30]\ttrain-rmse:2.36832\teval-rmse:2.37107\n",
      "[40]\ttrain-rmse:1.42719\teval-rmse:1.4274\n",
      "[50]\ttrain-rmse:0.864254\teval-rmse:0.865095\n",
      "[60]\ttrain-rmse:0.528377\teval-rmse:0.532125\n",
      "[70]\ttrain-rmse:0.328732\teval-rmse:0.339264\n",
      "[80]\ttrain-rmse:0.211755\teval-rmse:0.231306\n",
      "[90]\ttrain-rmse:0.144686\teval-rmse:0.17382\n",
      "[100]\ttrain-rmse:0.108051\teval-rmse:0.146787\n",
      "[110]\ttrain-rmse:0.087763\teval-rmse:0.133755\n",
      "[120]\ttrain-rmse:0.076554\teval-rmse:0.127806\n",
      "[130]\ttrain-rmse:0.069999\teval-rmse:0.124651\n",
      "[140]\ttrain-rmse:0.065839\teval-rmse:0.123268\n",
      "[150]\ttrain-rmse:0.062528\teval-rmse:0.122285\n",
      "[160]\ttrain-rmse:0.059051\teval-rmse:0.121395\n",
      "[170]\ttrain-rmse:0.056562\teval-rmse:0.12097\n",
      "[180]\ttrain-rmse:0.053702\teval-rmse:0.120527\n",
      "[190]\ttrain-rmse:0.051736\teval-rmse:0.120146\n",
      "[200]\ttrain-rmse:0.050058\teval-rmse:0.119737\n",
      "[210]\ttrain-rmse:0.048628\teval-rmse:0.119596\n",
      "[220]\ttrain-rmse:0.047181\teval-rmse:0.119266\n",
      "[230]\ttrain-rmse:0.045671\teval-rmse:0.119034\n",
      "[240]\ttrain-rmse:0.044346\teval-rmse:0.119051\n",
      "[250]\ttrain-rmse:0.043162\teval-rmse:0.11913\n",
      "[260]\ttrain-rmse:0.04183\teval-rmse:0.118995\n",
      "[270]\ttrain-rmse:0.040562\teval-rmse:0.118961\n",
      "[280]\ttrain-rmse:0.039197\teval-rmse:0.119084\n",
      "[290]\ttrain-rmse:0.03815\teval-rmse:0.118988\n",
      "[300]\ttrain-rmse:0.037132\teval-rmse:0.11889\n",
      "[310]\ttrain-rmse:0.036146\teval-rmse:0.118797\n",
      "[320]\ttrain-rmse:0.034994\teval-rmse:0.118545\n",
      "[330]\ttrain-rmse:0.034223\teval-rmse:0.118538\n",
      "[340]\ttrain-rmse:0.033643\teval-rmse:0.118464\n",
      "[350]\ttrain-rmse:0.033079\teval-rmse:0.118468\n",
      "[360]\ttrain-rmse:0.032482\teval-rmse:0.118327\n",
      "[370]\ttrain-rmse:0.031934\teval-rmse:0.118246\n",
      "[380]\ttrain-rmse:0.03136\teval-rmse:0.11824\n",
      "[390]\ttrain-rmse:0.030363\teval-rmse:0.118142\n",
      "[400]\ttrain-rmse:0.029433\teval-rmse:0.118186\n",
      "Stopping. Best iteration:\n",
      "[386]\ttrain-rmse:0.030843\teval-rmse:0.11812\n",
      "\n"
     ]
    },
    {
     "name": "stderr",
     "output_type": "stream",
     "text": [
      "\u001b[32m[I 2020-09-23 13:01:13,487]\u001b[0m Finished trial#8 resulted in value: 0.11817168206539794. Current best value is 0.11817168206539794 with parameters: {'max_depth': 5, 'colsample_bytree': 0.5315256316915973, 'sublsample': 0.760637526385751}.\u001b[0m\n"
     ]
    },
    {
     "name": "stdout",
     "output_type": "stream",
     "text": [
      "[0]\ttrain-rmse:10.9472\teval-rmse:10.9555\n",
      "Multiple eval metrics have been passed: 'eval-rmse' will be used for early stopping.\n",
      "\n",
      "Will train until eval-rmse hasn't improved in 20 rounds.\n",
      "[10]\ttrain-rmse:6.56438\teval-rmse:6.57157\n",
      "[20]\ttrain-rmse:3.93968\teval-rmse:3.94485\n",
      "[30]\ttrain-rmse:2.36802\teval-rmse:2.37005\n",
      "[40]\ttrain-rmse:1.42706\teval-rmse:1.42752\n",
      "[50]\ttrain-rmse:0.864158\teval-rmse:0.866767\n",
      "[60]\ttrain-rmse:0.527965\teval-rmse:0.534269\n",
      "[70]\ttrain-rmse:0.327141\teval-rmse:0.342365\n",
      "[80]\ttrain-rmse:0.206547\teval-rmse:0.234093\n",
      "[90]\ttrain-rmse:0.133168\teval-rmse:0.177418\n",
      "[100]\ttrain-rmse:0.08742\teval-rmse:0.149222\n",
      "[110]\ttrain-rmse:0.058464\teval-rmse:0.136313\n",
      "[120]\ttrain-rmse:0.039913\teval-rmse:0.130194\n",
      "[130]\ttrain-rmse:0.027749\teval-rmse:0.127664\n",
      "[140]\ttrain-rmse:0.019619\teval-rmse:0.126347\n",
      "[150]\ttrain-rmse:0.014055\teval-rmse:0.125795\n",
      "[160]\ttrain-rmse:0.010206\teval-rmse:0.12538\n",
      "[170]\ttrain-rmse:0.007497\teval-rmse:0.125048\n",
      "[180]\ttrain-rmse:0.005682\teval-rmse:0.124883\n",
      "[190]\ttrain-rmse:0.004357\teval-rmse:0.124792\n",
      "[200]\ttrain-rmse:0.00344\teval-rmse:0.124716\n",
      "[210]\ttrain-rmse:0.002722\teval-rmse:0.124641\n",
      "[220]\ttrain-rmse:0.002174\teval-rmse:0.124621\n",
      "[230]\ttrain-rmse:0.001721\teval-rmse:0.124585\n",
      "[240]\ttrain-rmse:0.001368\teval-rmse:0.124561\n",
      "[250]\ttrain-rmse:0.001095\teval-rmse:0.124544\n",
      "[260]\ttrain-rmse:0.000881\teval-rmse:0.124531\n",
      "[270]\ttrain-rmse:0.000724\teval-rmse:0.124522\n",
      "[280]\ttrain-rmse:0.000663\teval-rmse:0.12452\n",
      "[290]\ttrain-rmse:0.000645\teval-rmse:0.124519\n",
      "[300]\ttrain-rmse:0.000641\teval-rmse:0.124519\n",
      "Stopping. Best iteration:\n",
      "[285]\ttrain-rmse:0.000658\teval-rmse:0.124519\n",
      "\n"
     ]
    },
    {
     "name": "stderr",
     "output_type": "stream",
     "text": [
      "\u001b[32m[I 2020-09-23 13:01:21,680]\u001b[0m Finished trial#9 resulted in value: 0.12451865064949477. Current best value is 0.11817168206539794 with parameters: {'max_depth': 5, 'colsample_bytree': 0.5315256316915973, 'sublsample': 0.760637526385751}.\u001b[0m\n"
     ]
    },
    {
     "name": "stdout",
     "output_type": "stream",
     "text": [
      "[0]\ttrain-rmse:10.9472\teval-rmse:10.9555\n",
      "Multiple eval metrics have been passed: 'eval-rmse' will be used for early stopping.\n",
      "\n",
      "Will train until eval-rmse hasn't improved in 20 rounds.\n",
      "[10]\ttrain-rmse:6.56444\teval-rmse:6.57256\n",
      "[20]\ttrain-rmse:3.93974\teval-rmse:3.94495\n",
      "[30]\ttrain-rmse:2.36834\teval-rmse:2.37053\n",
      "[40]\ttrain-rmse:1.42739\teval-rmse:1.42777\n",
      "[50]\ttrain-rmse:0.864846\teval-rmse:0.865691\n",
      "[60]\ttrain-rmse:0.529989\teval-rmse:0.532584\n",
      "[70]\ttrain-rmse:0.332926\teval-rmse:0.340717\n",
      "[80]\ttrain-rmse:0.219937\teval-rmse:0.233663\n",
      "[90]\ttrain-rmse:0.158195\teval-rmse:0.177917\n",
      "[100]\ttrain-rmse:0.126248\teval-rmse:0.151434\n",
      "[110]\ttrain-rmse:0.110297\teval-rmse:0.139702\n",
      "[120]\ttrain-rmse:0.101841\teval-rmse:0.133317\n",
      "[130]\ttrain-rmse:0.09662\teval-rmse:0.129834\n",
      "[140]\ttrain-rmse:0.093193\teval-rmse:0.127251\n",
      "[150]\ttrain-rmse:0.090849\teval-rmse:0.125938\n",
      "[160]\ttrain-rmse:0.088751\teval-rmse:0.125199\n",
      "[170]\ttrain-rmse:0.086851\teval-rmse:0.124521\n",
      "[180]\ttrain-rmse:0.084939\teval-rmse:0.123924\n",
      "[190]\ttrain-rmse:0.083327\teval-rmse:0.12327\n",
      "[200]\ttrain-rmse:0.081717\teval-rmse:0.122564\n",
      "[210]\ttrain-rmse:0.080449\teval-rmse:0.122274\n",
      "[220]\ttrain-rmse:0.079044\teval-rmse:0.12181\n",
      "[230]\ttrain-rmse:0.077567\teval-rmse:0.121497\n",
      "[240]\ttrain-rmse:0.076374\teval-rmse:0.121117\n",
      "[250]\ttrain-rmse:0.075445\teval-rmse:0.120911\n",
      "[260]\ttrain-rmse:0.074388\teval-rmse:0.120703\n",
      "[270]\ttrain-rmse:0.073441\teval-rmse:0.120536\n",
      "[280]\ttrain-rmse:0.072423\teval-rmse:0.120233\n",
      "[290]\ttrain-rmse:0.071711\teval-rmse:0.120179\n",
      "[300]\ttrain-rmse:0.070796\teval-rmse:0.119992\n",
      "[310]\ttrain-rmse:0.070102\teval-rmse:0.11988\n",
      "[320]\ttrain-rmse:0.06942\teval-rmse:0.119665\n",
      "[330]\ttrain-rmse:0.068871\teval-rmse:0.119637\n",
      "[340]\ttrain-rmse:0.068268\teval-rmse:0.119734\n",
      "Stopping. Best iteration:\n",
      "[323]\ttrain-rmse:0.069296\teval-rmse:0.119582\n",
      "\n"
     ]
    },
    {
     "name": "stderr",
     "output_type": "stream",
     "text": [
      "\u001b[32m[I 2020-09-23 13:01:23,458]\u001b[0m Finished trial#10 resulted in value: 0.11977654142685953. Current best value is 0.11817168206539794 with parameters: {'max_depth': 5, 'colsample_bytree': 0.5315256316915973, 'sublsample': 0.760637526385751}.\u001b[0m\n"
     ]
    },
    {
     "name": "stdout",
     "output_type": "stream",
     "text": [
      "[0]\ttrain-rmse:10.9472\teval-rmse:10.9555\n",
      "Multiple eval metrics have been passed: 'eval-rmse' will be used for early stopping.\n",
      "\n",
      "Will train until eval-rmse hasn't improved in 20 rounds.\n",
      "[10]\ttrain-rmse:6.56446\teval-rmse:6.57153\n",
      "[20]\ttrain-rmse:3.93978\teval-rmse:3.94394\n",
      "[30]\ttrain-rmse:2.36825\teval-rmse:2.37055\n",
      "[40]\ttrain-rmse:1.4272\teval-rmse:1.42684\n",
      "[50]\ttrain-rmse:0.864552\teval-rmse:0.864771\n",
      "[60]\ttrain-rmse:0.529454\teval-rmse:0.532357\n",
      "[70]\ttrain-rmse:0.33231\teval-rmse:0.339071\n",
      "[80]\ttrain-rmse:0.219026\teval-rmse:0.231995\n",
      "[90]\ttrain-rmse:0.157048\teval-rmse:0.176165\n",
      "[100]\ttrain-rmse:0.125042\teval-rmse:0.149811\n",
      "[110]\ttrain-rmse:0.109103\teval-rmse:0.138118\n",
      "[120]\ttrain-rmse:0.100369\teval-rmse:0.131671\n",
      "[130]\ttrain-rmse:0.095274\teval-rmse:0.128295\n",
      "[140]\ttrain-rmse:0.092091\teval-rmse:0.12593\n",
      "[150]\ttrain-rmse:0.089669\teval-rmse:0.125069\n",
      "[160]\ttrain-rmse:0.087545\teval-rmse:0.124488\n",
      "[170]\ttrain-rmse:0.085533\teval-rmse:0.123615\n",
      "[180]\ttrain-rmse:0.083716\teval-rmse:0.123291\n",
      "[190]\ttrain-rmse:0.082287\teval-rmse:0.122897\n",
      "[200]\ttrain-rmse:0.080988\teval-rmse:0.122496\n",
      "[210]\ttrain-rmse:0.079507\teval-rmse:0.122181\n",
      "[220]\ttrain-rmse:0.078252\teval-rmse:0.121791\n",
      "[230]\ttrain-rmse:0.077297\teval-rmse:0.121468\n",
      "[240]\ttrain-rmse:0.076244\teval-rmse:0.120912\n",
      "[250]\ttrain-rmse:0.075139\teval-rmse:0.120699\n",
      "[260]\ttrain-rmse:0.074292\teval-rmse:0.120598\n",
      "[270]\ttrain-rmse:0.073414\teval-rmse:0.120493\n",
      "[280]\ttrain-rmse:0.072537\teval-rmse:0.120523\n",
      "[290]\ttrain-rmse:0.071888\teval-rmse:0.120393\n",
      "[300]\ttrain-rmse:0.071072\teval-rmse:0.120523\n",
      "Stopping. Best iteration:\n",
      "[289]\ttrain-rmse:0.071961\teval-rmse:0.120371\n",
      "\n"
     ]
    },
    {
     "name": "stderr",
     "output_type": "stream",
     "text": [
      "\u001b[32m[I 2020-09-23 13:01:25,027]\u001b[0m Finished trial#11 resulted in value: 0.1203813829928861. Current best value is 0.11817168206539794 with parameters: {'max_depth': 5, 'colsample_bytree': 0.5315256316915973, 'sublsample': 0.760637526385751}.\u001b[0m\n"
     ]
    },
    {
     "name": "stdout",
     "output_type": "stream",
     "text": [
      "[0]\ttrain-rmse:10.9472\teval-rmse:10.9555\n",
      "Multiple eval metrics have been passed: 'eval-rmse' will be used for early stopping.\n",
      "\n",
      "Will train until eval-rmse hasn't improved in 20 rounds.\n",
      "[10]\ttrain-rmse:6.56477\teval-rmse:6.57134\n",
      "[20]\ttrain-rmse:3.94038\teval-rmse:3.94411\n",
      "[30]\ttrain-rmse:2.36911\teval-rmse:2.37129\n",
      "[40]\ttrain-rmse:1.4283\teval-rmse:1.4284\n",
      "[50]\ttrain-rmse:0.865269\teval-rmse:0.865648\n",
      "[60]\ttrain-rmse:0.529237\teval-rmse:0.532453\n",
      "[70]\ttrain-rmse:0.329752\teval-rmse:0.33892\n",
      "[80]\ttrain-rmse:0.211788\teval-rmse:0.229349\n",
      "[90]\ttrain-rmse:0.143424\teval-rmse:0.170204\n",
      "[100]\ttrain-rmse:0.104959\teval-rmse:0.141946\n",
      "[110]\ttrain-rmse:0.08337\teval-rmse:0.128722\n",
      "[120]\ttrain-rmse:0.07105\teval-rmse:0.122408\n",
      "[130]\ttrain-rmse:0.063596\teval-rmse:0.119036\n",
      "[140]\ttrain-rmse:0.05869\teval-rmse:0.117433\n",
      "[150]\ttrain-rmse:0.055016\teval-rmse:0.116567\n",
      "[160]\ttrain-rmse:0.051298\teval-rmse:0.115457\n",
      "[170]\ttrain-rmse:0.048328\teval-rmse:0.114965\n",
      "[180]\ttrain-rmse:0.046118\teval-rmse:0.114504\n",
      "[190]\ttrain-rmse:0.044005\teval-rmse:0.11424\n",
      "[200]\ttrain-rmse:0.041837\teval-rmse:0.113872\n",
      "[210]\ttrain-rmse:0.039746\teval-rmse:0.113537\n",
      "[220]\ttrain-rmse:0.038039\teval-rmse:0.11339\n",
      "[230]\ttrain-rmse:0.036621\teval-rmse:0.113145\n",
      "[240]\ttrain-rmse:0.035198\teval-rmse:0.112956\n",
      "[250]\ttrain-rmse:0.033848\teval-rmse:0.112794\n",
      "[260]\ttrain-rmse:0.032507\teval-rmse:0.112734\n",
      "[270]\ttrain-rmse:0.031273\teval-rmse:0.112674\n",
      "[280]\ttrain-rmse:0.030491\teval-rmse:0.112534\n",
      "[290]\ttrain-rmse:0.029377\teval-rmse:0.112598\n",
      "[300]\ttrain-rmse:0.028409\teval-rmse:0.112616\n",
      "Stopping. Best iteration:\n",
      "[286]\ttrain-rmse:0.029871\teval-rmse:0.112472\n",
      "\n"
     ]
    },
    {
     "name": "stderr",
     "output_type": "stream",
     "text": [
      "\u001b[32m[I 2020-09-23 13:01:27,374]\u001b[0m Finished trial#12 resulted in value: 0.11261399910948558. Current best value is 0.11261399910948558 with parameters: {'max_depth': 6, 'colsample_bytree': 0.330432640328732, 'sublsample': 0.7158427239902707}.\u001b[0m\n"
     ]
    },
    {
     "name": "stdout",
     "output_type": "stream",
     "text": [
      "[0]\ttrain-rmse:10.9472\teval-rmse:10.9555\n",
      "Multiple eval metrics have been passed: 'eval-rmse' will be used for early stopping.\n",
      "\n",
      "Will train until eval-rmse hasn't improved in 20 rounds.\n",
      "[10]\ttrain-rmse:6.56446\teval-rmse:6.57153\n",
      "[20]\ttrain-rmse:3.93974\teval-rmse:3.94463\n",
      "[30]\ttrain-rmse:2.36824\teval-rmse:2.36952\n",
      "[40]\ttrain-rmse:1.42725\teval-rmse:1.42742\n",
      "[50]\ttrain-rmse:0.864331\teval-rmse:0.865267\n",
      "[60]\ttrain-rmse:0.528111\teval-rmse:0.532516\n",
      "[70]\ttrain-rmse:0.327365\teval-rmse:0.339098\n",
      "[80]\ttrain-rmse:0.20703\teval-rmse:0.231151\n",
      "[90]\ttrain-rmse:0.133825\teval-rmse:0.174573\n",
      "[100]\ttrain-rmse:0.088391\teval-rmse:0.147456\n",
      "[110]\ttrain-rmse:0.059464\teval-rmse:0.134694\n",
      "[120]\ttrain-rmse:0.040846\teval-rmse:0.128546\n",
      "[130]\ttrain-rmse:0.028584\teval-rmse:0.12613\n",
      "[140]\ttrain-rmse:0.020443\teval-rmse:0.124862\n",
      "[150]\ttrain-rmse:0.014952\teval-rmse:0.12435\n",
      "[160]\ttrain-rmse:0.011101\teval-rmse:0.124034\n",
      "[170]\ttrain-rmse:0.00827\teval-rmse:0.123824\n",
      "[180]\ttrain-rmse:0.00635\teval-rmse:0.123673\n",
      "[190]\ttrain-rmse:0.004868\teval-rmse:0.123572\n",
      "[200]\ttrain-rmse:0.003756\teval-rmse:0.123511\n",
      "[210]\ttrain-rmse:0.002899\teval-rmse:0.123459\n",
      "[220]\ttrain-rmse:0.002289\teval-rmse:0.123441\n",
      "[230]\ttrain-rmse:0.001835\teval-rmse:0.123412\n",
      "[240]\ttrain-rmse:0.001484\teval-rmse:0.123394\n",
      "[250]\ttrain-rmse:0.001206\teval-rmse:0.123364\n",
      "[260]\ttrain-rmse:0.00098\teval-rmse:0.123364\n",
      "[270]\ttrain-rmse:0.000798\teval-rmse:0.123367\n",
      "Stopping. Best iteration:\n",
      "[258]\ttrain-rmse:0.001022\teval-rmse:0.123361\n",
      "\n"
     ]
    },
    {
     "name": "stderr",
     "output_type": "stream",
     "text": [
      "\u001b[32m[I 2020-09-23 13:01:32,695]\u001b[0m Finished trial#13 resulted in value: 0.1233614999160569. Current best value is 0.11261399910948558 with parameters: {'max_depth': 6, 'colsample_bytree': 0.330432640328732, 'sublsample': 0.7158427239902707}.\u001b[0m\n"
     ]
    },
    {
     "name": "stdout",
     "output_type": "stream",
     "text": [
      "[0]\ttrain-rmse:10.9472\teval-rmse:10.9555\n",
      "Multiple eval metrics have been passed: 'eval-rmse' will be used for early stopping.\n",
      "\n",
      "Will train until eval-rmse hasn't improved in 20 rounds.\n",
      "[10]\ttrain-rmse:6.56477\teval-rmse:6.57134\n",
      "[20]\ttrain-rmse:3.94038\teval-rmse:3.94411\n",
      "[30]\ttrain-rmse:2.36915\teval-rmse:2.37124\n",
      "[40]\ttrain-rmse:1.42841\teval-rmse:1.43012\n",
      "[50]\ttrain-rmse:0.865614\teval-rmse:0.866099\n",
      "[60]\ttrain-rmse:0.529609\teval-rmse:0.53306\n",
      "[70]\ttrain-rmse:0.329816\teval-rmse:0.339859\n",
      "[80]\ttrain-rmse:0.210872\teval-rmse:0.231006\n",
      "[90]\ttrain-rmse:0.14041\teval-rmse:0.172576\n",
      "[100]\ttrain-rmse:0.098796\teval-rmse:0.14418\n",
      "[110]\ttrain-rmse:0.074222\teval-rmse:0.130991\n",
      "[120]\ttrain-rmse:0.059235\teval-rmse:0.125031\n",
      "[130]\ttrain-rmse:0.049353\teval-rmse:0.12214\n",
      "[140]\ttrain-rmse:0.043185\teval-rmse:0.121052\n",
      "[150]\ttrain-rmse:0.038499\teval-rmse:0.120119\n",
      "[160]\ttrain-rmse:0.033718\teval-rmse:0.119466\n",
      "[170]\ttrain-rmse:0.030417\teval-rmse:0.118984\n",
      "[180]\ttrain-rmse:0.027632\teval-rmse:0.118711\n",
      "[190]\ttrain-rmse:0.025531\teval-rmse:0.118474\n",
      "[200]\ttrain-rmse:0.02304\teval-rmse:0.118414\n",
      "[210]\ttrain-rmse:0.020685\teval-rmse:0.118319\n",
      "[220]\ttrain-rmse:0.019039\teval-rmse:0.118232\n",
      "[230]\ttrain-rmse:0.017436\teval-rmse:0.118121\n",
      "[240]\ttrain-rmse:0.016354\teval-rmse:0.118108\n",
      "[250]\ttrain-rmse:0.015363\teval-rmse:0.118006\n",
      "[260]\ttrain-rmse:0.013999\teval-rmse:0.118087\n",
      "Stopping. Best iteration:\n",
      "[248]\ttrain-rmse:0.015647\teval-rmse:0.117997\n",
      "\n"
     ]
    },
    {
     "name": "stderr",
     "output_type": "stream",
     "text": [
      "\u001b[32m[I 2020-09-23 13:01:34,411]\u001b[0m Finished trial#14 resulted in value: 0.11805451633753669. Current best value is 0.11261399910948558 with parameters: {'max_depth': 6, 'colsample_bytree': 0.330432640328732, 'sublsample': 0.7158427239902707}.\u001b[0m\n"
     ]
    },
    {
     "name": "stdout",
     "output_type": "stream",
     "text": [
      "[0]\ttrain-rmse:10.9472\teval-rmse:10.9555\n",
      "Multiple eval metrics have been passed: 'eval-rmse' will be used for early stopping.\n",
      "\n",
      "Will train until eval-rmse hasn't improved in 20 rounds.\n",
      "[10]\ttrain-rmse:6.56431\teval-rmse:6.57087\n",
      "[20]\ttrain-rmse:3.93948\teval-rmse:3.94314\n",
      "[30]\ttrain-rmse:2.36786\teval-rmse:2.36956\n",
      "[40]\ttrain-rmse:1.42675\teval-rmse:1.42781\n",
      "[50]\ttrain-rmse:0.863868\teval-rmse:0.867006\n",
      "[60]\ttrain-rmse:0.527993\teval-rmse:0.53511\n",
      "[70]\ttrain-rmse:0.32892\teval-rmse:0.342326\n",
      "[80]\ttrain-rmse:0.213047\teval-rmse:0.234576\n",
      "[90]\ttrain-rmse:0.147724\teval-rmse:0.178453\n",
      "[100]\ttrain-rmse:0.112648\teval-rmse:0.151406\n",
      "[110]\ttrain-rmse:0.094759\teval-rmse:0.139308\n",
      "[120]\ttrain-rmse:0.085239\teval-rmse:0.134077\n",
      "[130]\ttrain-rmse:0.079785\teval-rmse:0.13083\n",
      "[140]\ttrain-rmse:0.075983\teval-rmse:0.129777\n",
      "[150]\ttrain-rmse:0.073301\teval-rmse:0.128983\n",
      "[160]\ttrain-rmse:0.070996\teval-rmse:0.128308\n",
      "[170]\ttrain-rmse:0.069184\teval-rmse:0.127883\n",
      "[180]\ttrain-rmse:0.067478\teval-rmse:0.127548\n",
      "[190]\ttrain-rmse:0.065352\teval-rmse:0.127138\n",
      "[200]\ttrain-rmse:0.063779\teval-rmse:0.126965\n",
      "[210]\ttrain-rmse:0.062521\teval-rmse:0.126631\n",
      "[220]\ttrain-rmse:0.060896\teval-rmse:0.126304\n",
      "[230]\ttrain-rmse:0.059552\teval-rmse:0.125976\n",
      "[240]\ttrain-rmse:0.058383\teval-rmse:0.126125\n",
      "[250]\ttrain-rmse:0.057355\teval-rmse:0.125972\n",
      "[260]\ttrain-rmse:0.056318\teval-rmse:0.125901\n",
      "[270]\ttrain-rmse:0.05528\teval-rmse:0.125838\n",
      "[280]\ttrain-rmse:0.054159\teval-rmse:0.125799\n",
      "[290]\ttrain-rmse:0.053385\teval-rmse:0.125672\n",
      "[300]\ttrain-rmse:0.052242\teval-rmse:0.125559\n",
      "[310]\ttrain-rmse:0.051086\teval-rmse:0.125458\n",
      "[320]\ttrain-rmse:0.049883\teval-rmse:0.12544\n",
      "[330]\ttrain-rmse:0.04891\teval-rmse:0.125363\n",
      "[340]\ttrain-rmse:0.048175\teval-rmse:0.125408\n",
      "[350]\ttrain-rmse:0.047363\teval-rmse:0.125423\n",
      "Stopping. Best iteration:\n",
      "[334]\ttrain-rmse:0.0487\teval-rmse:0.125317\n",
      "\n"
     ]
    },
    {
     "name": "stderr",
     "output_type": "stream",
     "text": [
      "\u001b[32m[I 2020-09-23 13:01:36,566]\u001b[0m Finished trial#15 resulted in value: 0.1253564940244312. Current best value is 0.11261399910948558 with parameters: {'max_depth': 6, 'colsample_bytree': 0.330432640328732, 'sublsample': 0.7158427239902707}.\u001b[0m\n"
     ]
    },
    {
     "name": "stdout",
     "output_type": "stream",
     "text": [
      "[0]\ttrain-rmse:10.9472\teval-rmse:10.9555\n",
      "Multiple eval metrics have been passed: 'eval-rmse' will be used for early stopping.\n",
      "\n",
      "Will train until eval-rmse hasn't improved in 20 rounds.\n",
      "[10]\ttrain-rmse:6.56444\teval-rmse:6.57256\n",
      "[20]\ttrain-rmse:3.93974\teval-rmse:3.94495\n",
      "[30]\ttrain-rmse:2.36834\teval-rmse:2.37053\n",
      "[40]\ttrain-rmse:1.42736\teval-rmse:1.42782\n",
      "[50]\ttrain-rmse:0.864418\teval-rmse:0.86675\n",
      "[60]\ttrain-rmse:0.528265\teval-rmse:0.534152\n",
      "[70]\ttrain-rmse:0.327649\teval-rmse:0.341701\n",
      "[80]\ttrain-rmse:0.207553\teval-rmse:0.2347\n",
      "[90]\ttrain-rmse:0.134273\teval-rmse:0.176968\n",
      "[100]\ttrain-rmse:0.089015\teval-rmse:0.149884\n",
      "[110]\ttrain-rmse:0.060275\teval-rmse:0.136551\n",
      "[120]\ttrain-rmse:0.041988\teval-rmse:0.130298\n",
      "[130]\ttrain-rmse:0.030234\teval-rmse:0.127468\n",
      "[140]\ttrain-rmse:0.022333\teval-rmse:0.126237\n",
      "[150]\ttrain-rmse:0.016856\teval-rmse:0.125722\n",
      "[160]\ttrain-rmse:0.012878\teval-rmse:0.125204\n",
      "[170]\ttrain-rmse:0.009928\teval-rmse:0.124999\n",
      "[180]\ttrain-rmse:0.007838\teval-rmse:0.124866\n",
      "[190]\ttrain-rmse:0.006284\teval-rmse:0.124752\n",
      "[200]\ttrain-rmse:0.005069\teval-rmse:0.124697\n",
      "[210]\ttrain-rmse:0.004112\teval-rmse:0.124646\n",
      "[220]\ttrain-rmse:0.003285\teval-rmse:0.124626\n",
      "[230]\ttrain-rmse:0.002662\teval-rmse:0.124618\n",
      "[240]\ttrain-rmse:0.002169\teval-rmse:0.124607\n",
      "[250]\ttrain-rmse:0.001765\teval-rmse:0.124596\n",
      "[260]\ttrain-rmse:0.001458\teval-rmse:0.12459\n",
      "[270]\ttrain-rmse:0.001201\teval-rmse:0.124569\n",
      "[280]\ttrain-rmse:0.001001\teval-rmse:0.124564\n",
      "[290]\ttrain-rmse:0.000885\teval-rmse:0.124565\n",
      "Stopping. Best iteration:\n",
      "[276]\ttrain-rmse:0.001063\teval-rmse:0.124561\n",
      "\n"
     ]
    },
    {
     "name": "stderr",
     "output_type": "stream",
     "text": [
      "\u001b[32m[I 2020-09-23 13:01:40,199]\u001b[0m Finished trial#16 resulted in value: 0.12456373327815284. Current best value is 0.11261399910948558 with parameters: {'max_depth': 6, 'colsample_bytree': 0.330432640328732, 'sublsample': 0.7158427239902707}.\u001b[0m\n"
     ]
    },
    {
     "name": "stdout",
     "output_type": "stream",
     "text": [
      "[0]\ttrain-rmse:10.9472\teval-rmse:10.9555\n",
      "Multiple eval metrics have been passed: 'eval-rmse' will be used for early stopping.\n",
      "\n",
      "Will train until eval-rmse hasn't improved in 20 rounds.\n",
      "[10]\ttrain-rmse:6.56477\teval-rmse:6.57134\n",
      "[20]\ttrain-rmse:3.94043\teval-rmse:3.94429\n",
      "[30]\ttrain-rmse:2.36932\teval-rmse:2.37238\n",
      "[40]\ttrain-rmse:1.42874\teval-rmse:1.43037\n",
      "[50]\ttrain-rmse:0.86611\teval-rmse:0.868955\n",
      "[60]\ttrain-rmse:0.530299\teval-rmse:0.535263\n",
      "[70]\ttrain-rmse:0.330462\teval-rmse:0.341909\n",
      "[80]\ttrain-rmse:0.211477\teval-rmse:0.231588\n",
      "[90]\ttrain-rmse:0.139946\teval-rmse:0.172312\n",
      "[100]\ttrain-rmse:0.096953\teval-rmse:0.143228\n",
      "[110]\ttrain-rmse:0.069927\teval-rmse:0.129714\n",
      "[120]\ttrain-rmse:0.053678\teval-rmse:0.123335\n",
      "[130]\ttrain-rmse:0.042503\teval-rmse:0.120444\n",
      "[140]\ttrain-rmse:0.035213\teval-rmse:0.119073\n",
      "[150]\ttrain-rmse:0.030135\teval-rmse:0.118163\n",
      "[160]\ttrain-rmse:0.024992\teval-rmse:0.117647\n",
      "[170]\ttrain-rmse:0.021366\teval-rmse:0.117426\n",
      "[180]\ttrain-rmse:0.018425\teval-rmse:0.117019\n",
      "[190]\ttrain-rmse:0.015968\teval-rmse:0.116803\n",
      "[200]\ttrain-rmse:0.013866\teval-rmse:0.116734\n",
      "[210]\ttrain-rmse:0.012105\teval-rmse:0.11668\n",
      "[220]\ttrain-rmse:0.010789\teval-rmse:0.116664\n",
      "[230]\ttrain-rmse:0.009386\teval-rmse:0.116599\n",
      "[240]\ttrain-rmse:0.008289\teval-rmse:0.116577\n",
      "[250]\ttrain-rmse:0.007358\teval-rmse:0.116558\n",
      "[260]\ttrain-rmse:0.006495\teval-rmse:0.116543\n",
      "[270]\ttrain-rmse:0.005874\teval-rmse:0.116552\n",
      "[280]\ttrain-rmse:0.005217\teval-rmse:0.116537\n",
      "[290]\ttrain-rmse:0.004625\teval-rmse:0.116514\n",
      "[300]\ttrain-rmse:0.004125\teval-rmse:0.116492\n",
      "[310]\ttrain-rmse:0.003719\teval-rmse:0.116506\n",
      "[320]\ttrain-rmse:0.003403\teval-rmse:0.116515\n",
      "Stopping. Best iteration:\n",
      "[305]\ttrain-rmse:0.00391\teval-rmse:0.116487\n",
      "\n"
     ]
    },
    {
     "name": "stderr",
     "output_type": "stream",
     "text": [
      "\u001b[32m[I 2020-09-23 13:01:42,158]\u001b[0m Finished trial#17 resulted in value: 0.11651222927454681. Current best value is 0.11261399910948558 with parameters: {'max_depth': 6, 'colsample_bytree': 0.330432640328732, 'sublsample': 0.7158427239902707}.\u001b[0m\n"
     ]
    },
    {
     "name": "stdout",
     "output_type": "stream",
     "text": [
      "[0]\ttrain-rmse:10.9472\teval-rmse:10.9555\n",
      "Multiple eval metrics have been passed: 'eval-rmse' will be used for early stopping.\n",
      "\n",
      "Will train until eval-rmse hasn't improved in 20 rounds.\n",
      "[10]\ttrain-rmse:6.56477\teval-rmse:6.57134\n",
      "[20]\ttrain-rmse:3.94038\teval-rmse:3.94411\n",
      "[30]\ttrain-rmse:2.36911\teval-rmse:2.37138\n",
      "[40]\ttrain-rmse:1.4284\teval-rmse:1.42932\n",
      "[50]\ttrain-rmse:0.865575\teval-rmse:0.866386\n",
      "[60]\ttrain-rmse:0.529502\teval-rmse:0.532854\n",
      "[70]\ttrain-rmse:0.329706\teval-rmse:0.339454\n",
      "[80]\ttrain-rmse:0.210195\teval-rmse:0.230313\n",
      "[90]\ttrain-rmse:0.138297\teval-rmse:0.172069\n",
      "[100]\ttrain-rmse:0.094775\teval-rmse:0.143416\n",
      "[110]\ttrain-rmse:0.067687\teval-rmse:0.129746\n",
      "[120]\ttrain-rmse:0.051333\teval-rmse:0.123538\n",
      "[130]\ttrain-rmse:0.040419\teval-rmse:0.120408\n",
      "[140]\ttrain-rmse:0.033194\teval-rmse:0.119062\n",
      "[150]\ttrain-rmse:0.028152\teval-rmse:0.118664\n",
      "[160]\ttrain-rmse:0.023248\teval-rmse:0.118336\n",
      "[170]\ttrain-rmse:0.019923\teval-rmse:0.117866\n",
      "[180]\ttrain-rmse:0.017411\teval-rmse:0.117735\n",
      "[190]\ttrain-rmse:0.015064\teval-rmse:0.117538\n",
      "[200]\ttrain-rmse:0.013035\teval-rmse:0.117319\n",
      "[210]\ttrain-rmse:0.011136\teval-rmse:0.117322\n",
      "[220]\ttrain-rmse:0.01009\teval-rmse:0.117274\n",
      "[230]\ttrain-rmse:0.008821\teval-rmse:0.117188\n",
      "[240]\ttrain-rmse:0.007993\teval-rmse:0.117128\n",
      "[250]\ttrain-rmse:0.007192\teval-rmse:0.1171\n",
      "[260]\ttrain-rmse:0.00622\teval-rmse:0.11708\n",
      "[270]\ttrain-rmse:0.005672\teval-rmse:0.117065\n",
      "[280]\ttrain-rmse:0.005081\teval-rmse:0.117064\n",
      "[290]\ttrain-rmse:0.004521\teval-rmse:0.117085\n",
      "Stopping. Best iteration:\n",
      "[272]\ttrain-rmse:0.005504\teval-rmse:0.117049\n",
      "\n"
     ]
    },
    {
     "name": "stderr",
     "output_type": "stream",
     "text": [
      "\u001b[32m[I 2020-09-23 13:01:44,281]\u001b[0m Finished trial#18 resulted in value: 0.11708141569814969. Current best value is 0.11261399910948558 with parameters: {'max_depth': 6, 'colsample_bytree': 0.330432640328732, 'sublsample': 0.7158427239902707}.\u001b[0m\n"
     ]
    },
    {
     "name": "stdout",
     "output_type": "stream",
     "text": [
      "[0]\ttrain-rmse:10.9472\teval-rmse:10.9555\n",
      "Multiple eval metrics have been passed: 'eval-rmse' will be used for early stopping.\n",
      "\n",
      "Will train until eval-rmse hasn't improved in 20 rounds.\n",
      "[10]\ttrain-rmse:6.56465\teval-rmse:6.57217\n",
      "[20]\ttrain-rmse:3.94026\teval-rmse:3.94549\n",
      "[30]\ttrain-rmse:2.36897\teval-rmse:2.3722\n",
      "[40]\ttrain-rmse:1.42794\teval-rmse:1.42825\n",
      "[50]\ttrain-rmse:0.865176\teval-rmse:0.865298\n",
      "[60]\ttrain-rmse:0.530294\teval-rmse:0.532479\n",
      "[70]\ttrain-rmse:0.333162\teval-rmse:0.33951\n",
      "[80]\ttrain-rmse:0.220047\teval-rmse:0.232166\n",
      "[90]\ttrain-rmse:0.158338\teval-rmse:0.17614\n",
      "[100]\ttrain-rmse:0.126459\teval-rmse:0.149378\n",
      "[110]\ttrain-rmse:0.110384\teval-rmse:0.136483\n",
      "[120]\ttrain-rmse:0.10176\teval-rmse:0.129655\n",
      "[130]\ttrain-rmse:0.096645\teval-rmse:0.125998\n",
      "[140]\ttrain-rmse:0.093544\teval-rmse:0.124114\n",
      "[150]\ttrain-rmse:0.091013\teval-rmse:0.122641\n",
      "[160]\ttrain-rmse:0.088818\teval-rmse:0.121461\n",
      "[170]\ttrain-rmse:0.08701\teval-rmse:0.120593\n",
      "[180]\ttrain-rmse:0.08538\teval-rmse:0.120203\n",
      "[190]\ttrain-rmse:0.083921\teval-rmse:0.119488\n",
      "[200]\ttrain-rmse:0.082671\teval-rmse:0.118886\n",
      "[210]\ttrain-rmse:0.08151\teval-rmse:0.118246\n",
      "[220]\ttrain-rmse:0.080328\teval-rmse:0.117954\n",
      "[230]\ttrain-rmse:0.078903\teval-rmse:0.117391\n",
      "[240]\ttrain-rmse:0.077883\teval-rmse:0.117135\n",
      "[250]\ttrain-rmse:0.076808\teval-rmse:0.11678\n",
      "[260]\ttrain-rmse:0.075895\teval-rmse:0.116701\n",
      "[270]\ttrain-rmse:0.074825\teval-rmse:0.116509\n",
      "[280]\ttrain-rmse:0.073965\teval-rmse:0.116212\n",
      "[290]\ttrain-rmse:0.073037\teval-rmse:0.11613\n",
      "[300]\ttrain-rmse:0.072037\teval-rmse:0.115811\n",
      "[310]\ttrain-rmse:0.071263\teval-rmse:0.115808\n",
      "[320]\ttrain-rmse:0.070525\teval-rmse:0.115759\n",
      "[330]\ttrain-rmse:0.069634\teval-rmse:0.115759\n",
      "[340]\ttrain-rmse:0.068863\teval-rmse:0.115526\n",
      "[350]\ttrain-rmse:0.068201\teval-rmse:0.115578\n",
      "[360]\ttrain-rmse:0.067677\teval-rmse:0.11548\n",
      "[370]\ttrain-rmse:0.0672\teval-rmse:0.115476\n",
      "[380]\ttrain-rmse:0.066529\teval-rmse:0.115369\n",
      "[390]\ttrain-rmse:0.065869\teval-rmse:0.115552\n",
      "Stopping. Best iteration:\n",
      "[376]\ttrain-rmse:0.0668\teval-rmse:0.115304\n",
      "\n"
     ]
    },
    {
     "name": "stderr",
     "output_type": "stream",
     "text": [
      "\u001b[32m[I 2020-09-23 13:01:46,771]\u001b[0m Finished trial#19 resulted in value: 0.1155479422690155. Current best value is 0.11261399910948558 with parameters: {'max_depth': 6, 'colsample_bytree': 0.330432640328732, 'sublsample': 0.7158427239902707}.\u001b[0m\n"
     ]
    },
    {
     "name": "stdout",
     "output_type": "stream",
     "text": [
      "[0]\ttrain-rmse:10.9472\teval-rmse:10.9555\n",
      "Multiple eval metrics have been passed: 'eval-rmse' will be used for early stopping.\n",
      "\n",
      "Will train until eval-rmse hasn't improved in 20 rounds.\n",
      "[10]\ttrain-rmse:6.56477\teval-rmse:6.57134\n",
      "[20]\ttrain-rmse:3.94043\teval-rmse:3.94429\n",
      "[30]\ttrain-rmse:2.36932\teval-rmse:2.37238\n",
      "[40]\ttrain-rmse:1.4288\teval-rmse:1.43026\n",
      "[50]\ttrain-rmse:0.866363\teval-rmse:0.868323\n",
      "[60]\ttrain-rmse:0.5306\teval-rmse:0.535715\n",
      "[70]\ttrain-rmse:0.330991\teval-rmse:0.342255\n",
      "[80]\ttrain-rmse:0.211998\teval-rmse:0.233559\n",
      "[90]\ttrain-rmse:0.140099\teval-rmse:0.173975\n",
      "[100]\ttrain-rmse:0.095992\teval-rmse:0.145093\n",
      "[110]\ttrain-rmse:0.067165\teval-rmse:0.131532\n",
      "[120]\ttrain-rmse:0.049334\teval-rmse:0.124661\n",
      "[130]\ttrain-rmse:0.036974\teval-rmse:0.121366\n",
      "[140]\ttrain-rmse:0.028913\teval-rmse:0.11963\n",
      "[150]\ttrain-rmse:0.022911\teval-rmse:0.118817\n",
      "[160]\ttrain-rmse:0.018159\teval-rmse:0.118472\n",
      "[170]\ttrain-rmse:0.014647\teval-rmse:0.118211\n",
      "[180]\ttrain-rmse:0.012122\teval-rmse:0.117931\n",
      "[190]\ttrain-rmse:0.010057\teval-rmse:0.117792\n",
      "[200]\ttrain-rmse:0.008242\teval-rmse:0.117738\n",
      "[210]\ttrain-rmse:0.006844\teval-rmse:0.117677\n",
      "[220]\ttrain-rmse:0.005849\teval-rmse:0.117627\n",
      "[230]\ttrain-rmse:0.004901\teval-rmse:0.117511\n",
      "[240]\ttrain-rmse:0.00421\teval-rmse:0.117489\n",
      "[250]\ttrain-rmse:0.003537\teval-rmse:0.117422\n",
      "[260]\ttrain-rmse:0.003006\teval-rmse:0.117383\n",
      "[270]\ttrain-rmse:0.002612\teval-rmse:0.117366\n",
      "[280]\ttrain-rmse:0.002218\teval-rmse:0.117332\n",
      "[290]\ttrain-rmse:0.001912\teval-rmse:0.117321\n",
      "[300]\ttrain-rmse:0.001648\teval-rmse:0.117313\n",
      "[310]\ttrain-rmse:0.001425\teval-rmse:0.117318\n",
      "[320]\ttrain-rmse:0.001281\teval-rmse:0.1173\n",
      "[330]\ttrain-rmse:0.001118\teval-rmse:0.117297\n",
      "[340]\ttrain-rmse:0.001002\teval-rmse:0.117291\n",
      "[350]\ttrain-rmse:0.000927\teval-rmse:0.117287\n",
      "[360]\ttrain-rmse:0.000904\teval-rmse:0.117286\n",
      "[370]\ttrain-rmse:0.000899\teval-rmse:0.117285\n",
      "[380]\ttrain-rmse:0.00089\teval-rmse:0.117284\n",
      "[390]\ttrain-rmse:0.00089\teval-rmse:0.117284\n",
      "Stopping. Best iteration:\n",
      "[373]\ttrain-rmse:0.00089\teval-rmse:0.117284\n",
      "\n"
     ]
    },
    {
     "name": "stderr",
     "output_type": "stream",
     "text": [
      "\u001b[32m[I 2020-09-23 13:01:49,590]\u001b[0m Finished trial#20 resulted in value: 0.11728447488357473. Current best value is 0.11261399910948558 with parameters: {'max_depth': 6, 'colsample_bytree': 0.330432640328732, 'sublsample': 0.7158427239902707}.\u001b[0m\n"
     ]
    },
    {
     "name": "stdout",
     "output_type": "stream",
     "text": [
      "[0]\ttrain-rmse:10.9472\teval-rmse:10.9555\n",
      "Multiple eval metrics have been passed: 'eval-rmse' will be used for early stopping.\n",
      "\n",
      "Will train until eval-rmse hasn't improved in 20 rounds.\n",
      "[10]\ttrain-rmse:6.56477\teval-rmse:6.57134\n",
      "[20]\ttrain-rmse:3.94043\teval-rmse:3.94444\n",
      "[30]\ttrain-rmse:2.36918\teval-rmse:2.37199\n",
      "[40]\ttrain-rmse:1.42848\teval-rmse:1.42882\n",
      "[50]\ttrain-rmse:0.865878\teval-rmse:0.867099\n",
      "[60]\ttrain-rmse:0.529965\teval-rmse:0.534395\n",
      "[70]\ttrain-rmse:0.3303\teval-rmse:0.34115\n",
      "[80]\ttrain-rmse:0.211315\teval-rmse:0.232143\n",
      "[90]\ttrain-rmse:0.140611\teval-rmse:0.172883\n",
      "[100]\ttrain-rmse:0.098236\teval-rmse:0.143536\n",
      "[110]\ttrain-rmse:0.072268\teval-rmse:0.129863\n",
      "[120]\ttrain-rmse:0.056131\teval-rmse:0.123221\n",
      "[130]\ttrain-rmse:0.045812\teval-rmse:0.11956\n",
      "[140]\ttrain-rmse:0.03872\teval-rmse:0.118031\n",
      "[150]\ttrain-rmse:0.033985\teval-rmse:0.117301\n",
      "[160]\ttrain-rmse:0.029372\teval-rmse:0.116772\n",
      "[170]\ttrain-rmse:0.025769\teval-rmse:0.116422\n",
      "[180]\ttrain-rmse:0.022843\teval-rmse:0.116134\n",
      "[190]\ttrain-rmse:0.020188\teval-rmse:0.115899\n",
      "[200]\ttrain-rmse:0.017963\teval-rmse:0.115724\n",
      "[210]\ttrain-rmse:0.015569\teval-rmse:0.115547\n",
      "[220]\ttrain-rmse:0.014086\teval-rmse:0.115491\n",
      "[230]\ttrain-rmse:0.012507\teval-rmse:0.115497\n",
      "[240]\ttrain-rmse:0.011087\teval-rmse:0.115483\n",
      "[250]\ttrain-rmse:0.010021\teval-rmse:0.115444\n",
      "Stopping. Best iteration:\n",
      "[234]\ttrain-rmse:0.011824\teval-rmse:0.115422\n",
      "\n"
     ]
    },
    {
     "name": "stderr",
     "output_type": "stream",
     "text": [
      "\u001b[32m[I 2020-09-23 13:01:51,410]\u001b[0m Finished trial#21 resulted in value: 0.11544886387938556. Current best value is 0.11261399910948558 with parameters: {'max_depth': 6, 'colsample_bytree': 0.330432640328732, 'sublsample': 0.7158427239902707}.\u001b[0m\n"
     ]
    },
    {
     "name": "stdout",
     "output_type": "stream",
     "text": [
      "[0]\ttrain-rmse:10.9472\teval-rmse:10.9555\n",
      "Multiple eval metrics have been passed: 'eval-rmse' will be used for early stopping.\n",
      "\n",
      "Will train until eval-rmse hasn't improved in 20 rounds.\n",
      "[10]\ttrain-rmse:6.56432\teval-rmse:6.56999\n",
      "[20]\ttrain-rmse:3.93946\teval-rmse:3.9439\n",
      "[30]\ttrain-rmse:2.36779\teval-rmse:2.36956\n",
      "[40]\ttrain-rmse:1.4267\teval-rmse:1.42896\n",
      "[50]\ttrain-rmse:0.863734\teval-rmse:0.868566\n",
      "[60]\ttrain-rmse:0.527396\teval-rmse:0.536918\n",
      "[70]\ttrain-rmse:0.326908\teval-rmse:0.344465\n",
      "[80]\ttrain-rmse:0.208076\teval-rmse:0.235512\n",
      "[90]\ttrain-rmse:0.13908\teval-rmse:0.178589\n",
      "[100]\ttrain-rmse:0.099829\teval-rmse:0.150538\n",
      "[110]\ttrain-rmse:0.078453\teval-rmse:0.137709\n",
      "[120]\ttrain-rmse:0.066819\teval-rmse:0.13222\n",
      "[130]\ttrain-rmse:0.059927\teval-rmse:0.129834\n",
      "[140]\ttrain-rmse:0.055048\teval-rmse:0.128273\n",
      "[150]\ttrain-rmse:0.051415\teval-rmse:0.127644\n",
      "[160]\ttrain-rmse:0.048383\teval-rmse:0.127352\n",
      "[170]\ttrain-rmse:0.0461\teval-rmse:0.127112\n",
      "[180]\ttrain-rmse:0.044301\teval-rmse:0.126905\n",
      "[190]\ttrain-rmse:0.041753\teval-rmse:0.1271\n",
      "[200]\ttrain-rmse:0.039853\teval-rmse:0.127013\n",
      "Stopping. Best iteration:\n",
      "[183]\ttrain-rmse:0.043698\teval-rmse:0.126886\n",
      "\n"
     ]
    },
    {
     "name": "stderr",
     "output_type": "stream",
     "text": [
      "\u001b[32m[I 2020-09-23 13:01:53,333]\u001b[0m Finished trial#22 resulted in value: 0.1269811921441397. Current best value is 0.11261399910948558 with parameters: {'max_depth': 6, 'colsample_bytree': 0.330432640328732, 'sublsample': 0.7158427239902707}.\u001b[0m\n"
     ]
    },
    {
     "name": "stdout",
     "output_type": "stream",
     "text": [
      "[0]\ttrain-rmse:10.9472\teval-rmse:10.9555\n",
      "Multiple eval metrics have been passed: 'eval-rmse' will be used for early stopping.\n",
      "\n",
      "Will train until eval-rmse hasn't improved in 20 rounds.\n",
      "[10]\ttrain-rmse:6.56465\teval-rmse:6.57217\n",
      "[20]\ttrain-rmse:3.94026\teval-rmse:3.94549\n",
      "[30]\ttrain-rmse:2.36897\teval-rmse:2.37226\n",
      "[40]\ttrain-rmse:1.42817\teval-rmse:1.42923\n",
      "[50]\ttrain-rmse:0.865199\teval-rmse:0.866087\n",
      "[60]\ttrain-rmse:0.529167\teval-rmse:0.533667\n",
      "[70]\ttrain-rmse:0.329327\teval-rmse:0.341343\n",
      "[80]\ttrain-rmse:0.210597\teval-rmse:0.232922\n",
      "[90]\ttrain-rmse:0.140923\teval-rmse:0.174629\n",
      "[100]\ttrain-rmse:0.100731\teval-rmse:0.146429\n",
      "[110]\ttrain-rmse:0.077235\teval-rmse:0.132799\n",
      "[120]\ttrain-rmse:0.063384\teval-rmse:0.12678\n",
      "[130]\ttrain-rmse:0.054745\teval-rmse:0.123783\n",
      "[140]\ttrain-rmse:0.049045\teval-rmse:0.122192\n",
      "[150]\ttrain-rmse:0.044413\teval-rmse:0.121072\n",
      "[160]\ttrain-rmse:0.040308\teval-rmse:0.120067\n",
      "[170]\ttrain-rmse:0.036895\teval-rmse:0.119528\n",
      "[180]\ttrain-rmse:0.034231\teval-rmse:0.119032\n",
      "[190]\ttrain-rmse:0.031948\teval-rmse:0.118842\n",
      "[200]\ttrain-rmse:0.029558\teval-rmse:0.118669\n",
      "[210]\ttrain-rmse:0.027738\teval-rmse:0.118595\n",
      "[220]\ttrain-rmse:0.025697\teval-rmse:0.118387\n",
      "[230]\ttrain-rmse:0.024433\teval-rmse:0.11837\n",
      "[240]\ttrain-rmse:0.022987\teval-rmse:0.11815\n",
      "[250]\ttrain-rmse:0.021627\teval-rmse:0.118199\n",
      "Stopping. Best iteration:\n",
      "[239]\ttrain-rmse:0.023048\teval-rmse:0.118149\n",
      "\n"
     ]
    },
    {
     "name": "stderr",
     "output_type": "stream",
     "text": [
      "\u001b[32m[I 2020-09-23 13:01:55,226]\u001b[0m Finished trial#23 resulted in value: 0.11823161148494218. Current best value is 0.11261399910948558 with parameters: {'max_depth': 6, 'colsample_bytree': 0.330432640328732, 'sublsample': 0.7158427239902707}.\u001b[0m\n"
     ]
    },
    {
     "name": "stdout",
     "output_type": "stream",
     "text": [
      "[0]\ttrain-rmse:10.9472\teval-rmse:10.9555\n",
      "Multiple eval metrics have been passed: 'eval-rmse' will be used for early stopping.\n",
      "\n",
      "Will train until eval-rmse hasn't improved in 20 rounds.\n",
      "[10]\ttrain-rmse:6.56441\teval-rmse:6.57155\n",
      "[20]\ttrain-rmse:3.93968\teval-rmse:3.9448\n",
      "[30]\ttrain-rmse:2.36816\teval-rmse:2.3702\n",
      "[40]\ttrain-rmse:1.42708\teval-rmse:1.42728\n",
      "[50]\ttrain-rmse:0.864168\teval-rmse:0.867193\n",
      "[60]\ttrain-rmse:0.527764\teval-rmse:0.534769\n",
      "[70]\ttrain-rmse:0.326929\teval-rmse:0.342122\n",
      "[80]\ttrain-rmse:0.20638\teval-rmse:0.234074\n",
      "[90]\ttrain-rmse:0.13326\teval-rmse:0.177207\n",
      "[100]\ttrain-rmse:0.087572\teval-rmse:0.149586\n",
      "[110]\ttrain-rmse:0.058572\teval-rmse:0.136006\n",
      "[120]\ttrain-rmse:0.039935\teval-rmse:0.130054\n",
      "[130]\ttrain-rmse:0.02773\teval-rmse:0.127387\n",
      "[140]\ttrain-rmse:0.019509\teval-rmse:0.126169\n",
      "[150]\ttrain-rmse:0.013988\teval-rmse:0.12566\n",
      "[160]\ttrain-rmse:0.010189\teval-rmse:0.125283\n",
      "[170]\ttrain-rmse:0.007587\teval-rmse:0.125068\n",
      "[180]\ttrain-rmse:0.005708\teval-rmse:0.124911\n",
      "[190]\ttrain-rmse:0.00437\teval-rmse:0.124814\n",
      "[200]\ttrain-rmse:0.003325\teval-rmse:0.124782\n",
      "[210]\ttrain-rmse:0.002594\teval-rmse:0.124726\n",
      "[220]\ttrain-rmse:0.002077\teval-rmse:0.124687\n",
      "[230]\ttrain-rmse:0.001699\teval-rmse:0.124664\n",
      "[240]\ttrain-rmse:0.001378\teval-rmse:0.124636\n",
      "[250]\ttrain-rmse:0.001139\teval-rmse:0.124612\n",
      "[260]\ttrain-rmse:0.00092\teval-rmse:0.124603\n",
      "[270]\ttrain-rmse:0.000764\teval-rmse:0.124598\n",
      "[280]\ttrain-rmse:0.000709\teval-rmse:0.124595\n",
      "[290]\ttrain-rmse:0.000702\teval-rmse:0.124595\n",
      "Stopping. Best iteration:\n",
      "[276]\ttrain-rmse:0.000715\teval-rmse:0.124595\n",
      "\n"
     ]
    },
    {
     "name": "stderr",
     "output_type": "stream",
     "text": [
      "\u001b[32m[I 2020-09-23 13:01:59,454]\u001b[0m Finished trial#24 resulted in value: 0.12459459747761027. Current best value is 0.11261399910948558 with parameters: {'max_depth': 6, 'colsample_bytree': 0.330432640328732, 'sublsample': 0.7158427239902707}.\u001b[0m\n"
     ]
    },
    {
     "name": "stdout",
     "output_type": "stream",
     "text": [
      "[0]\ttrain-rmse:10.9472\teval-rmse:10.9555\n",
      "Multiple eval metrics have been passed: 'eval-rmse' will be used for early stopping.\n",
      "\n",
      "Will train until eval-rmse hasn't improved in 20 rounds.\n",
      "[10]\ttrain-rmse:6.56477\teval-rmse:6.57134\n",
      "[20]\ttrain-rmse:3.94038\teval-rmse:3.94411\n",
      "[30]\ttrain-rmse:2.36911\teval-rmse:2.37129\n",
      "[40]\ttrain-rmse:1.42831\teval-rmse:1.42902\n",
      "[50]\ttrain-rmse:0.865336\teval-rmse:0.865418\n",
      "[60]\ttrain-rmse:0.529335\teval-rmse:0.53223\n",
      "[70]\ttrain-rmse:0.329345\teval-rmse:0.338831\n",
      "[80]\ttrain-rmse:0.210333\teval-rmse:0.230585\n",
      "[90]\ttrain-rmse:0.139676\teval-rmse:0.172634\n",
      "[100]\ttrain-rmse:0.097888\teval-rmse:0.144826\n",
      "[110]\ttrain-rmse:0.073091\teval-rmse:0.131734\n",
      "[120]\ttrain-rmse:0.058187\teval-rmse:0.125757\n",
      "[130]\ttrain-rmse:0.048557\teval-rmse:0.122741\n",
      "[140]\ttrain-rmse:0.042529\teval-rmse:0.121858\n",
      "[150]\ttrain-rmse:0.037848\teval-rmse:0.121142\n",
      "[160]\ttrain-rmse:0.033626\teval-rmse:0.120374\n",
      "[170]\ttrain-rmse:0.030229\teval-rmse:0.120086\n",
      "[180]\ttrain-rmse:0.027502\teval-rmse:0.120019\n",
      "[190]\ttrain-rmse:0.025488\teval-rmse:0.120003\n",
      "Stopping. Best iteration:\n",
      "[171]\ttrain-rmse:0.02986\teval-rmse:0.119988\n",
      "\n"
     ]
    },
    {
     "name": "stderr",
     "output_type": "stream",
     "text": [
      "\u001b[32m[I 2020-09-23 13:02:00,607]\u001b[0m Finished trial#25 resulted in value: 0.12001236000312061. Current best value is 0.11261399910948558 with parameters: {'max_depth': 6, 'colsample_bytree': 0.330432640328732, 'sublsample': 0.7158427239902707}.\u001b[0m\n"
     ]
    },
    {
     "name": "stdout",
     "output_type": "stream",
     "text": [
      "[0]\ttrain-rmse:10.9472\teval-rmse:10.9555\n",
      "Multiple eval metrics have been passed: 'eval-rmse' will be used for early stopping.\n",
      "\n",
      "Will train until eval-rmse hasn't improved in 20 rounds.\n",
      "[10]\ttrain-rmse:6.56482\teval-rmse:6.57203\n",
      "[20]\ttrain-rmse:3.94079\teval-rmse:3.94521\n",
      "[30]\ttrain-rmse:2.37013\teval-rmse:2.37404\n",
      "[40]\ttrain-rmse:1.42952\teval-rmse:1.43245\n",
      "[50]\ttrain-rmse:0.867134\teval-rmse:0.869929\n",
      "[60]\ttrain-rmse:0.531443\teval-rmse:0.538063\n",
      "[70]\ttrain-rmse:0.331642\teval-rmse:0.343944\n",
      "[80]\ttrain-rmse:0.21335\teval-rmse:0.234201\n",
      "[90]\ttrain-rmse:0.14334\teval-rmse:0.174833\n",
      "[100]\ttrain-rmse:0.102402\teval-rmse:0.145304\n",
      "[110]\ttrain-rmse:0.078214\teval-rmse:0.131398\n",
      "[120]\ttrain-rmse:0.06417\teval-rmse:0.124631\n",
      "[130]\ttrain-rmse:0.054283\teval-rmse:0.121344\n",
      "[140]\ttrain-rmse:0.047774\teval-rmse:0.1199\n",
      "[150]\ttrain-rmse:0.042915\teval-rmse:0.119012\n",
      "[160]\ttrain-rmse:0.037814\teval-rmse:0.118467\n",
      "[170]\ttrain-rmse:0.034078\teval-rmse:0.117705\n",
      "[180]\ttrain-rmse:0.031092\teval-rmse:0.117066\n",
      "[190]\ttrain-rmse:0.028297\teval-rmse:0.116849\n",
      "[200]\ttrain-rmse:0.02578\teval-rmse:0.116603\n",
      "[210]\ttrain-rmse:0.023026\teval-rmse:0.116386\n",
      "[220]\ttrain-rmse:0.021205\teval-rmse:0.11646\n",
      "[230]\ttrain-rmse:0.019372\teval-rmse:0.116167\n",
      "[240]\ttrain-rmse:0.017836\teval-rmse:0.116231\n",
      "[250]\ttrain-rmse:0.016415\teval-rmse:0.116146\n",
      "Stopping. Best iteration:\n",
      "[231]\ttrain-rmse:0.019208\teval-rmse:0.11613\n",
      "\n"
     ]
    },
    {
     "name": "stderr",
     "output_type": "stream",
     "text": [
      "\u001b[32m[I 2020-09-23 13:02:02,520]\u001b[0m Finished trial#26 resulted in value: 0.11614225041144734. Current best value is 0.11261399910948558 with parameters: {'max_depth': 6, 'colsample_bytree': 0.330432640328732, 'sublsample': 0.7158427239902707}.\u001b[0m\n"
     ]
    },
    {
     "name": "stdout",
     "output_type": "stream",
     "text": [
      "[0]\ttrain-rmse:10.9472\teval-rmse:10.9555\n",
      "Multiple eval metrics have been passed: 'eval-rmse' will be used for early stopping.\n",
      "\n",
      "Will train until eval-rmse hasn't improved in 20 rounds.\n",
      "[10]\ttrain-rmse:6.56477\teval-rmse:6.57134\n",
      "[20]\ttrain-rmse:3.94043\teval-rmse:3.94444\n",
      "[30]\ttrain-rmse:2.36918\teval-rmse:2.37199\n",
      "[40]\ttrain-rmse:1.42848\teval-rmse:1.42882\n",
      "[50]\ttrain-rmse:0.865878\teval-rmse:0.867099\n",
      "[60]\ttrain-rmse:0.529987\teval-rmse:0.534397\n",
      "[70]\ttrain-rmse:0.330477\teval-rmse:0.340835\n",
      "[80]\ttrain-rmse:0.212231\teval-rmse:0.231977\n",
      "[90]\ttrain-rmse:0.143053\teval-rmse:0.17305\n",
      "[100]\ttrain-rmse:0.103207\teval-rmse:0.144248\n",
      "[110]\ttrain-rmse:0.080193\teval-rmse:0.130737\n",
      "[120]\ttrain-rmse:0.066367\teval-rmse:0.124633\n",
      "[130]\ttrain-rmse:0.057405\teval-rmse:0.121114\n",
      "[140]\ttrain-rmse:0.051829\teval-rmse:0.119865\n",
      "[150]\ttrain-rmse:0.047575\teval-rmse:0.118823\n",
      "[160]\ttrain-rmse:0.043155\teval-rmse:0.117956\n",
      "[170]\ttrain-rmse:0.039825\teval-rmse:0.117527\n",
      "[180]\ttrain-rmse:0.036994\teval-rmse:0.116892\n",
      "[190]\ttrain-rmse:0.034629\teval-rmse:0.116624\n",
      "[200]\ttrain-rmse:0.031946\teval-rmse:0.116344\n",
      "[210]\ttrain-rmse:0.029818\teval-rmse:0.116145\n",
      "[220]\ttrain-rmse:0.02832\teval-rmse:0.115899\n",
      "[230]\ttrain-rmse:0.026307\teval-rmse:0.115611\n",
      "[240]\ttrain-rmse:0.024762\teval-rmse:0.115592\n",
      "[250]\ttrain-rmse:0.023222\teval-rmse:0.115424\n",
      "[260]\ttrain-rmse:0.021636\teval-rmse:0.115351\n",
      "[270]\ttrain-rmse:0.020623\teval-rmse:0.11524\n",
      "[280]\ttrain-rmse:0.019551\teval-rmse:0.115218\n",
      "[290]\ttrain-rmse:0.01844\teval-rmse:0.115232\n",
      "[300]\ttrain-rmse:0.017608\teval-rmse:0.115161\n",
      "[310]\ttrain-rmse:0.016766\teval-rmse:0.114989\n",
      "[320]\ttrain-rmse:0.016132\teval-rmse:0.114993\n",
      "[330]\ttrain-rmse:0.015364\teval-rmse:0.115038\n",
      "Stopping. Best iteration:\n",
      "[318]\ttrain-rmse:0.016202\teval-rmse:0.114951\n",
      "\n"
     ]
    },
    {
     "name": "stderr",
     "output_type": "stream",
     "text": [
      "\u001b[32m[I 2020-09-23 13:02:04,776]\u001b[0m Finished trial#27 resulted in value: 0.11503767897335788. Current best value is 0.11261399910948558 with parameters: {'max_depth': 6, 'colsample_bytree': 0.330432640328732, 'sublsample': 0.7158427239902707}.\u001b[0m\n"
     ]
    },
    {
     "name": "stdout",
     "output_type": "stream",
     "text": [
      "[0]\ttrain-rmse:10.9472\teval-rmse:10.9555\n",
      "Multiple eval metrics have been passed: 'eval-rmse' will be used for early stopping.\n",
      "\n",
      "Will train until eval-rmse hasn't improved in 20 rounds.\n",
      "[10]\ttrain-rmse:6.56446\teval-rmse:6.57153\n",
      "[20]\ttrain-rmse:3.93978\teval-rmse:3.94394\n",
      "[30]\ttrain-rmse:2.36825\teval-rmse:2.37053\n",
      "[40]\ttrain-rmse:1.42717\teval-rmse:1.42647\n",
      "[50]\ttrain-rmse:0.864369\teval-rmse:0.865056\n",
      "[60]\ttrain-rmse:0.528346\teval-rmse:0.53163\n",
      "[70]\ttrain-rmse:0.328734\teval-rmse:0.337581\n",
      "[80]\ttrain-rmse:0.211551\teval-rmse:0.229241\n",
      "[90]\ttrain-rmse:0.144813\teval-rmse:0.171319\n",
      "[100]\ttrain-rmse:0.108457\teval-rmse:0.144003\n",
      "[110]\ttrain-rmse:0.088461\teval-rmse:0.131434\n",
      "[120]\ttrain-rmse:0.077541\teval-rmse:0.125342\n",
      "[130]\ttrain-rmse:0.070918\teval-rmse:0.122627\n",
      "[140]\ttrain-rmse:0.066527\teval-rmse:0.120902\n",
      "[150]\ttrain-rmse:0.062772\teval-rmse:0.119807\n",
      "[160]\ttrain-rmse:0.059679\teval-rmse:0.119142\n",
      "[170]\ttrain-rmse:0.05693\teval-rmse:0.118723\n",
      "[180]\ttrain-rmse:0.055107\teval-rmse:0.118196\n",
      "[190]\ttrain-rmse:0.053243\teval-rmse:0.118078\n",
      "[200]\ttrain-rmse:0.051676\teval-rmse:0.117867\n",
      "[210]\ttrain-rmse:0.050088\teval-rmse:0.117645\n",
      "[220]\ttrain-rmse:0.048949\teval-rmse:0.117525\n",
      "[230]\ttrain-rmse:0.047713\teval-rmse:0.117417\n",
      "[240]\ttrain-rmse:0.046385\teval-rmse:0.117297\n",
      "[250]\ttrain-rmse:0.04548\teval-rmse:0.117301\n",
      "[260]\ttrain-rmse:0.044485\teval-rmse:0.117303\n",
      "[270]\ttrain-rmse:0.043035\teval-rmse:0.117144\n",
      "[280]\ttrain-rmse:0.042003\teval-rmse:0.116988\n",
      "[290]\ttrain-rmse:0.041244\teval-rmse:0.116903\n",
      "[300]\ttrain-rmse:0.039881\teval-rmse:0.116874\n",
      "[310]\ttrain-rmse:0.03906\teval-rmse:0.11691\n",
      "[320]\ttrain-rmse:0.03793\teval-rmse:0.116973\n",
      "[330]\ttrain-rmse:0.037144\teval-rmse:0.11704\n",
      "Stopping. Best iteration:\n",
      "[318]\ttrain-rmse:0.038194\teval-rmse:0.116828\n",
      "\n"
     ]
    },
    {
     "name": "stderr",
     "output_type": "stream",
     "text": [
      "\u001b[32m[I 2020-09-23 13:02:06,935]\u001b[0m Finished trial#28 resulted in value: 0.11707601491568961. Current best value is 0.11261399910948558 with parameters: {'max_depth': 6, 'colsample_bytree': 0.330432640328732, 'sublsample': 0.7158427239902707}.\u001b[0m\n"
     ]
    },
    {
     "name": "stdout",
     "output_type": "stream",
     "text": [
      "[0]\ttrain-rmse:10.9472\teval-rmse:10.9555\n",
      "Multiple eval metrics have been passed: 'eval-rmse' will be used for early stopping.\n",
      "\n",
      "Will train until eval-rmse hasn't improved in 20 rounds.\n",
      "[10]\ttrain-rmse:6.56441\teval-rmse:6.57155\n",
      "[20]\ttrain-rmse:3.93968\teval-rmse:3.9448\n",
      "[30]\ttrain-rmse:2.36803\teval-rmse:2.36995\n",
      "[40]\ttrain-rmse:1.4271\teval-rmse:1.42808\n",
      "[50]\ttrain-rmse:0.864207\teval-rmse:0.867261\n",
      "[60]\ttrain-rmse:0.527877\teval-rmse:0.535589\n",
      "[70]\ttrain-rmse:0.326948\teval-rmse:0.343973\n",
      "[80]\ttrain-rmse:0.207065\teval-rmse:0.234445\n",
      "[90]\ttrain-rmse:0.135839\teval-rmse:0.176919\n",
      "[100]\ttrain-rmse:0.093595\teval-rmse:0.148128\n",
      "[110]\ttrain-rmse:0.068614\teval-rmse:0.135108\n",
      "[120]\ttrain-rmse:0.053863\teval-rmse:0.1287\n",
      "[130]\ttrain-rmse:0.044896\teval-rmse:0.125741\n",
      "[140]\ttrain-rmse:0.039168\teval-rmse:0.124472\n",
      "[150]\ttrain-rmse:0.035144\teval-rmse:0.123705\n",
      "[160]\ttrain-rmse:0.03179\teval-rmse:0.12333\n",
      "[170]\ttrain-rmse:0.029019\teval-rmse:0.123104\n",
      "[180]\ttrain-rmse:0.02735\teval-rmse:0.123015\n",
      "[190]\ttrain-rmse:0.024787\teval-rmse:0.122834\n",
      "[200]\ttrain-rmse:0.023078\teval-rmse:0.122703\n",
      "[210]\ttrain-rmse:0.021712\teval-rmse:0.122419\n",
      "[220]\ttrain-rmse:0.020052\teval-rmse:0.122499\n",
      "[230]\ttrain-rmse:0.018571\teval-rmse:0.122338\n",
      "[240]\ttrain-rmse:0.017057\teval-rmse:0.122291\n",
      "[250]\ttrain-rmse:0.015552\teval-rmse:0.122258\n",
      "[260]\ttrain-rmse:0.014191\teval-rmse:0.122223\n",
      "[270]\ttrain-rmse:0.013013\teval-rmse:0.122176\n",
      "[280]\ttrain-rmse:0.011997\teval-rmse:0.122117\n",
      "[290]\ttrain-rmse:0.011141\teval-rmse:0.122122\n",
      "[300]\ttrain-rmse:0.010443\teval-rmse:0.122107\n",
      "[310]\ttrain-rmse:0.009647\teval-rmse:0.122109\n",
      "Stopping. Best iteration:\n",
      "[296]\ttrain-rmse:0.010723\teval-rmse:0.122065\n",
      "\n"
     ]
    },
    {
     "name": "stderr",
     "output_type": "stream",
     "text": [
      "\u001b[32m[I 2020-09-23 13:02:09,954]\u001b[0m Finished trial#29 resulted in value: 0.1220859020473941. Current best value is 0.11261399910948558 with parameters: {'max_depth': 6, 'colsample_bytree': 0.330432640328732, 'sublsample': 0.7158427239902707}.\u001b[0m\n"
     ]
    },
    {
     "name": "stdout",
     "output_type": "stream",
     "text": [
      "[0]\ttrain-rmse:10.9472\teval-rmse:10.9555\n",
      "Multiple eval metrics have been passed: 'eval-rmse' will be used for early stopping.\n",
      "\n",
      "Will train until eval-rmse hasn't improved in 20 rounds.\n",
      "[10]\ttrain-rmse:6.56432\teval-rmse:6.56999\n",
      "[20]\ttrain-rmse:3.93946\teval-rmse:3.9439\n",
      "[30]\ttrain-rmse:2.36779\teval-rmse:2.36956\n",
      "[40]\ttrain-rmse:1.42669\teval-rmse:1.42895\n",
      "[50]\ttrain-rmse:0.863716\teval-rmse:0.867955\n",
      "[60]\ttrain-rmse:0.527501\teval-rmse:0.536042\n",
      "[70]\ttrain-rmse:0.327478\teval-rmse:0.342073\n",
      "[80]\ttrain-rmse:0.209875\teval-rmse:0.233063\n",
      "[90]\ttrain-rmse:0.142494\teval-rmse:0.176253\n",
      "[100]\ttrain-rmse:0.105464\teval-rmse:0.148678\n",
      "[110]\ttrain-rmse:0.085692\teval-rmse:0.135991\n",
      "[120]\ttrain-rmse:0.075106\teval-rmse:0.130242\n",
      "[130]\ttrain-rmse:0.068613\teval-rmse:0.127331\n",
      "[140]\ttrain-rmse:0.06448\teval-rmse:0.125858\n",
      "[150]\ttrain-rmse:0.061493\teval-rmse:0.125183\n",
      "[160]\ttrain-rmse:0.058134\teval-rmse:0.124793\n",
      "[170]\ttrain-rmse:0.055747\teval-rmse:0.124213\n",
      "[180]\ttrain-rmse:0.053444\teval-rmse:0.123935\n",
      "[190]\ttrain-rmse:0.05162\teval-rmse:0.123632\n",
      "[200]\ttrain-rmse:0.049824\teval-rmse:0.12357\n",
      "[210]\ttrain-rmse:0.048589\teval-rmse:0.123432\n",
      "[220]\ttrain-rmse:0.047057\teval-rmse:0.12321\n",
      "[230]\ttrain-rmse:0.045712\teval-rmse:0.123112\n",
      "[240]\ttrain-rmse:0.0445\teval-rmse:0.123067\n",
      "[250]\ttrain-rmse:0.043199\teval-rmse:0.123073\n",
      "[260]\ttrain-rmse:0.042012\teval-rmse:0.123039\n",
      "[270]\ttrain-rmse:0.040826\teval-rmse:0.122919\n",
      "[280]\ttrain-rmse:0.039593\teval-rmse:0.12281\n",
      "[290]\ttrain-rmse:0.038605\teval-rmse:0.122795\n",
      "[300]\ttrain-rmse:0.037465\teval-rmse:0.122846\n",
      "[310]\ttrain-rmse:0.036383\teval-rmse:0.122865\n",
      "Stopping. Best iteration:\n",
      "[293]\ttrain-rmse:0.038075\teval-rmse:0.122784\n",
      "\n"
     ]
    },
    {
     "name": "stderr",
     "output_type": "stream",
     "text": [
      "\u001b[32m[I 2020-09-23 13:02:12,258]\u001b[0m Finished trial#30 resulted in value: 0.12279887577779267. Current best value is 0.11261399910948558 with parameters: {'max_depth': 6, 'colsample_bytree': 0.330432640328732, 'sublsample': 0.7158427239902707}.\u001b[0m\n"
     ]
    },
    {
     "name": "stdout",
     "output_type": "stream",
     "text": [
      "[0]\ttrain-rmse:10.9472\teval-rmse:10.9555\n",
      "Multiple eval metrics have been passed: 'eval-rmse' will be used for early stopping.\n",
      "\n",
      "Will train until eval-rmse hasn't improved in 20 rounds.\n",
      "[10]\ttrain-rmse:6.56477\teval-rmse:6.57134\n",
      "[20]\ttrain-rmse:3.94043\teval-rmse:3.94444\n",
      "[30]\ttrain-rmse:2.36918\teval-rmse:2.37199\n",
      "[40]\ttrain-rmse:1.42847\teval-rmse:1.42888\n",
      "[50]\ttrain-rmse:0.865744\teval-rmse:0.866659\n",
      "[60]\ttrain-rmse:0.529744\teval-rmse:0.533671\n",
      "[70]\ttrain-rmse:0.330041\teval-rmse:0.339831\n",
      "[80]\ttrain-rmse:0.210498\teval-rmse:0.229892\n",
      "[90]\ttrain-rmse:0.137998\teval-rmse:0.171348\n",
      "[100]\ttrain-rmse:0.093063\teval-rmse:0.142898\n",
      "[110]\ttrain-rmse:0.063915\teval-rmse:0.130122\n",
      "[120]\ttrain-rmse:0.045074\teval-rmse:0.124323\n",
      "[130]\ttrain-rmse:0.032473\teval-rmse:0.121585\n",
      "[140]\ttrain-rmse:0.023946\teval-rmse:0.120172\n",
      "[150]\ttrain-rmse:0.018158\teval-rmse:0.119586\n",
      "[160]\ttrain-rmse:0.013721\teval-rmse:0.119373\n",
      "[170]\ttrain-rmse:0.010502\teval-rmse:0.119144\n",
      "[180]\ttrain-rmse:0.008237\teval-rmse:0.118973\n",
      "[190]\ttrain-rmse:0.006415\teval-rmse:0.11881\n",
      "[200]\ttrain-rmse:0.005064\teval-rmse:0.118849\n",
      "[210]\ttrain-rmse:0.004007\teval-rmse:0.118779\n",
      "[220]\ttrain-rmse:0.003214\teval-rmse:0.118775\n",
      "[230]\ttrain-rmse:0.002608\teval-rmse:0.118763\n",
      "[240]\ttrain-rmse:0.002138\teval-rmse:0.118758\n",
      "[250]\ttrain-rmse:0.001741\teval-rmse:0.118734\n",
      "[260]\ttrain-rmse:0.001417\teval-rmse:0.118729\n",
      "[270]\ttrain-rmse:0.001212\teval-rmse:0.118723\n",
      "[280]\ttrain-rmse:0.001049\teval-rmse:0.118708\n",
      "[290]\ttrain-rmse:0.000897\teval-rmse:0.11871\n",
      "[300]\ttrain-rmse:0.000823\teval-rmse:0.118708\n",
      "Stopping. Best iteration:\n",
      "[280]\ttrain-rmse:0.001049\teval-rmse:0.118708\n",
      "\n"
     ]
    },
    {
     "name": "stderr",
     "output_type": "stream",
     "text": [
      "\u001b[32m[I 2020-09-23 13:02:15,804]\u001b[0m Finished trial#31 resulted in value: 0.11870753755162188. Current best value is 0.11261399910948558 with parameters: {'max_depth': 6, 'colsample_bytree': 0.330432640328732, 'sublsample': 0.7158427239902707}.\u001b[0m\n"
     ]
    },
    {
     "name": "stdout",
     "output_type": "stream",
     "text": [
      "[0]\ttrain-rmse:10.9472\teval-rmse:10.9555\n",
      "Multiple eval metrics have been passed: 'eval-rmse' will be used for early stopping.\n",
      "\n",
      "Will train until eval-rmse hasn't improved in 20 rounds.\n",
      "[10]\ttrain-rmse:6.56431\teval-rmse:6.57075\n",
      "[20]\ttrain-rmse:3.93948\teval-rmse:3.94299\n",
      "[30]\ttrain-rmse:2.3679\teval-rmse:2.36973\n",
      "[40]\ttrain-rmse:1.42691\teval-rmse:1.4285\n",
      "[50]\ttrain-rmse:0.863922\teval-rmse:0.869311\n",
      "[60]\ttrain-rmse:0.527559\teval-rmse:0.536996\n",
      "[70]\ttrain-rmse:0.327127\teval-rmse:0.345647\n",
      "[80]\ttrain-rmse:0.208424\teval-rmse:0.237521\n",
      "[90]\ttrain-rmse:0.139435\teval-rmse:0.180438\n",
      "[100]\ttrain-rmse:0.100673\teval-rmse:0.15291\n",
      "[110]\ttrain-rmse:0.079258\teval-rmse:0.139976\n",
      "[120]\ttrain-rmse:0.067794\teval-rmse:0.134335\n",
      "[130]\ttrain-rmse:0.061159\teval-rmse:0.131464\n",
      "[140]\ttrain-rmse:0.055743\teval-rmse:0.129995\n",
      "[150]\ttrain-rmse:0.051095\teval-rmse:0.129186\n",
      "[160]\ttrain-rmse:0.048057\teval-rmse:0.128745\n",
      "[170]\ttrain-rmse:0.045828\teval-rmse:0.128389\n",
      "[180]\ttrain-rmse:0.043548\teval-rmse:0.128131\n",
      "[190]\ttrain-rmse:0.041344\teval-rmse:0.128198\n",
      "[200]\ttrain-rmse:0.039367\teval-rmse:0.127977\n",
      "[210]\ttrain-rmse:0.03767\teval-rmse:0.127716\n",
      "[220]\ttrain-rmse:0.036017\teval-rmse:0.127655\n",
      "[230]\ttrain-rmse:0.034588\teval-rmse:0.127681\n",
      "[240]\ttrain-rmse:0.033054\teval-rmse:0.127394\n",
      "[250]\ttrain-rmse:0.031695\teval-rmse:0.127342\n",
      "[260]\ttrain-rmse:0.030693\teval-rmse:0.127346\n",
      "[270]\ttrain-rmse:0.029704\teval-rmse:0.127359\n",
      "Stopping. Best iteration:\n",
      "[257]\ttrain-rmse:0.030943\teval-rmse:0.127306\n",
      "\n"
     ]
    },
    {
     "name": "stderr",
     "output_type": "stream",
     "text": [
      "\u001b[32m[I 2020-09-23 13:02:21,388]\u001b[0m Finished trial#32 resulted in value: 0.12733771409219555. Current best value is 0.11261399910948558 with parameters: {'max_depth': 6, 'colsample_bytree': 0.330432640328732, 'sublsample': 0.7158427239902707}.\u001b[0m\n"
     ]
    },
    {
     "name": "stdout",
     "output_type": "stream",
     "text": [
      "[0]\ttrain-rmse:10.9472\teval-rmse:10.9555\n",
      "Multiple eval metrics have been passed: 'eval-rmse' will be used for early stopping.\n",
      "\n",
      "Will train until eval-rmse hasn't improved in 20 rounds.\n",
      "[10]\ttrain-rmse:6.56438\teval-rmse:6.57157\n",
      "[20]\ttrain-rmse:3.93961\teval-rmse:3.94388\n",
      "[30]\ttrain-rmse:2.36815\teval-rmse:2.37066\n",
      "[40]\ttrain-rmse:1.42716\teval-rmse:1.42885\n",
      "[50]\ttrain-rmse:0.864191\teval-rmse:0.867446\n",
      "[60]\ttrain-rmse:0.527914\teval-rmse:0.534069\n",
      "[70]\ttrain-rmse:0.327511\teval-rmse:0.340288\n",
      "[80]\ttrain-rmse:0.208842\teval-rmse:0.231534\n",
      "[90]\ttrain-rmse:0.139717\teval-rmse:0.174668\n",
      "[100]\ttrain-rmse:0.100698\teval-rmse:0.147475\n",
      "[110]\ttrain-rmse:0.079728\teval-rmse:0.135522\n",
      "[120]\ttrain-rmse:0.067986\teval-rmse:0.129877\n",
      "[130]\ttrain-rmse:0.061188\teval-rmse:0.127665\n",
      "[140]\ttrain-rmse:0.056545\teval-rmse:0.126507\n",
      "[150]\ttrain-rmse:0.052931\teval-rmse:0.125809\n",
      "[160]\ttrain-rmse:0.049854\teval-rmse:0.125248\n",
      "[170]\ttrain-rmse:0.047496\teval-rmse:0.12466\n",
      "[180]\ttrain-rmse:0.045195\teval-rmse:0.124358\n",
      "[190]\ttrain-rmse:0.043115\teval-rmse:0.124115\n",
      "[200]\ttrain-rmse:0.040528\teval-rmse:0.123972\n",
      "[210]\ttrain-rmse:0.03869\teval-rmse:0.123674\n",
      "[220]\ttrain-rmse:0.036859\teval-rmse:0.123643\n",
      "[230]\ttrain-rmse:0.035327\teval-rmse:0.123428\n",
      "[240]\ttrain-rmse:0.033717\teval-rmse:0.123341\n",
      "[250]\ttrain-rmse:0.032409\teval-rmse:0.123217\n",
      "[260]\ttrain-rmse:0.031242\teval-rmse:0.123074\n",
      "[270]\ttrain-rmse:0.02989\teval-rmse:0.123097\n",
      "[280]\ttrain-rmse:0.028846\teval-rmse:0.123019\n",
      "[290]\ttrain-rmse:0.028063\teval-rmse:0.123021\n",
      "[300]\ttrain-rmse:0.027042\teval-rmse:0.12307\n",
      "Stopping. Best iteration:\n",
      "[284]\ttrain-rmse:0.02851\teval-rmse:0.122988\n",
      "\n"
     ]
    },
    {
     "name": "stderr",
     "output_type": "stream",
     "text": [
      "\u001b[32m[I 2020-09-23 13:02:28,103]\u001b[0m Finished trial#33 resulted in value: 0.12301444068933634. Current best value is 0.11261399910948558 with parameters: {'max_depth': 6, 'colsample_bytree': 0.330432640328732, 'sublsample': 0.7158427239902707}.\u001b[0m\n"
     ]
    },
    {
     "name": "stdout",
     "output_type": "stream",
     "text": [
      "[0]\ttrain-rmse:10.9472\teval-rmse:10.9555\n",
      "Multiple eval metrics have been passed: 'eval-rmse' will be used for early stopping.\n",
      "\n",
      "Will train until eval-rmse hasn't improved in 20 rounds.\n",
      "[10]\ttrain-rmse:6.56431\teval-rmse:6.57075\n",
      "[20]\ttrain-rmse:3.93948\teval-rmse:3.94299\n",
      "[30]\ttrain-rmse:2.3679\teval-rmse:2.36973\n",
      "[40]\ttrain-rmse:1.42691\teval-rmse:1.4285\n",
      "[50]\ttrain-rmse:0.863921\teval-rmse:0.869434\n",
      "[60]\ttrain-rmse:0.527547\teval-rmse:0.537195\n",
      "[70]\ttrain-rmse:0.326484\teval-rmse:0.345459\n",
      "[80]\ttrain-rmse:0.205939\teval-rmse:0.238217\n",
      "[90]\ttrain-rmse:0.132975\teval-rmse:0.181692\n",
      "[100]\ttrain-rmse:0.087854\teval-rmse:0.154148\n",
      "[110]\ttrain-rmse:0.059838\teval-rmse:0.141326\n",
      "[120]\ttrain-rmse:0.042135\teval-rmse:0.135921\n",
      "[130]\ttrain-rmse:0.030546\teval-rmse:0.133461\n",
      "[140]\ttrain-rmse:0.022641\teval-rmse:0.132132\n",
      "[150]\ttrain-rmse:0.017224\teval-rmse:0.131323\n",
      "[160]\ttrain-rmse:0.013828\teval-rmse:0.13063\n",
      "[170]\ttrain-rmse:0.011305\teval-rmse:0.130438\n",
      "[180]\ttrain-rmse:0.009576\teval-rmse:0.130273\n",
      "[190]\ttrain-rmse:0.008085\teval-rmse:0.130192\n",
      "[200]\ttrain-rmse:0.006721\teval-rmse:0.130157\n",
      "[210]\ttrain-rmse:0.005716\teval-rmse:0.130106\n",
      "[220]\ttrain-rmse:0.004896\teval-rmse:0.130028\n",
      "[230]\ttrain-rmse:0.004283\teval-rmse:0.130015\n",
      "[240]\ttrain-rmse:0.003706\teval-rmse:0.129981\n",
      "[250]\ttrain-rmse:0.003099\teval-rmse:0.129984\n",
      "[260]\ttrain-rmse:0.002589\teval-rmse:0.129962\n",
      "[270]\ttrain-rmse:0.002162\teval-rmse:0.129961\n",
      "Stopping. Best iteration:\n",
      "[258]\ttrain-rmse:0.002681\teval-rmse:0.129955\n",
      "\n"
     ]
    },
    {
     "name": "stderr",
     "output_type": "stream",
     "text": [
      "\u001b[32m[I 2020-09-23 13:02:39,078]\u001b[0m Finished trial#34 resulted in value: 0.12996566704700388. Current best value is 0.11261399910948558 with parameters: {'max_depth': 6, 'colsample_bytree': 0.330432640328732, 'sublsample': 0.7158427239902707}.\u001b[0m\n"
     ]
    },
    {
     "name": "stdout",
     "output_type": "stream",
     "text": [
      "[0]\ttrain-rmse:10.9472\teval-rmse:10.9555\n",
      "Multiple eval metrics have been passed: 'eval-rmse' will be used for early stopping.\n",
      "\n",
      "Will train until eval-rmse hasn't improved in 20 rounds.\n",
      "[10]\ttrain-rmse:6.56465\teval-rmse:6.57217\n",
      "[20]\ttrain-rmse:3.94026\teval-rmse:3.94549\n",
      "[30]\ttrain-rmse:2.36897\teval-rmse:2.37226\n",
      "[40]\ttrain-rmse:1.42798\teval-rmse:1.42825\n",
      "[50]\ttrain-rmse:0.865105\teval-rmse:0.865587\n",
      "[60]\ttrain-rmse:0.528946\teval-rmse:0.533747\n",
      "[70]\ttrain-rmse:0.328598\teval-rmse:0.341503\n",
      "[80]\ttrain-rmse:0.209011\teval-rmse:0.233528\n",
      "[90]\ttrain-rmse:0.137317\teval-rmse:0.174148\n",
      "[100]\ttrain-rmse:0.094381\teval-rmse:0.14565\n",
      "[110]\ttrain-rmse:0.068152\teval-rmse:0.131266\n",
      "[120]\ttrain-rmse:0.052141\teval-rmse:0.125257\n",
      "[130]\ttrain-rmse:0.041594\teval-rmse:0.122531\n",
      "[140]\ttrain-rmse:0.03472\teval-rmse:0.121032\n",
      "[150]\ttrain-rmse:0.02999\teval-rmse:0.120355\n",
      "[160]\ttrain-rmse:0.026052\teval-rmse:0.119841\n",
      "[170]\ttrain-rmse:0.022833\teval-rmse:0.119374\n",
      "[180]\ttrain-rmse:0.020633\teval-rmse:0.11924\n",
      "[190]\ttrain-rmse:0.018506\teval-rmse:0.119087\n",
      "[200]\ttrain-rmse:0.016643\teval-rmse:0.119002\n",
      "[210]\ttrain-rmse:0.015272\teval-rmse:0.11879\n",
      "[220]\ttrain-rmse:0.013827\teval-rmse:0.118683\n",
      "[230]\ttrain-rmse:0.012711\teval-rmse:0.118581\n",
      "[240]\ttrain-rmse:0.011643\teval-rmse:0.118558\n",
      "[250]\ttrain-rmse:0.01044\teval-rmse:0.11859\n",
      "[260]\ttrain-rmse:0.009348\teval-rmse:0.118627\n",
      "Stopping. Best iteration:\n",
      "[240]\ttrain-rmse:0.011643\teval-rmse:0.118558\n",
      "\n"
     ]
    },
    {
     "name": "stderr",
     "output_type": "stream",
     "text": [
      "\u001b[32m[I 2020-09-23 13:02:44,271]\u001b[0m Finished trial#35 resulted in value: 0.11862703679656099. Current best value is 0.11261399910948558 with parameters: {'max_depth': 6, 'colsample_bytree': 0.330432640328732, 'sublsample': 0.7158427239902707}.\u001b[0m\n"
     ]
    },
    {
     "name": "stdout",
     "output_type": "stream",
     "text": [
      "[0]\ttrain-rmse:10.9472\teval-rmse:10.9555\n",
      "Multiple eval metrics have been passed: 'eval-rmse' will be used for early stopping.\n",
      "\n",
      "Will train until eval-rmse hasn't improved in 20 rounds.\n",
      "[10]\ttrain-rmse:6.56441\teval-rmse:6.57155\n",
      "[20]\ttrain-rmse:3.93968\teval-rmse:3.9448\n",
      "[30]\ttrain-rmse:2.36816\teval-rmse:2.37018\n",
      "[40]\ttrain-rmse:1.42711\teval-rmse:1.42729\n",
      "[50]\ttrain-rmse:0.864267\teval-rmse:0.867072\n",
      "[60]\ttrain-rmse:0.528009\teval-rmse:0.535015\n",
      "[70]\ttrain-rmse:0.327676\teval-rmse:0.342491\n",
      "[80]\ttrain-rmse:0.209304\teval-rmse:0.23423\n",
      "[90]\ttrain-rmse:0.140511\teval-rmse:0.17735\n",
      "[100]\ttrain-rmse:0.10193\teval-rmse:0.150135\n",
      "[110]\ttrain-rmse:0.080258\teval-rmse:0.137499\n",
      "[120]\ttrain-rmse:0.068125\teval-rmse:0.131906\n",
      "[130]\ttrain-rmse:0.060412\teval-rmse:0.12949\n",
      "[140]\ttrain-rmse:0.055441\teval-rmse:0.128027\n",
      "[150]\ttrain-rmse:0.051466\teval-rmse:0.126967\n",
      "[160]\ttrain-rmse:0.047942\teval-rmse:0.126462\n",
      "[170]\ttrain-rmse:0.044951\teval-rmse:0.126145\n",
      "[180]\ttrain-rmse:0.04287\teval-rmse:0.12591\n",
      "[190]\ttrain-rmse:0.040591\teval-rmse:0.125807\n",
      "[200]\ttrain-rmse:0.038756\teval-rmse:0.12554\n",
      "[210]\ttrain-rmse:0.03699\teval-rmse:0.125643\n",
      "[220]\ttrain-rmse:0.034735\teval-rmse:0.125664\n",
      "Stopping. Best iteration:\n",
      "[200]\ttrain-rmse:0.038756\teval-rmse:0.12554\n",
      "\n"
     ]
    },
    {
     "name": "stderr",
     "output_type": "stream",
     "text": [
      "\u001b[32m[I 2020-09-23 13:02:47,875]\u001b[0m Finished trial#36 resulted in value: 0.12566378284018204. Current best value is 0.11261399910948558 with parameters: {'max_depth': 6, 'colsample_bytree': 0.330432640328732, 'sublsample': 0.7158427239902707}.\u001b[0m\n"
     ]
    },
    {
     "name": "stdout",
     "output_type": "stream",
     "text": [
      "[0]\ttrain-rmse:10.9472\teval-rmse:10.9555\n",
      "Multiple eval metrics have been passed: 'eval-rmse' will be used for early stopping.\n",
      "\n",
      "Will train until eval-rmse hasn't improved in 20 rounds.\n",
      "[10]\ttrain-rmse:6.56477\teval-rmse:6.57134\n",
      "[20]\ttrain-rmse:3.94038\teval-rmse:3.94411\n",
      "[30]\ttrain-rmse:2.36911\teval-rmse:2.37129\n",
      "[40]\ttrain-rmse:1.4283\teval-rmse:1.4284\n",
      "[50]\ttrain-rmse:0.865269\teval-rmse:0.865648\n",
      "[60]\ttrain-rmse:0.529213\teval-rmse:0.53232\n",
      "[70]\ttrain-rmse:0.329226\teval-rmse:0.340054\n",
      "[80]\ttrain-rmse:0.209762\teval-rmse:0.230698\n",
      "[90]\ttrain-rmse:0.138407\teval-rmse:0.171792\n",
      "[100]\ttrain-rmse:0.095755\teval-rmse:0.143335\n",
      "[110]\ttrain-rmse:0.069674\teval-rmse:0.129662\n",
      "[120]\ttrain-rmse:0.053894\teval-rmse:0.1234\n",
      "[130]\ttrain-rmse:0.043723\teval-rmse:0.120445\n",
      "[140]\ttrain-rmse:0.036946\teval-rmse:0.119227\n",
      "[150]\ttrain-rmse:0.03197\teval-rmse:0.118556\n",
      "[160]\ttrain-rmse:0.027548\teval-rmse:0.117978\n",
      "[170]\ttrain-rmse:0.024272\teval-rmse:0.117597\n",
      "[180]\ttrain-rmse:0.021738\teval-rmse:0.117257\n",
      "[190]\ttrain-rmse:0.019455\teval-rmse:0.117042\n",
      "[200]\ttrain-rmse:0.017297\teval-rmse:0.116907\n",
      "[210]\ttrain-rmse:0.015234\teval-rmse:0.116917\n",
      "[220]\ttrain-rmse:0.013888\teval-rmse:0.116786\n",
      "[230]\ttrain-rmse:0.012727\teval-rmse:0.116724\n",
      "[240]\ttrain-rmse:0.01174\teval-rmse:0.116632\n",
      "[250]\ttrain-rmse:0.010863\teval-rmse:0.116512\n",
      "[260]\ttrain-rmse:0.009824\teval-rmse:0.116484\n",
      "[270]\ttrain-rmse:0.009158\teval-rmse:0.116453\n",
      "[280]\ttrain-rmse:0.008499\teval-rmse:0.116455\n",
      "[290]\ttrain-rmse:0.007762\teval-rmse:0.11646\n",
      "[300]\ttrain-rmse:0.007138\teval-rmse:0.116437\n",
      "Stopping. Best iteration:\n",
      "[283]\ttrain-rmse:0.008276\teval-rmse:0.116433\n",
      "\n"
     ]
    },
    {
     "name": "stderr",
     "output_type": "stream",
     "text": [
      "\u001b[32m[I 2020-09-23 13:02:51,669]\u001b[0m Finished trial#37 resulted in value: 0.11644066063604362. Current best value is 0.11261399910948558 with parameters: {'max_depth': 6, 'colsample_bytree': 0.330432640328732, 'sublsample': 0.7158427239902707}.\u001b[0m\n"
     ]
    },
    {
     "name": "stdout",
     "output_type": "stream",
     "text": [
      "[0]\ttrain-rmse:10.9472\teval-rmse:10.9555\n",
      "Multiple eval metrics have been passed: 'eval-rmse' will be used for early stopping.\n",
      "\n",
      "Will train until eval-rmse hasn't improved in 20 rounds.\n",
      "[10]\ttrain-rmse:6.56477\teval-rmse:6.57134\n",
      "[20]\ttrain-rmse:3.94038\teval-rmse:3.94411\n",
      "[30]\ttrain-rmse:2.36911\teval-rmse:2.37138\n",
      "[40]\ttrain-rmse:1.4284\teval-rmse:1.42932\n",
      "[50]\ttrain-rmse:0.865575\teval-rmse:0.866386\n",
      "[60]\ttrain-rmse:0.529502\teval-rmse:0.532854\n",
      "[70]\ttrain-rmse:0.329694\teval-rmse:0.339636\n",
      "[80]\ttrain-rmse:0.210135\teval-rmse:0.230347\n",
      "[90]\ttrain-rmse:0.137694\teval-rmse:0.172286\n",
      "[100]\ttrain-rmse:0.093457\teval-rmse:0.143693\n",
      "[110]\ttrain-rmse:0.065676\teval-rmse:0.129826\n",
      "[120]\ttrain-rmse:0.048545\teval-rmse:0.123659\n",
      "[130]\ttrain-rmse:0.036996\teval-rmse:0.120995\n",
      "[140]\ttrain-rmse:0.029406\teval-rmse:0.11967\n",
      "[150]\ttrain-rmse:0.024296\teval-rmse:0.118905\n",
      "[160]\ttrain-rmse:0.019602\teval-rmse:0.11852\n",
      "[170]\ttrain-rmse:0.016256\teval-rmse:0.118374\n",
      "[180]\ttrain-rmse:0.013669\teval-rmse:0.118082\n",
      "[190]\ttrain-rmse:0.011685\teval-rmse:0.117981\n",
      "[200]\ttrain-rmse:0.009908\teval-rmse:0.117954\n",
      "[210]\ttrain-rmse:0.0083\teval-rmse:0.117902\n",
      "[220]\ttrain-rmse:0.0073\teval-rmse:0.117893\n",
      "[230]\ttrain-rmse:0.006315\teval-rmse:0.117825\n",
      "[240]\ttrain-rmse:0.005613\teval-rmse:0.117794\n",
      "[250]\ttrain-rmse:0.004985\teval-rmse:0.117782\n",
      "[260]\ttrain-rmse:0.00422\teval-rmse:0.117799\n",
      "Stopping. Best iteration:\n",
      "[249]\ttrain-rmse:0.005107\teval-rmse:0.11778\n",
      "\n"
     ]
    },
    {
     "name": "stderr",
     "output_type": "stream",
     "text": [
      "\u001b[32m[I 2020-09-23 13:02:55,636]\u001b[0m Finished trial#38 resulted in value: 0.1177945964282313. Current best value is 0.11261399910948558 with parameters: {'max_depth': 6, 'colsample_bytree': 0.330432640328732, 'sublsample': 0.7158427239902707}.\u001b[0m\n"
     ]
    },
    {
     "name": "stdout",
     "output_type": "stream",
     "text": [
      "[0]\ttrain-rmse:10.9472\teval-rmse:10.9555\n",
      "Multiple eval metrics have been passed: 'eval-rmse' will be used for early stopping.\n",
      "\n",
      "Will train until eval-rmse hasn't improved in 20 rounds.\n",
      "[10]\ttrain-rmse:6.56441\teval-rmse:6.57155\n",
      "[20]\ttrain-rmse:3.93968\teval-rmse:3.9448\n",
      "[30]\ttrain-rmse:2.36816\teval-rmse:2.3702\n",
      "[40]\ttrain-rmse:1.42708\teval-rmse:1.42728\n",
      "[50]\ttrain-rmse:0.864168\teval-rmse:0.867193\n",
      "[60]\ttrain-rmse:0.527764\teval-rmse:0.534769\n",
      "[70]\ttrain-rmse:0.326936\teval-rmse:0.342128\n",
      "[80]\ttrain-rmse:0.206545\teval-rmse:0.234509\n",
      "[90]\ttrain-rmse:0.134008\teval-rmse:0.176617\n",
      "[100]\ttrain-rmse:0.089492\teval-rmse:0.148505\n",
      "[110]\ttrain-rmse:0.061977\teval-rmse:0.135557\n",
      "[120]\ttrain-rmse:0.0449\teval-rmse:0.12954\n",
      "[130]\ttrain-rmse:0.03376\teval-rmse:0.126821\n",
      "[140]\ttrain-rmse:0.026376\teval-rmse:0.125305\n",
      "[150]\ttrain-rmse:0.021236\teval-rmse:0.124742\n",
      "[160]\ttrain-rmse:0.017429\teval-rmse:0.124307\n",
      "[170]\ttrain-rmse:0.01413\teval-rmse:0.124015\n",
      "[180]\ttrain-rmse:0.011688\teval-rmse:0.123959\n",
      "[190]\ttrain-rmse:0.009729\teval-rmse:0.123843\n",
      "[200]\ttrain-rmse:0.008183\teval-rmse:0.123732\n",
      "[210]\ttrain-rmse:0.007279\teval-rmse:0.123661\n",
      "[220]\ttrain-rmse:0.006451\teval-rmse:0.123562\n",
      "[230]\ttrain-rmse:0.005756\teval-rmse:0.123531\n",
      "[240]\ttrain-rmse:0.005008\teval-rmse:0.123468\n",
      "[250]\ttrain-rmse:0.004361\teval-rmse:0.12342\n",
      "[260]\ttrain-rmse:0.003695\teval-rmse:0.123389\n",
      "[270]\ttrain-rmse:0.003263\teval-rmse:0.123387\n",
      "[280]\ttrain-rmse:0.002841\teval-rmse:0.123382\n",
      "[290]\ttrain-rmse:0.002532\teval-rmse:0.123364\n",
      "[300]\ttrain-rmse:0.002238\teval-rmse:0.123337\n",
      "[310]\ttrain-rmse:0.001979\teval-rmse:0.123328\n",
      "[320]\ttrain-rmse:0.001756\teval-rmse:0.123328\n",
      "[330]\ttrain-rmse:0.001568\teval-rmse:0.123325\n",
      "[340]\ttrain-rmse:0.001429\teval-rmse:0.12333\n",
      "Stopping. Best iteration:\n",
      "[324]\ttrain-rmse:0.001681\teval-rmse:0.12332\n",
      "\n"
     ]
    },
    {
     "name": "stderr",
     "output_type": "stream",
     "text": [
      "\u001b[32m[I 2020-09-23 13:03:01,151]\u001b[0m Finished trial#39 resulted in value: 0.123333673771166. Current best value is 0.11261399910948558 with parameters: {'max_depth': 6, 'colsample_bytree': 0.330432640328732, 'sublsample': 0.7158427239902707}.\u001b[0m\n"
     ]
    },
    {
     "name": "stdout",
     "output_type": "stream",
     "text": [
      "[0]\ttrain-rmse:10.9472\teval-rmse:10.9555\n",
      "Multiple eval metrics have been passed: 'eval-rmse' will be used for early stopping.\n",
      "\n",
      "Will train until eval-rmse hasn't improved in 20 rounds.\n",
      "[10]\ttrain-rmse:6.56465\teval-rmse:6.57217\n",
      "[20]\ttrain-rmse:3.94026\teval-rmse:3.94549\n",
      "[30]\ttrain-rmse:2.36897\teval-rmse:2.37226\n",
      "[40]\ttrain-rmse:1.42804\teval-rmse:1.42907\n",
      "[50]\ttrain-rmse:0.865105\teval-rmse:0.865398\n",
      "[60]\ttrain-rmse:0.52922\teval-rmse:0.532885\n",
      "[70]\ttrain-rmse:0.329818\teval-rmse:0.33966\n",
      "[80]\ttrain-rmse:0.212614\teval-rmse:0.231034\n",
      "[90]\ttrain-rmse:0.145619\teval-rmse:0.172621\n",
      "[100]\ttrain-rmse:0.10894\teval-rmse:0.145646\n",
      "[110]\ttrain-rmse:0.088983\teval-rmse:0.133203\n",
      "[120]\ttrain-rmse:0.078346\teval-rmse:0.127038\n",
      "[130]\ttrain-rmse:0.071954\teval-rmse:0.123969\n",
      "[140]\ttrain-rmse:0.067677\teval-rmse:0.122291\n",
      "[150]\ttrain-rmse:0.064525\teval-rmse:0.121352\n",
      "[160]\ttrain-rmse:0.061059\teval-rmse:0.120519\n",
      "[170]\ttrain-rmse:0.058576\teval-rmse:0.12001\n",
      "[180]\ttrain-rmse:0.056259\teval-rmse:0.119372\n",
      "[190]\ttrain-rmse:0.05433\teval-rmse:0.118983\n",
      "[200]\ttrain-rmse:0.052503\teval-rmse:0.118685\n",
      "[210]\ttrain-rmse:0.050777\teval-rmse:0.118395\n",
      "[220]\ttrain-rmse:0.049436\teval-rmse:0.118164\n",
      "[230]\ttrain-rmse:0.048268\teval-rmse:0.117893\n",
      "[240]\ttrain-rmse:0.046885\teval-rmse:0.117765\n",
      "[250]\ttrain-rmse:0.045652\teval-rmse:0.1175\n",
      "[260]\ttrain-rmse:0.044247\teval-rmse:0.117323\n",
      "[270]\ttrain-rmse:0.043194\teval-rmse:0.117232\n",
      "[280]\ttrain-rmse:0.042032\teval-rmse:0.117221\n",
      "[290]\ttrain-rmse:0.041137\teval-rmse:0.117199\n",
      "[300]\ttrain-rmse:0.040099\teval-rmse:0.117076\n",
      "[310]\ttrain-rmse:0.039393\teval-rmse:0.117148\n",
      "[320]\ttrain-rmse:0.038474\teval-rmse:0.117169\n",
      "Stopping. Best iteration:\n",
      "[301]\ttrain-rmse:0.039993\teval-rmse:0.117064\n",
      "\n"
     ]
    },
    {
     "name": "stderr",
     "output_type": "stream",
     "text": [
      "\u001b[32m[I 2020-09-23 13:03:04,519]\u001b[0m Finished trial#40 resulted in value: 0.11719001484226142. Current best value is 0.11261399910948558 with parameters: {'max_depth': 6, 'colsample_bytree': 0.330432640328732, 'sublsample': 0.7158427239902707}.\u001b[0m\n"
     ]
    },
    {
     "name": "stdout",
     "output_type": "stream",
     "text": [
      "[0]\ttrain-rmse:10.9472\teval-rmse:10.9555\n",
      "Multiple eval metrics have been passed: 'eval-rmse' will be used for early stopping.\n",
      "\n",
      "Will train until eval-rmse hasn't improved in 20 rounds.\n",
      "[10]\ttrain-rmse:6.56446\teval-rmse:6.57153\n",
      "[20]\ttrain-rmse:3.93974\teval-rmse:3.94463\n",
      "[30]\ttrain-rmse:2.36824\teval-rmse:2.36952\n",
      "[40]\ttrain-rmse:1.42725\teval-rmse:1.42742\n",
      "[50]\ttrain-rmse:0.864331\teval-rmse:0.865267\n",
      "[60]\ttrain-rmse:0.528111\teval-rmse:0.532516\n",
      "[70]\ttrain-rmse:0.327365\teval-rmse:0.339098\n",
      "[80]\ttrain-rmse:0.207327\teval-rmse:0.231047\n",
      "[90]\ttrain-rmse:0.134794\teval-rmse:0.172735\n",
      "[100]\ttrain-rmse:0.090398\teval-rmse:0.144787\n",
      "[110]\ttrain-rmse:0.062574\teval-rmse:0.131936\n",
      "[120]\ttrain-rmse:0.045401\teval-rmse:0.126055\n",
      "[130]\ttrain-rmse:0.034264\teval-rmse:0.123347\n",
      "[140]\ttrain-rmse:0.026505\teval-rmse:0.121717\n",
      "[150]\ttrain-rmse:0.021287\teval-rmse:0.1211\n",
      "[160]\ttrain-rmse:0.017524\teval-rmse:0.120551\n",
      "[170]\ttrain-rmse:0.014522\teval-rmse:0.120323\n",
      "[180]\ttrain-rmse:0.012401\teval-rmse:0.120065\n",
      "[190]\ttrain-rmse:0.010498\teval-rmse:0.120057\n",
      "[200]\ttrain-rmse:0.00876\teval-rmse:0.119958\n",
      "[210]\ttrain-rmse:0.007556\teval-rmse:0.1199\n",
      "[220]\ttrain-rmse:0.006623\teval-rmse:0.11985\n",
      "[230]\ttrain-rmse:0.005825\teval-rmse:0.119813\n",
      "[240]\ttrain-rmse:0.005156\teval-rmse:0.119826\n",
      "[250]\ttrain-rmse:0.004599\teval-rmse:0.119802\n",
      "[260]\ttrain-rmse:0.004139\teval-rmse:0.119801\n",
      "[270]\ttrain-rmse:0.003763\teval-rmse:0.119757\n",
      "[280]\ttrain-rmse:0.003471\teval-rmse:0.119726\n",
      "[290]\ttrain-rmse:0.00311\teval-rmse:0.119729\n",
      "[300]\ttrain-rmse:0.002635\teval-rmse:0.119724\n",
      "[310]\ttrain-rmse:0.002245\teval-rmse:0.119712\n",
      "[320]\ttrain-rmse:0.001995\teval-rmse:0.119707\n",
      "[330]\ttrain-rmse:0.001738\teval-rmse:0.119707\n",
      "[340]\ttrain-rmse:0.001454\teval-rmse:0.119725\n",
      "[350]\ttrain-rmse:0.001287\teval-rmse:0.119726\n",
      "Stopping. Best iteration:\n",
      "[332]\ttrain-rmse:0.001685\teval-rmse:0.119702\n",
      "\n"
     ]
    },
    {
     "name": "stderr",
     "output_type": "stream",
     "text": [
      "\u001b[32m[I 2020-09-23 13:03:11,617]\u001b[0m Finished trial#41 resulted in value: 0.11972661685911072. Current best value is 0.11261399910948558 with parameters: {'max_depth': 6, 'colsample_bytree': 0.330432640328732, 'sublsample': 0.7158427239902707}.\u001b[0m\n"
     ]
    },
    {
     "name": "stdout",
     "output_type": "stream",
     "text": [
      "[0]\ttrain-rmse:10.9472\teval-rmse:10.9555\n",
      "Multiple eval metrics have been passed: 'eval-rmse' will be used for early stopping.\n",
      "\n",
      "Will train until eval-rmse hasn't improved in 20 rounds.\n",
      "[10]\ttrain-rmse:6.56441\teval-rmse:6.57155\n",
      "[20]\ttrain-rmse:3.93968\teval-rmse:3.9448\n",
      "[30]\ttrain-rmse:2.36816\teval-rmse:2.37018\n",
      "[40]\ttrain-rmse:1.42711\teval-rmse:1.42729\n",
      "[50]\ttrain-rmse:0.864271\teval-rmse:0.866873\n",
      "[60]\ttrain-rmse:0.528192\teval-rmse:0.534929\n",
      "[70]\ttrain-rmse:0.328366\teval-rmse:0.342617\n",
      "[80]\ttrain-rmse:0.211125\teval-rmse:0.23527\n",
      "[90]\ttrain-rmse:0.14398\teval-rmse:0.178485\n",
      "[100]\ttrain-rmse:0.107139\teval-rmse:0.150791\n",
      "[110]\ttrain-rmse:0.086879\teval-rmse:0.137877\n",
      "[120]\ttrain-rmse:0.07579\teval-rmse:0.131546\n",
      "[130]\ttrain-rmse:0.069398\teval-rmse:0.128443\n",
      "[140]\ttrain-rmse:0.065332\teval-rmse:0.127104\n",
      "[150]\ttrain-rmse:0.062328\teval-rmse:0.126674\n",
      "[160]\ttrain-rmse:0.059442\teval-rmse:0.12607\n",
      "[170]\ttrain-rmse:0.057116\teval-rmse:0.125402\n",
      "[180]\ttrain-rmse:0.05509\teval-rmse:0.125322\n",
      "[190]\ttrain-rmse:0.053533\teval-rmse:0.125177\n",
      "[200]\ttrain-rmse:0.051396\teval-rmse:0.125101\n",
      "[210]\ttrain-rmse:0.04974\teval-rmse:0.125023\n",
      "[220]\ttrain-rmse:0.048355\teval-rmse:0.124923\n",
      "[230]\ttrain-rmse:0.047223\teval-rmse:0.124763\n",
      "[240]\ttrain-rmse:0.046183\teval-rmse:0.124713\n",
      "[250]\ttrain-rmse:0.044778\teval-rmse:0.124688\n",
      "[260]\ttrain-rmse:0.04374\teval-rmse:0.124597\n",
      "[270]\ttrain-rmse:0.042538\teval-rmse:0.124527\n",
      "[280]\ttrain-rmse:0.041055\teval-rmse:0.124537\n",
      "[290]\ttrain-rmse:0.039828\teval-rmse:0.124442\n",
      "Stopping. Best iteration:\n",
      "[276]\ttrain-rmse:0.041628\teval-rmse:0.124358\n",
      "\n"
     ]
    },
    {
     "name": "stderr",
     "output_type": "stream",
     "text": [
      "\u001b[32m[I 2020-09-23 13:03:17,091]\u001b[0m Finished trial#42 resulted in value: 0.12440387628056748. Current best value is 0.11261399910948558 with parameters: {'max_depth': 6, 'colsample_bytree': 0.330432640328732, 'sublsample': 0.7158427239902707}.\u001b[0m\n"
     ]
    },
    {
     "name": "stdout",
     "output_type": "stream",
     "text": [
      "[0]\ttrain-rmse:10.9472\teval-rmse:10.9555\n",
      "Multiple eval metrics have been passed: 'eval-rmse' will be used for early stopping.\n",
      "\n",
      "Will train until eval-rmse hasn't improved in 20 rounds.\n",
      "[10]\ttrain-rmse:6.56446\teval-rmse:6.57153\n",
      "[20]\ttrain-rmse:3.93978\teval-rmse:3.94394\n",
      "[30]\ttrain-rmse:2.36832\teval-rmse:2.37107\n",
      "[40]\ttrain-rmse:1.42719\teval-rmse:1.4274\n",
      "[50]\ttrain-rmse:0.864298\teval-rmse:0.865796\n",
      "[60]\ttrain-rmse:0.528167\teval-rmse:0.533056\n",
      "[70]\ttrain-rmse:0.327649\teval-rmse:0.340733\n",
      "[80]\ttrain-rmse:0.207473\teval-rmse:0.232808\n",
      "[90]\ttrain-rmse:0.134512\teval-rmse:0.174948\n",
      "[100]\ttrain-rmse:0.088791\teval-rmse:0.146512\n",
      "[110]\ttrain-rmse:0.059473\teval-rmse:0.133535\n",
      "[120]\ttrain-rmse:0.040574\teval-rmse:0.12731\n",
      "[130]\ttrain-rmse:0.028327\teval-rmse:0.124549\n",
      "[140]\ttrain-rmse:0.020147\teval-rmse:0.122983\n",
      "[150]\ttrain-rmse:0.014486\teval-rmse:0.122375\n",
      "[160]\ttrain-rmse:0.010618\teval-rmse:0.121965\n",
      "[170]\ttrain-rmse:0.007841\teval-rmse:0.12172\n",
      "[180]\ttrain-rmse:0.005879\teval-rmse:0.12155\n",
      "[190]\ttrain-rmse:0.004441\teval-rmse:0.121415\n",
      "[200]\ttrain-rmse:0.003404\teval-rmse:0.121374\n",
      "[210]\ttrain-rmse:0.002641\teval-rmse:0.121296\n",
      "[220]\ttrain-rmse:0.002083\teval-rmse:0.121284\n",
      "[230]\ttrain-rmse:0.001653\teval-rmse:0.12124\n",
      "[240]\ttrain-rmse:0.001351\teval-rmse:0.121223\n",
      "[250]\ttrain-rmse:0.001105\teval-rmse:0.121215\n",
      "[260]\ttrain-rmse:0.000901\teval-rmse:0.121203\n",
      "[270]\ttrain-rmse:0.000776\teval-rmse:0.12119\n",
      "[280]\ttrain-rmse:0.000723\teval-rmse:0.121191\n",
      "[290]\ttrain-rmse:0.000716\teval-rmse:0.12119\n",
      "Stopping. Best iteration:\n",
      "[273]\ttrain-rmse:0.000754\teval-rmse:0.121189\n",
      "\n"
     ]
    },
    {
     "name": "stderr",
     "output_type": "stream",
     "text": [
      "\u001b[32m[I 2020-09-23 13:03:23,210]\u001b[0m Finished trial#43 resulted in value: 0.12119014732602384. Current best value is 0.11261399910948558 with parameters: {'max_depth': 6, 'colsample_bytree': 0.330432640328732, 'sublsample': 0.7158427239902707}.\u001b[0m\n"
     ]
    },
    {
     "name": "stdout",
     "output_type": "stream",
     "text": [
      "[0]\ttrain-rmse:10.9472\teval-rmse:10.9555\n",
      "Multiple eval metrics have been passed: 'eval-rmse' will be used for early stopping.\n",
      "\n",
      "Will train until eval-rmse hasn't improved in 20 rounds.\n",
      "[10]\ttrain-rmse:6.56477\teval-rmse:6.57134\n",
      "[20]\ttrain-rmse:3.94043\teval-rmse:3.94444\n",
      "[30]\ttrain-rmse:2.36918\teval-rmse:2.37199\n",
      "[40]\ttrain-rmse:1.42847\teval-rmse:1.42888\n",
      "[50]\ttrain-rmse:0.865744\teval-rmse:0.866659\n",
      "[60]\ttrain-rmse:0.529744\teval-rmse:0.533671\n",
      "[70]\ttrain-rmse:0.330041\teval-rmse:0.339831\n",
      "[80]\ttrain-rmse:0.210493\teval-rmse:0.229904\n",
      "[90]\ttrain-rmse:0.137897\teval-rmse:0.170807\n",
      "[100]\ttrain-rmse:0.092646\teval-rmse:0.143109\n",
      "[110]\ttrain-rmse:0.063156\teval-rmse:0.130309\n",
      "[120]\ttrain-rmse:0.043952\teval-rmse:0.12429\n",
      "[130]\ttrain-rmse:0.031127\teval-rmse:0.121838\n",
      "[140]\ttrain-rmse:0.022537\teval-rmse:0.12041\n",
      "[150]\ttrain-rmse:0.016648\teval-rmse:0.119576\n",
      "[160]\ttrain-rmse:0.012346\teval-rmse:0.119193\n",
      "[170]\ttrain-rmse:0.009135\teval-rmse:0.119118\n",
      "[180]\ttrain-rmse:0.006889\teval-rmse:0.119037\n",
      "[190]\ttrain-rmse:0.005211\teval-rmse:0.118947\n",
      "[200]\ttrain-rmse:0.003975\teval-rmse:0.118926\n",
      "[210]\ttrain-rmse:0.003058\teval-rmse:0.118903\n",
      "[220]\ttrain-rmse:0.002397\teval-rmse:0.11889\n",
      "[230]\ttrain-rmse:0.001895\teval-rmse:0.118854\n",
      "[240]\ttrain-rmse:0.001515\teval-rmse:0.118843\n",
      "[250]\ttrain-rmse:0.001221\teval-rmse:0.118825\n",
      "[260]\ttrain-rmse:0.001002\teval-rmse:0.118812\n",
      "[270]\ttrain-rmse:0.00088\teval-rmse:0.118804\n",
      "[280]\ttrain-rmse:0.000807\teval-rmse:0.118794\n",
      "[290]\ttrain-rmse:0.000755\teval-rmse:0.118795\n",
      "Stopping. Best iteration:\n",
      "[275]\ttrain-rmse:0.000829\teval-rmse:0.118793\n",
      "\n"
     ]
    },
    {
     "name": "stderr",
     "output_type": "stream",
     "text": [
      "\u001b[32m[I 2020-09-23 13:03:28,123]\u001b[0m Finished trial#44 resulted in value: 0.11879332895886449. Current best value is 0.11261399910948558 with parameters: {'max_depth': 6, 'colsample_bytree': 0.330432640328732, 'sublsample': 0.7158427239902707}.\u001b[0m\n"
     ]
    },
    {
     "name": "stdout",
     "output_type": "stream",
     "text": [
      "[0]\ttrain-rmse:10.9472\teval-rmse:10.9555\n",
      "Multiple eval metrics have been passed: 'eval-rmse' will be used for early stopping.\n",
      "\n",
      "Will train until eval-rmse hasn't improved in 20 rounds.\n",
      "[10]\ttrain-rmse:6.56457\teval-rmse:6.5713\n",
      "[20]\ttrain-rmse:3.93999\teval-rmse:3.94442\n",
      "[30]\ttrain-rmse:2.36856\teval-rmse:2.37171\n",
      "[40]\ttrain-rmse:1.42752\teval-rmse:1.42771\n",
      "[50]\ttrain-rmse:0.864576\teval-rmse:0.866812\n",
      "[60]\ttrain-rmse:0.528482\teval-rmse:0.535014\n",
      "[70]\ttrain-rmse:0.328138\teval-rmse:0.341732\n",
      "[80]\ttrain-rmse:0.208137\teval-rmse:0.234207\n",
      "[90]\ttrain-rmse:0.135423\teval-rmse:0.176549\n",
      "[100]\ttrain-rmse:0.090877\teval-rmse:0.147759\n",
      "[110]\ttrain-rmse:0.062415\teval-rmse:0.134543\n",
      "[120]\ttrain-rmse:0.044282\teval-rmse:0.128394\n",
      "[130]\ttrain-rmse:0.03254\teval-rmse:0.125606\n",
      "[140]\ttrain-rmse:0.024631\teval-rmse:0.124138\n",
      "[150]\ttrain-rmse:0.019273\teval-rmse:0.123364\n",
      "[160]\ttrain-rmse:0.015376\teval-rmse:0.122927\n",
      "[170]\ttrain-rmse:0.012206\teval-rmse:0.122645\n",
      "[180]\ttrain-rmse:0.009917\teval-rmse:0.122477\n",
      "[190]\ttrain-rmse:0.00808\teval-rmse:0.122301\n",
      "[200]\ttrain-rmse:0.006719\teval-rmse:0.122311\n",
      "[210]\ttrain-rmse:0.005376\teval-rmse:0.122227\n",
      "[220]\ttrain-rmse:0.004379\teval-rmse:0.122125\n",
      "[230]\ttrain-rmse:0.003523\teval-rmse:0.122109\n",
      "[240]\ttrain-rmse:0.00295\teval-rmse:0.122071\n",
      "[250]\ttrain-rmse:0.00247\teval-rmse:0.122053\n",
      "[260]\ttrain-rmse:0.002027\teval-rmse:0.122047\n",
      "[270]\ttrain-rmse:0.00172\teval-rmse:0.122033\n",
      "[280]\ttrain-rmse:0.001437\teval-rmse:0.122026\n",
      "[290]\ttrain-rmse:0.001234\teval-rmse:0.122019\n",
      "[300]\ttrain-rmse:0.001065\teval-rmse:0.12202\n",
      "[310]\ttrain-rmse:0.00093\teval-rmse:0.122022\n",
      "Stopping. Best iteration:\n",
      "[292]\ttrain-rmse:0.001195\teval-rmse:0.122018\n",
      "\n"
     ]
    },
    {
     "name": "stderr",
     "output_type": "stream",
     "text": [
      "\u001b[32m[I 2020-09-23 13:03:34,078]\u001b[0m Finished trial#45 resulted in value: 0.12202235327109762. Current best value is 0.11261399910948558 with parameters: {'max_depth': 6, 'colsample_bytree': 0.330432640328732, 'sublsample': 0.7158427239902707}.\u001b[0m\n"
     ]
    },
    {
     "name": "stdout",
     "output_type": "stream",
     "text": [
      "[0]\ttrain-rmse:10.9472\teval-rmse:10.9555\n",
      "Multiple eval metrics have been passed: 'eval-rmse' will be used for early stopping.\n",
      "\n",
      "Will train until eval-rmse hasn't improved in 20 rounds.\n",
      "[10]\ttrain-rmse:6.56465\teval-rmse:6.57217\n",
      "[20]\ttrain-rmse:3.94026\teval-rmse:3.94549\n",
      "[30]\ttrain-rmse:2.36897\teval-rmse:2.37226\n",
      "[40]\ttrain-rmse:1.42803\teval-rmse:1.4285\n",
      "[50]\ttrain-rmse:0.865185\teval-rmse:0.865453\n",
      "[60]\ttrain-rmse:0.529098\teval-rmse:0.533448\n",
      "[70]\ttrain-rmse:0.328592\teval-rmse:0.34003\n",
      "[80]\ttrain-rmse:0.20891\teval-rmse:0.232385\n",
      "[90]\ttrain-rmse:0.13639\teval-rmse:0.173653\n",
      "[100]\ttrain-rmse:0.091944\teval-rmse:0.145678\n",
      "[110]\ttrain-rmse:0.064062\teval-rmse:0.132076\n",
      "[120]\ttrain-rmse:0.046549\teval-rmse:0.126192\n",
      "[130]\ttrain-rmse:0.03539\teval-rmse:0.123429\n",
      "[140]\ttrain-rmse:0.027439\teval-rmse:0.122342\n",
      "[150]\ttrain-rmse:0.022035\teval-rmse:0.121628\n",
      "[160]\ttrain-rmse:0.017795\teval-rmse:0.12101\n",
      "[170]\ttrain-rmse:0.014454\teval-rmse:0.120715\n",
      "[180]\ttrain-rmse:0.012095\teval-rmse:0.120506\n",
      "[190]\ttrain-rmse:0.010196\teval-rmse:0.120465\n",
      "[200]\ttrain-rmse:0.008599\teval-rmse:0.12037\n",
      "[210]\ttrain-rmse:0.007391\teval-rmse:0.120282\n",
      "[220]\ttrain-rmse:0.006505\teval-rmse:0.120233\n",
      "[230]\ttrain-rmse:0.005669\teval-rmse:0.120196\n",
      "[240]\ttrain-rmse:0.004931\teval-rmse:0.120164\n",
      "[250]\ttrain-rmse:0.004412\teval-rmse:0.120137\n",
      "[260]\ttrain-rmse:0.003972\teval-rmse:0.120134\n",
      "[270]\ttrain-rmse:0.003491\teval-rmse:0.120117\n",
      "[280]\ttrain-rmse:0.003065\teval-rmse:0.120111\n",
      "[290]\ttrain-rmse:0.002726\teval-rmse:0.120103\n",
      "[300]\ttrain-rmse:0.002356\teval-rmse:0.1201\n",
      "[310]\ttrain-rmse:0.00204\teval-rmse:0.120109\n",
      "Stopping. Best iteration:\n",
      "[294]\ttrain-rmse:0.002554\teval-rmse:0.12009\n",
      "\n"
     ]
    },
    {
     "name": "stderr",
     "output_type": "stream",
     "text": [
      "\u001b[32m[I 2020-09-23 13:03:39,801]\u001b[0m Finished trial#46 resulted in value: 0.12010949772208171. Current best value is 0.11261399910948558 with parameters: {'max_depth': 6, 'colsample_bytree': 0.330432640328732, 'sublsample': 0.7158427239902707}.\u001b[0m\n"
     ]
    },
    {
     "name": "stdout",
     "output_type": "stream",
     "text": [
      "[0]\ttrain-rmse:10.9472\teval-rmse:10.9555\n",
      "Multiple eval metrics have been passed: 'eval-rmse' will be used for early stopping.\n",
      "\n",
      "Will train until eval-rmse hasn't improved in 20 rounds.\n",
      "[10]\ttrain-rmse:6.56441\teval-rmse:6.57155\n",
      "[20]\ttrain-rmse:3.93968\teval-rmse:3.9448\n",
      "[30]\ttrain-rmse:2.36816\teval-rmse:2.3702\n",
      "[40]\ttrain-rmse:1.42714\teval-rmse:1.42697\n",
      "[50]\ttrain-rmse:0.864439\teval-rmse:0.866161\n",
      "[60]\ttrain-rmse:0.529301\teval-rmse:0.533663\n",
      "[70]\ttrain-rmse:0.332009\teval-rmse:0.340345\n",
      "[80]\ttrain-rmse:0.218613\teval-rmse:0.232704\n",
      "[90]\ttrain-rmse:0.156595\teval-rmse:0.176921\n",
      "[100]\ttrain-rmse:0.124464\teval-rmse:0.150138\n",
      "[110]\ttrain-rmse:0.108667\teval-rmse:0.138624\n",
      "[120]\ttrain-rmse:0.100003\teval-rmse:0.132207\n",
      "[130]\ttrain-rmse:0.095057\teval-rmse:0.129119\n",
      "[140]\ttrain-rmse:0.091626\teval-rmse:0.126853\n",
      "[150]\ttrain-rmse:0.088979\teval-rmse:0.125482\n",
      "[160]\ttrain-rmse:0.087014\teval-rmse:0.124466\n",
      "[170]\ttrain-rmse:0.08517\teval-rmse:0.124167\n",
      "[180]\ttrain-rmse:0.083502\teval-rmse:0.123583\n",
      "[190]\ttrain-rmse:0.08188\teval-rmse:0.12286\n",
      "[200]\ttrain-rmse:0.080355\teval-rmse:0.122371\n",
      "[210]\ttrain-rmse:0.07897\teval-rmse:0.122\n",
      "[220]\ttrain-rmse:0.07787\teval-rmse:0.121637\n",
      "[230]\ttrain-rmse:0.076658\teval-rmse:0.121328\n",
      "[240]\ttrain-rmse:0.075456\teval-rmse:0.121213\n",
      "[250]\ttrain-rmse:0.074609\teval-rmse:0.120939\n",
      "[260]\ttrain-rmse:0.073443\teval-rmse:0.120717\n",
      "[270]\ttrain-rmse:0.072519\teval-rmse:0.120665\n",
      "[280]\ttrain-rmse:0.071888\teval-rmse:0.120613\n",
      "[290]\ttrain-rmse:0.071012\teval-rmse:0.120562\n",
      "[300]\ttrain-rmse:0.070409\teval-rmse:0.120385\n",
      "[310]\ttrain-rmse:0.069821\teval-rmse:0.120381\n",
      "[320]\ttrain-rmse:0.06915\teval-rmse:0.120273\n",
      "[330]\ttrain-rmse:0.068498\teval-rmse:0.12035\n",
      "[340]\ttrain-rmse:0.067891\teval-rmse:0.120293\n",
      "Stopping. Best iteration:\n",
      "[321]\ttrain-rmse:0.069083\teval-rmse:0.12024\n",
      "\n"
     ]
    },
    {
     "name": "stderr",
     "output_type": "stream",
     "text": [
      "\u001b[32m[I 2020-09-23 13:03:43,219]\u001b[0m Finished trial#47 resulted in value: 0.12031668828118017. Current best value is 0.11261399910948558 with parameters: {'max_depth': 6, 'colsample_bytree': 0.330432640328732, 'sublsample': 0.7158427239902707}.\u001b[0m\n"
     ]
    },
    {
     "name": "stdout",
     "output_type": "stream",
     "text": [
      "[0]\ttrain-rmse:10.9472\teval-rmse:10.9555\n",
      "Multiple eval metrics have been passed: 'eval-rmse' will be used for early stopping.\n",
      "\n",
      "Will train until eval-rmse hasn't improved in 20 rounds.\n",
      "[10]\ttrain-rmse:6.56465\teval-rmse:6.57217\n",
      "[20]\ttrain-rmse:3.94026\teval-rmse:3.94549\n",
      "[30]\ttrain-rmse:2.36897\teval-rmse:2.37237\n",
      "[40]\ttrain-rmse:1.4282\teval-rmse:1.42918\n",
      "[50]\ttrain-rmse:0.865212\teval-rmse:0.866554\n",
      "[60]\ttrain-rmse:0.52922\teval-rmse:0.533861\n",
      "[70]\ttrain-rmse:0.329167\teval-rmse:0.341543\n",
      "[80]\ttrain-rmse:0.209287\teval-rmse:0.234674\n",
      "[90]\ttrain-rmse:0.136112\teval-rmse:0.175951\n",
      "[100]\ttrain-rmse:0.090574\teval-rmse:0.148962\n",
      "[110]\ttrain-rmse:0.061194\teval-rmse:0.135534\n",
      "[120]\ttrain-rmse:0.042166\teval-rmse:0.128806\n",
      "[130]\ttrain-rmse:0.029591\teval-rmse:0.125336\n",
      "[140]\ttrain-rmse:0.021173\teval-rmse:0.124011\n",
      "[150]\ttrain-rmse:0.015362\teval-rmse:0.123246\n",
      "[160]\ttrain-rmse:0.01131\teval-rmse:0.122904\n",
      "[170]\ttrain-rmse:0.008371\teval-rmse:0.122742\n",
      "[180]\ttrain-rmse:0.006277\teval-rmse:0.122512\n",
      "[190]\ttrain-rmse:0.004785\teval-rmse:0.122502\n",
      "[200]\ttrain-rmse:0.0037\teval-rmse:0.122447\n",
      "[210]\ttrain-rmse:0.002859\teval-rmse:0.122395\n",
      "[220]\ttrain-rmse:0.00226\teval-rmse:0.122342\n",
      "[230]\ttrain-rmse:0.001791\teval-rmse:0.122302\n",
      "[240]\ttrain-rmse:0.001449\teval-rmse:0.122273\n",
      "[250]\ttrain-rmse:0.001177\teval-rmse:0.122263\n",
      "[260]\ttrain-rmse:0.000962\teval-rmse:0.122262\n",
      "[270]\ttrain-rmse:0.00082\teval-rmse:0.122261\n",
      "[280]\ttrain-rmse:0.000752\teval-rmse:0.122253\n",
      "[290]\ttrain-rmse:0.000717\teval-rmse:0.122252\n",
      "[300]\ttrain-rmse:0.000707\teval-rmse:0.122251\n",
      "Stopping. Best iteration:\n",
      "[284]\ttrain-rmse:0.00073\teval-rmse:0.12225\n",
      "\n"
     ]
    },
    {
     "name": "stderr",
     "output_type": "stream",
     "text": [
      "\u001b[32m[I 2020-09-23 13:03:46,368]\u001b[0m Finished trial#48 resulted in value: 0.12224979502891256. Current best value is 0.11261399910948558 with parameters: {'max_depth': 6, 'colsample_bytree': 0.330432640328732, 'sublsample': 0.7158427239902707}.\u001b[0m\n"
     ]
    },
    {
     "name": "stdout",
     "output_type": "stream",
     "text": [
      "[0]\ttrain-rmse:10.9472\teval-rmse:10.9555\n",
      "Multiple eval metrics have been passed: 'eval-rmse' will be used for early stopping.\n",
      "\n",
      "Will train until eval-rmse hasn't improved in 20 rounds.\n",
      "[10]\ttrain-rmse:6.56444\teval-rmse:6.57256\n",
      "[20]\ttrain-rmse:3.93974\teval-rmse:3.94495\n",
      "[30]\ttrain-rmse:2.36834\teval-rmse:2.37053\n",
      "[40]\ttrain-rmse:1.42736\teval-rmse:1.42782\n",
      "[50]\ttrain-rmse:0.864418\teval-rmse:0.86675\n",
      "[60]\ttrain-rmse:0.528273\teval-rmse:0.534127\n",
      "[70]\ttrain-rmse:0.327972\teval-rmse:0.34083\n",
      "[80]\ttrain-rmse:0.208838\teval-rmse:0.232197\n",
      "[90]\ttrain-rmse:0.138829\teval-rmse:0.174372\n",
      "[100]\ttrain-rmse:0.098649\teval-rmse:0.146052\n",
      "[110]\ttrain-rmse:0.075411\teval-rmse:0.132486\n",
      "[120]\ttrain-rmse:0.061244\teval-rmse:0.126181\n",
      "[130]\ttrain-rmse:0.052981\teval-rmse:0.123382\n",
      "[140]\ttrain-rmse:0.047285\teval-rmse:0.122376\n",
      "[150]\ttrain-rmse:0.043355\teval-rmse:0.121874\n",
      "[160]\ttrain-rmse:0.039194\teval-rmse:0.121377\n",
      "[170]\ttrain-rmse:0.03602\teval-rmse:0.120964\n",
      "[180]\ttrain-rmse:0.033637\teval-rmse:0.120817\n",
      "[190]\ttrain-rmse:0.030961\teval-rmse:0.120392\n",
      "[200]\ttrain-rmse:0.029252\teval-rmse:0.12031\n",
      "[210]\ttrain-rmse:0.027951\teval-rmse:0.120391\n",
      "Stopping. Best iteration:\n",
      "[199]\ttrain-rmse:0.029383\teval-rmse:0.120269\n",
      "\n"
     ]
    },
    {
     "name": "stderr",
     "output_type": "stream",
     "text": [
      "\u001b[32m[I 2020-09-23 13:03:49,050]\u001b[0m Finished trial#49 resulted in value: 0.12027818808198405. Current best value is 0.11261399910948558 with parameters: {'max_depth': 6, 'colsample_bytree': 0.330432640328732, 'sublsample': 0.7158427239902707}.\u001b[0m\n"
     ]
    },
    {
     "data": {
      "text/plain": [
       "{'max_depth': 6,\n",
       " 'colsample_bytree': 0.330432640328732,\n",
       " 'sublsample': 0.7158427239902707}"
      ]
     },
     "execution_count": 118,
     "metadata": {},
     "output_type": "execute_result"
    }
   ],
   "source": [
    "study = optuna.create_study(sampler=optuna.samplers.RandomSampler(seed=0))\n",
    "study.optimize(objective, n_trials=50)\n",
    "study.best_params"
   ]
  },
  {
   "cell_type": "markdown",
   "metadata": {},
   "source": [
    "リスト4.87　ハイパーパラメータの設定"
   ]
  },
  {
   "cell_type": "code",
   "execution_count": 88,
   "metadata": {},
   "outputs": [],
   "source": [
    "xgb_params = {\n",
    "\"learning_rate\":0.05,\n",
    "\"seed\":1234,\n",
    "\"max_depth\": 6,\n",
    "\"colsample_bytree\": 0.330432640328732,\n",
    "\"sublsample\": 0.7158427239902707\n",
    "}"
   ]
  },
  {
   "cell_type": "markdown",
   "metadata": {},
   "source": [
    "#### XGBoostでモデルを学習する"
   ]
  },
  {
   "cell_type": "markdown",
   "metadata": {},
   "source": [
    "リスト4.88　最適化の処理"
   ]
  },
  {
   "cell_type": "code",
   "execution_count": 91,
   "metadata": {},
   "outputs": [
    {
     "ename": "ZeroDivisionError",
     "evalue": "division by zero",
     "output_type": "error",
     "traceback": [
      "\u001b[0;31m---------------------------------------------------------------------------\u001b[0m",
      "\u001b[0;31mZeroDivisionError\u001b[0m                         Traceback (most recent call last)",
      "\u001b[0;32m<ipython-input-91-047f8c8ceb17>\u001b[0m in \u001b[0;36m<module>\u001b[0;34m\u001b[0m\n\u001b[0;32m----> 1\u001b[0;31m \u001b[0msum\u001b[0m\u001b[0;34m(\u001b[0m\u001b[0mrmses_xgb\u001b[0m\u001b[0;34m)\u001b[0m\u001b[0;34m/\u001b[0m\u001b[0mlen\u001b[0m\u001b[0;34m(\u001b[0m\u001b[0mrmses_xgb\u001b[0m\u001b[0;34m)\u001b[0m\u001b[0;34m\u001b[0m\u001b[0;34m\u001b[0m\u001b[0m\n\u001b[0m",
      "\u001b[0;31mZeroDivisionError\u001b[0m: division by zero"
     ]
    }
   ],
   "source": [
    "sum(rmses_xgb)/len(rmses_xgb)"
   ]
  },
  {
   "cell_type": "markdown",
   "metadata": {},
   "source": [
    "#### 結果をCSVファイルとして書き出す"
   ]
  },
  {
   "cell_type": "markdown",
   "metadata": {},
   "source": [
    "リスト4.89　テストデータでの予測値を算出"
   ]
  },
  {
   "cell_type": "code",
   "execution_count": 92,
   "metadata": {},
   "outputs": [
    {
     "ename": "NameError",
     "evalue": "name 'xgb' is not defined",
     "output_type": "error",
     "traceback": [
      "\u001b[0;31m---------------------------------------------------------------------------\u001b[0m",
      "\u001b[0;31mNameError\u001b[0m                                 Traceback (most recent call last)",
      "\u001b[0;32m<ipython-input-92-1b3a28df5482>\u001b[0m in \u001b[0;36m<module>\u001b[0;34m\u001b[0m\n\u001b[0;32m----> 1\u001b[0;31m \u001b[0mxgb_test\u001b[0m \u001b[0;34m=\u001b[0m \u001b[0mxgb\u001b[0m\u001b[0;34m.\u001b[0m\u001b[0mDMatrix\u001b[0m\u001b[0;34m(\u001b[0m\u001b[0mtest_X\u001b[0m\u001b[0;34m)\u001b[0m\u001b[0;34m\u001b[0m\u001b[0;34m\u001b[0m\u001b[0m\n\u001b[0m",
      "\u001b[0;31mNameError\u001b[0m: name 'xgb' is not defined"
     ]
    }
   ],
   "source": [
    "xgb_test = xgb.DMatrix(test_X)"
   ]
  },
  {
   "cell_type": "code",
   "execution_count": 123,
   "metadata": {},
   "outputs": [],
   "source": [
    "preds_xgb = []\n",
    "for model in models_xgb:\n",
    "    pred = model.predict(xgb_test)\n",
    "    preds_xgb.append(pred)"
   ]
  },
  {
   "cell_type": "code",
   "execution_count": 124,
   "metadata": {},
   "outputs": [],
   "source": [
    "preds_array_xgb= np.array(preds_xgb)\n",
    "preds_mean_xgb = np.mean(preds_array_xgb, axis=0)\n",
    "preds_exp_xgb = np.exp(preds_mean_xgb)\n",
    "submission[\"SalePrice\"] = preds_exp_xgb"
   ]
  },
  {
   "cell_type": "markdown",
   "metadata": {},
   "source": [
    "リスト4.91　CSVファイルの書き出し（Kaggleの場合）"
   ]
  },
  {
   "cell_type": "code",
   "execution_count": 125,
   "metadata": {},
   "outputs": [],
   "source": [
    "submission.to_csv(\"houseprices_submit03.csv\",index=False)"
   ]
  },
  {
   "cell_type": "markdown",
   "metadata": {},
   "source": [
    "### XGBoostとLightGBMの結果を組み合わせる"
   ]
  },
  {
   "cell_type": "markdown",
   "metadata": {},
   "source": [
    "#### XGBoostの予測結果とLightGBMの予測結果の平均をとる"
   ]
  },
  {
   "cell_type": "markdown",
   "metadata": {},
   "source": [
    "リスト4.92　XgBoostの予測結果とLightGBMの予測結果の平均をとる"
   ]
  },
  {
   "cell_type": "code",
   "execution_count": 126,
   "metadata": {},
   "outputs": [],
   "source": [
    "preds_ans = preds_exp_xgb * 0.5 + preds_exp * 0.5"
   ]
  },
  {
   "cell_type": "code",
   "execution_count": 127,
   "metadata": {},
   "outputs": [],
   "source": [
    "submission[\"SalePrice\"] = preds_ans"
   ]
  },
  {
   "cell_type": "markdown",
   "metadata": {},
   "source": [
    "リスト4.94　予測結果をCSVファイルとして書き出す（Kaggleの場合）"
   ]
  },
  {
   "cell_type": "code",
   "execution_count": 128,
   "metadata": {},
   "outputs": [],
   "source": [
    "submission.to_csv(\"houseprices_submit04.csv\",index=False)"
   ]
  },
  {
   "cell_type": "markdown",
   "metadata": {},
   "source": [
    "## 4.11　追加分析①統計手法による家のクラスタ分析を行う"
   ]
  },
  {
   "cell_type": "markdown",
   "metadata": {},
   "source": [
    "### 統計手法を用いて家を分類する"
   ]
  },
  {
   "cell_type": "markdown",
   "metadata": {},
   "source": [
    "#### 欠損値のある行を削除する"
   ]
  },
  {
   "cell_type": "markdown",
   "metadata": {},
   "source": [
    "リスト4.95　欠損値がある行を削除する"
   ]
  },
  {
   "cell_type": "code",
   "execution_count": 129,
   "metadata": {},
   "outputs": [],
   "source": [
    "train_df_le_dn = train_df_le.dropna()"
   ]
  },
  {
   "cell_type": "code",
   "execution_count": 130,
   "metadata": {},
   "outputs": [
    {
     "data": {
      "text/html": [
       "<div>\n",
       "<style scoped>\n",
       "    .dataframe tbody tr th:only-of-type {\n",
       "        vertical-align: middle;\n",
       "    }\n",
       "\n",
       "    .dataframe tbody tr th {\n",
       "        vertical-align: top;\n",
       "    }\n",
       "\n",
       "    .dataframe thead th {\n",
       "        text-align: right;\n",
       "    }\n",
       "</style>\n",
       "<table border=\"1\" class=\"dataframe\">\n",
       "  <thead>\n",
       "    <tr style=\"text-align: right;\">\n",
       "      <th></th>\n",
       "      <th>Id</th>\n",
       "      <th>MSSubClass</th>\n",
       "      <th>MSZoning</th>\n",
       "      <th>LotFrontage</th>\n",
       "      <th>LotArea</th>\n",
       "      <th>Street</th>\n",
       "      <th>LotShape</th>\n",
       "      <th>LandContour</th>\n",
       "      <th>Utilities</th>\n",
       "      <th>LotConfig</th>\n",
       "      <th>...</th>\n",
       "      <th>YrSold</th>\n",
       "      <th>SaleType</th>\n",
       "      <th>SaleCondition</th>\n",
       "      <th>SalePrice</th>\n",
       "      <th>hasHighFacility</th>\n",
       "      <th>Age</th>\n",
       "      <th>TotalSF</th>\n",
       "      <th>Total_Bathrooms</th>\n",
       "      <th>hasPorch</th>\n",
       "      <th>SalePrice_log</th>\n",
       "    </tr>\n",
       "  </thead>\n",
       "  <tbody>\n",
       "    <tr>\n",
       "      <th>0</th>\n",
       "      <td>1</td>\n",
       "      <td>60</td>\n",
       "      <td>3</td>\n",
       "      <td>65.0</td>\n",
       "      <td>8450</td>\n",
       "      <td>1</td>\n",
       "      <td>3</td>\n",
       "      <td>3</td>\n",
       "      <td>0</td>\n",
       "      <td>4</td>\n",
       "      <td>...</td>\n",
       "      <td>2008</td>\n",
       "      <td>8</td>\n",
       "      <td>4</td>\n",
       "      <td>208500.0</td>\n",
       "      <td>0</td>\n",
       "      <td>5</td>\n",
       "      <td>2566.0</td>\n",
       "      <td>4.0</td>\n",
       "      <td>1</td>\n",
       "      <td>12.247694</td>\n",
       "    </tr>\n",
       "    <tr>\n",
       "      <th>1</th>\n",
       "      <td>2</td>\n",
       "      <td>20</td>\n",
       "      <td>3</td>\n",
       "      <td>80.0</td>\n",
       "      <td>9600</td>\n",
       "      <td>1</td>\n",
       "      <td>3</td>\n",
       "      <td>3</td>\n",
       "      <td>0</td>\n",
       "      <td>2</td>\n",
       "      <td>...</td>\n",
       "      <td>2007</td>\n",
       "      <td>8</td>\n",
       "      <td>4</td>\n",
       "      <td>181500.0</td>\n",
       "      <td>0</td>\n",
       "      <td>31</td>\n",
       "      <td>2524.0</td>\n",
       "      <td>3.0</td>\n",
       "      <td>1</td>\n",
       "      <td>12.109011</td>\n",
       "    </tr>\n",
       "    <tr>\n",
       "      <th>2</th>\n",
       "      <td>3</td>\n",
       "      <td>60</td>\n",
       "      <td>3</td>\n",
       "      <td>68.0</td>\n",
       "      <td>11250</td>\n",
       "      <td>1</td>\n",
       "      <td>0</td>\n",
       "      <td>3</td>\n",
       "      <td>0</td>\n",
       "      <td>4</td>\n",
       "      <td>...</td>\n",
       "      <td>2008</td>\n",
       "      <td>8</td>\n",
       "      <td>4</td>\n",
       "      <td>223500.0</td>\n",
       "      <td>0</td>\n",
       "      <td>7</td>\n",
       "      <td>2706.0</td>\n",
       "      <td>4.0</td>\n",
       "      <td>1</td>\n",
       "      <td>12.317167</td>\n",
       "    </tr>\n",
       "    <tr>\n",
       "      <th>3</th>\n",
       "      <td>4</td>\n",
       "      <td>70</td>\n",
       "      <td>3</td>\n",
       "      <td>60.0</td>\n",
       "      <td>9550</td>\n",
       "      <td>1</td>\n",
       "      <td>0</td>\n",
       "      <td>3</td>\n",
       "      <td>0</td>\n",
       "      <td>0</td>\n",
       "      <td>...</td>\n",
       "      <td>2006</td>\n",
       "      <td>8</td>\n",
       "      <td>0</td>\n",
       "      <td>140000.0</td>\n",
       "      <td>0</td>\n",
       "      <td>91</td>\n",
       "      <td>2473.0</td>\n",
       "      <td>2.0</td>\n",
       "      <td>1</td>\n",
       "      <td>11.849398</td>\n",
       "    </tr>\n",
       "    <tr>\n",
       "      <th>4</th>\n",
       "      <td>5</td>\n",
       "      <td>60</td>\n",
       "      <td>3</td>\n",
       "      <td>84.0</td>\n",
       "      <td>14260</td>\n",
       "      <td>1</td>\n",
       "      <td>0</td>\n",
       "      <td>3</td>\n",
       "      <td>0</td>\n",
       "      <td>2</td>\n",
       "      <td>...</td>\n",
       "      <td>2008</td>\n",
       "      <td>8</td>\n",
       "      <td>4</td>\n",
       "      <td>250000.0</td>\n",
       "      <td>0</td>\n",
       "      <td>8</td>\n",
       "      <td>3343.0</td>\n",
       "      <td>4.0</td>\n",
       "      <td>1</td>\n",
       "      <td>12.429216</td>\n",
       "    </tr>\n",
       "    <tr>\n",
       "      <th>...</th>\n",
       "      <td>...</td>\n",
       "      <td>...</td>\n",
       "      <td>...</td>\n",
       "      <td>...</td>\n",
       "      <td>...</td>\n",
       "      <td>...</td>\n",
       "      <td>...</td>\n",
       "      <td>...</td>\n",
       "      <td>...</td>\n",
       "      <td>...</td>\n",
       "      <td>...</td>\n",
       "      <td>...</td>\n",
       "      <td>...</td>\n",
       "      <td>...</td>\n",
       "      <td>...</td>\n",
       "      <td>...</td>\n",
       "      <td>...</td>\n",
       "      <td>...</td>\n",
       "      <td>...</td>\n",
       "      <td>...</td>\n",
       "      <td>...</td>\n",
       "    </tr>\n",
       "    <tr>\n",
       "      <th>1455</th>\n",
       "      <td>1456</td>\n",
       "      <td>60</td>\n",
       "      <td>3</td>\n",
       "      <td>62.0</td>\n",
       "      <td>7917</td>\n",
       "      <td>1</td>\n",
       "      <td>3</td>\n",
       "      <td>3</td>\n",
       "      <td>0</td>\n",
       "      <td>4</td>\n",
       "      <td>...</td>\n",
       "      <td>2007</td>\n",
       "      <td>8</td>\n",
       "      <td>4</td>\n",
       "      <td>175000.0</td>\n",
       "      <td>0</td>\n",
       "      <td>8</td>\n",
       "      <td>2600.0</td>\n",
       "      <td>3.0</td>\n",
       "      <td>1</td>\n",
       "      <td>12.072541</td>\n",
       "    </tr>\n",
       "    <tr>\n",
       "      <th>1456</th>\n",
       "      <td>1457</td>\n",
       "      <td>20</td>\n",
       "      <td>3</td>\n",
       "      <td>85.0</td>\n",
       "      <td>13175</td>\n",
       "      <td>1</td>\n",
       "      <td>3</td>\n",
       "      <td>3</td>\n",
       "      <td>0</td>\n",
       "      <td>4</td>\n",
       "      <td>...</td>\n",
       "      <td>2010</td>\n",
       "      <td>8</td>\n",
       "      <td>4</td>\n",
       "      <td>210000.0</td>\n",
       "      <td>0</td>\n",
       "      <td>32</td>\n",
       "      <td>3615.0</td>\n",
       "      <td>3.0</td>\n",
       "      <td>1</td>\n",
       "      <td>12.254863</td>\n",
       "    </tr>\n",
       "    <tr>\n",
       "      <th>1457</th>\n",
       "      <td>1458</td>\n",
       "      <td>70</td>\n",
       "      <td>3</td>\n",
       "      <td>66.0</td>\n",
       "      <td>9042</td>\n",
       "      <td>1</td>\n",
       "      <td>3</td>\n",
       "      <td>3</td>\n",
       "      <td>0</td>\n",
       "      <td>4</td>\n",
       "      <td>...</td>\n",
       "      <td>2010</td>\n",
       "      <td>8</td>\n",
       "      <td>4</td>\n",
       "      <td>266500.0</td>\n",
       "      <td>1</td>\n",
       "      <td>69</td>\n",
       "      <td>3492.0</td>\n",
       "      <td>2.0</td>\n",
       "      <td>1</td>\n",
       "      <td>12.493130</td>\n",
       "    </tr>\n",
       "    <tr>\n",
       "      <th>1458</th>\n",
       "      <td>1459</td>\n",
       "      <td>20</td>\n",
       "      <td>3</td>\n",
       "      <td>68.0</td>\n",
       "      <td>9717</td>\n",
       "      <td>1</td>\n",
       "      <td>3</td>\n",
       "      <td>3</td>\n",
       "      <td>0</td>\n",
       "      <td>4</td>\n",
       "      <td>...</td>\n",
       "      <td>2010</td>\n",
       "      <td>8</td>\n",
       "      <td>4</td>\n",
       "      <td>142125.0</td>\n",
       "      <td>0</td>\n",
       "      <td>60</td>\n",
       "      <td>2156.0</td>\n",
       "      <td>2.0</td>\n",
       "      <td>1</td>\n",
       "      <td>11.864462</td>\n",
       "    </tr>\n",
       "    <tr>\n",
       "      <th>1459</th>\n",
       "      <td>1460</td>\n",
       "      <td>20</td>\n",
       "      <td>3</td>\n",
       "      <td>75.0</td>\n",
       "      <td>9937</td>\n",
       "      <td>1</td>\n",
       "      <td>3</td>\n",
       "      <td>3</td>\n",
       "      <td>0</td>\n",
       "      <td>4</td>\n",
       "      <td>...</td>\n",
       "      <td>2008</td>\n",
       "      <td>8</td>\n",
       "      <td>4</td>\n",
       "      <td>147500.0</td>\n",
       "      <td>0</td>\n",
       "      <td>43</td>\n",
       "      <td>2512.0</td>\n",
       "      <td>3.0</td>\n",
       "      <td>1</td>\n",
       "      <td>11.901583</td>\n",
       "    </tr>\n",
       "  </tbody>\n",
       "</table>\n",
       "<p>1445 rows × 84 columns</p>\n",
       "</div>"
      ],
      "text/plain": [
       "        Id  MSSubClass MSZoning  LotFrontage  LotArea Street LotShape  \\\n",
       "0        1          60        3         65.0     8450      1        3   \n",
       "1        2          20        3         80.0     9600      1        3   \n",
       "2        3          60        3         68.0    11250      1        0   \n",
       "3        4          70        3         60.0     9550      1        0   \n",
       "4        5          60        3         84.0    14260      1        0   \n",
       "...    ...         ...      ...          ...      ...    ...      ...   \n",
       "1455  1456          60        3         62.0     7917      1        3   \n",
       "1456  1457          20        3         85.0    13175      1        3   \n",
       "1457  1458          70        3         66.0     9042      1        3   \n",
       "1458  1459          20        3         68.0     9717      1        3   \n",
       "1459  1460          20        3         75.0     9937      1        3   \n",
       "\n",
       "     LandContour Utilities LotConfig  ... YrSold SaleType SaleCondition  \\\n",
       "0              3         0         4  ...   2008        8             4   \n",
       "1              3         0         2  ...   2007        8             4   \n",
       "2              3         0         4  ...   2008        8             4   \n",
       "3              3         0         0  ...   2006        8             0   \n",
       "4              3         0         2  ...   2008        8             4   \n",
       "...          ...       ...       ...  ...    ...      ...           ...   \n",
       "1455           3         0         4  ...   2007        8             4   \n",
       "1456           3         0         4  ...   2010        8             4   \n",
       "1457           3         0         4  ...   2010        8             4   \n",
       "1458           3         0         4  ...   2010        8             4   \n",
       "1459           3         0         4  ...   2008        8             4   \n",
       "\n",
       "     SalePrice hasHighFacility Age  TotalSF  Total_Bathrooms  hasPorch  \\\n",
       "0     208500.0               0   5   2566.0              4.0         1   \n",
       "1     181500.0               0  31   2524.0              3.0         1   \n",
       "2     223500.0               0   7   2706.0              4.0         1   \n",
       "3     140000.0               0  91   2473.0              2.0         1   \n",
       "4     250000.0               0   8   3343.0              4.0         1   \n",
       "...        ...             ...  ..      ...              ...       ...   \n",
       "1455  175000.0               0   8   2600.0              3.0         1   \n",
       "1456  210000.0               0  32   3615.0              3.0         1   \n",
       "1457  266500.0               1  69   3492.0              2.0         1   \n",
       "1458  142125.0               0  60   2156.0              2.0         1   \n",
       "1459  147500.0               0  43   2512.0              3.0         1   \n",
       "\n",
       "      SalePrice_log  \n",
       "0         12.247694  \n",
       "1         12.109011  \n",
       "2         12.317167  \n",
       "3         11.849398  \n",
       "4         12.429216  \n",
       "...             ...  \n",
       "1455      12.072541  \n",
       "1456      12.254863  \n",
       "1457      12.493130  \n",
       "1458      11.864462  \n",
       "1459      11.901583  \n",
       "\n",
       "[1445 rows x 84 columns]"
      ]
     },
     "execution_count": 130,
     "metadata": {},
     "output_type": "execute_result"
    }
   ],
   "source": [
    "train_df_le_dn"
   ]
  },
  {
   "cell_type": "markdown",
   "metadata": {},
   "source": [
    "#### データの正規化を行う"
   ]
  },
  {
   "cell_type": "markdown",
   "metadata": {},
   "source": [
    "リスト4.96　データの正規化"
   ]
  },
  {
   "cell_type": "code",
   "execution_count": 131,
   "metadata": {},
   "outputs": [],
   "source": [
    "from sklearn import preprocessing"
   ]
  },
  {
   "cell_type": "code",
   "execution_count": 132,
   "metadata": {},
   "outputs": [],
   "source": [
    "train_scaled = preprocessing.scale(train_df_le_dn.drop([\"Id\"],axis=1))"
   ]
  },
  {
   "cell_type": "code",
   "execution_count": 133,
   "metadata": {},
   "outputs": [
    {
     "data": {
      "text/plain": [
       "array([[ 0.06961655, -0.04576815, -0.20634574, ...,  1.73609279,\n",
       "         0.45960003,  0.58679504],\n",
       "       [-0.87716853, -0.04576815,  0.51294406, ...,  0.64013207,\n",
       "         0.45960003,  0.2338818 ],\n",
       "       [ 0.06961655, -0.04576815, -0.06248778, ...,  1.73609279,\n",
       "         0.45960003,  0.7635842 ],\n",
       "       ...,\n",
       "       [ 0.30631282, -0.04576815, -0.15839309, ..., -0.45582865,\n",
       "         0.45960003,  1.21136395],\n",
       "       [-0.87716853, -0.04576815, -0.06248778, ..., -0.45582865,\n",
       "         0.45960003, -0.38843119],\n",
       "       [-0.87716853, -0.04576815,  0.27318079, ...,  0.64013207,\n",
       "         0.45960003, -0.29396731]])"
      ]
     },
     "execution_count": 133,
     "metadata": {},
     "output_type": "execute_result"
    }
   ],
   "source": [
    "train_scaled"
   ]
  },
  {
   "cell_type": "markdown",
   "metadata": {},
   "source": [
    "#### np.array形式をDataFrame形式に戻す"
   ]
  },
  {
   "cell_type": "markdown",
   "metadata": {},
   "source": [
    "リスト4.97　np.array形式をDataFrame形式に戻す処理"
   ]
  },
  {
   "cell_type": "code",
   "execution_count": 134,
   "metadata": {},
   "outputs": [],
   "source": [
    "train_scaled_df = pd.DataFrame(train_scaled)\n",
    "train_scaled_df.columns = train_df_le_dn.drop([\"Id\"],axis=1).columns"
   ]
  },
  {
   "cell_type": "code",
   "execution_count": 135,
   "metadata": {},
   "outputs": [
    {
     "data": {
      "text/html": [
       "<div>\n",
       "<style scoped>\n",
       "    .dataframe tbody tr th:only-of-type {\n",
       "        vertical-align: middle;\n",
       "    }\n",
       "\n",
       "    .dataframe tbody tr th {\n",
       "        vertical-align: top;\n",
       "    }\n",
       "\n",
       "    .dataframe thead th {\n",
       "        text-align: right;\n",
       "    }\n",
       "</style>\n",
       "<table border=\"1\" class=\"dataframe\">\n",
       "  <thead>\n",
       "    <tr style=\"text-align: right;\">\n",
       "      <th></th>\n",
       "      <th>MSSubClass</th>\n",
       "      <th>MSZoning</th>\n",
       "      <th>LotFrontage</th>\n",
       "      <th>LotArea</th>\n",
       "      <th>Street</th>\n",
       "      <th>LotShape</th>\n",
       "      <th>LandContour</th>\n",
       "      <th>Utilities</th>\n",
       "      <th>LotConfig</th>\n",
       "      <th>LandSlope</th>\n",
       "      <th>...</th>\n",
       "      <th>YrSold</th>\n",
       "      <th>SaleType</th>\n",
       "      <th>SaleCondition</th>\n",
       "      <th>SalePrice</th>\n",
       "      <th>hasHighFacility</th>\n",
       "      <th>Age</th>\n",
       "      <th>TotalSF</th>\n",
       "      <th>Total_Bathrooms</th>\n",
       "      <th>hasPorch</th>\n",
       "      <th>SalePrice_log</th>\n",
       "    </tr>\n",
       "  </thead>\n",
       "  <tbody>\n",
       "    <tr>\n",
       "      <th>0</th>\n",
       "      <td>0.069617</td>\n",
       "      <td>-0.045768</td>\n",
       "      <td>-0.206346</td>\n",
       "      <td>-0.288764</td>\n",
       "      <td>0.058926</td>\n",
       "      <td>0.744525</td>\n",
       "      <td>0.310054</td>\n",
       "      <td>-0.026316</td>\n",
       "      <td>0.601627</td>\n",
       "      <td>-0.222579</td>\n",
       "      <td>...</td>\n",
       "      <td>0.139388</td>\n",
       "      <td>0.312223</td>\n",
       "      <td>0.207359</td>\n",
       "      <td>0.387825</td>\n",
       "      <td>-0.325762</td>\n",
       "      <td>-1.046470</td>\n",
       "      <td>0.038930</td>\n",
       "      <td>1.736093</td>\n",
       "      <td>0.4596</td>\n",
       "      <td>0.586795</td>\n",
       "    </tr>\n",
       "    <tr>\n",
       "      <th>1</th>\n",
       "      <td>-0.877169</td>\n",
       "      <td>-0.045768</td>\n",
       "      <td>0.512944</td>\n",
       "      <td>-0.075476</td>\n",
       "      <td>0.058926</td>\n",
       "      <td>0.744525</td>\n",
       "      <td>0.310054</td>\n",
       "      <td>-0.026316</td>\n",
       "      <td>-0.634124</td>\n",
       "      <td>-0.222579</td>\n",
       "      <td>...</td>\n",
       "      <td>-0.612163</td>\n",
       "      <td>0.312223</td>\n",
       "      <td>0.207359</td>\n",
       "      <td>0.031995</td>\n",
       "      <td>-0.325762</td>\n",
       "      <td>-0.188288</td>\n",
       "      <td>-0.017716</td>\n",
       "      <td>0.640132</td>\n",
       "      <td>0.4596</td>\n",
       "      <td>0.233882</td>\n",
       "    </tr>\n",
       "    <tr>\n",
       "      <th>2</th>\n",
       "      <td>0.069617</td>\n",
       "      <td>-0.045768</td>\n",
       "      <td>-0.062488</td>\n",
       "      <td>0.230544</td>\n",
       "      <td>0.058926</td>\n",
       "      <td>-1.387256</td>\n",
       "      <td>0.310054</td>\n",
       "      <td>-0.026316</td>\n",
       "      <td>0.601627</td>\n",
       "      <td>-0.222579</td>\n",
       "      <td>...</td>\n",
       "      <td>0.139388</td>\n",
       "      <td>0.312223</td>\n",
       "      <td>0.207359</td>\n",
       "      <td>0.585509</td>\n",
       "      <td>-0.325762</td>\n",
       "      <td>-0.980456</td>\n",
       "      <td>0.227753</td>\n",
       "      <td>1.736093</td>\n",
       "      <td>0.4596</td>\n",
       "      <td>0.763584</td>\n",
       "    </tr>\n",
       "    <tr>\n",
       "      <th>3</th>\n",
       "      <td>0.306313</td>\n",
       "      <td>-0.045768</td>\n",
       "      <td>-0.446109</td>\n",
       "      <td>-0.084750</td>\n",
       "      <td>0.058926</td>\n",
       "      <td>-1.387256</td>\n",
       "      <td>0.310054</td>\n",
       "      <td>-0.026316</td>\n",
       "      <td>-1.869875</td>\n",
       "      <td>-0.222579</td>\n",
       "      <td>...</td>\n",
       "      <td>-1.363715</td>\n",
       "      <td>0.312223</td>\n",
       "      <td>-3.446710</td>\n",
       "      <td>-0.514930</td>\n",
       "      <td>-0.325762</td>\n",
       "      <td>1.792130</td>\n",
       "      <td>-0.086502</td>\n",
       "      <td>-0.455829</td>\n",
       "      <td>0.4596</td>\n",
       "      <td>-0.426767</td>\n",
       "    </tr>\n",
       "    <tr>\n",
       "      <th>4</th>\n",
       "      <td>0.069617</td>\n",
       "      <td>-0.045768</td>\n",
       "      <td>0.704755</td>\n",
       "      <td>0.788800</td>\n",
       "      <td>0.058926</td>\n",
       "      <td>-1.387256</td>\n",
       "      <td>0.310054</td>\n",
       "      <td>-0.026316</td>\n",
       "      <td>-0.634124</td>\n",
       "      <td>-0.222579</td>\n",
       "      <td>...</td>\n",
       "      <td>0.139388</td>\n",
       "      <td>0.312223</td>\n",
       "      <td>0.207359</td>\n",
       "      <td>0.934750</td>\n",
       "      <td>-0.325762</td>\n",
       "      <td>-0.947449</td>\n",
       "      <td>1.086897</td>\n",
       "      <td>1.736093</td>\n",
       "      <td>0.4596</td>\n",
       "      <td>1.048721</td>\n",
       "    </tr>\n",
       "    <tr>\n",
       "      <th>...</th>\n",
       "      <td>...</td>\n",
       "      <td>...</td>\n",
       "      <td>...</td>\n",
       "      <td>...</td>\n",
       "      <td>...</td>\n",
       "      <td>...</td>\n",
       "      <td>...</td>\n",
       "      <td>...</td>\n",
       "      <td>...</td>\n",
       "      <td>...</td>\n",
       "      <td>...</td>\n",
       "      <td>...</td>\n",
       "      <td>...</td>\n",
       "      <td>...</td>\n",
       "      <td>...</td>\n",
       "      <td>...</td>\n",
       "      <td>...</td>\n",
       "      <td>...</td>\n",
       "      <td>...</td>\n",
       "      <td>...</td>\n",
       "      <td>...</td>\n",
       "    </tr>\n",
       "    <tr>\n",
       "      <th>1440</th>\n",
       "      <td>0.069617</td>\n",
       "      <td>-0.045768</td>\n",
       "      <td>-0.350204</td>\n",
       "      <td>-0.387617</td>\n",
       "      <td>0.058926</td>\n",
       "      <td>0.744525</td>\n",
       "      <td>0.310054</td>\n",
       "      <td>-0.026316</td>\n",
       "      <td>0.601627</td>\n",
       "      <td>-0.222579</td>\n",
       "      <td>...</td>\n",
       "      <td>-0.612163</td>\n",
       "      <td>0.312223</td>\n",
       "      <td>0.207359</td>\n",
       "      <td>-0.053668</td>\n",
       "      <td>-0.325762</td>\n",
       "      <td>-0.947449</td>\n",
       "      <td>0.084787</td>\n",
       "      <td>0.640132</td>\n",
       "      <td>0.4596</td>\n",
       "      <td>0.141076</td>\n",
       "    </tr>\n",
       "    <tr>\n",
       "      <th>1441</th>\n",
       "      <td>-0.877169</td>\n",
       "      <td>-0.045768</td>\n",
       "      <td>0.752707</td>\n",
       "      <td>0.587568</td>\n",
       "      <td>0.058926</td>\n",
       "      <td>0.744525</td>\n",
       "      <td>0.310054</td>\n",
       "      <td>-0.026316</td>\n",
       "      <td>0.601627</td>\n",
       "      <td>-0.222579</td>\n",
       "      <td>...</td>\n",
       "      <td>1.642491</td>\n",
       "      <td>0.312223</td>\n",
       "      <td>0.207359</td>\n",
       "      <td>0.407594</td>\n",
       "      <td>-0.325762</td>\n",
       "      <td>-0.155281</td>\n",
       "      <td>1.453753</td>\n",
       "      <td>0.640132</td>\n",
       "      <td>0.4596</td>\n",
       "      <td>0.605037</td>\n",
       "    </tr>\n",
       "    <tr>\n",
       "      <th>1442</th>\n",
       "      <td>0.306313</td>\n",
       "      <td>-0.045768</td>\n",
       "      <td>-0.158393</td>\n",
       "      <td>-0.178967</td>\n",
       "      <td>0.058926</td>\n",
       "      <td>0.744525</td>\n",
       "      <td>0.310054</td>\n",
       "      <td>-0.026316</td>\n",
       "      <td>0.601627</td>\n",
       "      <td>-0.222579</td>\n",
       "      <td>...</td>\n",
       "      <td>1.642491</td>\n",
       "      <td>0.312223</td>\n",
       "      <td>0.207359</td>\n",
       "      <td>1.152202</td>\n",
       "      <td>2.854821</td>\n",
       "      <td>1.065977</td>\n",
       "      <td>1.287858</td>\n",
       "      <td>-0.455829</td>\n",
       "      <td>0.4596</td>\n",
       "      <td>1.211364</td>\n",
       "    </tr>\n",
       "    <tr>\n",
       "      <th>1443</th>\n",
       "      <td>-0.877169</td>\n",
       "      <td>-0.045768</td>\n",
       "      <td>-0.062488</td>\n",
       "      <td>-0.053777</td>\n",
       "      <td>0.058926</td>\n",
       "      <td>0.744525</td>\n",
       "      <td>0.310054</td>\n",
       "      <td>-0.026316</td>\n",
       "      <td>0.601627</td>\n",
       "      <td>-0.222579</td>\n",
       "      <td>...</td>\n",
       "      <td>1.642491</td>\n",
       "      <td>0.312223</td>\n",
       "      <td>0.207359</td>\n",
       "      <td>-0.486925</td>\n",
       "      <td>-0.325762</td>\n",
       "      <td>0.768914</td>\n",
       "      <td>-0.514051</td>\n",
       "      <td>-0.455829</td>\n",
       "      <td>0.4596</td>\n",
       "      <td>-0.388431</td>\n",
       "    </tr>\n",
       "    <tr>\n",
       "      <th>1444</th>\n",
       "      <td>-0.877169</td>\n",
       "      <td>-0.045768</td>\n",
       "      <td>0.273181</td>\n",
       "      <td>-0.012974</td>\n",
       "      <td>0.058926</td>\n",
       "      <td>0.744525</td>\n",
       "      <td>0.310054</td>\n",
       "      <td>-0.026316</td>\n",
       "      <td>0.601627</td>\n",
       "      <td>-0.222579</td>\n",
       "      <td>...</td>\n",
       "      <td>0.139388</td>\n",
       "      <td>0.312223</td>\n",
       "      <td>0.207359</td>\n",
       "      <td>-0.416089</td>\n",
       "      <td>-0.325762</td>\n",
       "      <td>0.207795</td>\n",
       "      <td>-0.033901</td>\n",
       "      <td>0.640132</td>\n",
       "      <td>0.4596</td>\n",
       "      <td>-0.293967</td>\n",
       "    </tr>\n",
       "  </tbody>\n",
       "</table>\n",
       "<p>1445 rows × 83 columns</p>\n",
       "</div>"
      ],
      "text/plain": [
       "      MSSubClass  MSZoning  LotFrontage   LotArea    Street  LotShape  \\\n",
       "0       0.069617 -0.045768    -0.206346 -0.288764  0.058926  0.744525   \n",
       "1      -0.877169 -0.045768     0.512944 -0.075476  0.058926  0.744525   \n",
       "2       0.069617 -0.045768    -0.062488  0.230544  0.058926 -1.387256   \n",
       "3       0.306313 -0.045768    -0.446109 -0.084750  0.058926 -1.387256   \n",
       "4       0.069617 -0.045768     0.704755  0.788800  0.058926 -1.387256   \n",
       "...          ...       ...          ...       ...       ...       ...   \n",
       "1440    0.069617 -0.045768    -0.350204 -0.387617  0.058926  0.744525   \n",
       "1441   -0.877169 -0.045768     0.752707  0.587568  0.058926  0.744525   \n",
       "1442    0.306313 -0.045768    -0.158393 -0.178967  0.058926  0.744525   \n",
       "1443   -0.877169 -0.045768    -0.062488 -0.053777  0.058926  0.744525   \n",
       "1444   -0.877169 -0.045768     0.273181 -0.012974  0.058926  0.744525   \n",
       "\n",
       "      LandContour  Utilities  LotConfig  LandSlope  ...    YrSold  SaleType  \\\n",
       "0        0.310054  -0.026316   0.601627  -0.222579  ...  0.139388  0.312223   \n",
       "1        0.310054  -0.026316  -0.634124  -0.222579  ... -0.612163  0.312223   \n",
       "2        0.310054  -0.026316   0.601627  -0.222579  ...  0.139388  0.312223   \n",
       "3        0.310054  -0.026316  -1.869875  -0.222579  ... -1.363715  0.312223   \n",
       "4        0.310054  -0.026316  -0.634124  -0.222579  ...  0.139388  0.312223   \n",
       "...           ...        ...        ...        ...  ...       ...       ...   \n",
       "1440     0.310054  -0.026316   0.601627  -0.222579  ... -0.612163  0.312223   \n",
       "1441     0.310054  -0.026316   0.601627  -0.222579  ...  1.642491  0.312223   \n",
       "1442     0.310054  -0.026316   0.601627  -0.222579  ...  1.642491  0.312223   \n",
       "1443     0.310054  -0.026316   0.601627  -0.222579  ...  1.642491  0.312223   \n",
       "1444     0.310054  -0.026316   0.601627  -0.222579  ...  0.139388  0.312223   \n",
       "\n",
       "      SaleCondition  SalePrice  hasHighFacility       Age   TotalSF  \\\n",
       "0          0.207359   0.387825        -0.325762 -1.046470  0.038930   \n",
       "1          0.207359   0.031995        -0.325762 -0.188288 -0.017716   \n",
       "2          0.207359   0.585509        -0.325762 -0.980456  0.227753   \n",
       "3         -3.446710  -0.514930        -0.325762  1.792130 -0.086502   \n",
       "4          0.207359   0.934750        -0.325762 -0.947449  1.086897   \n",
       "...             ...        ...              ...       ...       ...   \n",
       "1440       0.207359  -0.053668        -0.325762 -0.947449  0.084787   \n",
       "1441       0.207359   0.407594        -0.325762 -0.155281  1.453753   \n",
       "1442       0.207359   1.152202         2.854821  1.065977  1.287858   \n",
       "1443       0.207359  -0.486925        -0.325762  0.768914 -0.514051   \n",
       "1444       0.207359  -0.416089        -0.325762  0.207795 -0.033901   \n",
       "\n",
       "      Total_Bathrooms  hasPorch  SalePrice_log  \n",
       "0            1.736093    0.4596       0.586795  \n",
       "1            0.640132    0.4596       0.233882  \n",
       "2            1.736093    0.4596       0.763584  \n",
       "3           -0.455829    0.4596      -0.426767  \n",
       "4            1.736093    0.4596       1.048721  \n",
       "...               ...       ...            ...  \n",
       "1440         0.640132    0.4596       0.141076  \n",
       "1441         0.640132    0.4596       0.605037  \n",
       "1442        -0.455829    0.4596       1.211364  \n",
       "1443        -0.455829    0.4596      -0.388431  \n",
       "1444         0.640132    0.4596      -0.293967  \n",
       "\n",
       "[1445 rows x 83 columns]"
      ]
     },
     "execution_count": 135,
     "metadata": {},
     "output_type": "execute_result"
    }
   ],
   "source": [
    "train_scaled_df"
   ]
  },
  {
   "cell_type": "markdown",
   "metadata": {},
   "source": [
    "#### k-meansによるクラスタ分析 "
   ]
  },
  {
   "cell_type": "markdown",
   "metadata": {},
   "source": [
    "#### k-means用のライブラリをインポートする"
   ]
  },
  {
   "cell_type": "markdown",
   "metadata": {},
   "source": [
    "リスト4.98　k-means用のライブラリのインポート"
   ]
  },
  {
   "cell_type": "code",
   "execution_count": 136,
   "metadata": {},
   "outputs": [],
   "source": [
    "from sklearn.cluster import KMeans"
   ]
  },
  {
   "cell_type": "markdown",
   "metadata": {},
   "source": [
    "リスト4.99　ランダムシードを設定"
   ]
  },
  {
   "cell_type": "code",
   "execution_count": 137,
   "metadata": {},
   "outputs": [],
   "source": [
    "np.random.seed(1234)"
   ]
  },
  {
   "cell_type": "markdown",
   "metadata": {},
   "source": [
    "リスト4.100　クラスタ数を指定して分類"
   ]
  },
  {
   "cell_type": "code",
   "execution_count": 138,
   "metadata": {},
   "outputs": [],
   "source": [
    "house_cluster = KMeans(n_clusters=4).fit_predict(train_scaled)"
   ]
  },
  {
   "cell_type": "markdown",
   "metadata": {},
   "source": [
    "#### もとのデータにクラスタ情報を付与する"
   ]
  },
  {
   "cell_type": "markdown",
   "metadata": {},
   "source": [
    "リスト4.101　家ごとのクラスタ情報を追加"
   ]
  },
  {
   "cell_type": "code",
   "execution_count": 139,
   "metadata": {},
   "outputs": [],
   "source": [
    "train_scaled_df[\"km_cluster\"] = house_cluster"
   ]
  },
  {
   "cell_type": "markdown",
   "metadata": {},
   "source": [
    "#### クラスタごとのデータ数を確認"
   ]
  },
  {
   "cell_type": "markdown",
   "metadata": {},
   "source": [
    "リスト4.102　クラスタごとのデータ数を確認"
   ]
  },
  {
   "cell_type": "code",
   "execution_count": 140,
   "metadata": {},
   "outputs": [
    {
     "data": {
      "text/plain": [
       "2    479\n",
       "0    382\n",
       "1    362\n",
       "3    222\n",
       "Name: km_cluster, dtype: int64"
      ]
     },
     "execution_count": 140,
     "metadata": {},
     "output_type": "execute_result"
    }
   ],
   "source": [
    "train_scaled_df[\"km_cluster\"].value_counts()"
   ]
  },
  {
   "cell_type": "markdown",
   "metadata": {},
   "source": [
    "#### クラスタごとの特徴を可視化する"
   ]
  },
  {
   "cell_type": "markdown",
   "metadata": {},
   "source": [
    "リスト4.103　クラスタごとの特徴を可視化"
   ]
  },
  {
   "cell_type": "code",
   "execution_count": 141,
   "metadata": {},
   "outputs": [],
   "source": [
    "cluster_mean = train_scaled_df[[\"km_cluster\",\"SalePrice\",\"TotalSF\",\"OverallQual\",\"Age\",\"Total_Bathrooms\",\"YearRemodAdd\",\"GarageArea\",\n",
    "                                \"MSZoning\",\"OverallCond\",\"KitchenQual\",\"FireplaceQu\"]].groupby(\"km_cluster\").mean().reset_index()"
   ]
  },
  {
   "cell_type": "markdown",
   "metadata": {},
   "source": [
    "リスト4.104　転置処理を施して可視化"
   ]
  },
  {
   "cell_type": "code",
   "execution_count": 142,
   "metadata": {},
   "outputs": [],
   "source": [
    "cluster_mean = cluster_mean.T"
   ]
  },
  {
   "cell_type": "code",
   "execution_count": 143,
   "metadata": {},
   "outputs": [
    {
     "data": {
      "text/html": [
       "<div>\n",
       "<style scoped>\n",
       "    .dataframe tbody tr th:only-of-type {\n",
       "        vertical-align: middle;\n",
       "    }\n",
       "\n",
       "    .dataframe tbody tr th {\n",
       "        vertical-align: top;\n",
       "    }\n",
       "\n",
       "    .dataframe thead th {\n",
       "        text-align: right;\n",
       "    }\n",
       "</style>\n",
       "<table border=\"1\" class=\"dataframe\">\n",
       "  <thead>\n",
       "    <tr style=\"text-align: right;\">\n",
       "      <th></th>\n",
       "      <th>0</th>\n",
       "      <th>1</th>\n",
       "      <th>2</th>\n",
       "      <th>3</th>\n",
       "    </tr>\n",
       "  </thead>\n",
       "  <tbody>\n",
       "    <tr>\n",
       "      <th>km_cluster</th>\n",
       "      <td>0.000000</td>\n",
       "      <td>1.000000</td>\n",
       "      <td>2.000000</td>\n",
       "      <td>3.000000</td>\n",
       "    </tr>\n",
       "    <tr>\n",
       "      <th>SalePrice</th>\n",
       "      <td>0.222880</td>\n",
       "      <td>-0.761508</td>\n",
       "      <td>-0.406044</td>\n",
       "      <td>1.734328</td>\n",
       "    </tr>\n",
       "    <tr>\n",
       "      <th>TotalSF</th>\n",
       "      <td>0.125920</td>\n",
       "      <td>-0.588086</td>\n",
       "      <td>-0.357916</td>\n",
       "      <td>1.514537</td>\n",
       "    </tr>\n",
       "    <tr>\n",
       "      <th>OverallQual</th>\n",
       "      <td>0.508859</td>\n",
       "      <td>-0.729747</td>\n",
       "      <td>-0.502748</td>\n",
       "      <td>1.399102</td>\n",
       "    </tr>\n",
       "    <tr>\n",
       "      <th>Age</th>\n",
       "      <td>-0.926538</td>\n",
       "      <td>1.256542</td>\n",
       "      <td>0.169207</td>\n",
       "      <td>-0.819732</td>\n",
       "    </tr>\n",
       "    <tr>\n",
       "      <th>Total_Bathrooms</th>\n",
       "      <td>0.582752</td>\n",
       "      <td>-0.819131</td>\n",
       "      <td>-0.252195</td>\n",
       "      <td>0.877097</td>\n",
       "    </tr>\n",
       "    <tr>\n",
       "      <th>YearRemodAdd</th>\n",
       "      <td>0.763323</td>\n",
       "      <td>-0.794432</td>\n",
       "      <td>-0.372478</td>\n",
       "      <td>0.785640</td>\n",
       "    </tr>\n",
       "    <tr>\n",
       "      <th>GarageArea</th>\n",
       "      <td>0.269526</td>\n",
       "      <td>-0.738410</td>\n",
       "      <td>-0.193211</td>\n",
       "      <td>1.157178</td>\n",
       "    </tr>\n",
       "    <tr>\n",
       "      <th>MSZoning</th>\n",
       "      <td>-0.392025</td>\n",
       "      <td>0.397916</td>\n",
       "      <td>0.079151</td>\n",
       "      <td>-0.145070</td>\n",
       "    </tr>\n",
       "    <tr>\n",
       "      <th>OverallCond</th>\n",
       "      <td>-0.395953</td>\n",
       "      <td>0.233206</td>\n",
       "      <td>0.260835</td>\n",
       "      <td>-0.261741</td>\n",
       "    </tr>\n",
       "    <tr>\n",
       "      <th>KitchenQual</th>\n",
       "      <td>-0.215618</td>\n",
       "      <td>0.328606</td>\n",
       "      <td>0.480437</td>\n",
       "      <td>-1.201435</td>\n",
       "    </tr>\n",
       "    <tr>\n",
       "      <th>FireplaceQu</th>\n",
       "      <td>0.122809</td>\n",
       "      <td>0.296435</td>\n",
       "      <td>0.127317</td>\n",
       "      <td>-0.969403</td>\n",
       "    </tr>\n",
       "  </tbody>\n",
       "</table>\n",
       "</div>"
      ],
      "text/plain": [
       "                        0         1         2         3\n",
       "km_cluster       0.000000  1.000000  2.000000  3.000000\n",
       "SalePrice        0.222880 -0.761508 -0.406044  1.734328\n",
       "TotalSF          0.125920 -0.588086 -0.357916  1.514537\n",
       "OverallQual      0.508859 -0.729747 -0.502748  1.399102\n",
       "Age             -0.926538  1.256542  0.169207 -0.819732\n",
       "Total_Bathrooms  0.582752 -0.819131 -0.252195  0.877097\n",
       "YearRemodAdd     0.763323 -0.794432 -0.372478  0.785640\n",
       "GarageArea       0.269526 -0.738410 -0.193211  1.157178\n",
       "MSZoning        -0.392025  0.397916  0.079151 -0.145070\n",
       "OverallCond     -0.395953  0.233206  0.260835 -0.261741\n",
       "KitchenQual     -0.215618  0.328606  0.480437 -1.201435\n",
       "FireplaceQu      0.122809  0.296435  0.127317 -0.969403"
      ]
     },
     "execution_count": 143,
     "metadata": {},
     "output_type": "execute_result"
    }
   ],
   "source": [
    "cluster_mean"
   ]
  },
  {
   "cell_type": "code",
   "execution_count": 144,
   "metadata": {},
   "outputs": [
    {
     "data": {
      "text/plain": [
       "array([[<matplotlib.axes._subplots.AxesSubplot object at 0x12045e110>,\n",
       "        <matplotlib.axes._subplots.AxesSubplot object at 0x12043ac90>,\n",
       "        <matplotlib.axes._subplots.AxesSubplot object at 0x1209705d0>,\n",
       "        <matplotlib.axes._subplots.AxesSubplot object at 0x1209a3a10>]],\n",
       "      dtype=object)"
      ]
     },
     "execution_count": 144,
     "metadata": {},
     "output_type": "execute_result"
    },
    {
     "data": {
      "image/png": "[encoded data removed]",
      "text/plain": [
       "<Figure size 864x720 with 4 Axes>"
      ]
     },
     "metadata": {},
     "output_type": "display_data"
    }
   ],
   "source": [
    "cluster_mean[1:].plot(figsize=(12,10), kind=\"barh\" , subplots=True, layout=(1, 4) , sharey=True)"
   ]
  },
  {
   "cell_type": "markdown",
   "metadata": {},
   "source": [
    "### 主成分分析を行う"
   ]
  },
  {
   "cell_type": "markdown",
   "metadata": {},
   "source": [
    "#### 主成分分析用のライブラリをインポートする"
   ]
  },
  {
   "cell_type": "markdown",
   "metadata": {},
   "source": [
    "リスト4.105　PCAパッケージのインポート"
   ]
  },
  {
   "cell_type": "code",
   "execution_count": 145,
   "metadata": {},
   "outputs": [],
   "source": [
    "from sklearn.decomposition import PCA"
   ]
  },
  {
   "cell_type": "markdown",
   "metadata": {},
   "source": [
    "#### 標準化したデータに対して主成分分析を行う"
   ]
  },
  {
   "cell_type": "markdown",
   "metadata": {},
   "source": [
    "リスト4.106　主成分の数を指定"
   ]
  },
  {
   "cell_type": "code",
   "execution_count": 146,
   "metadata": {},
   "outputs": [],
   "source": [
    "pca = PCA(n_components=2)\n",
    "house_pca = pca.fit(train_scaled).transform(train_scaled)"
   ]
  },
  {
   "cell_type": "code",
   "execution_count": 147,
   "metadata": {},
   "outputs": [
    {
     "data": {
      "text/plain": [
       "array([[ 2.64787423, -1.14274333],\n",
       "       [ 0.59160484, -0.80163732],\n",
       "       [ 3.27273499, -0.86695645],\n",
       "       ...,\n",
       "       [ 1.78389829,  3.57962252],\n",
       "       [-3.03539318, -0.99023265],\n",
       "       [-0.66050633, -1.19928913]])"
      ]
     },
     "execution_count": 147,
     "metadata": {},
     "output_type": "execute_result"
    }
   ],
   "source": [
    "house_pca"
   ]
  },
  {
   "cell_type": "markdown",
   "metadata": {},
   "source": [
    "#### 出力結果をDataFrame形式に変換してもとのDataFrameと結合する"
   ]
  },
  {
   "cell_type": "markdown",
   "metadata": {},
   "source": [
    "リスト4.107　出力結果をDataFrame形式に変換してもとのDataFrameと結合"
   ]
  },
  {
   "cell_type": "code",
   "execution_count": 148,
   "metadata": {},
   "outputs": [],
   "source": [
    "house_pca_df = pd.DataFrame(house_pca)\n",
    "house_pca_df.columns = [\"pca1\",\"pca2\"]"
   ]
  },
  {
   "cell_type": "code",
   "execution_count": 149,
   "metadata": {},
   "outputs": [],
   "source": [
    "train_scaled_df = pd.concat([train_scaled_df, house_pca_df], axis=1)"
   ]
  },
  {
   "cell_type": "code",
   "execution_count": 150,
   "metadata": {},
   "outputs": [
    {
     "data": {
      "text/html": [
       "<div>\n",
       "<style scoped>\n",
       "    .dataframe tbody tr th:only-of-type {\n",
       "        vertical-align: middle;\n",
       "    }\n",
       "\n",
       "    .dataframe tbody tr th {\n",
       "        vertical-align: top;\n",
       "    }\n",
       "\n",
       "    .dataframe thead th {\n",
       "        text-align: right;\n",
       "    }\n",
       "</style>\n",
       "<table border=\"1\" class=\"dataframe\">\n",
       "  <thead>\n",
       "    <tr style=\"text-align: right;\">\n",
       "      <th></th>\n",
       "      <th>MSSubClass</th>\n",
       "      <th>MSZoning</th>\n",
       "      <th>LotFrontage</th>\n",
       "      <th>LotArea</th>\n",
       "      <th>Street</th>\n",
       "      <th>LotShape</th>\n",
       "      <th>LandContour</th>\n",
       "      <th>Utilities</th>\n",
       "      <th>LotConfig</th>\n",
       "      <th>LandSlope</th>\n",
       "      <th>...</th>\n",
       "      <th>SalePrice</th>\n",
       "      <th>hasHighFacility</th>\n",
       "      <th>Age</th>\n",
       "      <th>TotalSF</th>\n",
       "      <th>Total_Bathrooms</th>\n",
       "      <th>hasPorch</th>\n",
       "      <th>SalePrice_log</th>\n",
       "      <th>km_cluster</th>\n",
       "      <th>pca1</th>\n",
       "      <th>pca2</th>\n",
       "    </tr>\n",
       "  </thead>\n",
       "  <tbody>\n",
       "    <tr>\n",
       "      <th>0</th>\n",
       "      <td>0.069617</td>\n",
       "      <td>-0.045768</td>\n",
       "      <td>-0.206346</td>\n",
       "      <td>-0.288764</td>\n",
       "      <td>0.058926</td>\n",
       "      <td>0.744525</td>\n",
       "      <td>0.310054</td>\n",
       "      <td>-0.026316</td>\n",
       "      <td>0.601627</td>\n",
       "      <td>-0.222579</td>\n",
       "      <td>...</td>\n",
       "      <td>0.387825</td>\n",
       "      <td>-0.325762</td>\n",
       "      <td>-1.046470</td>\n",
       "      <td>0.038930</td>\n",
       "      <td>1.736093</td>\n",
       "      <td>0.4596</td>\n",
       "      <td>0.586795</td>\n",
       "      <td>0</td>\n",
       "      <td>2.647874</td>\n",
       "      <td>-1.142743</td>\n",
       "    </tr>\n",
       "    <tr>\n",
       "      <th>1</th>\n",
       "      <td>-0.877169</td>\n",
       "      <td>-0.045768</td>\n",
       "      <td>0.512944</td>\n",
       "      <td>-0.075476</td>\n",
       "      <td>0.058926</td>\n",
       "      <td>0.744525</td>\n",
       "      <td>0.310054</td>\n",
       "      <td>-0.026316</td>\n",
       "      <td>-0.634124</td>\n",
       "      <td>-0.222579</td>\n",
       "      <td>...</td>\n",
       "      <td>0.031995</td>\n",
       "      <td>-0.325762</td>\n",
       "      <td>-0.188288</td>\n",
       "      <td>-0.017716</td>\n",
       "      <td>0.640132</td>\n",
       "      <td>0.4596</td>\n",
       "      <td>0.233882</td>\n",
       "      <td>2</td>\n",
       "      <td>0.591605</td>\n",
       "      <td>-0.801637</td>\n",
       "    </tr>\n",
       "    <tr>\n",
       "      <th>2</th>\n",
       "      <td>0.069617</td>\n",
       "      <td>-0.045768</td>\n",
       "      <td>-0.062488</td>\n",
       "      <td>0.230544</td>\n",
       "      <td>0.058926</td>\n",
       "      <td>-1.387256</td>\n",
       "      <td>0.310054</td>\n",
       "      <td>-0.026316</td>\n",
       "      <td>0.601627</td>\n",
       "      <td>-0.222579</td>\n",
       "      <td>...</td>\n",
       "      <td>0.585509</td>\n",
       "      <td>-0.325762</td>\n",
       "      <td>-0.980456</td>\n",
       "      <td>0.227753</td>\n",
       "      <td>1.736093</td>\n",
       "      <td>0.4596</td>\n",
       "      <td>0.763584</td>\n",
       "      <td>0</td>\n",
       "      <td>3.272735</td>\n",
       "      <td>-0.866956</td>\n",
       "    </tr>\n",
       "    <tr>\n",
       "      <th>3</th>\n",
       "      <td>0.306313</td>\n",
       "      <td>-0.045768</td>\n",
       "      <td>-0.446109</td>\n",
       "      <td>-0.084750</td>\n",
       "      <td>0.058926</td>\n",
       "      <td>-1.387256</td>\n",
       "      <td>0.310054</td>\n",
       "      <td>-0.026316</td>\n",
       "      <td>-1.869875</td>\n",
       "      <td>-0.222579</td>\n",
       "      <td>...</td>\n",
       "      <td>-0.514930</td>\n",
       "      <td>-0.325762</td>\n",
       "      <td>1.792130</td>\n",
       "      <td>-0.086502</td>\n",
       "      <td>-0.455829</td>\n",
       "      <td>0.4596</td>\n",
       "      <td>-0.426767</td>\n",
       "      <td>1</td>\n",
       "      <td>-1.522228</td>\n",
       "      <td>2.171157</td>\n",
       "    </tr>\n",
       "    <tr>\n",
       "      <th>4</th>\n",
       "      <td>0.069617</td>\n",
       "      <td>-0.045768</td>\n",
       "      <td>0.704755</td>\n",
       "      <td>0.788800</td>\n",
       "      <td>0.058926</td>\n",
       "      <td>-1.387256</td>\n",
       "      <td>0.310054</td>\n",
       "      <td>-0.026316</td>\n",
       "      <td>-0.634124</td>\n",
       "      <td>-0.222579</td>\n",
       "      <td>...</td>\n",
       "      <td>0.934750</td>\n",
       "      <td>-0.325762</td>\n",
       "      <td>-0.947449</td>\n",
       "      <td>1.086897</td>\n",
       "      <td>1.736093</td>\n",
       "      <td>0.4596</td>\n",
       "      <td>1.048721</td>\n",
       "      <td>3</td>\n",
       "      <td>5.718597</td>\n",
       "      <td>0.948546</td>\n",
       "    </tr>\n",
       "    <tr>\n",
       "      <th>...</th>\n",
       "      <td>...</td>\n",
       "      <td>...</td>\n",
       "      <td>...</td>\n",
       "      <td>...</td>\n",
       "      <td>...</td>\n",
       "      <td>...</td>\n",
       "      <td>...</td>\n",
       "      <td>...</td>\n",
       "      <td>...</td>\n",
       "      <td>...</td>\n",
       "      <td>...</td>\n",
       "      <td>...</td>\n",
       "      <td>...</td>\n",
       "      <td>...</td>\n",
       "      <td>...</td>\n",
       "      <td>...</td>\n",
       "      <td>...</td>\n",
       "      <td>...</td>\n",
       "      <td>...</td>\n",
       "      <td>...</td>\n",
       "      <td>...</td>\n",
       "    </tr>\n",
       "    <tr>\n",
       "      <th>1440</th>\n",
       "      <td>0.069617</td>\n",
       "      <td>-0.045768</td>\n",
       "      <td>-0.350204</td>\n",
       "      <td>-0.387617</td>\n",
       "      <td>0.058926</td>\n",
       "      <td>0.744525</td>\n",
       "      <td>0.310054</td>\n",
       "      <td>-0.026316</td>\n",
       "      <td>0.601627</td>\n",
       "      <td>-0.222579</td>\n",
       "      <td>...</td>\n",
       "      <td>-0.053668</td>\n",
       "      <td>-0.325762</td>\n",
       "      <td>-0.947449</td>\n",
       "      <td>0.084787</td>\n",
       "      <td>0.640132</td>\n",
       "      <td>0.4596</td>\n",
       "      <td>0.141076</td>\n",
       "      <td>0</td>\n",
       "      <td>1.340956</td>\n",
       "      <td>-0.241171</td>\n",
       "    </tr>\n",
       "    <tr>\n",
       "      <th>1441</th>\n",
       "      <td>-0.877169</td>\n",
       "      <td>-0.045768</td>\n",
       "      <td>0.752707</td>\n",
       "      <td>0.587568</td>\n",
       "      <td>0.058926</td>\n",
       "      <td>0.744525</td>\n",
       "      <td>0.310054</td>\n",
       "      <td>-0.026316</td>\n",
       "      <td>0.601627</td>\n",
       "      <td>-0.222579</td>\n",
       "      <td>...</td>\n",
       "      <td>0.407594</td>\n",
       "      <td>-0.325762</td>\n",
       "      <td>-0.155281</td>\n",
       "      <td>1.453753</td>\n",
       "      <td>0.640132</td>\n",
       "      <td>0.4596</td>\n",
       "      <td>0.605037</td>\n",
       "      <td>2</td>\n",
       "      <td>1.782666</td>\n",
       "      <td>0.841906</td>\n",
       "    </tr>\n",
       "    <tr>\n",
       "      <th>1442</th>\n",
       "      <td>0.306313</td>\n",
       "      <td>-0.045768</td>\n",
       "      <td>-0.158393</td>\n",
       "      <td>-0.178967</td>\n",
       "      <td>0.058926</td>\n",
       "      <td>0.744525</td>\n",
       "      <td>0.310054</td>\n",
       "      <td>-0.026316</td>\n",
       "      <td>0.601627</td>\n",
       "      <td>-0.222579</td>\n",
       "      <td>...</td>\n",
       "      <td>1.152202</td>\n",
       "      <td>2.854821</td>\n",
       "      <td>1.065977</td>\n",
       "      <td>1.287858</td>\n",
       "      <td>-0.455829</td>\n",
       "      <td>0.4596</td>\n",
       "      <td>1.211364</td>\n",
       "      <td>0</td>\n",
       "      <td>1.783898</td>\n",
       "      <td>3.579623</td>\n",
       "    </tr>\n",
       "    <tr>\n",
       "      <th>1443</th>\n",
       "      <td>-0.877169</td>\n",
       "      <td>-0.045768</td>\n",
       "      <td>-0.062488</td>\n",
       "      <td>-0.053777</td>\n",
       "      <td>0.058926</td>\n",
       "      <td>0.744525</td>\n",
       "      <td>0.310054</td>\n",
       "      <td>-0.026316</td>\n",
       "      <td>0.601627</td>\n",
       "      <td>-0.222579</td>\n",
       "      <td>...</td>\n",
       "      <td>-0.486925</td>\n",
       "      <td>-0.325762</td>\n",
       "      <td>0.768914</td>\n",
       "      <td>-0.514051</td>\n",
       "      <td>-0.455829</td>\n",
       "      <td>0.4596</td>\n",
       "      <td>-0.388431</td>\n",
       "      <td>2</td>\n",
       "      <td>-3.035393</td>\n",
       "      <td>-0.990233</td>\n",
       "    </tr>\n",
       "    <tr>\n",
       "      <th>1444</th>\n",
       "      <td>-0.877169</td>\n",
       "      <td>-0.045768</td>\n",
       "      <td>0.273181</td>\n",
       "      <td>-0.012974</td>\n",
       "      <td>0.058926</td>\n",
       "      <td>0.744525</td>\n",
       "      <td>0.310054</td>\n",
       "      <td>-0.026316</td>\n",
       "      <td>0.601627</td>\n",
       "      <td>-0.222579</td>\n",
       "      <td>...</td>\n",
       "      <td>-0.416089</td>\n",
       "      <td>-0.325762</td>\n",
       "      <td>0.207795</td>\n",
       "      <td>-0.033901</td>\n",
       "      <td>0.640132</td>\n",
       "      <td>0.4596</td>\n",
       "      <td>-0.293967</td>\n",
       "      <td>2</td>\n",
       "      <td>-0.660506</td>\n",
       "      <td>-1.199289</td>\n",
       "    </tr>\n",
       "  </tbody>\n",
       "</table>\n",
       "<p>1445 rows × 86 columns</p>\n",
       "</div>"
      ],
      "text/plain": [
       "      MSSubClass  MSZoning  LotFrontage   LotArea    Street  LotShape  \\\n",
       "0       0.069617 -0.045768    -0.206346 -0.288764  0.058926  0.744525   \n",
       "1      -0.877169 -0.045768     0.512944 -0.075476  0.058926  0.744525   \n",
       "2       0.069617 -0.045768    -0.062488  0.230544  0.058926 -1.387256   \n",
       "3       0.306313 -0.045768    -0.446109 -0.084750  0.058926 -1.387256   \n",
       "4       0.069617 -0.045768     0.704755  0.788800  0.058926 -1.387256   \n",
       "...          ...       ...          ...       ...       ...       ...   \n",
       "1440    0.069617 -0.045768    -0.350204 -0.387617  0.058926  0.744525   \n",
       "1441   -0.877169 -0.045768     0.752707  0.587568  0.058926  0.744525   \n",
       "1442    0.306313 -0.045768    -0.158393 -0.178967  0.058926  0.744525   \n",
       "1443   -0.877169 -0.045768    -0.062488 -0.053777  0.058926  0.744525   \n",
       "1444   -0.877169 -0.045768     0.273181 -0.012974  0.058926  0.744525   \n",
       "\n",
       "      LandContour  Utilities  LotConfig  LandSlope  ...  SalePrice  \\\n",
       "0        0.310054  -0.026316   0.601627  -0.222579  ...   0.387825   \n",
       "1        0.310054  -0.026316  -0.634124  -0.222579  ...   0.031995   \n",
       "2        0.310054  -0.026316   0.601627  -0.222579  ...   0.585509   \n",
       "3        0.310054  -0.026316  -1.869875  -0.222579  ...  -0.514930   \n",
       "4        0.310054  -0.026316  -0.634124  -0.222579  ...   0.934750   \n",
       "...           ...        ...        ...        ...  ...        ...   \n",
       "1440     0.310054  -0.026316   0.601627  -0.222579  ...  -0.053668   \n",
       "1441     0.310054  -0.026316   0.601627  -0.222579  ...   0.407594   \n",
       "1442     0.310054  -0.026316   0.601627  -0.222579  ...   1.152202   \n",
       "1443     0.310054  -0.026316   0.601627  -0.222579  ...  -0.486925   \n",
       "1444     0.310054  -0.026316   0.601627  -0.222579  ...  -0.416089   \n",
       "\n",
       "      hasHighFacility       Age   TotalSF  Total_Bathrooms  hasPorch  \\\n",
       "0           -0.325762 -1.046470  0.038930         1.736093    0.4596   \n",
       "1           -0.325762 -0.188288 -0.017716         0.640132    0.4596   \n",
       "2           -0.325762 -0.980456  0.227753         1.736093    0.4596   \n",
       "3           -0.325762  1.792130 -0.086502        -0.455829    0.4596   \n",
       "4           -0.325762 -0.947449  1.086897         1.736093    0.4596   \n",
       "...               ...       ...       ...              ...       ...   \n",
       "1440        -0.325762 -0.947449  0.084787         0.640132    0.4596   \n",
       "1441        -0.325762 -0.155281  1.453753         0.640132    0.4596   \n",
       "1442         2.854821  1.065977  1.287858        -0.455829    0.4596   \n",
       "1443        -0.325762  0.768914 -0.514051        -0.455829    0.4596   \n",
       "1444        -0.325762  0.207795 -0.033901         0.640132    0.4596   \n",
       "\n",
       "      SalePrice_log  km_cluster      pca1      pca2  \n",
       "0          0.586795           0  2.647874 -1.142743  \n",
       "1          0.233882           2  0.591605 -0.801637  \n",
       "2          0.763584           0  3.272735 -0.866956  \n",
       "3         -0.426767           1 -1.522228  2.171157  \n",
       "4          1.048721           3  5.718597  0.948546  \n",
       "...             ...         ...       ...       ...  \n",
       "1440       0.141076           0  1.340956 -0.241171  \n",
       "1441       0.605037           2  1.782666  0.841906  \n",
       "1442       1.211364           0  1.783898  3.579623  \n",
       "1443      -0.388431           2 -3.035393 -0.990233  \n",
       "1444      -0.293967           2 -0.660506 -1.199289  \n",
       "\n",
       "[1445 rows x 86 columns]"
      ]
     },
     "execution_count": 150,
     "metadata": {},
     "output_type": "execute_result"
    }
   ],
   "source": [
    "train_scaled_df"
   ]
  },
  {
   "cell_type": "markdown",
   "metadata": {},
   "source": [
    "#### 主成分分析の結果を可視化する"
   ]
  },
  {
   "cell_type": "markdown",
   "metadata": {},
   "source": [
    "リスト4.108　主成分分析の結果を可視化"
   ]
  },
  {
   "cell_type": "code",
   "execution_count": 151,
   "metadata": {},
   "outputs": [],
   "source": [
    "my_colors = plt.rcParams['axes.prop_cycle'].by_key()['color']"
   ]
  },
  {
   "cell_type": "code",
   "execution_count": 152,
   "metadata": {},
   "outputs": [
    {
     "data": {
      "image/png": "[encoded data removed]",
      "text/plain": [
       "<Figure size 432x288 with 1 Axes>"
      ]
     },
     "metadata": {},
     "output_type": "display_data"
    }
   ],
   "source": [
    "for cl in train_scaled_df['km_cluster'].unique():\n",
    "    plt.scatter(train_scaled_df.loc[train_scaled_df[\"km_cluster\"] == cl ,'pca1'], train_scaled_df.loc[train_scaled_df[\"km_cluster\"] == cl ,'pca2'], label=cl, c=my_colors[cl], alpha=0.6)\n",
    "plt.legend()\n",
    "plt.show()"
   ]
  },
  {
   "cell_type": "markdown",
   "metadata": {},
   "source": [
    "リスト4.109　見やすいように転置（行と列を変換）"
   ]
  },
  {
   "cell_type": "code",
   "execution_count": 153,
   "metadata": {},
   "outputs": [],
   "source": [
    "pca_comp_df = pd.DataFrame(pca.components_,columns=train_scaled_df.drop([\"km_cluster\",\"pca1\",\"pca2\"],axis=1).columns).T\n",
    "pca_comp_df.columns = [\"pca1\",\"pca2\"]"
   ]
  },
  {
   "cell_type": "code",
   "execution_count": 154,
   "metadata": {},
   "outputs": [
    {
     "data": {
      "text/html": [
       "<div>\n",
       "<style scoped>\n",
       "    .dataframe tbody tr th:only-of-type {\n",
       "        vertical-align: middle;\n",
       "    }\n",
       "\n",
       "    .dataframe tbody tr th {\n",
       "        vertical-align: top;\n",
       "    }\n",
       "\n",
       "    .dataframe thead th {\n",
       "        text-align: right;\n",
       "    }\n",
       "</style>\n",
       "<table border=\"1\" class=\"dataframe\">\n",
       "  <thead>\n",
       "    <tr style=\"text-align: right;\">\n",
       "      <th></th>\n",
       "      <th>pca1</th>\n",
       "      <th>pca2</th>\n",
       "    </tr>\n",
       "  </thead>\n",
       "  <tbody>\n",
       "    <tr>\n",
       "      <th>MSSubClass</th>\n",
       "      <td>-0.007451</td>\n",
       "      <td>-0.045197</td>\n",
       "    </tr>\n",
       "    <tr>\n",
       "      <th>MSZoning</th>\n",
       "      <td>-0.067692</td>\n",
       "      <td>0.062006</td>\n",
       "    </tr>\n",
       "    <tr>\n",
       "      <th>LotFrontage</th>\n",
       "      <td>0.089335</td>\n",
       "      <td>0.138855</td>\n",
       "    </tr>\n",
       "    <tr>\n",
       "      <th>LotArea</th>\n",
       "      <td>0.084628</td>\n",
       "      <td>0.168670</td>\n",
       "    </tr>\n",
       "    <tr>\n",
       "      <th>Street</th>\n",
       "      <td>0.010013</td>\n",
       "      <td>0.010760</td>\n",
       "    </tr>\n",
       "    <tr>\n",
       "      <th>...</th>\n",
       "      <td>...</td>\n",
       "      <td>...</td>\n",
       "    </tr>\n",
       "    <tr>\n",
       "      <th>Age</th>\n",
       "      <td>-0.197903</td>\n",
       "      <td>0.246229</td>\n",
       "    </tr>\n",
       "    <tr>\n",
       "      <th>TotalSF</th>\n",
       "      <td>0.218012</td>\n",
       "      <td>0.188240</td>\n",
       "    </tr>\n",
       "    <tr>\n",
       "      <th>Total_Bathrooms</th>\n",
       "      <td>0.189083</td>\n",
       "      <td>0.029206</td>\n",
       "    </tr>\n",
       "    <tr>\n",
       "      <th>hasPorch</th>\n",
       "      <td>0.091475</td>\n",
       "      <td>0.031042</td>\n",
       "    </tr>\n",
       "    <tr>\n",
       "      <th>SalePrice_log</th>\n",
       "      <td>0.249131</td>\n",
       "      <td>0.058950</td>\n",
       "    </tr>\n",
       "  </tbody>\n",
       "</table>\n",
       "<p>83 rows × 2 columns</p>\n",
       "</div>"
      ],
      "text/plain": [
       "                     pca1      pca2\n",
       "MSSubClass      -0.007451 -0.045197\n",
       "MSZoning        -0.067692  0.062006\n",
       "LotFrontage      0.089335  0.138855\n",
       "LotArea          0.084628  0.168670\n",
       "Street           0.010013  0.010760\n",
       "...                   ...       ...\n",
       "Age             -0.197903  0.246229\n",
       "TotalSF          0.218012  0.188240\n",
       "Total_Bathrooms  0.189083  0.029206\n",
       "hasPorch         0.091475  0.031042\n",
       "SalePrice_log    0.249131  0.058950\n",
       "\n",
       "[83 rows x 2 columns]"
      ]
     },
     "execution_count": 154,
     "metadata": {},
     "output_type": "execute_result"
    }
   ],
   "source": [
    "pca_comp_df"
   ]
  },
  {
   "cell_type": "markdown",
   "metadata": {},
   "source": [
    "## 4.12　追加分析②ハイクラスな家の条件を分析・可視化する"
   ]
  },
  {
   "cell_type": "markdown",
   "metadata": {},
   "source": [
    "### 決定木で可視化する"
   ]
  },
  {
   "cell_type": "markdown",
   "metadata": {},
   "source": [
    "#### SalePriceの分布を確認する"
   ]
  },
  {
   "cell_type": "markdown",
   "metadata": {},
   "source": [
    "リスト4.110　SalePriceの分布を確認"
   ]
  },
  {
   "cell_type": "code",
   "execution_count": 155,
   "metadata": {},
   "outputs": [
    {
     "data": {
      "text/plain": [
       "<matplotlib.axes._subplots.AxesSubplot at 0x120260890>"
      ]
     },
     "execution_count": 155,
     "metadata": {},
     "output_type": "execute_result"
    },
    {
     "data": {
      "image/png": "[encoded data removed]",
      "text/plain": [
       "<Figure size 432x288 with 1 Axes>"
      ]
     },
     "metadata": {},
     "output_type": "display_data"
    }
   ],
   "source": [
    "train_df_le['SalePrice'].plot.hist(bins=20)"
   ]
  },
  {
   "cell_type": "code",
   "execution_count": 156,
   "metadata": {},
   "outputs": [
    {
     "data": {
      "text/plain": [
       "count      1445.000000\n",
       "mean     179072.294118\n",
       "std       75905.045476\n",
       "min       34900.000000\n",
       "25%      129900.000000\n",
       "50%      162000.000000\n",
       "75%      213000.000000\n",
       "max      755000.000000\n",
       "Name: SalePrice, dtype: float64"
      ]
     },
     "execution_count": 156,
     "metadata": {},
     "output_type": "execute_result"
    }
   ],
   "source": [
    "train_df_le['SalePrice'].describe()"
   ]
  },
  {
   "cell_type": "markdown",
   "metadata": {},
   "source": [
    "#### 上位10%の価格を調べる"
   ]
  },
  {
   "cell_type": "markdown",
   "metadata": {},
   "source": [
    "リスト4.111　上位10%の価格を確認"
   ]
  },
  {
   "cell_type": "code",
   "execution_count": 157,
   "metadata": {},
   "outputs": [
    {
     "data": {
      "text/plain": [
       "278000.0"
      ]
     },
     "execution_count": 157,
     "metadata": {},
     "output_type": "execute_result"
    }
   ],
   "source": [
    "train_df['SalePrice'].quantile(0.9)"
   ]
  },
  {
   "cell_type": "markdown",
   "metadata": {},
   "source": [
    "#### ハイクラスな家を表す変数を追加する"
   ]
  },
  {
   "cell_type": "markdown",
   "metadata": {},
   "source": [
    "リスト4.112　high_class変数を追加"
   ]
  },
  {
   "cell_type": "code",
   "execution_count": 158,
   "metadata": {},
   "outputs": [],
   "source": [
    "train_df_le.loc[train_df[\"SalePrice\"] >= 278000, \"high_class\"] = 1"
   ]
  },
  {
   "cell_type": "markdown",
   "metadata": {},
   "source": [
    "リスト4.113　条件を満たさないものを0とする"
   ]
  },
  {
   "cell_type": "code",
   "execution_count": 159,
   "metadata": {},
   "outputs": [],
   "source": [
    "train_df_le[\"high_class\"] = train_df_le[\"high_class\"].fillna(0)"
   ]
  },
  {
   "cell_type": "code",
   "execution_count": 160,
   "metadata": {},
   "outputs": [
    {
     "data": {
      "text/html": [
       "<div>\n",
       "<style scoped>\n",
       "    .dataframe tbody tr th:only-of-type {\n",
       "        vertical-align: middle;\n",
       "    }\n",
       "\n",
       "    .dataframe tbody tr th {\n",
       "        vertical-align: top;\n",
       "    }\n",
       "\n",
       "    .dataframe thead th {\n",
       "        text-align: right;\n",
       "    }\n",
       "</style>\n",
       "<table border=\"1\" class=\"dataframe\">\n",
       "  <thead>\n",
       "    <tr style=\"text-align: right;\">\n",
       "      <th></th>\n",
       "      <th>Id</th>\n",
       "      <th>MSSubClass</th>\n",
       "      <th>MSZoning</th>\n",
       "      <th>LotFrontage</th>\n",
       "      <th>LotArea</th>\n",
       "      <th>Street</th>\n",
       "      <th>LotShape</th>\n",
       "      <th>LandContour</th>\n",
       "      <th>Utilities</th>\n",
       "      <th>LotConfig</th>\n",
       "      <th>...</th>\n",
       "      <th>SaleType</th>\n",
       "      <th>SaleCondition</th>\n",
       "      <th>SalePrice</th>\n",
       "      <th>hasHighFacility</th>\n",
       "      <th>Age</th>\n",
       "      <th>TotalSF</th>\n",
       "      <th>Total_Bathrooms</th>\n",
       "      <th>hasPorch</th>\n",
       "      <th>SalePrice_log</th>\n",
       "      <th>high_class</th>\n",
       "    </tr>\n",
       "  </thead>\n",
       "  <tbody>\n",
       "    <tr>\n",
       "      <th>0</th>\n",
       "      <td>1</td>\n",
       "      <td>60</td>\n",
       "      <td>3</td>\n",
       "      <td>65.0</td>\n",
       "      <td>8450</td>\n",
       "      <td>1</td>\n",
       "      <td>3</td>\n",
       "      <td>3</td>\n",
       "      <td>0</td>\n",
       "      <td>4</td>\n",
       "      <td>...</td>\n",
       "      <td>8</td>\n",
       "      <td>4</td>\n",
       "      <td>208500.0</td>\n",
       "      <td>0</td>\n",
       "      <td>5</td>\n",
       "      <td>2566.0</td>\n",
       "      <td>4.0</td>\n",
       "      <td>1</td>\n",
       "      <td>12.247694</td>\n",
       "      <td>0.0</td>\n",
       "    </tr>\n",
       "    <tr>\n",
       "      <th>1</th>\n",
       "      <td>2</td>\n",
       "      <td>20</td>\n",
       "      <td>3</td>\n",
       "      <td>80.0</td>\n",
       "      <td>9600</td>\n",
       "      <td>1</td>\n",
       "      <td>3</td>\n",
       "      <td>3</td>\n",
       "      <td>0</td>\n",
       "      <td>2</td>\n",
       "      <td>...</td>\n",
       "      <td>8</td>\n",
       "      <td>4</td>\n",
       "      <td>181500.0</td>\n",
       "      <td>0</td>\n",
       "      <td>31</td>\n",
       "      <td>2524.0</td>\n",
       "      <td>3.0</td>\n",
       "      <td>1</td>\n",
       "      <td>12.109011</td>\n",
       "      <td>0.0</td>\n",
       "    </tr>\n",
       "    <tr>\n",
       "      <th>2</th>\n",
       "      <td>3</td>\n",
       "      <td>60</td>\n",
       "      <td>3</td>\n",
       "      <td>68.0</td>\n",
       "      <td>11250</td>\n",
       "      <td>1</td>\n",
       "      <td>0</td>\n",
       "      <td>3</td>\n",
       "      <td>0</td>\n",
       "      <td>4</td>\n",
       "      <td>...</td>\n",
       "      <td>8</td>\n",
       "      <td>4</td>\n",
       "      <td>223500.0</td>\n",
       "      <td>0</td>\n",
       "      <td>7</td>\n",
       "      <td>2706.0</td>\n",
       "      <td>4.0</td>\n",
       "      <td>1</td>\n",
       "      <td>12.317167</td>\n",
       "      <td>0.0</td>\n",
       "    </tr>\n",
       "    <tr>\n",
       "      <th>3</th>\n",
       "      <td>4</td>\n",
       "      <td>70</td>\n",
       "      <td>3</td>\n",
       "      <td>60.0</td>\n",
       "      <td>9550</td>\n",
       "      <td>1</td>\n",
       "      <td>0</td>\n",
       "      <td>3</td>\n",
       "      <td>0</td>\n",
       "      <td>0</td>\n",
       "      <td>...</td>\n",
       "      <td>8</td>\n",
       "      <td>0</td>\n",
       "      <td>140000.0</td>\n",
       "      <td>0</td>\n",
       "      <td>91</td>\n",
       "      <td>2473.0</td>\n",
       "      <td>2.0</td>\n",
       "      <td>1</td>\n",
       "      <td>11.849398</td>\n",
       "      <td>0.0</td>\n",
       "    </tr>\n",
       "    <tr>\n",
       "      <th>4</th>\n",
       "      <td>5</td>\n",
       "      <td>60</td>\n",
       "      <td>3</td>\n",
       "      <td>84.0</td>\n",
       "      <td>14260</td>\n",
       "      <td>1</td>\n",
       "      <td>0</td>\n",
       "      <td>3</td>\n",
       "      <td>0</td>\n",
       "      <td>2</td>\n",
       "      <td>...</td>\n",
       "      <td>8</td>\n",
       "      <td>4</td>\n",
       "      <td>250000.0</td>\n",
       "      <td>0</td>\n",
       "      <td>8</td>\n",
       "      <td>3343.0</td>\n",
       "      <td>4.0</td>\n",
       "      <td>1</td>\n",
       "      <td>12.429216</td>\n",
       "      <td>0.0</td>\n",
       "    </tr>\n",
       "  </tbody>\n",
       "</table>\n",
       "<p>5 rows × 85 columns</p>\n",
       "</div>"
      ],
      "text/plain": [
       "   Id  MSSubClass MSZoning  LotFrontage  LotArea Street LotShape LandContour  \\\n",
       "0   1          60        3         65.0     8450      1        3           3   \n",
       "1   2          20        3         80.0     9600      1        3           3   \n",
       "2   3          60        3         68.0    11250      1        0           3   \n",
       "3   4          70        3         60.0     9550      1        0           3   \n",
       "4   5          60        3         84.0    14260      1        0           3   \n",
       "\n",
       "  Utilities LotConfig  ... SaleType SaleCondition SalePrice hasHighFacility  \\\n",
       "0         0         4  ...        8             4  208500.0               0   \n",
       "1         0         2  ...        8             4  181500.0               0   \n",
       "2         0         4  ...        8             4  223500.0               0   \n",
       "3         0         0  ...        8             0  140000.0               0   \n",
       "4         0         2  ...        8             4  250000.0               0   \n",
       "\n",
       "  Age TotalSF  Total_Bathrooms  hasPorch  SalePrice_log  high_class  \n",
       "0   5  2566.0              4.0         1      12.247694         0.0  \n",
       "1  31  2524.0              3.0         1      12.109011         0.0  \n",
       "2   7  2706.0              4.0         1      12.317167         0.0  \n",
       "3  91  2473.0              2.0         1      11.849398         0.0  \n",
       "4   8  3343.0              4.0         1      12.429216         0.0  \n",
       "\n",
       "[5 rows x 85 columns]"
      ]
     },
     "execution_count": 160,
     "metadata": {},
     "output_type": "execute_result"
    }
   ],
   "source": [
    "train_df_le.head()"
   ]
  },
  {
   "cell_type": "markdown",
   "metadata": {},
   "source": [
    "#### 決定木を可視化するためのライブラリをインストールする"
   ]
  },
  {
   "cell_type": "code",
   "execution_count": null,
   "metadata": {},
   "outputs": [],
   "source": [
    "!pip install pydotplus"
   ]
  },
  {
   "cell_type": "markdown",
   "metadata": {},
   "source": [
    "#### ライブラリをインポートする"
   ]
  },
  {
   "cell_type": "markdown",
   "metadata": {},
   "source": [
    "リスト4.115　ライブラリのインポート"
   ]
  },
  {
   "cell_type": "code",
   "execution_count": 161,
   "metadata": {},
   "outputs": [],
   "source": [
    "from sklearn import tree\n",
    "import pydotplus\n",
    "from six import StringIO"
   ]
  },
  {
   "cell_type": "markdown",
   "metadata": {},
   "source": [
    "#### 重要度の高い変数に絞る"
   ]
  },
  {
   "cell_type": "markdown",
   "metadata": {},
   "source": [
    "リスト4.116　tree_xとtree_yを指定"
   ]
  },
  {
   "cell_type": "code",
   "execution_count": 162,
   "metadata": {},
   "outputs": [],
   "source": [
    "tree_x = train_df_le[[\"TotalSF\",\"OverallQual\",\"Age\",\"GrLivArea\",\"GarageCars\",\"Total_Bathrooms\",\"GarageType\",\n",
    "\"YearRemodAdd\",\"GarageArea\",\"CentralAir\",\"MSZoning\",\"OverallCond\",\"KitchenQual\",\"FireplaceQu\",\"1stFlrSF\"]]\n",
    "tree_y = train_df_le[[\"high_class\"]]"
   ]
  },
  {
   "cell_type": "markdown",
   "metadata": {},
   "source": [
    "#### 深さを指定して決定木を作成する"
   ]
  },
  {
   "cell_type": "markdown",
   "metadata": {},
   "source": [
    "リスト4.117　決定木の作成"
   ]
  },
  {
   "cell_type": "code",
   "execution_count": 163,
   "metadata": {},
   "outputs": [],
   "source": [
    "clf = tree.DecisionTreeClassifier(max_depth=4)\n",
    "clf = clf.fit(tree_x, tree_y)"
   ]
  },
  {
   "cell_type": "markdown",
   "metadata": {},
   "source": [
    "#### 決定木の出力結果を確認する"
   ]
  },
  {
   "cell_type": "markdown",
   "metadata": {},
   "source": [
    "リスト4.118　決定木の出力結果を確認"
   ]
  },
  {
   "cell_type": "code",
   "execution_count": 164,
   "metadata": {},
   "outputs": [],
   "source": [
    "dot_data = StringIO()\n",
    "tree.export_graphviz(clf, out_file=dot_data,feature_names=tree_x.columns)\n",
    "graph = pydotplus.graph_from_dot_data(dot_data.getvalue())"
   ]
  },
  {
   "cell_type": "code",
   "execution_count": 93,
   "metadata": {},
   "outputs": [
    {
     "ename": "NameError",
     "evalue": "name 'graph' is not defined",
     "output_type": "error",
     "traceback": [
      "\u001b[0;31m---------------------------------------------------------------------------\u001b[0m",
      "\u001b[0;31mNameError\u001b[0m                                 Traceback (most recent call last)",
      "\u001b[0;32m<ipython-input-93-f526efab5207>\u001b[0m in \u001b[0;36m<module>\u001b[0;34m\u001b[0m\n\u001b[1;32m      1\u001b[0m \u001b[0;32mfrom\u001b[0m \u001b[0mIPython\u001b[0m\u001b[0;34m.\u001b[0m\u001b[0mdisplay\u001b[0m \u001b[0;32mimport\u001b[0m \u001b[0mImage\u001b[0m\u001b[0;34m\u001b[0m\u001b[0;34m\u001b[0m\u001b[0m\n\u001b[0;32m----> 2\u001b[0;31m \u001b[0mImage\u001b[0m\u001b[0;34m(\u001b[0m\u001b[0mgraph\u001b[0m\u001b[0;34m.\u001b[0m\u001b[0mcreate_png\u001b[0m\u001b[0;34m(\u001b[0m\u001b[0;34m)\u001b[0m\u001b[0;34m)\u001b[0m\u001b[0;34m\u001b[0m\u001b[0;34m\u001b[0m\u001b[0m\n\u001b[0m",
      "\u001b[0;31mNameError\u001b[0m: name 'graph' is not defined"
     ]
    }
   ],
   "source": [
    "from IPython.display import Image\n",
    "Image(graph.create_png())"
   ]
  },
  {
   "cell_type": "code",
   "execution_count": null,
   "metadata": {},
   "outputs": [],
   "source": []
  }
 ],
 "metadata": {
  "kernelspec": {
   "display_name": "Python 3",
   "language": "python",
   "name": "python3"
  },
  "language_info": {
   "codemirror_mode": {
    "name": "ipython",
    "version": 3
   },
   "file_extension": ".py",
   "mimetype": "text/x-python",
   "name": "python",
   "nbconvert_exporter": "python",
   "pygments_lexer": "ipython3",
   "version": "3.7.6"
  }
 },
 "nbformat": 4,
 "nbformat_minor": 4
}
